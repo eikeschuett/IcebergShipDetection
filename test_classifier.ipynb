{
  "nbformat": 4,
  "nbformat_minor": 0,
  "metadata": {
    "colab": {
      "name": "IceBergClassifier.ipynb",
      "provenance": [],
      "collapsed_sections": [
        "6ipZYDBkHQkF"
      ],
      "authorship_tag": "ABX9TyMktNrYNKQiUJGhltYbDbk0",
      "include_colab_link": true
    },
    "kernelspec": {
      "name": "python3",
      "display_name": "Python 3"
    },
    "accelerator": "GPU"
  },
  "cells": [
    {
      "cell_type": "markdown",
      "metadata": {
        "id": "view-in-github",
        "colab_type": "text"
      },
      "source": [
        "<a href=\"https://colab.research.google.com/github/eikeschuett/IcebergShipDetection/blob/main/test_classifier.ipynb\" target=\"_parent\"><img src=\"https://colab.research.google.com/assets/colab-badge.svg\" alt=\"Open In Colab\"/></a>"
      ]
    },
    {
      "cell_type": "markdown",
      "metadata": {
        "id": "6ipZYDBkHQkF"
      },
      "source": [
        "# Download the Kaggle dataset to Google Drive\r\n"
      ]
    },
    {
      "cell_type": "markdown",
      "metadata": {
        "id": "KN2WFxpBDBEe"
      },
      "source": [
        "Following the steps: https://www.kaggle.com/general/74235"
      ]
    },
    {
      "cell_type": "code",
      "metadata": {
        "id": "1I2aNFMBDcaw"
      },
      "source": [
        "! pip install -q kaggle"
      ],
      "execution_count": 3,
      "outputs": []
    },
    {
      "cell_type": "markdown",
      "metadata": {
        "id": "vRoJf44h8mpL"
      },
      "source": [
        "Go to your account in Kaggle, scroll to API section and click  on \"Create New API Token\". Then, the file `kaggle.json` will be downloaded into your local drive, upload it with `files.upload()`."
      ]
    },
    {
      "cell_type": "code",
      "metadata": {
        "colab": {
          "base_uri": "https://localhost:8080/"
        },
        "id": "XGyRI2cU9_ft",
        "outputId": "4a48ece0-8181-4391-8a8c-a14ac13da220"
      },
      "source": [
        "from google.colab import drive\n",
        "drive.mount('/content/drive')"
      ],
      "execution_count": 18,
      "outputs": [
        {
          "output_type": "stream",
          "text": [
            "Drive already mounted at /content/drive; to attempt to forcibly remount, call drive.mount(\"/content/drive\", force_remount=True).\n"
          ],
          "name": "stdout"
        }
      ]
    },
    {
      "cell_type": "code",
      "metadata": {
        "colab": {
          "base_uri": "https://localhost:8080/"
        },
        "id": "UG34fTo8_Cct",
        "outputId": "f78a0267-b91e-45b1-fcc5-53d13a7608fb"
      },
      "source": [
        "% cd /content/drive/MyDrive/"
      ],
      "execution_count": 19,
      "outputs": [
        {
          "output_type": "stream",
          "text": [
            "/content/drive/MyDrive\n"
          ],
          "name": "stdout"
        }
      ]
    },
    {
      "cell_type": "code",
      "metadata": {
        "colab": {
          "resources": {
            "http://localhost:8080/nbextensions/google.colab/files.js": {
              "data": "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",
              "ok": true,
              "headers": [
                [
                  "content-type",
                  "application/javascript"
                ]
              ],
              "status": 200,
              "status_text": "OK"
            }
          },
          "base_uri": "https://localhost:8080/",
          "height": 93
        },
        "id": "3VfugZM0EAH5",
        "outputId": "557c0c31-d144-490a-a049-5fe74ee11362"
      },
      "source": [
        "from google.colab import files\r\n",
        "files.upload()"
      ],
      "execution_count": 20,
      "outputs": [
        {
          "output_type": "display_data",
          "data": {
            "text/html": [
              "\n",
              "     <input type=\"file\" id=\"files-b5f80a40-9c3e-452c-a7dc-f3091737877d\" name=\"files[]\" multiple disabled\n",
              "        style=\"border:none\" />\n",
              "     <output id=\"result-b5f80a40-9c3e-452c-a7dc-f3091737877d\">\n",
              "      Upload widget is only available when the cell has been executed in the\n",
              "      current browser session. Please rerun this cell to enable.\n",
              "      </output>\n",
              "      <script src=\"/nbextensions/google.colab/files.js\"></script> "
            ],
            "text/plain": [
              "<IPython.core.display.HTML object>"
            ]
          },
          "metadata": {
            "tags": []
          }
        },
        {
          "output_type": "stream",
          "text": [
            "Saving kaggle.json to kaggle.json\n"
          ],
          "name": "stdout"
        },
        {
          "output_type": "execute_result",
          "data": {
            "text/plain": [
              "{'kaggle.json': b'{\"username\":\"yej117\",\"key\":\"96f272accceffeb71effc430738d50fd\"}'}"
            ]
          },
          "metadata": {
            "tags": []
          },
          "execution_count": 20
        }
      ]
    },
    {
      "cell_type": "markdown",
      "metadata": {
        "id": "MM5-Lr1Q9CeO"
      },
      "source": [
        "Make directory named kaggle and copy `kaggle.json` file there."
      ]
    },
    {
      "cell_type": "code",
      "metadata": {
        "colab": {
          "base_uri": "https://localhost:8080/"
        },
        "id": "imhkAwaYEekf",
        "outputId": "7ebd428b-5373-4c50-d405-57a2e3c4b1f7"
      },
      "source": [
        "! mkdir -p kaggle\r\n",
        "! mv kaggle.json kaggle\r\n",
        "% cd kaggle/"
      ],
      "execution_count": 33,
      "outputs": [
        {
          "output_type": "stream",
          "text": [
            "/content/drive/MyDrive/kaggle\n"
          ],
          "name": "stdout"
        }
      ]
    },
    {
      "cell_type": "markdown",
      "metadata": {
        "id": "tAdsFLFy9M7P"
      },
      "source": [
        "Change the permissions of the file. ((U)ser / owner can read, can write and can't execute. (G)roup and (O)thers have no permission to read, write and execute.)"
      ]
    },
    {
      "cell_type": "code",
      "metadata": {
        "id": "OK_AmU-OEkjJ"
      },
      "source": [
        "! chmod 600 kaggle.json"
      ],
      "execution_count": 34,
      "outputs": []
    },
    {
      "cell_type": "code",
      "metadata": {
        "colab": {
          "base_uri": "https://localhost:8080/"
        },
        "id": "odwbLziyEoTN",
        "outputId": "b60e883f-ce0a-492e-99d2-6cbf790cdb04"
      },
      "source": [
        " ! kaggle datasets list"
      ],
      "execution_count": 35,
      "outputs": [
        {
          "output_type": "stream",
          "text": [
            "Warning: Your Kaggle API key is readable by other users on this system! To fix this, you can run 'chmod 600 /root/.kaggle/kaggle.json'\n",
            "Warning: Looks like you're using an outdated API Version, please consider updating (server 1.5.10 / client 1.5.4)\n",
            "ref                                                            title                                               size  lastUpdated          downloadCount  \n",
            "-------------------------------------------------------------  -------------------------------------------------  -----  -------------------  -------------  \n",
            "arashnic/hr-analytics-job-change-of-data-scientists            HR Analytics: Job Change of Data Scientists        295KB  2020-12-07 00:25:10           1135  \n",
            "babyoda/access-to-computers-from-home-oecd                     Access to Computers From Home OECD                   3KB  2020-12-04 10:50:09             92  \n",
            "shashwatwork/impact-of-covid19-pandemic-on-the-global-economy  Impact of Covid-19 Pandemic on the Global Economy    1MB  2020-11-29 14:16:30            553  \n",
            "emmanuelleai/world-marathons-majors                            World Marathons Majors                               7KB  2020-12-06 19:24:28            113  \n",
            "mrmorj/dataset-of-songs-in-spotify                             Dataset of songs in Spotify                          3MB  2020-12-06 09:46:55            253  \n",
            "boramalper/scihub-papers                                       Sci-Hub Papers                                       6GB  2020-12-06 04:10:54              7  \n",
            "juicobowley/drake-lyrics                                       Drake Lyrics                                       764KB  2020-11-27 01:00:52             49  \n",
            "kavisekar/oecd-unemployment-rate-2020                          OECD Unemployment rate (2020)                        3KB  2020-12-07 15:37:38             97  \n",
            "kingabzpro/datascience-survey-on-kaggle                        data science survey on Kaggle                      129KB  2020-11-24 19:04:19             49  \n",
            "sakshigoyal7/credit-card-customers                             Credit Card customers                              379KB  2020-11-19 07:38:44          12223  \n",
            "szymonjanowski/internet-articles-data-with-users-engagement    Internet news data with readers engagement           3MB  2020-11-21 17:09:57           3455  \n",
            "sootersaalu/amazon-top-50-bestselling-books-2009-2019          Amazon Top 50 Bestselling Books 2009 - 2019         15KB  2020-10-13 09:39:21          10576  \n",
            "alexgude/california-traffic-collision-data-from-switrs         California Traffic Collision Data from SWITRS        1GB  2020-11-22 16:51:55           2129  \n",
            "babyoda/women-entrepreneurship-and-labor-force                 Women Entrepreneurship and Labor Force               1KB  2020-11-21 08:38:51           5096  \n",
            "shivamb/netflix-shows                                          Netflix Movies and TV Shows                        971KB  2020-01-20 07:33:56          76803  \n",
            "yamaerenay/spotify-dataset-19212020-160k-tracks                Spotify Dataset 1921-2020, 160k+ Tracks             16MB  2020-11-25 21:14:12          13053  \n",
            "patrickb1912/ipl-complete-dataset-20082020                     IPL Complete Dataset (2008-2020)                     1MB  2020-11-23 06:53:37           2713  \n",
            "manchunhui/us-election-2020-tweets                             US Election 2020 Tweets                            353MB  2020-11-09 18:51:59           5428  \n",
            "imoore/2020-us-general-election-turnout-rates                  2020 US General Election Turnout rates               4KB  2020-11-26 00:21:15           3608  \n",
            "google/tinyquickdraw                                           QuickDraw Sketches                                  11GB  2018-04-18 19:38:04           2653  \n"
          ],
          "name": "stdout"
        }
      ]
    },
    {
      "cell_type": "code",
      "metadata": {
        "id": "Eo8P-9aIC8lE",
        "colab": {
          "base_uri": "https://localhost:8080/"
        },
        "outputId": "1abbb2e5-22f7-4f6d-9861-3e19c7dd1e60"
      },
      "source": [
        "! mkdir -p data\r\n",
        "% cd data\r\n",
        "! kaggle competitions download -c statoil-iceberg-classifier-challenge"
      ],
      "execution_count": 37,
      "outputs": [
        {
          "output_type": "stream",
          "text": [
            "/content/drive/My Drive/kaggle/data\n",
            "Warning: Your Kaggle API key is readable by other users on this system! To fix this, you can run 'chmod 600 /root/.kaggle/kaggle.json'\n",
            "Warning: Looks like you're using an outdated API Version, please consider updating (server 1.5.10 / client 1.5.4)\n",
            "Downloading sample_submission.csv.7z to /content/drive/My Drive/kaggle/data\n",
            "  0% 0.00/37.7k [00:00<?, ?B/s]\n",
            "100% 37.7k/37.7k [00:00<00:00, 5.06MB/s]\n",
            "Downloading train.json.7z to /content/drive/My Drive/kaggle/data\n",
            " 68% 29.0M/42.9M [00:00<00:00, 148MB/s]\n",
            "100% 42.9M/42.9M [00:00<00:00, 142MB/s]\n",
            "Downloading test.json.7z to /content/drive/My Drive/kaggle/data\n",
            " 96% 235M/245M [00:01<00:00, 131MB/s]\n",
            "100% 245M/245M [00:01<00:00, 131MB/s]\n"
          ],
          "name": "stdout"
        }
      ]
    },
    {
      "cell_type": "markdown",
      "metadata": {
        "id": "PD8Y6JciArCE"
      },
      "source": [
        "Unzip the *.7z file with the build-in command."
      ]
    },
    {
      "cell_type": "code",
      "metadata": {
        "colab": {
          "base_uri": "https://localhost:8080/"
        },
        "id": "4DCMCgSWFIIJ",
        "outputId": "b609e462-1f03-4372-c11e-a82a92d8ab1c"
      },
      "source": [
        "! 7z e test.json.7z \r\n",
        "! 7z e train.json.7z \r\n",
        "! 7z e sample_submission.csv.7z "
      ],
      "execution_count": 38,
      "outputs": [
        {
          "output_type": "stream",
          "text": [
            "\n",
            "7-Zip [64] 16.02 : Copyright (c) 1999-2016 Igor Pavlov : 2016-05-21\n",
            "p7zip Version 16.02 (locale=en_US.UTF-8,Utf16=on,HugeFiles=on,64 bits,2 CPUs Intel(R) Xeon(R) CPU @ 2.20GHz (406F0),ASM,AES-NI)\n",
            "\n",
            "Scanning the drive for archives:\n",
            "  0M Scan\b\b\b\b\b\b\b\b\b         \b\b\b\b\b\b\b\b\b1 file, 257127394 bytes (246 MiB)\n",
            "\n",
            "Extracting archive: test.json.7z\n",
            "--\n",
            "Path = test.json.7z\n",
            "Type = 7z\n",
            "Physical Size = 257127394\n",
            "Headers Size = 154\n",
            "Method = LZMA2:24\n",
            "Solid = -\n",
            "Blocks = 1\n",
            "\n",
            "  0%\b\b\b\b    \b\b\b\b  0% - data/processed/test.json\b\b\b\b\b\b\b\b\b\b\b\b\b\b\b\b\b\b\b\b\b\b\b\b\b\b\b\b\b\b\b                               \b\b\b\b\b\b\b\b\b\b\b\b\b\b\b\b\b\b\b\b\b\b\b\b\b\b\b\b\b\b\b  1% - data/processed/test.json\b\b\b\b\b\b\b\b\b\b\b\b\b\b\b\b\b\b\b\b\b\b\b\b\b\b\b\b\b\b\b                               \b\b\b\b\b\b\b\b\b\b\b\b\b\b\b\b\b\b\b\b\b\b\b\b\b\b\b\b\b\b\b  2% - data/processed/test.json\b\b\b\b\b\b\b\b\b\b\b\b\b\b\b\b\b\b\b\b\b\b\b\b\b\b\b\b\b\b\b                               \b\b\b\b\b\b\b\b\b\b\b\b\b\b\b\b\b\b\b\b\b\b\b\b\b\b\b\b\b\b\b  3% - data/processed/test.json\b\b\b\b\b\b\b\b\b\b\b\b\b\b\b\b\b\b\b\b\b\b\b\b\b\b\b\b\b\b\b                               \b\b\b\b\b\b\b\b\b\b\b\b\b\b\b\b\b\b\b\b\b\b\b\b\b\b\b\b\b\b\b  4% - data/processed/test.json\b\b\b\b\b\b\b\b\b\b\b\b\b\b\b\b\b\b\b\b\b\b\b\b\b\b\b\b\b\b\b                               \b\b\b\b\b\b\b\b\b\b\b\b\b\b\b\b\b\b\b\b\b\b\b\b\b\b\b\b\b\b\b  5% - data/processed/test.json\b\b\b\b\b\b\b\b\b\b\b\b\b\b\b\b\b\b\b\b\b\b\b\b\b\b\b\b\b\b\b                               \b\b\b\b\b\b\b\b\b\b\b\b\b\b\b\b\b\b\b\b\b\b\b\b\b\b\b\b\b\b\b  6% - data/processed/test.json\b\b\b\b\b\b\b\b\b\b\b\b\b\b\b\b\b\b\b\b\b\b\b\b\b\b\b\b\b\b\b                               \b\b\b\b\b\b\b\b\b\b\b\b\b\b\b\b\b\b\b\b\b\b\b\b\b\b\b\b\b\b\b  7% - data/processed/test.json\b\b\b\b\b\b\b\b\b\b\b\b\b\b\b\b\b\b\b\b\b\b\b\b\b\b\b\b\b\b\b                               \b\b\b\b\b\b\b\b\b\b\b\b\b\b\b\b\b\b\b\b\b\b\b\b\b\b\b\b\b\b\b  8% - data/processed/test.json\b\b\b\b\b\b\b\b\b\b\b\b\b\b\b\b\b\b\b\b\b\b\b\b\b\b\b\b\b\b\b                               \b\b\b\b\b\b\b\b\b\b\b\b\b\b\b\b\b\b\b\b\b\b\b\b\b\b\b\b\b\b\b  9% - data/processed/test.json\b\b\b\b\b\b\b\b\b\b\b\b\b\b\b\b\b\b\b\b\b\b\b\b\b\b\b\b\b\b\b                               \b\b\b\b\b\b\b\b\b\b\b\b\b\b\b\b\b\b\b\b\b\b\b\b\b\b\b\b\b\b\b 10% - data/processed/test.json\b\b\b\b\b\b\b\b\b\b\b\b\b\b\b\b\b\b\b\b\b\b\b\b\b\b\b\b\b\b\b                               \b\b\b\b\b\b\b\b\b\b\b\b\b\b\b\b\b\b\b\b\b\b\b\b\b\b\b\b\b\b\b 11% - data/processed/test.json\b\b\b\b\b\b\b\b\b\b\b\b\b\b\b\b\b\b\b\b\b\b\b\b\b\b\b\b\b\b\b                               \b\b\b\b\b\b\b\b\b\b\b\b\b\b\b\b\b\b\b\b\b\b\b\b\b\b\b\b\b\b\b 12% - data/processed/test.json\b\b\b\b\b\b\b\b\b\b\b\b\b\b\b\b\b\b\b\b\b\b\b\b\b\b\b\b\b\b\b                               \b\b\b\b\b\b\b\b\b\b\b\b\b\b\b\b\b\b\b\b\b\b\b\b\b\b\b\b\b\b\b 13% - data/processed/test.json\b\b\b\b\b\b\b\b\b\b\b\b\b\b\b\b\b\b\b\b\b\b\b\b\b\b\b\b\b\b\b                               \b\b\b\b\b\b\b\b\b\b\b\b\b\b\b\b\b\b\b\b\b\b\b\b\b\b\b\b\b\b\b 14% - data/processed/test.json\b\b\b\b\b\b\b\b\b\b\b\b\b\b\b\b\b\b\b\b\b\b\b\b\b\b\b\b\b\b\b                               \b\b\b\b\b\b\b\b\b\b\b\b\b\b\b\b\b\b\b\b\b\b\b\b\b\b\b\b\b\b\b 15% - data/processed/test.json\b\b\b\b\b\b\b\b\b\b\b\b\b\b\b\b\b\b\b\b\b\b\b\b\b\b\b\b\b\b\b                               \b\b\b\b\b\b\b\b\b\b\b\b\b\b\b\b\b\b\b\b\b\b\b\b\b\b\b\b\b\b\b 16% - data/processed/test.json\b\b\b\b\b\b\b\b\b\b\b\b\b\b\b\b\b\b\b\b\b\b\b\b\b\b\b\b\b\b\b                               \b\b\b\b\b\b\b\b\b\b\b\b\b\b\b\b\b\b\b\b\b\b\b\b\b\b\b\b\b\b\b 17% - data/processed/test.json\b\b\b\b\b\b\b\b\b\b\b\b\b\b\b\b\b\b\b\b\b\b\b\b\b\b\b\b\b\b\b                               \b\b\b\b\b\b\b\b\b\b\b\b\b\b\b\b\b\b\b\b\b\b\b\b\b\b\b\b\b\b\b 18% - data/processed/test.json\b\b\b\b\b\b\b\b\b\b\b\b\b\b\b\b\b\b\b\b\b\b\b\b\b\b\b\b\b\b\b                               \b\b\b\b\b\b\b\b\b\b\b\b\b\b\b\b\b\b\b\b\b\b\b\b\b\b\b\b\b\b\b 19% - data/processed/test.json\b\b\b\b\b\b\b\b\b\b\b\b\b\b\b\b\b\b\b\b\b\b\b\b\b\b\b\b\b\b\b                               \b\b\b\b\b\b\b\b\b\b\b\b\b\b\b\b\b\b\b\b\b\b\b\b\b\b\b\b\b\b\b 20% - data/processed/test.json\b\b\b\b\b\b\b\b\b\b\b\b\b\b\b\b\b\b\b\b\b\b\b\b\b\b\b\b\b\b\b                               \b\b\b\b\b\b\b\b\b\b\b\b\b\b\b\b\b\b\b\b\b\b\b\b\b\b\b\b\b\b\b 21% - data/processed/test.json\b\b\b\b\b\b\b\b\b\b\b\b\b\b\b\b\b\b\b\b\b\b\b\b\b\b\b\b\b\b\b                               \b\b\b\b\b\b\b\b\b\b\b\b\b\b\b\b\b\b\b\b\b\b\b\b\b\b\b\b\b\b\b 22% - data/processed/test.json\b\b\b\b\b\b\b\b\b\b\b\b\b\b\b\b\b\b\b\b\b\b\b\b\b\b\b\b\b\b\b                               \b\b\b\b\b\b\b\b\b\b\b\b\b\b\b\b\b\b\b\b\b\b\b\b\b\b\b\b\b\b\b 23% - data/processed/test.json\b\b\b\b\b\b\b\b\b\b\b\b\b\b\b\b\b\b\b\b\b\b\b\b\b\b\b\b\b\b\b                               \b\b\b\b\b\b\b\b\b\b\b\b\b\b\b\b\b\b\b\b\b\b\b\b\b\b\b\b\b\b\b 24% - data/processed/test.json\b\b\b\b\b\b\b\b\b\b\b\b\b\b\b\b\b\b\b\b\b\b\b\b\b\b\b\b\b\b\b                               \b\b\b\b\b\b\b\b\b\b\b\b\b\b\b\b\b\b\b\b\b\b\b\b\b\b\b\b\b\b\b 25% - data/processed/test.json\b\b\b\b\b\b\b\b\b\b\b\b\b\b\b\b\b\b\b\b\b\b\b\b\b\b\b\b\b\b\b                               \b\b\b\b\b\b\b\b\b\b\b\b\b\b\b\b\b\b\b\b\b\b\b\b\b\b\b\b\b\b\b 26% - data/processed/test.json\b\b\b\b\b\b\b\b\b\b\b\b\b\b\b\b\b\b\b\b\b\b\b\b\b\b\b\b\b\b\b                               \b\b\b\b\b\b\b\b\b\b\b\b\b\b\b\b\b\b\b\b\b\b\b\b\b\b\b\b\b\b\b 27% - data/processed/test.json\b\b\b\b\b\b\b\b\b\b\b\b\b\b\b\b\b\b\b\b\b\b\b\b\b\b\b\b\b\b\b                               \b\b\b\b\b\b\b\b\b\b\b\b\b\b\b\b\b\b\b\b\b\b\b\b\b\b\b\b\b\b\b 28% - data/processed/test.json\b\b\b\b\b\b\b\b\b\b\b\b\b\b\b\b\b\b\b\b\b\b\b\b\b\b\b\b\b\b\b                               \b\b\b\b\b\b\b\b\b\b\b\b\b\b\b\b\b\b\b\b\b\b\b\b\b\b\b\b\b\b\b 29% - data/processed/test.json\b\b\b\b\b\b\b\b\b\b\b\b\b\b\b\b\b\b\b\b\b\b\b\b\b\b\b\b\b\b\b                               \b\b\b\b\b\b\b\b\b\b\b\b\b\b\b\b\b\b\b\b\b\b\b\b\b\b\b\b\b\b\b 30% - data/processed/test.json\b\b\b\b\b\b\b\b\b\b\b\b\b\b\b\b\b\b\b\b\b\b\b\b\b\b\b\b\b\b\b                               \b\b\b\b\b\b\b\b\b\b\b\b\b\b\b\b\b\b\b\b\b\b\b\b\b\b\b\b\b\b\b 31% - data/processed/test.json\b\b\b\b\b\b\b\b\b\b\b\b\b\b\b\b\b\b\b\b\b\b\b\b\b\b\b\b\b\b\b                               \b\b\b\b\b\b\b\b\b\b\b\b\b\b\b\b\b\b\b\b\b\b\b\b\b\b\b\b\b\b\b 32% - data/processed/test.json\b\b\b\b\b\b\b\b\b\b\b\b\b\b\b\b\b\b\b\b\b\b\b\b\b\b\b\b\b\b\b                               \b\b\b\b\b\b\b\b\b\b\b\b\b\b\b\b\b\b\b\b\b\b\b\b\b\b\b\b\b\b\b 33% - data/processed/test.json\b\b\b\b\b\b\b\b\b\b\b\b\b\b\b\b\b\b\b\b\b\b\b\b\b\b\b\b\b\b\b                               \b\b\b\b\b\b\b\b\b\b\b\b\b\b\b\b\b\b\b\b\b\b\b\b\b\b\b\b\b\b\b 34% - data/processed/test.json\b\b\b\b\b\b\b\b\b\b\b\b\b\b\b\b\b\b\b\b\b\b\b\b\b\b\b\b\b\b\b                               \b\b\b\b\b\b\b\b\b\b\b\b\b\b\b\b\b\b\b\b\b\b\b\b\b\b\b\b\b\b\b 35% - data/processed/test.json\b\b\b\b\b\b\b\b\b\b\b\b\b\b\b\b\b\b\b\b\b\b\b\b\b\b\b\b\b\b\b                               \b\b\b\b\b\b\b\b\b\b\b\b\b\b\b\b\b\b\b\b\b\b\b\b\b\b\b\b\b\b\b 36% - data/processed/test.json\b\b\b\b\b\b\b\b\b\b\b\b\b\b\b\b\b\b\b\b\b\b\b\b\b\b\b\b\b\b\b                               \b\b\b\b\b\b\b\b\b\b\b\b\b\b\b\b\b\b\b\b\b\b\b\b\b\b\b\b\b\b\b 37% - data/processed/test.json\b\b\b\b\b\b\b\b\b\b\b\b\b\b\b\b\b\b\b\b\b\b\b\b\b\b\b\b\b\b\b                               \b\b\b\b\b\b\b\b\b\b\b\b\b\b\b\b\b\b\b\b\b\b\b\b\b\b\b\b\b\b\b 38% - data/processed/test.json\b\b\b\b\b\b\b\b\b\b\b\b\b\b\b\b\b\b\b\b\b\b\b\b\b\b\b\b\b\b\b                               \b\b\b\b\b\b\b\b\b\b\b\b\b\b\b\b\b\b\b\b\b\b\b\b\b\b\b\b\b\b\b 39% - data/processed/test.json\b\b\b\b\b\b\b\b\b\b\b\b\b\b\b\b\b\b\b\b\b\b\b\b\b\b\b\b\b\b\b                               \b\b\b\b\b\b\b\b\b\b\b\b\b\b\b\b\b\b\b\b\b\b\b\b\b\b\b\b\b\b\b 40% - data/processed/test.json\b\b\b\b\b\b\b\b\b\b\b\b\b\b\b\b\b\b\b\b\b\b\b\b\b\b\b\b\b\b\b                               \b\b\b\b\b\b\b\b\b\b\b\b\b\b\b\b\b\b\b\b\b\b\b\b\b\b\b\b\b\b\b 41% - data/processed/test.json\b\b\b\b\b\b\b\b\b\b\b\b\b\b\b\b\b\b\b\b\b\b\b\b\b\b\b\b\b\b\b                               \b\b\b\b\b\b\b\b\b\b\b\b\b\b\b\b\b\b\b\b\b\b\b\b\b\b\b\b\b\b\b 42% - data/processed/test.json\b\b\b\b\b\b\b\b\b\b\b\b\b\b\b\b\b\b\b\b\b\b\b\b\b\b\b\b\b\b\b                               \b\b\b\b\b\b\b\b\b\b\b\b\b\b\b\b\b\b\b\b\b\b\b\b\b\b\b\b\b\b\b 43% - data/processed/test.json\b\b\b\b\b\b\b\b\b\b\b\b\b\b\b\b\b\b\b\b\b\b\b\b\b\b\b\b\b\b\b                               \b\b\b\b\b\b\b\b\b\b\b\b\b\b\b\b\b\b\b\b\b\b\b\b\b\b\b\b\b\b\b 44% - data/processed/test.json\b\b\b\b\b\b\b\b\b\b\b\b\b\b\b\b\b\b\b\b\b\b\b\b\b\b\b\b\b\b\b                               \b\b\b\b\b\b\b\b\b\b\b\b\b\b\b\b\b\b\b\b\b\b\b\b\b\b\b\b\b\b\b 45% - data/processed/test.json\b\b\b\b\b\b\b\b\b\b\b\b\b\b\b\b\b\b\b\b\b\b\b\b\b\b\b\b\b\b\b                               \b\b\b\b\b\b\b\b\b\b\b\b\b\b\b\b\b\b\b\b\b\b\b\b\b\b\b\b\b\b\b 46% - data/processed/test.json\b\b\b\b\b\b\b\b\b\b\b\b\b\b\b\b\b\b\b\b\b\b\b\b\b\b\b\b\b\b\b                               \b\b\b\b\b\b\b\b\b\b\b\b\b\b\b\b\b\b\b\b\b\b\b\b\b\b\b\b\b\b\b 47% - data/processed/test.json\b\b\b\b\b\b\b\b\b\b\b\b\b\b\b\b\b\b\b\b\b\b\b\b\b\b\b\b\b\b\b                               \b\b\b\b\b\b\b\b\b\b\b\b\b\b\b\b\b\b\b\b\b\b\b\b\b\b\b\b\b\b\b 48% - data/processed/test.json\b\b\b\b\b\b\b\b\b\b\b\b\b\b\b\b\b\b\b\b\b\b\b\b\b\b\b\b\b\b\b                               \b\b\b\b\b\b\b\b\b\b\b\b\b\b\b\b\b\b\b\b\b\b\b\b\b\b\b\b\b\b\b 49% - data/processed/test.json\b\b\b\b\b\b\b\b\b\b\b\b\b\b\b\b\b\b\b\b\b\b\b\b\b\b\b\b\b\b\b                               \b\b\b\b\b\b\b\b\b\b\b\b\b\b\b\b\b\b\b\b\b\b\b\b\b\b\b\b\b\b\b 50% - data/processed/test.json\b\b\b\b\b\b\b\b\b\b\b\b\b\b\b\b\b\b\b\b\b\b\b\b\b\b\b\b\b\b\b                               \b\b\b\b\b\b\b\b\b\b\b\b\b\b\b\b\b\b\b\b\b\b\b\b\b\b\b\b\b\b\b 51% - data/processed/test.json\b\b\b\b\b\b\b\b\b\b\b\b\b\b\b\b\b\b\b\b\b\b\b\b\b\b\b\b\b\b\b                               \b\b\b\b\b\b\b\b\b\b\b\b\b\b\b\b\b\b\b\b\b\b\b\b\b\b\b\b\b\b\b 52% - data/processed/test.json\b\b\b\b\b\b\b\b\b\b\b\b\b\b\b\b\b\b\b\b\b\b\b\b\b\b\b\b\b\b\b                               \b\b\b\b\b\b\b\b\b\b\b\b\b\b\b\b\b\b\b\b\b\b\b\b\b\b\b\b\b\b\b 53% - data/processed/test.json\b\b\b\b\b\b\b\b\b\b\b\b\b\b\b\b\b\b\b\b\b\b\b\b\b\b\b\b\b\b\b                               \b\b\b\b\b\b\b\b\b\b\b\b\b\b\b\b\b\b\b\b\b\b\b\b\b\b\b\b\b\b\b 54% - data/processed/test.json\b\b\b\b\b\b\b\b\b\b\b\b\b\b\b\b\b\b\b\b\b\b\b\b\b\b\b\b\b\b\b                               \b\b\b\b\b\b\b\b\b\b\b\b\b\b\b\b\b\b\b\b\b\b\b\b\b\b\b\b\b\b\b 55% - data/processed/test.json\b\b\b\b\b\b\b\b\b\b\b\b\b\b\b\b\b\b\b\b\b\b\b\b\b\b\b\b\b\b\b                               \b\b\b\b\b\b\b\b\b\b\b\b\b\b\b\b\b\b\b\b\b\b\b\b\b\b\b\b\b\b\b 56% - data/processed/test.json\b\b\b\b\b\b\b\b\b\b\b\b\b\b\b\b\b\b\b\b\b\b\b\b\b\b\b\b\b\b\b                               \b\b\b\b\b\b\b\b\b\b\b\b\b\b\b\b\b\b\b\b\b\b\b\b\b\b\b\b\b\b\b 57% - data/processed/test.json\b\b\b\b\b\b\b\b\b\b\b\b\b\b\b\b\b\b\b\b\b\b\b\b\b\b\b\b\b\b\b                               \b\b\b\b\b\b\b\b\b\b\b\b\b\b\b\b\b\b\b\b\b\b\b\b\b\b\b\b\b\b\b 58% - data/processed/test.json\b\b\b\b\b\b\b\b\b\b\b\b\b\b\b\b\b\b\b\b\b\b\b\b\b\b\b\b\b\b\b                               \b\b\b\b\b\b\b\b\b\b\b\b\b\b\b\b\b\b\b\b\b\b\b\b\b\b\b\b\b\b\b 59% - data/processed/test.json\b\b\b\b\b\b\b\b\b\b\b\b\b\b\b\b\b\b\b\b\b\b\b\b\b\b\b\b\b\b\b                               \b\b\b\b\b\b\b\b\b\b\b\b\b\b\b\b\b\b\b\b\b\b\b\b\b\b\b\b\b\b\b 60% - data/processed/test.json\b\b\b\b\b\b\b\b\b\b\b\b\b\b\b\b\b\b\b\b\b\b\b\b\b\b\b\b\b\b\b                               \b\b\b\b\b\b\b\b\b\b\b\b\b\b\b\b\b\b\b\b\b\b\b\b\b\b\b\b\b\b\b 61% - data/processed/test.json\b\b\b\b\b\b\b\b\b\b\b\b\b\b\b\b\b\b\b\b\b\b\b\b\b\b\b\b\b\b\b                               \b\b\b\b\b\b\b\b\b\b\b\b\b\b\b\b\b\b\b\b\b\b\b\b\b\b\b\b\b\b\b 62% - data/processed/test.json\b\b\b\b\b\b\b\b\b\b\b\b\b\b\b\b\b\b\b\b\b\b\b\b\b\b\b\b\b\b\b                               \b\b\b\b\b\b\b\b\b\b\b\b\b\b\b\b\b\b\b\b\b\b\b\b\b\b\b\b\b\b\b 63% - data/processed/test.json\b\b\b\b\b\b\b\b\b\b\b\b\b\b\b\b\b\b\b\b\b\b\b\b\b\b\b\b\b\b\b                               \b\b\b\b\b\b\b\b\b\b\b\b\b\b\b\b\b\b\b\b\b\b\b\b\b\b\b\b\b\b\b 64% - data/processed/test.json\b\b\b\b\b\b\b\b\b\b\b\b\b\b\b\b\b\b\b\b\b\b\b\b\b\b\b\b\b\b\b                               \b\b\b\b\b\b\b\b\b\b\b\b\b\b\b\b\b\b\b\b\b\b\b\b\b\b\b\b\b\b\b 65% - data/processed/test.json\b\b\b\b\b\b\b\b\b\b\b\b\b\b\b\b\b\b\b\b\b\b\b\b\b\b\b\b\b\b\b                               \b\b\b\b\b\b\b\b\b\b\b\b\b\b\b\b\b\b\b\b\b\b\b\b\b\b\b\b\b\b\b 66% - data/processed/test.json\b\b\b\b\b\b\b\b\b\b\b\b\b\b\b\b\b\b\b\b\b\b\b\b\b\b\b\b\b\b\b                               \b\b\b\b\b\b\b\b\b\b\b\b\b\b\b\b\b\b\b\b\b\b\b\b\b\b\b\b\b\b\b 67% - data/processed/test.json\b\b\b\b\b\b\b\b\b\b\b\b\b\b\b\b\b\b\b\b\b\b\b\b\b\b\b\b\b\b\b                               \b\b\b\b\b\b\b\b\b\b\b\b\b\b\b\b\b\b\b\b\b\b\b\b\b\b\b\b\b\b\b 68% - data/processed/test.json\b\b\b\b\b\b\b\b\b\b\b\b\b\b\b\b\b\b\b\b\b\b\b\b\b\b\b\b\b\b\b                               \b\b\b\b\b\b\b\b\b\b\b\b\b\b\b\b\b\b\b\b\b\b\b\b\b\b\b\b\b\b\b 69% - data/processed/test.json\b\b\b\b\b\b\b\b\b\b\b\b\b\b\b\b\b\b\b\b\b\b\b\b\b\b\b\b\b\b\b                               \b\b\b\b\b\b\b\b\b\b\b\b\b\b\b\b\b\b\b\b\b\b\b\b\b\b\b\b\b\b\b 70% - data/processed/test.json\b\b\b\b\b\b\b\b\b\b\b\b\b\b\b\b\b\b\b\b\b\b\b\b\b\b\b\b\b\b\b                               \b\b\b\b\b\b\b\b\b\b\b\b\b\b\b\b\b\b\b\b\b\b\b\b\b\b\b\b\b\b\b 71% - data/processed/test.json\b\b\b\b\b\b\b\b\b\b\b\b\b\b\b\b\b\b\b\b\b\b\b\b\b\b\b\b\b\b\b                               \b\b\b\b\b\b\b\b\b\b\b\b\b\b\b\b\b\b\b\b\b\b\b\b\b\b\b\b\b\b\b 72% - data/processed/test.json\b\b\b\b\b\b\b\b\b\b\b\b\b\b\b\b\b\b\b\b\b\b\b\b\b\b\b\b\b\b\b                               \b\b\b\b\b\b\b\b\b\b\b\b\b\b\b\b\b\b\b\b\b\b\b\b\b\b\b\b\b\b\b 73% - data/processed/test.json\b\b\b\b\b\b\b\b\b\b\b\b\b\b\b\b\b\b\b\b\b\b\b\b\b\b\b\b\b\b\b                               \b\b\b\b\b\b\b\b\b\b\b\b\b\b\b\b\b\b\b\b\b\b\b\b\b\b\b\b\b\b\b 74% - data/processed/test.json\b\b\b\b\b\b\b\b\b\b\b\b\b\b\b\b\b\b\b\b\b\b\b\b\b\b\b\b\b\b\b                               \b\b\b\b\b\b\b\b\b\b\b\b\b\b\b\b\b\b\b\b\b\b\b\b\b\b\b\b\b\b\b 75% - data/processed/test.json\b\b\b\b\b\b\b\b\b\b\b\b\b\b\b\b\b\b\b\b\b\b\b\b\b\b\b\b\b\b\b                               \b\b\b\b\b\b\b\b\b\b\b\b\b\b\b\b\b\b\b\b\b\b\b\b\b\b\b\b\b\b\b 76% - data/processed/test.json\b\b\b\b\b\b\b\b\b\b\b\b\b\b\b\b\b\b\b\b\b\b\b\b\b\b\b\b\b\b\b                               \b\b\b\b\b\b\b\b\b\b\b\b\b\b\b\b\b\b\b\b\b\b\b\b\b\b\b\b\b\b\b 77% - data/processed/test.json\b\b\b\b\b\b\b\b\b\b\b\b\b\b\b\b\b\b\b\b\b\b\b\b\b\b\b\b\b\b\b                               \b\b\b\b\b\b\b\b\b\b\b\b\b\b\b\b\b\b\b\b\b\b\b\b\b\b\b\b\b\b\b 78% - data/processed/test.json\b\b\b\b\b\b\b\b\b\b\b\b\b\b\b\b\b\b\b\b\b\b\b\b\b\b\b\b\b\b\b                               \b\b\b\b\b\b\b\b\b\b\b\b\b\b\b\b\b\b\b\b\b\b\b\b\b\b\b\b\b\b\b 79% - data/processed/test.json\b\b\b\b\b\b\b\b\b\b\b\b\b\b\b\b\b\b\b\b\b\b\b\b\b\b\b\b\b\b\b                               \b\b\b\b\b\b\b\b\b\b\b\b\b\b\b\b\b\b\b\b\b\b\b\b\b\b\b\b\b\b\b 80% - data/processed/test.json\b\b\b\b\b\b\b\b\b\b\b\b\b\b\b\b\b\b\b\b\b\b\b\b\b\b\b\b\b\b\b                               \b\b\b\b\b\b\b\b\b\b\b\b\b\b\b\b\b\b\b\b\b\b\b\b\b\b\b\b\b\b\b 81% - data/processed/test.json\b\b\b\b\b\b\b\b\b\b\b\b\b\b\b\b\b\b\b\b\b\b\b\b\b\b\b\b\b\b\b                               \b\b\b\b\b\b\b\b\b\b\b\b\b\b\b\b\b\b\b\b\b\b\b\b\b\b\b\b\b\b\b 82% - data/processed/test.json\b\b\b\b\b\b\b\b\b\b\b\b\b\b\b\b\b\b\b\b\b\b\b\b\b\b\b\b\b\b\b                               \b\b\b\b\b\b\b\b\b\b\b\b\b\b\b\b\b\b\b\b\b\b\b\b\b\b\b\b\b\b\b 83% - data/processed/test.json\b\b\b\b\b\b\b\b\b\b\b\b\b\b\b\b\b\b\b\b\b\b\b\b\b\b\b\b\b\b\b                               \b\b\b\b\b\b\b\b\b\b\b\b\b\b\b\b\b\b\b\b\b\b\b\b\b\b\b\b\b\b\b 84% - data/processed/test.json\b\b\b\b\b\b\b\b\b\b\b\b\b\b\b\b\b\b\b\b\b\b\b\b\b\b\b\b\b\b\b                               \b\b\b\b\b\b\b\b\b\b\b\b\b\b\b\b\b\b\b\b\b\b\b\b\b\b\b\b\b\b\b 85% - data/processed/test.json\b\b\b\b\b\b\b\b\b\b\b\b\b\b\b\b\b\b\b\b\b\b\b\b\b\b\b\b\b\b\b                               \b\b\b\b\b\b\b\b\b\b\b\b\b\b\b\b\b\b\b\b\b\b\b\b\b\b\b\b\b\b\b 86% - data/processed/test.json\b\b\b\b\b\b\b\b\b\b\b\b\b\b\b\b\b\b\b\b\b\b\b\b\b\b\b\b\b\b\b                               \b\b\b\b\b\b\b\b\b\b\b\b\b\b\b\b\b\b\b\b\b\b\b\b\b\b\b\b\b\b\b 87% - data/processed/test.json\b\b\b\b\b\b\b\b\b\b\b\b\b\b\b\b\b\b\b\b\b\b\b\b\b\b\b\b\b\b\b                               \b\b\b\b\b\b\b\b\b\b\b\b\b\b\b\b\b\b\b\b\b\b\b\b\b\b\b\b\b\b\b 88% - data/processed/test.json\b\b\b\b\b\b\b\b\b\b\b\b\b\b\b\b\b\b\b\b\b\b\b\b\b\b\b\b\b\b\b                               \b\b\b\b\b\b\b\b\b\b\b\b\b\b\b\b\b\b\b\b\b\b\b\b\b\b\b\b\b\b\b 89% - data/processed/test.json\b\b\b\b\b\b\b\b\b\b\b\b\b\b\b\b\b\b\b\b\b\b\b\b\b\b\b\b\b\b\b                               \b\b\b\b\b\b\b\b\b\b\b\b\b\b\b\b\b\b\b\b\b\b\b\b\b\b\b\b\b\b\b 90% - data/processed/test.json\b\b\b\b\b\b\b\b\b\b\b\b\b\b\b\b\b\b\b\b\b\b\b\b\b\b\b\b\b\b\b                               \b\b\b\b\b\b\b\b\b\b\b\b\b\b\b\b\b\b\b\b\b\b\b\b\b\b\b\b\b\b\b 91% - data/processed/test.json\b\b\b\b\b\b\b\b\b\b\b\b\b\b\b\b\b\b\b\b\b\b\b\b\b\b\b\b\b\b\b                               \b\b\b\b\b\b\b\b\b\b\b\b\b\b\b\b\b\b\b\b\b\b\b\b\b\b\b\b\b\b\b 92% - data/processed/test.json\b\b\b\b\b\b\b\b\b\b\b\b\b\b\b\b\b\b\b\b\b\b\b\b\b\b\b\b\b\b\b                               \b\b\b\b\b\b\b\b\b\b\b\b\b\b\b\b\b\b\b\b\b\b\b\b\b\b\b\b\b\b\b 93% - data/processed/test.json\b\b\b\b\b\b\b\b\b\b\b\b\b\b\b\b\b\b\b\b\b\b\b\b\b\b\b\b\b\b\b                               \b\b\b\b\b\b\b\b\b\b\b\b\b\b\b\b\b\b\b\b\b\b\b\b\b\b\b\b\b\b\b 94% - data/processed/test.json\b\b\b\b\b\b\b\b\b\b\b\b\b\b\b\b\b\b\b\b\b\b\b\b\b\b\b\b\b\b\b                               \b\b\b\b\b\b\b\b\b\b\b\b\b\b\b\b\b\b\b\b\b\b\b\b\b\b\b\b\b\b\b 95% - data/processed/test.json\b\b\b\b\b\b\b\b\b\b\b\b\b\b\b\b\b\b\b\b\b\b\b\b\b\b\b\b\b\b\b                               \b\b\b\b\b\b\b\b\b\b\b\b\b\b\b\b\b\b\b\b\b\b\b\b\b\b\b\b\b\b\b 96% - data/processed/test.json\b\b\b\b\b\b\b\b\b\b\b\b\b\b\b\b\b\b\b\b\b\b\b\b\b\b\b\b\b\b\b                               \b\b\b\b\b\b\b\b\b\b\b\b\b\b\b\b\b\b\b\b\b\b\b\b\b\b\b\b\b\b\b 97% - data/processed/test.json\b\b\b\b\b\b\b\b\b\b\b\b\b\b\b\b\b\b\b\b\b\b\b\b\b\b\b\b\b\b\b                               \b\b\b\b\b\b\b\b\b\b\b\b\b\b\b\b\b\b\b\b\b\b\b\b\b\b\b\b\b\b\b 98% - data/processed/test.json\b\b\b\b\b\b\b\b\b\b\b\b\b\b\b\b\b\b\b\b\b\b\b\b\b\b\b\b\b\b\b                               \b\b\b\b\b\b\b\b\b\b\b\b\b\b\b\b\b\b\b\b\b\b\b\b\b\b\b\b\b\b\b 99% - data/processed/test.json\b\b\b\b\b\b\b\b\b\b\b\b\b\b\b\b\b\b\b\b\b\b\b\b\b\b\b\b\b\b\b                               \b\b\b\b\b\b\b\b\b\b\b\b\b\b\b\b\b\b\b\b\b\b\b\b\b\b\b\b\b\b\b100% 1\b\b\b\b\b\b      \b\b\b\b\b\bEverything is Ok\n",
            "\n",
            "Size:       1521771850\n",
            "Compressed: 257127394\n",
            "\n",
            "7-Zip [64] 16.02 : Copyright (c) 1999-2016 Igor Pavlov : 2016-05-21\n",
            "p7zip Version 16.02 (locale=en_US.UTF-8,Utf16=on,HugeFiles=on,64 bits,2 CPUs Intel(R) Xeon(R) CPU @ 2.20GHz (406F0),ASM,AES-NI)\n",
            "\n",
            "Scanning the drive for archives:\n",
            "  0M Scan\b\b\b\b\b\b\b\b\b         \b\b\b\b\b\b\b\b\b1 file, 44932785 bytes (43 MiB)\n",
            "\n",
            "Extracting archive: train.json.7z\n",
            "--\n",
            "Path = train.json.7z\n",
            "Type = 7z\n",
            "Physical Size = 44932785\n",
            "Headers Size = 154\n",
            "Method = LZMA2:24\n",
            "Solid = -\n",
            "Blocks = 1\n",
            "\n",
            "  0%\b\b\b\b    \b\b\b\b  4% - data/processed/train.json\b\b\b\b\b\b\b\b\b\b\b\b\b\b\b\b\b\b\b\b\b\b\b\b\b\b\b\b\b\b\b\b                                \b\b\b\b\b\b\b\b\b\b\b\b\b\b\b\b\b\b\b\b\b\b\b\b\b\b\b\b\b\b\b\b 10% - data/processed/train.json\b\b\b\b\b\b\b\b\b\b\b\b\b\b\b\b\b\b\b\b\b\b\b\b\b\b\b\b\b\b\b\b                                \b\b\b\b\b\b\b\b\b\b\b\b\b\b\b\b\b\b\b\b\b\b\b\b\b\b\b\b\b\b\b\b 16% - data/processed/train.json\b\b\b\b\b\b\b\b\b\b\b\b\b\b\b\b\b\b\b\b\b\b\b\b\b\b\b\b\b\b\b\b                                \b\b\b\b\b\b\b\b\b\b\b\b\b\b\b\b\b\b\b\b\b\b\b\b\b\b\b\b\b\b\b\b 21% - data/processed/train.json\b\b\b\b\b\b\b\b\b\b\b\b\b\b\b\b\b\b\b\b\b\b\b\b\b\b\b\b\b\b\b\b                                \b\b\b\b\b\b\b\b\b\b\b\b\b\b\b\b\b\b\b\b\b\b\b\b\b\b\b\b\b\b\b\b 27% - data/processed/train.json\b\b\b\b\b\b\b\b\b\b\b\b\b\b\b\b\b\b\b\b\b\b\b\b\b\b\b\b\b\b\b\b                                \b\b\b\b\b\b\b\b\b\b\b\b\b\b\b\b\b\b\b\b\b\b\b\b\b\b\b\b\b\b\b\b 32% - data/processed/train.json\b\b\b\b\b\b\b\b\b\b\b\b\b\b\b\b\b\b\b\b\b\b\b\b\b\b\b\b\b\b\b\b                                \b\b\b\b\b\b\b\b\b\b\b\b\b\b\b\b\b\b\b\b\b\b\b\b\b\b\b\b\b\b\b\b 38% - data/processed/train.json\b\b\b\b\b\b\b\b\b\b\b\b\b\b\b\b\b\b\b\b\b\b\b\b\b\b\b\b\b\b\b\b                                \b\b\b\b\b\b\b\b\b\b\b\b\b\b\b\b\b\b\b\b\b\b\b\b\b\b\b\b\b\b\b\b 42% - data/processed/train.json\b\b\b\b\b\b\b\b\b\b\b\b\b\b\b\b\b\b\b\b\b\b\b\b\b\b\b\b\b\b\b\b                                \b\b\b\b\b\b\b\b\b\b\b\b\b\b\b\b\b\b\b\b\b\b\b\b\b\b\b\b\b\b\b\b 49% - data/processed/train.json\b\b\b\b\b\b\b\b\b\b\b\b\b\b\b\b\b\b\b\b\b\b\b\b\b\b\b\b\b\b\b\b                                \b\b\b\b\b\b\b\b\b\b\b\b\b\b\b\b\b\b\b\b\b\b\b\b\b\b\b\b\b\b\b\b 53% - data/processed/train.json\b\b\b\b\b\b\b\b\b\b\b\b\b\b\b\b\b\b\b\b\b\b\b\b\b\b\b\b\b\b\b\b                                \b\b\b\b\b\b\b\b\b\b\b\b\b\b\b\b\b\b\b\b\b\b\b\b\b\b\b\b\b\b\b\b 59% - data/processed/train.json\b\b\b\b\b\b\b\b\b\b\b\b\b\b\b\b\b\b\b\b\b\b\b\b\b\b\b\b\b\b\b\b                                \b\b\b\b\b\b\b\b\b\b\b\b\b\b\b\b\b\b\b\b\b\b\b\b\b\b\b\b\b\b\b\b 65% - data/processed/train.json\b\b\b\b\b\b\b\b\b\b\b\b\b\b\b\b\b\b\b\b\b\b\b\b\b\b\b\b\b\b\b\b                                \b\b\b\b\b\b\b\b\b\b\b\b\b\b\b\b\b\b\b\b\b\b\b\b\b\b\b\b\b\b\b\b 70% - data/processed/train.json\b\b\b\b\b\b\b\b\b\b\b\b\b\b\b\b\b\b\b\b\b\b\b\b\b\b\b\b\b\b\b\b                                \b\b\b\b\b\b\b\b\b\b\b\b\b\b\b\b\b\b\b\b\b\b\b\b\b\b\b\b\b\b\b\b 76% - data/processed/train.json\b\b\b\b\b\b\b\b\b\b\b\b\b\b\b\b\b\b\b\b\b\b\b\b\b\b\b\b\b\b\b\b                                \b\b\b\b\b\b\b\b\b\b\b\b\b\b\b\b\b\b\b\b\b\b\b\b\b\b\b\b\b\b\b\b 81% - data/processed/train.json\b\b\b\b\b\b\b\b\b\b\b\b\b\b\b\b\b\b\b\b\b\b\b\b\b\b\b\b\b\b\b\b                                \b\b\b\b\b\b\b\b\b\b\b\b\b\b\b\b\b\b\b\b\b\b\b\b\b\b\b\b\b\b\b\b 87% - data/processed/train.json\b\b\b\b\b\b\b\b\b\b\b\b\b\b\b\b\b\b\b\b\b\b\b\b\b\b\b\b\b\b\b\b                                \b\b\b\b\b\b\b\b\b\b\b\b\b\b\b\b\b\b\b\b\b\b\b\b\b\b\b\b\b\b\b\b 93% - data/processed/train.json\b\b\b\b\b\b\b\b\b\b\b\b\b\b\b\b\b\b\b\b\b\b\b\b\b\b\b\b\b\b\b\b                                \b\b\b\b\b\b\b\b\b\b\b\b\b\b\b\b\b\b\b\b\b\b\b\b\b\b\b\b\b\b\b\b 98% - data/processed/train.json\b\b\b\b\b\b\b\b\b\b\b\b\b\b\b\b\b\b\b\b\b\b\b\b\b\b\b\b\b\b\b\b                                \b\b\b\b\b\b\b\b\b\b\b\b\b\b\b\b\b\b\b\b\b\b\b\b\b\b\b\b\b\b\b\bEverything is Ok\n",
            "\n",
            "Size:       196313674\n",
            "Compressed: 44932785\n",
            "\n",
            "7-Zip [64] 16.02 : Copyright (c) 1999-2016 Igor Pavlov : 2016-05-21\n",
            "p7zip Version 16.02 (locale=en_US.UTF-8,Utf16=on,HugeFiles=on,64 bits,2 CPUs Intel(R) Xeon(R) CPU @ 2.20GHz (406F0),ASM,AES-NI)\n",
            "\n",
            "Scanning the drive for archives:\n",
            "  0M Scan\b\b\b\b\b\b\b\b\b         \b\b\b\b\b\b\b\b\b1 file, 38566 bytes (38 KiB)\n",
            "\n",
            "Extracting archive: sample_submission.csv.7z\n",
            "--\n",
            "Path = sample_submission.csv.7z\n",
            "Type = 7z\n",
            "Physical Size = 38566\n",
            "Headers Size = 178\n",
            "Method = LZMA2:17\n",
            "Solid = -\n",
            "Blocks = 1\n",
            "\n",
            "  0%\b\b\b\b    \b\b\b\bEverything is Ok\n",
            "\n",
            "Size:       117951\n",
            "Compressed: 38566\n"
          ],
          "name": "stdout"
        }
      ]
    },
    {
      "cell_type": "markdown",
      "metadata": {
        "id": "gXRhSEs7Cmlz"
      },
      "source": [
        "# Load the dataset"
      ]
    },
    {
      "cell_type": "markdown",
      "metadata": {
        "id": "4ySL5mDzDecT"
      },
      "source": [
        " Mount your Google Drive to the kernel."
      ]
    },
    {
      "cell_type": "code",
      "metadata": {
        "colab": {
          "base_uri": "https://localhost:8080/"
        },
        "id": "9iGKarZ_DXej",
        "outputId": "936e76cc-b7f7-4938-dd85-4fed8e9ead24"
      },
      "source": [
        "from google.colab import drive\r\n",
        "drive.mount('/content/drive')"
      ],
      "execution_count": 4,
      "outputs": [
        {
          "output_type": "stream",
          "text": [
            "Mounted at /content/drive\n"
          ],
          "name": "stdout"
        }
      ]
    },
    {
      "cell_type": "markdown",
      "metadata": {
        "id": "zbh1WYytEJ9p"
      },
      "source": [
        "Import the libraries that required."
      ]
    },
    {
      "cell_type": "code",
      "metadata": {
        "id": "UkKnpRsMFlU6"
      },
      "source": [
        "import pandas as pd\r\n",
        "import numpy as np\r\n",
        "from sklearn.model_selection import train_test_split"
      ],
      "execution_count": 5,
      "outputs": []
    },
    {
      "cell_type": "markdown",
      "metadata": {
        "id": "kdRYBzZuFqlN"
      },
      "source": [
        "Some variables:"
      ]
    },
    {
      "cell_type": "code",
      "metadata": {
        "id": "ve6u2MguGZwo"
      },
      "source": [
        "train_path='/content/drive/MyDrive/kaggle/data/train.json'\r\n",
        "test_path='/content/drive/MyDrive/kaggle/data/test.json'"
      ],
      "execution_count": 6,
      "outputs": []
    },
    {
      "cell_type": "markdown",
      "metadata": {
        "id": "oyO9tuxoVWXt"
      },
      "source": [
        "Function for loading training / testing datasets (testing dataset has no label given, which means there's no \"is_iceberg\" column):"
      ]
    },
    {
      "cell_type": "code",
      "metadata": {
        "id": "_lviDLR7MTES"
      },
      "source": [
        "def LoadDataset(data_path):\r\n",
        "    df = pd.read_json(data_path)\r\n",
        "    #print(df.head(3))\r\n",
        "    \r\n",
        "    # Change the \"na\" value in \"inc_angle\" to NaN\r\n",
        "    df[\"inc_angle\"] = df[\"inc_angle\"].replace([\"na\"], np.nan)\r\n",
        "\r\n",
        "    # Get the labels from training dataset (but not testing dataset)\r\n",
        "    if 'is_iceberg' in df.columns:\r\n",
        "      labels = np.array(df[\"is_iceberg\"])\r\n",
        "    else:\r\n",
        "      labels = None\r\n",
        "\r\n",
        "    # Create empty list for the images\r\n",
        "    imgs = []\r\n",
        "    for i, row in df.iterrows():\r\n",
        "        # Reshape list to image\r\n",
        "        hh  = np.reshape(row[\"band_1\"], (75, 75))\r\n",
        "        hv  = np.reshape(row[\"band_2\"], (75, 75))\r\n",
        "        b3  = hh + hv\r\n",
        "        \r\n",
        "        # Rescale images between 0 and 1 for faster convergence rate\r\n",
        "        hh = (hh - hh.min())/(hh.max()-hh.min())\r\n",
        "        hv = (hv - hv.min())/(hv.max()-hv.min())\r\n",
        "        b3 = (b3 - b3.min())/(b3.max()-b3.min())\r\n",
        "\r\n",
        "        # Stack the bands and append them to imgs\r\n",
        "        imgs.append(np.dstack((hh, hv, b3)))\r\n",
        "\r\n",
        "    return imgs, labels\r\n"
      ],
      "execution_count": 8,
      "outputs": []
    },
    {
      "cell_type": "code",
      "metadata": {
        "id": "7FF9HnbYVNm3"
      },
      "source": [
        "imgs_train, labels_train = LoadDataset(train_path)\r\n",
        "\r\n",
        "# Split dataset into training and validation (dev) datasets\r\n",
        "x_train, x_dev, y_train, y_dev = train_test_split(imgs_train, labels_train, test_size=0.2, random_state=0)\r\n",
        "x_train = np.array(x_train)\r\n",
        "x_dev = np.array(x_dev)"
      ],
      "execution_count": 9,
      "outputs": []
    },
    {
      "cell_type": "markdown",
      "metadata": {
        "id": "uDUFiQNFYkAQ"
      },
      "source": [
        "# Set up DataGenerators"
      ]
    },
    {
      "cell_type": "markdown",
      "metadata": {
        "id": "GBkYk7giYu5v"
      },
      "source": [
        "Import the library for using data generators"
      ]
    },
    {
      "cell_type": "code",
      "metadata": {
        "id": "iTpDLcxzYpDZ"
      },
      "source": [
        "from keras_preprocessing.image import ImageDataGenerator"
      ],
      "execution_count": 10,
      "outputs": []
    },
    {
      "cell_type": "markdown",
      "metadata": {
        "id": "axzKMro3ZwR8"
      },
      "source": [
        "Image Data Generators for training and validation data"
      ]
    },
    {
      "cell_type": "code",
      "metadata": {
        "id": "EJC2zwwXY06B"
      },
      "source": [
        "training_datagen = ImageDataGenerator(\r\n",
        "    rotation_range = 90,\r\n",
        "    width_shift_range = 0.2,\r\n",
        "    height_shift_range = 0.2,\r\n",
        "    shear_range = 0.2,\r\n",
        "    zoom_range = 0.2,\r\n",
        "    horizontal_flip = True,\r\n",
        "    fill_mode = 'nearest')\r\n",
        "\r\n",
        "train_generator = training_datagen.flow(x_train, y_train)\r\n",
        "\r\n",
        "\r\n",
        "dev_datagen = ImageDataGenerator()\r\n",
        "\r\n",
        "dev_generator = dev_datagen.flow(x_dev, y_dev)"
      ],
      "execution_count": 11,
      "outputs": []
    },
    {
      "cell_type": "markdown",
      "metadata": {
        "id": "X_bvN20saQik"
      },
      "source": [
        "# Define different models"
      ]
    },
    {
      "cell_type": "markdown",
      "metadata": {
        "id": "81MLwMWcahHe"
      },
      "source": [
        "## CNN"
      ]
    },
    {
      "cell_type": "markdown",
      "metadata": {
        "id": "Hnfe0Pvtab5W"
      },
      "source": [
        "import the libraries "
      ]
    },
    {
      "cell_type": "code",
      "metadata": {
        "id": "oxjeZwJ0abpa"
      },
      "source": [
        "import tensorflow as tf\r\n",
        "import keras.optimizers"
      ],
      "execution_count": 12,
      "outputs": []
    },
    {
      "cell_type": "markdown",
      "metadata": {
        "id": "T3H6nBODdaT0"
      },
      "source": [
        "Check different keras optimizers here: https://keras.io/api/optimizers/"
      ]
    },
    {
      "cell_type": "markdown",
      "metadata": {
        "id": "UsDj-dqRbqOA"
      },
      "source": [
        "Define the model"
      ]
    },
    {
      "cell_type": "code",
      "metadata": {
        "id": "F8ZGkLoxbtlM"
      },
      "source": [
        "def CNN():\r\n",
        "    model = tf.keras.models.Sequential([\r\n",
        "        # Note the input shape is the desired size of the image 75x75 with 3 bytes color\r\n",
        "        # This is the first convolution\r\n",
        "        tf.keras.layers.Conv2D(64, (3,3), activation='relu', input_shape=(75, 75, 3)),\r\n",
        "        tf.keras.layers.MaxPooling2D(3, 3),\r\n",
        "        tf.keras.layers.Dropout(0.2),\r\n",
        "        # The second convolution\r\n",
        "        tf.keras.layers.Conv2D(128, (3,3), activation='relu'),\r\n",
        "        tf.keras.layers.MaxPooling2D(2,2),\r\n",
        "        tf.keras.layers.Dropout(0.2),\r\n",
        "        # The third convolution\r\n",
        "        tf.keras.layers.Conv2D(128, (3,3), activation='relu'),\r\n",
        "        tf.keras.layers.MaxPooling2D(2,2),\r\n",
        "        tf.keras.layers.Dropout(0.2),\r\n",
        "        # The fourth convolution\r\n",
        "        tf.keras.layers.Conv2D(128, (3,3), activation='relu'),\r\n",
        "        tf.keras.layers.MaxPooling2D(2,2),\r\n",
        "        tf.keras.layers.Dropout(0.2),\r\n",
        "        # Flatten the results to feed into a DNN\r\n",
        "        tf.keras.layers.Flatten(),\r\n",
        "        # 512 neuron hidden layer\r\n",
        "        tf.keras.layers.Dense(512, activation='relu'),\r\n",
        "        tf.keras.layers.Dropout(0.1),\r\n",
        "        tf.keras.layers.Dense(256, activation='relu'),\r\n",
        "        tf.keras.layers.Dropout(0.1),\r\n",
        "        tf.keras.layers.Dense(128, activation='relu'),\r\n",
        "        # Only 1 output neuron. It will contain a value from 0-1 where 0 means ship and 1 means iceberg\r\n",
        "        tf.keras.layers.Dense(1, activation='sigmoid')\r\n",
        "    ])\r\n",
        "    \r\n",
        "    return model\r\n"
      ],
      "execution_count": 13,
      "outputs": []
    },
    {
      "cell_type": "markdown",
      "metadata": {
        "id": "L201kFHYaTJj"
      },
      "source": [
        "# Train with the chosen model"
      ]
    },
    {
      "cell_type": "code",
      "metadata": {
        "id": "a5dz1-TYdmGv"
      },
      "source": [
        "model = CNN()\r\n",
        "model.compile(loss='binary_crossentropy',\r\n",
        "              optimizer=keras.optimizers.Adam(lr=0.001, decay=0.0),\r\n",
        "              metrics=['accuracy'])"
      ],
      "execution_count": 14,
      "outputs": []
    },
    {
      "cell_type": "code",
      "metadata": {
        "colab": {
          "base_uri": "https://localhost:8080/"
        },
        "id": "HayyWYF5d5ON",
        "outputId": "1241459f-4182-4ee2-8ded-455a3904d847"
      },
      "source": [
        "history = model.fit(\r\n",
        "      train_generator,\r\n",
        "      #steps_per_epoch=10,  \r\n",
        "      epochs=200,\r\n",
        "      verbose=1,\r\n",
        "      validation_data = dev_generator)#,\r\n",
        "      #validation_steps=10)"
      ],
      "execution_count": 18,
      "outputs": [
        {
          "output_type": "stream",
          "text": [
            "Epoch 1/200\n",
            "41/41 [==============================] - 2s 49ms/step - loss: 0.3701 - accuracy: 0.8114 - val_loss: 0.3439 - val_accuracy: 0.8474\n",
            "Epoch 2/200\n",
            "41/41 [==============================] - 2s 48ms/step - loss: 0.3557 - accuracy: 0.8184 - val_loss: 0.3890 - val_accuracy: 0.8193\n",
            "Epoch 3/200\n",
            "41/41 [==============================] - 2s 47ms/step - loss: 0.3960 - accuracy: 0.8090 - val_loss: 0.3670 - val_accuracy: 0.8224\n",
            "Epoch 4/200\n",
            "41/41 [==============================] - 2s 47ms/step - loss: 0.3819 - accuracy: 0.8122 - val_loss: 0.3590 - val_accuracy: 0.8318\n",
            "Epoch 5/200\n",
            "41/41 [==============================] - 2s 48ms/step - loss: 0.3800 - accuracy: 0.8192 - val_loss: 0.3448 - val_accuracy: 0.8442\n",
            "Epoch 6/200\n",
            "41/41 [==============================] - 2s 48ms/step - loss: 0.3625 - accuracy: 0.8254 - val_loss: 0.3443 - val_accuracy: 0.8474\n",
            "Epoch 7/200\n",
            "41/41 [==============================] - 2s 47ms/step - loss: 0.3606 - accuracy: 0.8285 - val_loss: 0.3415 - val_accuracy: 0.8411\n",
            "Epoch 8/200\n",
            "41/41 [==============================] - 2s 48ms/step - loss: 0.3483 - accuracy: 0.8410 - val_loss: 0.3348 - val_accuracy: 0.8380\n",
            "Epoch 9/200\n",
            "41/41 [==============================] - 2s 47ms/step - loss: 0.3552 - accuracy: 0.8254 - val_loss: 0.3566 - val_accuracy: 0.8380\n",
            "Epoch 10/200\n",
            "41/41 [==============================] - 2s 48ms/step - loss: 0.3526 - accuracy: 0.8301 - val_loss: 0.3899 - val_accuracy: 0.8224\n",
            "Epoch 11/200\n",
            "41/41 [==============================] - 2s 47ms/step - loss: 0.3696 - accuracy: 0.8246 - val_loss: 0.3748 - val_accuracy: 0.8287\n",
            "Epoch 12/200\n",
            "41/41 [==============================] - 2s 48ms/step - loss: 0.3736 - accuracy: 0.8168 - val_loss: 0.3530 - val_accuracy: 0.8349\n",
            "Epoch 13/200\n",
            "41/41 [==============================] - 2s 48ms/step - loss: 0.3623 - accuracy: 0.8262 - val_loss: 0.3430 - val_accuracy: 0.8442\n",
            "Epoch 14/200\n",
            "41/41 [==============================] - 2s 47ms/step - loss: 0.3586 - accuracy: 0.8223 - val_loss: 0.3678 - val_accuracy: 0.8131\n",
            "Epoch 15/200\n",
            "41/41 [==============================] - 2s 47ms/step - loss: 0.3535 - accuracy: 0.8355 - val_loss: 0.3499 - val_accuracy: 0.8442\n",
            "Epoch 16/200\n",
            "41/41 [==============================] - 2s 47ms/step - loss: 0.3622 - accuracy: 0.8137 - val_loss: 0.3767 - val_accuracy: 0.8131\n",
            "Epoch 17/200\n",
            "41/41 [==============================] - 2s 49ms/step - loss: 0.3603 - accuracy: 0.8316 - val_loss: 0.3347 - val_accuracy: 0.8505\n",
            "Epoch 18/200\n",
            "41/41 [==============================] - 2s 48ms/step - loss: 0.3432 - accuracy: 0.8418 - val_loss: 0.3586 - val_accuracy: 0.8505\n",
            "Epoch 19/200\n",
            "41/41 [==============================] - 2s 49ms/step - loss: 0.3463 - accuracy: 0.8293 - val_loss: 0.3539 - val_accuracy: 0.8505\n",
            "Epoch 20/200\n",
            "41/41 [==============================] - 2s 48ms/step - loss: 0.3574 - accuracy: 0.8309 - val_loss: 0.3487 - val_accuracy: 0.8255\n",
            "Epoch 21/200\n",
            "41/41 [==============================] - 2s 48ms/step - loss: 0.3561 - accuracy: 0.8371 - val_loss: 0.3472 - val_accuracy: 0.8474\n",
            "Epoch 22/200\n",
            "41/41 [==============================] - 2s 48ms/step - loss: 0.3848 - accuracy: 0.8184 - val_loss: 0.3398 - val_accuracy: 0.8411\n",
            "Epoch 23/200\n",
            "41/41 [==============================] - 2s 48ms/step - loss: 0.3536 - accuracy: 0.8410 - val_loss: 0.3723 - val_accuracy: 0.8380\n",
            "Epoch 24/200\n",
            "41/41 [==============================] - 2s 47ms/step - loss: 0.3403 - accuracy: 0.8355 - val_loss: 0.3416 - val_accuracy: 0.8567\n",
            "Epoch 25/200\n",
            "41/41 [==============================] - 2s 48ms/step - loss: 0.3536 - accuracy: 0.8324 - val_loss: 0.3592 - val_accuracy: 0.8224\n",
            "Epoch 26/200\n",
            "41/41 [==============================] - 2s 49ms/step - loss: 0.3436 - accuracy: 0.8441 - val_loss: 0.3673 - val_accuracy: 0.8349\n",
            "Epoch 27/200\n",
            "41/41 [==============================] - 2s 49ms/step - loss: 0.3647 - accuracy: 0.8239 - val_loss: 0.3442 - val_accuracy: 0.8536\n",
            "Epoch 28/200\n",
            "41/41 [==============================] - 2s 48ms/step - loss: 0.3385 - accuracy: 0.8340 - val_loss: 0.3794 - val_accuracy: 0.8162\n",
            "Epoch 29/200\n",
            "41/41 [==============================] - 2s 49ms/step - loss: 0.3498 - accuracy: 0.8340 - val_loss: 0.3318 - val_accuracy: 0.8567\n",
            "Epoch 30/200\n",
            "41/41 [==============================] - 2s 47ms/step - loss: 0.3479 - accuracy: 0.8340 - val_loss: 0.3843 - val_accuracy: 0.8287\n",
            "Epoch 31/200\n",
            "41/41 [==============================] - 2s 48ms/step - loss: 0.3519 - accuracy: 0.8379 - val_loss: 0.3261 - val_accuracy: 0.8536\n",
            "Epoch 32/200\n",
            "41/41 [==============================] - 2s 48ms/step - loss: 0.3372 - accuracy: 0.8465 - val_loss: 0.3803 - val_accuracy: 0.8318\n",
            "Epoch 33/200\n",
            "41/41 [==============================] - 2s 50ms/step - loss: 0.3816 - accuracy: 0.8153 - val_loss: 0.3467 - val_accuracy: 0.8567\n",
            "Epoch 34/200\n",
            "41/41 [==============================] - 2s 48ms/step - loss: 0.3298 - accuracy: 0.8402 - val_loss: 0.3506 - val_accuracy: 0.8287\n",
            "Epoch 35/200\n",
            "41/41 [==============================] - 2s 47ms/step - loss: 0.3452 - accuracy: 0.8270 - val_loss: 0.3588 - val_accuracy: 0.8411\n",
            "Epoch 36/200\n",
            "41/41 [==============================] - 2s 48ms/step - loss: 0.3508 - accuracy: 0.8340 - val_loss: 0.3319 - val_accuracy: 0.8380\n",
            "Epoch 37/200\n",
            "41/41 [==============================] - 2s 47ms/step - loss: 0.3913 - accuracy: 0.8114 - val_loss: 0.3564 - val_accuracy: 0.8474\n",
            "Epoch 38/200\n",
            "41/41 [==============================] - 2s 48ms/step - loss: 0.3492 - accuracy: 0.8277 - val_loss: 0.3843 - val_accuracy: 0.8255\n",
            "Epoch 39/200\n",
            "41/41 [==============================] - 2s 48ms/step - loss: 0.3309 - accuracy: 0.8387 - val_loss: 0.3496 - val_accuracy: 0.8380\n",
            "Epoch 40/200\n",
            "41/41 [==============================] - 2s 47ms/step - loss: 0.3535 - accuracy: 0.8332 - val_loss: 0.3257 - val_accuracy: 0.8536\n",
            "Epoch 41/200\n",
            "41/41 [==============================] - 2s 48ms/step - loss: 0.3250 - accuracy: 0.8394 - val_loss: 0.3816 - val_accuracy: 0.8380\n",
            "Epoch 42/200\n",
            "41/41 [==============================] - 2s 48ms/step - loss: 0.3309 - accuracy: 0.8527 - val_loss: 0.4002 - val_accuracy: 0.8318\n",
            "Epoch 43/200\n",
            "41/41 [==============================] - 2s 48ms/step - loss: 0.3393 - accuracy: 0.8387 - val_loss: 0.3359 - val_accuracy: 0.8536\n",
            "Epoch 44/200\n",
            "41/41 [==============================] - 2s 49ms/step - loss: 0.3287 - accuracy: 0.8348 - val_loss: 0.3893 - val_accuracy: 0.8380\n",
            "Epoch 45/200\n",
            "41/41 [==============================] - 2s 47ms/step - loss: 0.3616 - accuracy: 0.8231 - val_loss: 0.3691 - val_accuracy: 0.8505\n",
            "Epoch 46/200\n",
            "41/41 [==============================] - 2s 47ms/step - loss: 0.3479 - accuracy: 0.8418 - val_loss: 0.3443 - val_accuracy: 0.8411\n",
            "Epoch 47/200\n",
            "41/41 [==============================] - 2s 48ms/step - loss: 0.3384 - accuracy: 0.8465 - val_loss: 0.3641 - val_accuracy: 0.8442\n",
            "Epoch 48/200\n",
            "41/41 [==============================] - 2s 48ms/step - loss: 0.3591 - accuracy: 0.8161 - val_loss: 0.3856 - val_accuracy: 0.8380\n",
            "Epoch 49/200\n",
            "41/41 [==============================] - 2s 48ms/step - loss: 0.3758 - accuracy: 0.8293 - val_loss: 0.3787 - val_accuracy: 0.8224\n",
            "Epoch 50/200\n",
            "41/41 [==============================] - 2s 48ms/step - loss: 0.3476 - accuracy: 0.8324 - val_loss: 0.3429 - val_accuracy: 0.8567\n",
            "Epoch 51/200\n",
            "41/41 [==============================] - 2s 48ms/step - loss: 0.3340 - accuracy: 0.8379 - val_loss: 0.3663 - val_accuracy: 0.8411\n",
            "Epoch 52/200\n",
            "41/41 [==============================] - 2s 48ms/step - loss: 0.3447 - accuracy: 0.8394 - val_loss: 0.3385 - val_accuracy: 0.8567\n",
            "Epoch 53/200\n",
            "41/41 [==============================] - 2s 48ms/step - loss: 0.3533 - accuracy: 0.8262 - val_loss: 0.3245 - val_accuracy: 0.8567\n",
            "Epoch 54/200\n",
            "41/41 [==============================] - 2s 48ms/step - loss: 0.3573 - accuracy: 0.8441 - val_loss: 0.3640 - val_accuracy: 0.8318\n",
            "Epoch 55/200\n",
            "41/41 [==============================] - 2s 48ms/step - loss: 0.3306 - accuracy: 0.8480 - val_loss: 0.3426 - val_accuracy: 0.8505\n",
            "Epoch 56/200\n",
            "41/41 [==============================] - 2s 48ms/step - loss: 0.3362 - accuracy: 0.8433 - val_loss: 0.3579 - val_accuracy: 0.8349\n",
            "Epoch 57/200\n",
            "41/41 [==============================] - 2s 48ms/step - loss: 0.3526 - accuracy: 0.8379 - val_loss: 0.3548 - val_accuracy: 0.8442\n",
            "Epoch 58/200\n",
            "41/41 [==============================] - 2s 49ms/step - loss: 0.3405 - accuracy: 0.8379 - val_loss: 0.3382 - val_accuracy: 0.8474\n",
            "Epoch 59/200\n",
            "41/41 [==============================] - 2s 49ms/step - loss: 0.3337 - accuracy: 0.8410 - val_loss: 0.3611 - val_accuracy: 0.8474\n",
            "Epoch 60/200\n",
            "41/41 [==============================] - 2s 49ms/step - loss: 0.3479 - accuracy: 0.8394 - val_loss: 0.3415 - val_accuracy: 0.8380\n",
            "Epoch 61/200\n",
            "41/41 [==============================] - 2s 49ms/step - loss: 0.3474 - accuracy: 0.8418 - val_loss: 0.4099 - val_accuracy: 0.7975\n",
            "Epoch 62/200\n",
            "41/41 [==============================] - 2s 48ms/step - loss: 0.3411 - accuracy: 0.8426 - val_loss: 0.4051 - val_accuracy: 0.8193\n",
            "Epoch 63/200\n",
            "41/41 [==============================] - 2s 48ms/step - loss: 0.3464 - accuracy: 0.8379 - val_loss: 0.4074 - val_accuracy: 0.8255\n",
            "Epoch 64/200\n",
            "41/41 [==============================] - 2s 48ms/step - loss: 0.3448 - accuracy: 0.8285 - val_loss: 0.3693 - val_accuracy: 0.8287\n",
            "Epoch 65/200\n",
            "41/41 [==============================] - 2s 47ms/step - loss: 0.3377 - accuracy: 0.8340 - val_loss: 0.3447 - val_accuracy: 0.8567\n",
            "Epoch 66/200\n",
            "41/41 [==============================] - 2s 48ms/step - loss: 0.3264 - accuracy: 0.8394 - val_loss: 0.3368 - val_accuracy: 0.8505\n",
            "Epoch 67/200\n",
            "41/41 [==============================] - 2s 47ms/step - loss: 0.3358 - accuracy: 0.8472 - val_loss: 0.3303 - val_accuracy: 0.8536\n",
            "Epoch 68/200\n",
            "41/41 [==============================] - 2s 47ms/step - loss: 0.3595 - accuracy: 0.8301 - val_loss: 0.3122 - val_accuracy: 0.8598\n",
            "Epoch 69/200\n",
            "41/41 [==============================] - 2s 48ms/step - loss: 0.3242 - accuracy: 0.8511 - val_loss: 0.3350 - val_accuracy: 0.8442\n",
            "Epoch 70/200\n",
            "41/41 [==============================] - 2s 48ms/step - loss: 0.3328 - accuracy: 0.8371 - val_loss: 0.3631 - val_accuracy: 0.8349\n",
            "Epoch 71/200\n",
            "41/41 [==============================] - 2s 48ms/step - loss: 0.3246 - accuracy: 0.8402 - val_loss: 0.3395 - val_accuracy: 0.8411\n",
            "Epoch 72/200\n",
            "41/41 [==============================] - 2s 48ms/step - loss: 0.3415 - accuracy: 0.8410 - val_loss: 0.3519 - val_accuracy: 0.8567\n",
            "Epoch 73/200\n",
            "41/41 [==============================] - 2s 48ms/step - loss: 0.3436 - accuracy: 0.8254 - val_loss: 0.3875 - val_accuracy: 0.8318\n",
            "Epoch 74/200\n",
            "41/41 [==============================] - 2s 48ms/step - loss: 0.3510 - accuracy: 0.8316 - val_loss: 0.3505 - val_accuracy: 0.8474\n",
            "Epoch 75/200\n",
            "41/41 [==============================] - 2s 49ms/step - loss: 0.3439 - accuracy: 0.8153 - val_loss: 0.3511 - val_accuracy: 0.8442\n",
            "Epoch 76/200\n",
            "41/41 [==============================] - 2s 48ms/step - loss: 0.3236 - accuracy: 0.8363 - val_loss: 0.3949 - val_accuracy: 0.8162\n",
            "Epoch 77/200\n",
            "41/41 [==============================] - 2s 48ms/step - loss: 0.3304 - accuracy: 0.8488 - val_loss: 0.4119 - val_accuracy: 0.8380\n",
            "Epoch 78/200\n",
            "41/41 [==============================] - 2s 48ms/step - loss: 0.3492 - accuracy: 0.8293 - val_loss: 0.3734 - val_accuracy: 0.8442\n",
            "Epoch 79/200\n",
            "41/41 [==============================] - 2s 48ms/step - loss: 0.3398 - accuracy: 0.8433 - val_loss: 0.3560 - val_accuracy: 0.8100\n",
            "Epoch 80/200\n",
            "41/41 [==============================] - 2s 47ms/step - loss: 0.3373 - accuracy: 0.8472 - val_loss: 0.3499 - val_accuracy: 0.8442\n",
            "Epoch 81/200\n",
            "41/41 [==============================] - 2s 47ms/step - loss: 0.3271 - accuracy: 0.8519 - val_loss: 0.3595 - val_accuracy: 0.8505\n",
            "Epoch 82/200\n",
            "41/41 [==============================] - 2s 48ms/step - loss: 0.3616 - accuracy: 0.8277 - val_loss: 0.3625 - val_accuracy: 0.8349\n",
            "Epoch 83/200\n",
            "41/41 [==============================] - 2s 48ms/step - loss: 0.3323 - accuracy: 0.8348 - val_loss: 0.3584 - val_accuracy: 0.8474\n",
            "Epoch 84/200\n",
            "41/41 [==============================] - 2s 48ms/step - loss: 0.3342 - accuracy: 0.8472 - val_loss: 0.3679 - val_accuracy: 0.8505\n",
            "Epoch 85/200\n",
            "41/41 [==============================] - 2s 48ms/step - loss: 0.3510 - accuracy: 0.8348 - val_loss: 0.3361 - val_accuracy: 0.8474\n",
            "Epoch 86/200\n",
            "41/41 [==============================] - 2s 49ms/step - loss: 0.3441 - accuracy: 0.8231 - val_loss: 0.3559 - val_accuracy: 0.8318\n",
            "Epoch 87/200\n",
            "41/41 [==============================] - 2s 48ms/step - loss: 0.3461 - accuracy: 0.8215 - val_loss: 0.3603 - val_accuracy: 0.8255\n",
            "Epoch 88/200\n",
            "41/41 [==============================] - 2s 48ms/step - loss: 0.3269 - accuracy: 0.8480 - val_loss: 0.3216 - val_accuracy: 0.8629\n",
            "Epoch 89/200\n",
            "41/41 [==============================] - 2s 48ms/step - loss: 0.3452 - accuracy: 0.8239 - val_loss: 0.3793 - val_accuracy: 0.8318\n",
            "Epoch 90/200\n",
            "41/41 [==============================] - 2s 47ms/step - loss: 0.3206 - accuracy: 0.8387 - val_loss: 0.3616 - val_accuracy: 0.8567\n",
            "Epoch 91/200\n",
            "41/41 [==============================] - 2s 48ms/step - loss: 0.3443 - accuracy: 0.8418 - val_loss: 0.4168 - val_accuracy: 0.8131\n",
            "Epoch 92/200\n",
            "41/41 [==============================] - 2s 49ms/step - loss: 0.3630 - accuracy: 0.8355 - val_loss: 0.3739 - val_accuracy: 0.8442\n",
            "Epoch 93/200\n",
            "41/41 [==============================] - 2s 47ms/step - loss: 0.3394 - accuracy: 0.8316 - val_loss: 0.3631 - val_accuracy: 0.8411\n",
            "Epoch 94/200\n",
            "41/41 [==============================] - 2s 47ms/step - loss: 0.3442 - accuracy: 0.8426 - val_loss: 0.3616 - val_accuracy: 0.8255\n",
            "Epoch 95/200\n",
            "41/41 [==============================] - 2s 48ms/step - loss: 0.3361 - accuracy: 0.8426 - val_loss: 0.3925 - val_accuracy: 0.8193\n",
            "Epoch 96/200\n",
            "41/41 [==============================] - 2s 48ms/step - loss: 0.3264 - accuracy: 0.8535 - val_loss: 0.3290 - val_accuracy: 0.8567\n",
            "Epoch 97/200\n",
            "41/41 [==============================] - 2s 48ms/step - loss: 0.3401 - accuracy: 0.8379 - val_loss: 0.3320 - val_accuracy: 0.8411\n",
            "Epoch 98/200\n",
            "41/41 [==============================] - 2s 49ms/step - loss: 0.3538 - accuracy: 0.8340 - val_loss: 0.3441 - val_accuracy: 0.8411\n",
            "Epoch 99/200\n",
            "41/41 [==============================] - 2s 48ms/step - loss: 0.3452 - accuracy: 0.8262 - val_loss: 0.3259 - val_accuracy: 0.8567\n",
            "Epoch 100/200\n",
            "41/41 [==============================] - 2s 48ms/step - loss: 0.3464 - accuracy: 0.8316 - val_loss: 0.3519 - val_accuracy: 0.8505\n",
            "Epoch 101/200\n",
            "41/41 [==============================] - 2s 48ms/step - loss: 0.3312 - accuracy: 0.8410 - val_loss: 0.3868 - val_accuracy: 0.8318\n",
            "Epoch 102/200\n",
            "41/41 [==============================] - 2s 48ms/step - loss: 0.3321 - accuracy: 0.8418 - val_loss: 0.4047 - val_accuracy: 0.8037\n",
            "Epoch 103/200\n",
            "41/41 [==============================] - 2s 48ms/step - loss: 0.3267 - accuracy: 0.8363 - val_loss: 0.3332 - val_accuracy: 0.8442\n",
            "Epoch 104/200\n",
            "41/41 [==============================] - 2s 48ms/step - loss: 0.3262 - accuracy: 0.8410 - val_loss: 0.3367 - val_accuracy: 0.8318\n",
            "Epoch 105/200\n",
            "41/41 [==============================] - 2s 48ms/step - loss: 0.3336 - accuracy: 0.8472 - val_loss: 0.3943 - val_accuracy: 0.8193\n",
            "Epoch 106/200\n",
            "41/41 [==============================] - 2s 48ms/step - loss: 0.3396 - accuracy: 0.8449 - val_loss: 0.4126 - val_accuracy: 0.8131\n",
            "Epoch 107/200\n",
            "41/41 [==============================] - 2s 48ms/step - loss: 0.3358 - accuracy: 0.8161 - val_loss: 0.3526 - val_accuracy: 0.8442\n",
            "Epoch 108/200\n",
            "41/41 [==============================] - 2s 49ms/step - loss: 0.3222 - accuracy: 0.8620 - val_loss: 0.4290 - val_accuracy: 0.8224\n",
            "Epoch 109/200\n",
            "41/41 [==============================] - 2s 48ms/step - loss: 0.3554 - accuracy: 0.8277 - val_loss: 0.4976 - val_accuracy: 0.7788\n",
            "Epoch 110/200\n",
            "41/41 [==============================] - 2s 48ms/step - loss: 0.3389 - accuracy: 0.8301 - val_loss: 0.3460 - val_accuracy: 0.8349\n",
            "Epoch 111/200\n",
            "41/41 [==============================] - 2s 48ms/step - loss: 0.3147 - accuracy: 0.8496 - val_loss: 0.3634 - val_accuracy: 0.8442\n",
            "Epoch 112/200\n",
            "41/41 [==============================] - 2s 48ms/step - loss: 0.3235 - accuracy: 0.8324 - val_loss: 0.3323 - val_accuracy: 0.8349\n",
            "Epoch 113/200\n",
            "41/41 [==============================] - 2s 48ms/step - loss: 0.3484 - accuracy: 0.8340 - val_loss: 0.3260 - val_accuracy: 0.8536\n",
            "Epoch 114/200\n",
            "41/41 [==============================] - 2s 48ms/step - loss: 0.3160 - accuracy: 0.8457 - val_loss: 0.3381 - val_accuracy: 0.8411\n",
            "Epoch 115/200\n",
            "41/41 [==============================] - 2s 47ms/step - loss: 0.3549 - accuracy: 0.8371 - val_loss: 0.3356 - val_accuracy: 0.8349\n",
            "Epoch 116/200\n",
            "41/41 [==============================] - 2s 48ms/step - loss: 0.3574 - accuracy: 0.8371 - val_loss: 0.3222 - val_accuracy: 0.8692\n",
            "Epoch 117/200\n",
            "41/41 [==============================] - 2s 48ms/step - loss: 0.3270 - accuracy: 0.8558 - val_loss: 0.3165 - val_accuracy: 0.8567\n",
            "Epoch 118/200\n",
            "41/41 [==============================] - 2s 48ms/step - loss: 0.3254 - accuracy: 0.8410 - val_loss: 0.3729 - val_accuracy: 0.8193\n",
            "Epoch 119/200\n",
            "41/41 [==============================] - 2s 49ms/step - loss: 0.3099 - accuracy: 0.8581 - val_loss: 0.3364 - val_accuracy: 0.8442\n",
            "Epoch 120/200\n",
            "41/41 [==============================] - 2s 51ms/step - loss: 0.3112 - accuracy: 0.8504 - val_loss: 0.3207 - val_accuracy: 0.8598\n",
            "Epoch 121/200\n",
            "41/41 [==============================] - 2s 49ms/step - loss: 0.3365 - accuracy: 0.8379 - val_loss: 0.3249 - val_accuracy: 0.8598\n",
            "Epoch 122/200\n",
            "41/41 [==============================] - 2s 49ms/step - loss: 0.3467 - accuracy: 0.8324 - val_loss: 0.3750 - val_accuracy: 0.8162\n",
            "Epoch 123/200\n",
            "41/41 [==============================] - 2s 50ms/step - loss: 0.3400 - accuracy: 0.8387 - val_loss: 0.3133 - val_accuracy: 0.8598\n",
            "Epoch 124/200\n",
            "41/41 [==============================] - 2s 49ms/step - loss: 0.3236 - accuracy: 0.8488 - val_loss: 0.3369 - val_accuracy: 0.8255\n",
            "Epoch 125/200\n",
            "41/41 [==============================] - 2s 49ms/step - loss: 0.3235 - accuracy: 0.8511 - val_loss: 0.3652 - val_accuracy: 0.8349\n",
            "Epoch 126/200\n",
            "41/41 [==============================] - 2s 48ms/step - loss: 0.3602 - accuracy: 0.8246 - val_loss: 0.5144 - val_accuracy: 0.7819\n",
            "Epoch 127/200\n",
            "41/41 [==============================] - 2s 48ms/step - loss: 0.3481 - accuracy: 0.8387 - val_loss: 0.4010 - val_accuracy: 0.8318\n",
            "Epoch 128/200\n",
            "41/41 [==============================] - 2s 48ms/step - loss: 0.3432 - accuracy: 0.8262 - val_loss: 0.3475 - val_accuracy: 0.8505\n",
            "Epoch 129/200\n",
            "41/41 [==============================] - 2s 48ms/step - loss: 0.3162 - accuracy: 0.8449 - val_loss: 0.3689 - val_accuracy: 0.8224\n",
            "Epoch 130/200\n",
            "41/41 [==============================] - 2s 48ms/step - loss: 0.3269 - accuracy: 0.8418 - val_loss: 0.3656 - val_accuracy: 0.8318\n",
            "Epoch 131/200\n",
            "41/41 [==============================] - 2s 48ms/step - loss: 0.3260 - accuracy: 0.8426 - val_loss: 0.3775 - val_accuracy: 0.8131\n",
            "Epoch 132/200\n",
            "41/41 [==============================] - 2s 48ms/step - loss: 0.3312 - accuracy: 0.8348 - val_loss: 0.3452 - val_accuracy: 0.8567\n",
            "Epoch 133/200\n",
            "41/41 [==============================] - 2s 48ms/step - loss: 0.3479 - accuracy: 0.8254 - val_loss: 0.3487 - val_accuracy: 0.8442\n",
            "Epoch 134/200\n",
            "41/41 [==============================] - 2s 48ms/step - loss: 0.3547 - accuracy: 0.8246 - val_loss: 0.3755 - val_accuracy: 0.8411\n",
            "Epoch 135/200\n",
            "41/41 [==============================] - 2s 48ms/step - loss: 0.3231 - accuracy: 0.8527 - val_loss: 0.3786 - val_accuracy: 0.8006\n",
            "Epoch 136/200\n",
            "41/41 [==============================] - 2s 48ms/step - loss: 0.3366 - accuracy: 0.8426 - val_loss: 0.4718 - val_accuracy: 0.7726\n",
            "Epoch 137/200\n",
            "41/41 [==============================] - 2s 48ms/step - loss: 0.3315 - accuracy: 0.8441 - val_loss: 0.3416 - val_accuracy: 0.8474\n",
            "Epoch 138/200\n",
            "41/41 [==============================] - 2s 48ms/step - loss: 0.3259 - accuracy: 0.8441 - val_loss: 0.3223 - val_accuracy: 0.8474\n",
            "Epoch 139/200\n",
            "41/41 [==============================] - 2s 48ms/step - loss: 0.3390 - accuracy: 0.8355 - val_loss: 0.3424 - val_accuracy: 0.8442\n",
            "Epoch 140/200\n",
            "41/41 [==============================] - 2s 48ms/step - loss: 0.3442 - accuracy: 0.8480 - val_loss: 0.3383 - val_accuracy: 0.8442\n",
            "Epoch 141/200\n",
            "41/41 [==============================] - 2s 48ms/step - loss: 0.3361 - accuracy: 0.8410 - val_loss: 0.3671 - val_accuracy: 0.8505\n",
            "Epoch 142/200\n",
            "41/41 [==============================] - 2s 49ms/step - loss: 0.3362 - accuracy: 0.8441 - val_loss: 0.3296 - val_accuracy: 0.8629\n",
            "Epoch 143/200\n",
            "41/41 [==============================] - 2s 48ms/step - loss: 0.3211 - accuracy: 0.8480 - val_loss: 0.3558 - val_accuracy: 0.8442\n",
            "Epoch 144/200\n",
            "41/41 [==============================] - 2s 48ms/step - loss: 0.3283 - accuracy: 0.8293 - val_loss: 0.3183 - val_accuracy: 0.8567\n",
            "Epoch 145/200\n",
            "41/41 [==============================] - 2s 48ms/step - loss: 0.3245 - accuracy: 0.8504 - val_loss: 0.3294 - val_accuracy: 0.8660\n",
            "Epoch 146/200\n",
            "41/41 [==============================] - 2s 48ms/step - loss: 0.3179 - accuracy: 0.8496 - val_loss: 0.3167 - val_accuracy: 0.8505\n",
            "Epoch 147/200\n",
            "41/41 [==============================] - 2s 47ms/step - loss: 0.3285 - accuracy: 0.8418 - val_loss: 0.3854 - val_accuracy: 0.8100\n",
            "Epoch 148/200\n",
            "41/41 [==============================] - 2s 49ms/step - loss: 0.3275 - accuracy: 0.8410 - val_loss: 0.3461 - val_accuracy: 0.8349\n",
            "Epoch 149/200\n",
            "41/41 [==============================] - 2s 48ms/step - loss: 0.3202 - accuracy: 0.8472 - val_loss: 0.3335 - val_accuracy: 0.8505\n",
            "Epoch 150/200\n",
            "41/41 [==============================] - 2s 48ms/step - loss: 0.3406 - accuracy: 0.8394 - val_loss: 0.3483 - val_accuracy: 0.8349\n",
            "Epoch 151/200\n",
            "41/41 [==============================] - 2s 48ms/step - loss: 0.3335 - accuracy: 0.8496 - val_loss: 0.3601 - val_accuracy: 0.7975\n",
            "Epoch 152/200\n",
            "41/41 [==============================] - 2s 48ms/step - loss: 0.3296 - accuracy: 0.8363 - val_loss: 0.3319 - val_accuracy: 0.8567\n",
            "Epoch 153/200\n",
            "41/41 [==============================] - 2s 48ms/step - loss: 0.3316 - accuracy: 0.8371 - val_loss: 0.3285 - val_accuracy: 0.8536\n",
            "Epoch 154/200\n",
            "41/41 [==============================] - 2s 48ms/step - loss: 0.3094 - accuracy: 0.8504 - val_loss: 0.3556 - val_accuracy: 0.8349\n",
            "Epoch 155/200\n",
            "41/41 [==============================] - 2s 50ms/step - loss: 0.3002 - accuracy: 0.8589 - val_loss: 0.3962 - val_accuracy: 0.8255\n",
            "Epoch 156/200\n",
            "41/41 [==============================] - 2s 50ms/step - loss: 0.3087 - accuracy: 0.8605 - val_loss: 0.3280 - val_accuracy: 0.8442\n",
            "Epoch 157/200\n",
            "41/41 [==============================] - 2s 48ms/step - loss: 0.3304 - accuracy: 0.8465 - val_loss: 0.3658 - val_accuracy: 0.8380\n",
            "Epoch 158/200\n",
            "41/41 [==============================] - 2s 48ms/step - loss: 0.3136 - accuracy: 0.8519 - val_loss: 0.3317 - val_accuracy: 0.8536\n",
            "Epoch 159/200\n",
            "41/41 [==============================] - 2s 47ms/step - loss: 0.3303 - accuracy: 0.8457 - val_loss: 0.3407 - val_accuracy: 0.8536\n",
            "Epoch 160/200\n",
            "41/41 [==============================] - 2s 48ms/step - loss: 0.3458 - accuracy: 0.8394 - val_loss: 0.3408 - val_accuracy: 0.8287\n",
            "Epoch 161/200\n",
            "41/41 [==============================] - 2s 48ms/step - loss: 0.3104 - accuracy: 0.8402 - val_loss: 0.3244 - val_accuracy: 0.8474\n",
            "Epoch 162/200\n",
            "41/41 [==============================] - 2s 48ms/step - loss: 0.3263 - accuracy: 0.8426 - val_loss: 0.3230 - val_accuracy: 0.8567\n",
            "Epoch 163/200\n",
            "41/41 [==============================] - 2s 48ms/step - loss: 0.3102 - accuracy: 0.8558 - val_loss: 0.3989 - val_accuracy: 0.8162\n",
            "Epoch 164/200\n",
            "41/41 [==============================] - 2s 48ms/step - loss: 0.3236 - accuracy: 0.8457 - val_loss: 0.3077 - val_accuracy: 0.8598\n",
            "Epoch 165/200\n",
            "41/41 [==============================] - 2s 48ms/step - loss: 0.3145 - accuracy: 0.8410 - val_loss: 0.3020 - val_accuracy: 0.8754\n",
            "Epoch 166/200\n",
            "41/41 [==============================] - 2s 48ms/step - loss: 0.3175 - accuracy: 0.8566 - val_loss: 0.3209 - val_accuracy: 0.8442\n",
            "Epoch 167/200\n",
            "41/41 [==============================] - 2s 49ms/step - loss: 0.3370 - accuracy: 0.8355 - val_loss: 0.3294 - val_accuracy: 0.8349\n",
            "Epoch 168/200\n",
            "41/41 [==============================] - 2s 49ms/step - loss: 0.3412 - accuracy: 0.8324 - val_loss: 0.3502 - val_accuracy: 0.8474\n",
            "Epoch 169/200\n",
            "41/41 [==============================] - 2s 48ms/step - loss: 0.3326 - accuracy: 0.8472 - val_loss: 0.3245 - val_accuracy: 0.8598\n",
            "Epoch 170/200\n",
            "41/41 [==============================] - 2s 48ms/step - loss: 0.3226 - accuracy: 0.8480 - val_loss: 0.3348 - val_accuracy: 0.8505\n",
            "Epoch 171/200\n",
            "41/41 [==============================] - 2s 48ms/step - loss: 0.3192 - accuracy: 0.8457 - val_loss: 0.3803 - val_accuracy: 0.8255\n",
            "Epoch 172/200\n",
            "41/41 [==============================] - 2s 49ms/step - loss: 0.3239 - accuracy: 0.8387 - val_loss: 0.3545 - val_accuracy: 0.8474\n",
            "Epoch 173/200\n",
            "41/41 [==============================] - 2s 49ms/step - loss: 0.3265 - accuracy: 0.8355 - val_loss: 0.3555 - val_accuracy: 0.8442\n",
            "Epoch 174/200\n",
            "41/41 [==============================] - 2s 48ms/step - loss: 0.3253 - accuracy: 0.8542 - val_loss: 0.3897 - val_accuracy: 0.8349\n",
            "Epoch 175/200\n",
            "41/41 [==============================] - 2s 51ms/step - loss: 0.3243 - accuracy: 0.8605 - val_loss: 0.3479 - val_accuracy: 0.8255\n",
            "Epoch 176/200\n",
            "41/41 [==============================] - 2s 48ms/step - loss: 0.3154 - accuracy: 0.8574 - val_loss: 0.3389 - val_accuracy: 0.8536\n",
            "Epoch 177/200\n",
            "41/41 [==============================] - 2s 49ms/step - loss: 0.3260 - accuracy: 0.8496 - val_loss: 0.3829 - val_accuracy: 0.8474\n",
            "Epoch 178/200\n",
            "41/41 [==============================] - 2s 49ms/step - loss: 0.3208 - accuracy: 0.8449 - val_loss: 0.3547 - val_accuracy: 0.8380\n",
            "Epoch 179/200\n",
            "41/41 [==============================] - 2s 50ms/step - loss: 0.3225 - accuracy: 0.8410 - val_loss: 0.4094 - val_accuracy: 0.8474\n",
            "Epoch 180/200\n",
            "41/41 [==============================] - 2s 49ms/step - loss: 0.3224 - accuracy: 0.8550 - val_loss: 0.3287 - val_accuracy: 0.8598\n",
            "Epoch 181/200\n",
            "41/41 [==============================] - 2s 50ms/step - loss: 0.3338 - accuracy: 0.8363 - val_loss: 0.3482 - val_accuracy: 0.8380\n",
            "Epoch 182/200\n",
            "41/41 [==============================] - 2s 50ms/step - loss: 0.3187 - accuracy: 0.8488 - val_loss: 0.3608 - val_accuracy: 0.8069\n",
            "Epoch 183/200\n",
            "41/41 [==============================] - 2s 48ms/step - loss: 0.3532 - accuracy: 0.8200 - val_loss: 0.4778 - val_accuracy: 0.7819\n",
            "Epoch 184/200\n",
            "41/41 [==============================] - 2s 48ms/step - loss: 0.4022 - accuracy: 0.7958 - val_loss: 0.4840 - val_accuracy: 0.7539\n",
            "Epoch 185/200\n",
            "41/41 [==============================] - 2s 48ms/step - loss: 0.3983 - accuracy: 0.8239 - val_loss: 0.3684 - val_accuracy: 0.8162\n",
            "Epoch 186/200\n",
            "41/41 [==============================] - 2s 50ms/step - loss: 0.3797 - accuracy: 0.8192 - val_loss: 0.3530 - val_accuracy: 0.8287\n",
            "Epoch 187/200\n",
            "41/41 [==============================] - 2s 48ms/step - loss: 0.3582 - accuracy: 0.8262 - val_loss: 0.3404 - val_accuracy: 0.8536\n",
            "Epoch 188/200\n",
            "41/41 [==============================] - 2s 49ms/step - loss: 0.3329 - accuracy: 0.8441 - val_loss: 0.3317 - val_accuracy: 0.8505\n",
            "Epoch 189/200\n",
            "41/41 [==============================] - 2s 48ms/step - loss: 0.3481 - accuracy: 0.8418 - val_loss: 0.3250 - val_accuracy: 0.8723\n",
            "Epoch 190/200\n",
            "41/41 [==============================] - 2s 48ms/step - loss: 0.3510 - accuracy: 0.8153 - val_loss: 0.4641 - val_accuracy: 0.6885\n",
            "Epoch 191/200\n",
            "41/41 [==============================] - 2s 48ms/step - loss: 0.3936 - accuracy: 0.7903 - val_loss: 0.3382 - val_accuracy: 0.8505\n",
            "Epoch 192/200\n",
            "41/41 [==============================] - 2s 48ms/step - loss: 0.3687 - accuracy: 0.8192 - val_loss: 0.3450 - val_accuracy: 0.8411\n",
            "Epoch 193/200\n",
            "41/41 [==============================] - 2s 47ms/step - loss: 0.3405 - accuracy: 0.8379 - val_loss: 0.3429 - val_accuracy: 0.8349\n",
            "Epoch 194/200\n",
            "41/41 [==============================] - 2s 49ms/step - loss: 0.3431 - accuracy: 0.8301 - val_loss: 0.3649 - val_accuracy: 0.8318\n",
            "Epoch 195/200\n",
            "41/41 [==============================] - 2s 48ms/step - loss: 0.3325 - accuracy: 0.8410 - val_loss: 0.3765 - val_accuracy: 0.8318\n",
            "Epoch 196/200\n",
            "41/41 [==============================] - 2s 48ms/step - loss: 0.3158 - accuracy: 0.8387 - val_loss: 0.3440 - val_accuracy: 0.8255\n",
            "Epoch 197/200\n",
            "41/41 [==============================] - 2s 48ms/step - loss: 0.3226 - accuracy: 0.8387 - val_loss: 0.3581 - val_accuracy: 0.8442\n",
            "Epoch 198/200\n",
            "41/41 [==============================] - 2s 48ms/step - loss: 0.3379 - accuracy: 0.8418 - val_loss: 0.3914 - val_accuracy: 0.8193\n",
            "Epoch 199/200\n",
            "41/41 [==============================] - 2s 48ms/step - loss: 0.3244 - accuracy: 0.8449 - val_loss: 0.3362 - val_accuracy: 0.8567\n",
            "Epoch 200/200\n",
            "41/41 [==============================] - 2s 48ms/step - loss: 0.3262 - accuracy: 0.8433 - val_loss: 0.3339 - val_accuracy: 0.8536\n"
          ],
          "name": "stdout"
        }
      ]
    },
    {
      "cell_type": "markdown",
      "metadata": {
        "id": "taxy4ewWeRvg"
      },
      "source": [
        "Plot the results"
      ]
    },
    {
      "cell_type": "code",
      "metadata": {
        "colab": {
          "base_uri": "https://localhost:8080/",
          "height": 549
        },
        "id": "bnMhYdiYeIou",
        "outputId": "013d1a89-ef46-4e21-962d-699a0de6f876"
      },
      "source": [
        "import matplotlib.pyplot as plt\r\n",
        "def plot_graphs(history, string):\r\n",
        "    plt.plot(history.history[string])\r\n",
        "    plt.plot(history.history['val_'+string])\r\n",
        "    plt.xlabel(\"Epochs\")\r\n",
        "    plt.ylabel(string)\r\n",
        "    plt.legend([string, 'val_'+string])\r\n",
        "    plt.ylim([0,1])\r\n",
        "    plt.grid()\r\n",
        "    plt.show()\r\n",
        "  \r\n",
        "plot_graphs(history, \"accuracy\")\r\n",
        "plot_graphs(history, \"loss\")"
      ],
      "execution_count": 19,
      "outputs": [
        {
          "output_type": "display_data",
          "data": {
            "image/png": "[encoded data removed]",
            "text/plain": [
              "<Figure size 432x288 with 1 Axes>"
            ]
          },
          "metadata": {
            "tags": [],
            "needs_background": "light"
          }
        },
        {
          "output_type": "display_data",
          "data": {
            "image/png": "[encoded data removed]",
            "text/plain": [
              "<Figure size 432x288 with 1 Axes>"
            ]
          },
          "metadata": {
            "tags": [],
            "needs_background": "light"
          }
        }
      ]
    },
    {
      "cell_type": "code",
      "metadata": {
        "id": "AhBa2F2Qzuxa"
      },
      "source": [
        ""
      ],
      "execution_count": null,
      "outputs": []
    }
  ]
}