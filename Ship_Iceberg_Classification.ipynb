{
  "nbformat": 4,
  "nbformat_minor": 0,
  "metadata": {
    "colab": {
      "name": "Ship-Iceberg-Classification.ipynb",
      "provenance": [],
      "collapsed_sections": [],
      "toc_visible": true,
      "include_colab_link": true
    },
    "kernelspec": {
      "name": "python3",
      "display_name": "Python 3"
    },
    "accelerator": "GPU"
  },
  "cells": [
    {
      "cell_type": "markdown",
      "metadata": {
        "id": "view-in-github",
        "colab_type": "text"
      },
      "source": [
        "<a href=\"https://colab.research.google.com/github/eikeschuett/IcebergShipDetection/blob/main/Ship_Iceberg_Classification.ipynb\" target=\"_parent\"><img src=\"https://colab.research.google.com/assets/colab-badge.svg\" alt=\"Open In Colab\"/></a>"
      ]
    },
    {
      "cell_type": "markdown",
      "metadata": {
        "id": "CB04L3ap90kB"
      },
      "source": [
        "# Overview\r\n",
        "\r\n"
      ]
    },
    {
      "cell_type": "markdown",
      "metadata": {
        "id": "YBiMoIuv-MeS"
      },
      "source": [
        "**Topic**: Iceberg and ship detection with satellite imagery\r\n",
        "\r\n",
        "**Goal**: This project is aimed at building an algorithm for the detcetion of ships and icebergs in Sentinel-1 SAR imagery. Desired output is a map, which shows the locations of icebergs, ships and unidentified objects.\r\n",
        "\r\n",
        "**Details**: The dataset used for training is obtained from a Kaggle challenge, [Statoil/C-CORE Iceberg Classifier](https://www.kaggle.com/c/statoil-iceberg-classifier-challenge). Each image has 75x75 pixels with two bands from HH and HV polarisations and contains a ship or an iceberg. This dataset will be used to train a CNN. After training the classification model, we will use Sentinel-1 SAR images to show the \"real world application\" of our model. The satellite images will be pre-processed with the Sentinel Application Platform (SNAP) Python API. We will then identify bright objects within each satellite image. A 75x75 subset of the radar image will be made for each object and fed into our classification model. Finally, the results will be plotted on a map."
      ]
    },
    {
      "cell_type": "markdown",
      "metadata": {
        "id": "uZMTYjbf--yh"
      },
      "source": [
        "# Dataset\r\n",
        "This project used the satellite SAR imagery provided by Kaggle challeng , [Statoil/C-CORE Iceberg Classifier](https://www.kaggle.com/c/statoil-iceberg-classifier-challenge).\r\n",
        "The dataset information is saved in the json file containing the following fields (see Table 1):\r\n",
        "* id: the id of the image \r\n",
        "* band_1 & band_2: the flattened image data. Each band has 75x75 pixel values in the list. The values are float numbers with unit being dB with the physical meaning of backscatter coefficient, $\\sigma^0$. band_1 and band_2 represent for HH-polarisation and HV polarisation, respectively (see Figure 1 below for having an idea of how the image looks like).\r\n",
        "* inc_angle: the incidence angle (see Figure 2). This field has missing data mark as \"na\", in our project, we gave the \"na\" a default value of 30°.\r\n",
        "* is_iceberg: the target variable, set to 1 if it is an iceberg, and 0 if it is a ship. \r\n",
        "\r\n",
        "> **Table 1**: A glimpse of `train.json` file <br>\r\n",
        "\r\n",
        "| id |band_1 | band_2 | inc_angle | is_iceberg |\r\n",
        "| --------- | ---- | ---------------- | --------------- | ---------------- |\r\n",
        "|dfd5f913 |\t[-27.878360999999998, -27.15416, -28.668615, -... |\t[-27.154118, -29.537888, -31.0306, -32.190483,... |\t43.9239 |\t0 |\r\n",
        "|e25388fd |\t[-12.242375, -14.920304999999999, -14.920363, ... |\t[-31.506321, -27.984554, -26.645678, -23.76760... |\t38.1562 | 0 |\r\n",
        "|58b2aaa0 |\t[-24.603676, -24.603714, -24.871029, -23.15277... |\t[-24.870956, -24.092632, -20.653963, -19.41104... |\t45.2859 |\t1 |\r\n",
        "|4cfc3a18 |\t[-22.454607, -23.082819, -23.998013, -23.99805... |\t[-27.889421, -27.519794, -27.165262, -29.10350... |\t43.8306 |\t0 |\r\n",
        "|271f93f4 |\t[-26.006956, -23.164886, -23.164886, -26.89116... |\t[-27.206915, -30.259186, -30.259186, -23.16495... |\t35.6256 |\t0 |\r\n",
        "\r\n",
        "\r\n",
        "\r\n",
        "As the field is_iceberg only exists in `train.json` but not `test.json`, this project only used `train.json` and separated the dataset into training, validation and test datasets with the proportion of $7:2:1$.\r\n"
      ]
    },
    {
      "cell_type": "code",
      "metadata": {
        "colab": {
          "base_uri": "https://localhost:8080/",
          "height": 304
        },
        "id": "dliQt8BsVetG",
        "outputId": "847d4455-407e-46d4-edf2-24a43ffcb863"
      },
      "source": [
        "%%html\r\n",
        "<iframe src=\"https://drive.google.com/file/d/1P3Fw8GYdbHHk16IKPeiocJtAOvYDRYy2/preview\" width=\"640\" height=\"280\" border=\"0\"></iframe>"
      ],
      "execution_count": 210,
      "outputs": [
        {
          "output_type": "display_data",
          "data": {
            "text/html": [
              "<iframe src=\"https://drive.google.com/file/d/1P3Fw8GYdbHHk16IKPeiocJtAOvYDRYy2/preview\" width=\"640\" height=\"280\" border=\"0\"></iframe>"
            ],
            "text/plain": [
              "<IPython.core.display.HTML object>"
            ]
          },
          "metadata": {
            "tags": []
          }
        }
      ]
    },
    {
      "cell_type": "markdown",
      "metadata": {
        "id": "u8AQmax-VxSJ"
      },
      "source": [
        "> **Figure 1**: Example for SAR image with HH and HV polarisations."
      ]
    },
    {
      "cell_type": "code",
      "metadata": {
        "colab": {
          "base_uri": "https://localhost:8080/",
          "height": 220
        },
        "id": "DkNOK49qWNFE",
        "outputId": "99d20339-c86d-412c-e158-9e2a9fe83e83"
      },
      "source": [
        "%%html\r\n",
        "<IMG SRC=\"https://earth.esa.int/handbooks/asar/aux-files/ephimg-10418557.gif\" border=\"0\"></a>"
      ],
      "execution_count": 208,
      "outputs": [
        {
          "output_type": "display_data",
          "data": {
            "text/html": [
              "<IMG SRC=\"https://earth.esa.int/handbooks/asar/aux-files/ephimg-10418557.gif\" border=\"0\"></a>"
            ],
            "text/plain": [
              "<IPython.core.display.HTML object>"
            ]
          },
          "metadata": {
            "tags": []
          }
        }
      ]
    },
    {
      "cell_type": "markdown",
      "metadata": {
        "id": "A8B3LXcXWs5X"
      },
      "source": [
        "> **Figure 2**: Illustration of incidence angle (source: [ESA earthnet](https://earth.esa.int/handbooks/asar/CNTR5-5.html))."
      ]
    },
    {
      "cell_type": "markdown",
      "metadata": {
        "id": "0IOOgCqBsIEc"
      },
      "source": [
        "# Method\r\n"
      ]
    },
    {
      "cell_type": "markdown",
      "metadata": {
        "id": "dVVU_d2DJRsg"
      },
      "source": [
        "## Normalization\r\n",
        "\r\n",
        "This study applied incidence angle normalization method [(Topouzelis et al., 2016)](https://www.degruyter.com/view/journals/geo/8/1/article-p450.xml?tab_body=abstract) to normalize the backscatter coefficient from band_1 (HH) and band_2 (HV) using:\r\n",
        "\r\n",
        "$\\sigma_{\\theta, norm}^0=\\dfrac{\\sigma_\\theta^0+(0.766\\theta-31.638)}{2}$\r\n",
        "\r\n",
        "where<br>\r\n",
        "> $\\theta$: incidence angle<br>\r\n",
        "> $\\sigma^0_\\theta$: backscatter coefficient at incidence angle $\\theta$<br>\r\n",
        "\r\n"
      ]
    },
    {
      "cell_type": "markdown",
      "metadata": {
        "id": "h4IJiknjcdQb"
      },
      "source": [
        "## Total Backscatter\r\n",
        "The total backscatter was then calculated by  $H = HH + HV$.<br>\r\n",
        "It was then used as band_3 in this project."
      ]
    },
    {
      "cell_type": "markdown",
      "metadata": {
        "id": "P7cD8n-v_dO_"
      },
      "source": [
        "# Outline"
      ]
    },
    {
      "cell_type": "markdown",
      "metadata": {
        "id": "j0G9SQkF_wmL"
      },
      "source": [
        "1. Download the Kaggle dataset to Google Drive with Kaggle API\r\n",
        "2. Build up the CNN architecture for training\r\n",
        "3. Train the model\r\n",
        "4. Test with real world data"
      ]
    },
    {
      "cell_type": "markdown",
      "metadata": {
        "id": "pzMSXZrJ-FxP"
      },
      "source": [
        "# Download the Kaggle dataset to Google Drive"
      ]
    },
    {
      "cell_type": "markdown",
      "metadata": {
        "id": "ujLLd0OSAgmQ"
      },
      "source": [
        "Following the steps: https://www.kaggle.com/general/74235"
      ]
    },
    {
      "cell_type": "code",
      "metadata": {
        "id": "E61WKpV0AleF"
      },
      "source": [
        "!pip install -q kaggle"
      ],
      "execution_count": null,
      "outputs": []
    },
    {
      "cell_type": "code",
      "metadata": {
        "id": "DIiXpRt7AqmF"
      },
      "source": [
        "from google.colab import drive\r\n",
        "drive.mount('/content/drive')"
      ],
      "execution_count": null,
      "outputs": []
    },
    {
      "cell_type": "code",
      "metadata": {
        "id": "xsfFhcEeArP3"
      },
      "source": [
        "%cd /content/drive/MyDrive/"
      ],
      "execution_count": null,
      "outputs": []
    },
    {
      "cell_type": "markdown",
      "metadata": {
        "id": "wcG9TqahAv2v"
      },
      "source": [
        "Go to your account in Kaggle, scroll to API section and click  on \"Create New API Token\". Then, the file `kaggle.json` will be downloaded into your local drive, upload it with `files.upload()`."
      ]
    },
    {
      "cell_type": "code",
      "metadata": {
        "id": "FFVwzFnqAs19"
      },
      "source": [
        "from google.colab import files\r\n",
        "files.upload()"
      ],
      "execution_count": null,
      "outputs": []
    },
    {
      "cell_type": "markdown",
      "metadata": {
        "id": "8AKDX1AzA1MS"
      },
      "source": [
        "Make directory named kaggle and copy `kaggle.json` file there."
      ]
    },
    {
      "cell_type": "code",
      "metadata": {
        "id": "uN5i3dioA06X"
      },
      "source": [
        "!mkdir -p kaggle\r\n",
        "!mv kaggle.json kaggle\r\n",
        "%cd kaggle/"
      ],
      "execution_count": null,
      "outputs": []
    },
    {
      "cell_type": "markdown",
      "metadata": {
        "id": "jP4Ea28oBBeJ"
      },
      "source": [
        "Download the data to the directory `/content/drive/MyDrive/kaggle/data`"
      ]
    },
    {
      "cell_type": "code",
      "metadata": {
        "id": "weNuBtKvAzAw"
      },
      "source": [
        "!mkdir -p data\r\n",
        "%cd data\r\n",
        "!kaggle competitions download -c carvana-image-masking-challenge"
      ],
      "execution_count": null,
      "outputs": []
    },
    {
      "cell_type": "markdown",
      "metadata": {
        "id": "GW8FHXaABlBF"
      },
      "source": [
        "Unzip the *.7z file with the build-in command."
      ]
    },
    {
      "cell_type": "code",
      "metadata": {
        "id": "pf1dBHd9BmLX"
      },
      "source": [
        "!7z e test.json.7z \r\n",
        "!7z e train.json.7z \r\n",
        "!7z e sample_submission.csv.7z "
      ],
      "execution_count": null,
      "outputs": []
    },
    {
      "cell_type": "markdown",
      "metadata": {
        "id": "_tv5TlsJBOsk"
      },
      "source": [
        "Folder Structure on Google Drive\r\n",
        "```\r\n",
        "MyDrive/\r\n",
        "    kaggle/\r\n",
        "        data/\r\n",
        "            train.json.7z\r\n",
        "            test.json.7z\r\n",
        "            sample_submission.csv.7z\r\n",
        "            train.json\r\n",
        "            test.json\r\n",
        "            sample_submission.csv\r\n",
        "```\r\n",
        "\r\n",
        "Note that `test.json` data doesn't contain the label `is_iceberg`, so this project only use `train.json` and split the data into training, validation and test data."
      ]
    },
    {
      "cell_type": "markdown",
      "metadata": {
        "id": "S3-idFr__Fc1"
      },
      "source": [
        "# Build up the CNN Architecture"
      ]
    },
    {
      "cell_type": "markdown",
      "metadata": {
        "id": "yJf9Ot-ECfpw"
      },
      "source": [
        "Import the libraries"
      ]
    },
    {
      "cell_type": "code",
      "metadata": {
        "id": "Wp_u7zwvt_jw"
      },
      "source": [
        "import numpy as np # linear algebra\r\n",
        "np.random.seed(666)\r\n",
        "import pandas as pd # data processing, CSV file I/O (e.g. pd.read_csv)\r\n",
        "from sklearn.model_selection import train_test_split\r\n",
        "from subprocess import check_output\r\n",
        "from matplotlib import pyplot\r\n",
        "from tensorflow.keras.preprocessing.image import ImageDataGenerator\r\n",
        "from tensorflow.keras.models import Sequential\r\n",
        "from tensorflow.keras.layers import Conv2D, MaxPooling2D, Dense, Dropout, Input, Flatten\r\n",
        "from tensorflow.keras.layers import GlobalMaxPooling2D\r\n",
        "from keras.layers.normalization import BatchNormalization\r\n",
        "from keras.layers.merge import Concatenate\r\n",
        "from tensorflow.keras.models import Model\r\n",
        "from tensorflow.keras.optimizers import Adam, SGD\r\n",
        "from tensorflow.keras.callbacks import ModelCheckpoint, Callback, EarlyStopping\r\n",
        "import matplotlib.pyplot as plt\r\n",
        "from scipy.ndimage.filters import uniform_filter\r\n",
        "from scipy.ndimage.measurements import variance"
      ],
      "execution_count": 319,
      "outputs": []
    },
    {
      "cell_type": "code",
      "metadata": {
        "colab": {
          "base_uri": "https://localhost:8080/"
        },
        "id": "7nYBzmT4uDBU",
        "outputId": "28accd68-c3b2-4c68-bb7d-fab039c18a4b"
      },
      "source": [
        "from google.colab import drive\r\n",
        "\r\n",
        "drive.mount('/content/drive')\r\n",
        "data = pd.read_json('/content/drive/MyDrive/kaggle/data/train.json')\r\n",
        "\r\n",
        "data.inc_angle = data.inc_angle.replace('na', np.nan)"
      ],
      "execution_count": 336,
      "outputs": [
        {
          "output_type": "stream",
          "text": [
            "Drive already mounted at /content/drive; to attempt to forcibly remount, call drive.mount(\"/content/drive\", force_remount=True).\n"
          ],
          "name": "stdout"
        }
      ]
    },
    {
      "cell_type": "code",
      "metadata": {
        "id": "Z8dsJe-5tMev"
      },
      "source": [
        "import matplotlib as mpl\r\n",
        "from mpl_toolkits.axes_grid1 import make_axes_locatable\r\n",
        "def plot_img1(sig_nought, vmin, vmax):\r\n",
        "    \"\"\"\r\n",
        "    :type sig_nought: np.ndarray(np.float)\r\n",
        "    \"\"\"\r\n",
        "    plt.imshow(sig_nought, cmap = plt.cm.Greys, \r\n",
        "                    norm = mpl.colors.Normalize(vmin=vmin, vmax=vmax))\r\n",
        "\r\n",
        "    cbar = plt.colorbar()\r\n",
        "    cbar.set_label('[dB]')\r\n",
        "    plt.show()\r\n",
        "\r\n",
        "def plot_img2(sig_nought, sig_nought_n):\r\n",
        "    \"\"\"\r\n",
        "    :type sig_nought: np.ndarray(np.float)\r\n",
        "    :type sig_nought_n: np.ndarray(np.float)\r\n",
        "    \"\"\"\r\n",
        "    vmax=np.ceil(max(np.max(sig_nought),np.max(sig_nought_n)))\r\n",
        "    vmin=np.floor(min(np.min(sig_nought),np.min(sig_nought_n)))\r\n",
        "\r\n",
        "    fig, axes = plt.subplots(nrows=1, ncols=2)\r\n",
        "    im = axes[0].imshow(sig_nought, cmap = plt.cm.Greys, \r\n",
        "                   norm = mpl.colors.Normalize(vmin=vmin, vmax=vmax))\r\n",
        "    axes[1].imshow(sig_nought_n, cmap = plt.cm.Greys, \r\n",
        "                   norm = mpl.colors.Normalize(vmin=vmin, vmax=vmax))\r\n",
        "    \r\n",
        "    fig.subplots_adjust(right=0.8)\r\n",
        "    cbar_ax = fig.add_axes([0.85, 0.25, 0.05, 0.5])\r\n",
        "    cbar = fig.colorbar(im, cax=cbar_ax)\r\n",
        "    cbar.set_label('[dB]')\r\n",
        "    plt.show()\r\n"
      ],
      "execution_count": 337,
      "outputs": []
    },
    {
      "cell_type": "code",
      "metadata": {
        "id": "OzAKZG0RuZ2b"
      },
      "source": [
        "def lee_filter(img, size):\r\n",
        "    # From here: https://stackoverflow.com/questions/39785970/speckle-lee-filter-in-python\r\n",
        "    img_mean = uniform_filter(img, (size, size))\r\n",
        "    img_sqr_mean = uniform_filter(img**2, (size, size))\r\n",
        "    img_variance = img_sqr_mean - img_mean**2\r\n",
        "\r\n",
        "    overall_variance = variance(img)\r\n",
        "\r\n",
        "    img_weights = img_variance / (img_variance + overall_variance)\r\n",
        "    img_output = img_mean + img_weights * (img - img_mean)\r\n",
        "    return img_output"
      ],
      "execution_count": 338,
      "outputs": []
    },
    {
      "cell_type": "code",
      "metadata": {
        "id": "-H2mmI2nN-ey"
      },
      "source": [
        "def normalize(sig_nought, inc_angle, default_inc = None):\r\n",
        "    \"\"\"\r\n",
        "    :type sig_nought: np.ndarray(np.float)\r\n",
        "    :type inc_angle: float\r\n",
        "    :rtype: np.ndarray(np.float)\r\n",
        "    \"\"\"\r\n",
        "    \r\n",
        "    if np.isnan(inc_angle):\r\n",
        "        if default_inc != None:\r\n",
        "            inc_angle = default_inc\r\n",
        "            sig_nought_n = (sig_nought + 0.766 * inc_angle - 31.638) / 2\r\n",
        "        else:\r\n",
        "            sig_nought_n = sig_nought\r\n",
        "    else:\r\n",
        "        sig_nought_n = (sig_nought + 0.766 * inc_angle - 31.638) / 2\r\n",
        "\r\n",
        "    return sig_nought_n\r\n"
      ],
      "execution_count": 339,
      "outputs": []
    },
    {
      "cell_type": "code",
      "metadata": {
        "id": "uqww4ARyuabj"
      },
      "source": [
        "def prepare_data(data):\r\n",
        "    x_angle = np.array(data[\"inc_angle\"])\r\n",
        "\r\n",
        "    # Get the labels (y-values)\r\n",
        "    labels = np.array(data[\"is_iceberg\"])\r\n",
        "\r\n",
        "    # Create empty list for the images\r\n",
        "    imgs = []\r\n",
        "    cpr = []\r\n",
        "    for i, row in data.iterrows():\r\n",
        "        # Reshape list to image\r\n",
        "        hh  = np.reshape(row[\"band_1\"], (75, 75))\r\n",
        "        hv  = np.reshape(row[\"band_2\"], (75, 75))\r\n",
        "\r\n",
        "        # normalize hh and hv using inc_angle (x_angle[i])\r\n",
        "        # with default inc_angle = 30  # if np.isnan(inc_angle)\r\n",
        "        hh = normalize(hh, row[\"inc_angle\"], 30)\r\n",
        "        hv = normalize(hv, row[\"inc_angle\"], 30)\r\n",
        "\r\n",
        "        # total backscatter = hh + hv\r\n",
        "        b3 = hh + hv\r\n",
        "        # cross polarisation ratio = hv / (hh+hv)\r\n",
        "        #c3 = hv / b3\r\n",
        "\r\n",
        "        # \r\n",
        "        hh = lee_filter(hh, 20)\r\n",
        "        hv = lee_filter(hv, 20)\r\n",
        "        b3 = lee_filter(b3, 20)      \r\n",
        "        #c3 = lee_filter(c3, 20) \r\n",
        "          \r\n",
        "        # Rescale images between 0 and 1 for faster convergence rate\r\n",
        "        hh = (hh - hh.min())/(hh.max()-hh.min())\r\n",
        "        hv = (hv - hv.min())/(hv.max()-hv.min())\r\n",
        "        b3 = (b3 - b3.min())/(b3.max()-b3.min())\r\n",
        "        \r\n",
        "        # Stack the bands and append them to imgs\r\n",
        "        #imgs.append(np.dstack((hh, hv, b3, c3)))\r\n",
        "        imgs.append(np.dstack((hh, hv, b3)))\r\n",
        "    \r\n",
        "    \r\n",
        "    # Split dataset into training (70%) and validation (30 %)                             \r\n",
        "    x_train, x_val, y_train, y_val = train_test_split(imgs, labels,\r\n",
        "                                                     test_size=0.3,\r\n",
        "                                                     random_state=0)\r\n",
        "    # Then split validation dataset into validation (20 %) and testing (10 %)\r\n",
        "    x_val, x_test, y_val, y_test = train_test_split(x_val, y_val,\r\n",
        "                                                     test_size=(1/3),\r\n",
        "                                                     random_state=0)                               \r\n",
        "    x_train = np.array(x_train)\r\n",
        "    x_test = np.array(x_test)\r\n",
        "    x_val = np.array(x_val)\r\n",
        "    \r\n",
        "    return x_train, x_val, x_test, y_train, y_val, y_test"
      ],
      "execution_count": 340,
      "outputs": []
    },
    {
      "cell_type": "code",
      "metadata": {
        "colab": {
          "base_uri": "https://localhost:8080/"
        },
        "id": "28CxgXc60t2u",
        "outputId": "bc5ce165-3764-4ace-94e7-bc2696a1c4aa"
      },
      "source": [
        "x_train, x_val, x_test, y_train, y_val, y_test = prepare_data(data)\r\n",
        "\r\n",
        "print(\"Number of samples for training: %i (%.2f%%)\"%(len(x_train), round(len(x_train)/len(data)*100)))\r\n",
        "print(\"Number of samples for validation: %i (%.2f%%)\"%(len(x_val), round(len(x_val)/len(data)*100)))\r\n",
        "print(\"Number of samples for testing: %i (%.2f%%)\"%(len(x_test), round(len(x_test)/len(data)*100)))"
      ],
      "execution_count": 341,
      "outputs": [
        {
          "output_type": "stream",
          "text": [
            "Number of samples for training: 1122 (70.00%)\n",
            "Number of samples for validation: 321 (20.00%)\n",
            "Number of samples for testing: 161 (10.00%)\n"
          ],
          "name": "stdout"
        }
      ]
    },
    {
      "cell_type": "code",
      "metadata": {
        "id": "LCyj6yw9fRAJ"
      },
      "source": [
        "batch_size = 32\r\n",
        "gen = ImageDataGenerator(\r\n",
        "    rotation_range = 90,\r\n",
        "    width_shift_range = 0.2,\r\n",
        "    height_shift_range = 0.2,\r\n",
        "    shear_range = 0.2,\r\n",
        "    zoom_range = 0.2,\r\n",
        "    horizontal_flip = True,\r\n",
        "    fill_mode = 'nearest')\r\n",
        "\r\n",
        "gen_flow = gen.flow(x_train, y_train, batch_size = batch_size, seed = 666)\r\n"
      ],
      "execution_count": 342,
      "outputs": []
    },
    {
      "cell_type": "code",
      "metadata": {
        "id": "lVC3fO7Hw5Uv",
        "colab": {
          "base_uri": "https://localhost:8080/"
        },
        "outputId": "e6f86c8a-7651-4151-a307-360f94525c8a"
      },
      "source": [
        "def create_model(optimizer):\r\n",
        "    ac_fct      = \"relu\"\r\n",
        "    #momentum    = 0\r\n",
        "\r\n",
        "    input_img   = Input(shape=(75, 75, 3), name=\"X_img\")\r\n",
        "    #input_img   = Input(shape=(75, 75, 4), name=\"X_img\")\r\n",
        "    #input_angle = Input(shape=[1], name=\"angle\")\r\n",
        "\r\n",
        "    #cnn = BatchNormalization()(input_img)\r\n",
        "    cnn = Conv2D(16, kernel_size=(3,3), activation = \"relu\")(input_img)\r\n",
        "    #cnn = Conv2D(16, kernel_size=(3,3), activation = \"relu\")(cnn)\r\n",
        "    cnn = MaxPooling2D((2,2))(cnn)\r\n",
        "    cnn = Dropout(0.1) (cnn)\r\n",
        "\r\n",
        "    cnn = Conv2D(32, kernel_size=(3,3), activation = \"relu\")(cnn)\r\n",
        "    #cnn = Conv2D(32, kernel_size=(3,3), activation = \"relu\")(cnn)\r\n",
        "    cnn = MaxPooling2D((2,2))(cnn)\r\n",
        "    cnn = Dropout(0.1)(cnn)\r\n",
        "\r\n",
        "    cnn = Conv2D(64, kernel_size=(3,3), activation = \"relu\")(cnn)\r\n",
        "    #cnn = Conv2D(64, kernel_size=(3,3), activation = \"relu\") (cnn)\r\n",
        "    cnn = MaxPooling2D((2,2))(cnn)\r\n",
        "    cnn = Dropout(0.1)(cnn)  \r\n",
        "\r\n",
        "    cnn = Conv2D(128, kernel_size=(3,3), activation = \"relu\")(cnn)\r\n",
        "    cnn = Conv2D(128, kernel_size=(3,3), activation = \"relu\") (cnn)\r\n",
        "    cnn = MaxPooling2D((2,2))(cnn)\r\n",
        "    cnn = Dropout(0.1)(cnn)  \r\n",
        "    \r\n",
        "\r\n",
        "    cnn = GlobalMaxPooling2D()(cnn)\r\n",
        "\r\n",
        "    #angle = BatchNormalization(momentum=0)(input_angle)\r\n",
        "    #angle = Lambda(lambda x: (x - 25)/(45-25))(input_angle)\r\n",
        "    \r\n",
        "    #concat = (Concatenate()([cnn, angle]))\r\n",
        "\r\n",
        "    #dense = Dense(32, activation=\"relu\") (concat)\r\n",
        "    dense = Dense(32, activation=\"relu\")(cnn)\r\n",
        "    # dense = BatchNormalization() (dense)\r\n",
        "    # dense = Dropout(0.2)(dense)\r\n",
        "    \r\n",
        "    #dense = Dense(128, activation=\"relu\") (dense)\r\n",
        "    #dense = BatchNormalization() (dense)\r\n",
        "    #dense = Dropout(0.2)(dense)\r\n",
        "\r\n",
        "    #dense = Dense(128, activation=\"relu\") (dense)\r\n",
        "    #dense = BatchNormalization() (dense)\r\n",
        "    #dense = Dropout(0.2)(dense)\r\n",
        "\r\n",
        "    output = Dense(1, activation=\"sigmoid\")(dense)\r\n",
        "\r\n",
        "    #model = Model([input_img, input_angle], output)\r\n",
        "    model = Model(input_img, output)\r\n",
        "    #optimizer = Adam(lr=0.1, epsilon=1e-08, decay=0.0)\r\n",
        "    model.compile(loss=\"binary_crossentropy\", optimizer=optimizer, metrics=[\"accuracy\"])\r\n",
        "    return model\r\n",
        "\r\n",
        "epochs = 150\r\n",
        "# learning_rate = 0.1\r\n",
        "# decay_rate = learning_rate / epochs\r\n",
        "# momentum = 0.8\r\n",
        "# sgd = SGD(lr=learning_rate, momentum=momentum, decay=decay_rate, nesterov=False)\r\n",
        "\r\n",
        "# from keras.optimizers import Adadelta\r\n",
        "model = create_model(optimizer = Adam())\r\n",
        "model.summary()"
      ],
      "execution_count": 349,
      "outputs": [
        {
          "output_type": "stream",
          "text": [
            "Model: \"model_13\"\n",
            "_________________________________________________________________\n",
            "Layer (type)                 Output Shape              Param #   \n",
            "=================================================================\n",
            "X_img (InputLayer)           [(None, 75, 75, 3)]       0         \n",
            "_________________________________________________________________\n",
            "conv2d_85 (Conv2D)           (None, 73, 73, 16)        448       \n",
            "_________________________________________________________________\n",
            "max_pooling2d_68 (MaxPooling (None, 36, 36, 16)        0         \n",
            "_________________________________________________________________\n",
            "dropout_68 (Dropout)         (None, 36, 36, 16)        0         \n",
            "_________________________________________________________________\n",
            "conv2d_86 (Conv2D)           (None, 34, 34, 32)        4640      \n",
            "_________________________________________________________________\n",
            "max_pooling2d_69 (MaxPooling (None, 17, 17, 32)        0         \n",
            "_________________________________________________________________\n",
            "dropout_69 (Dropout)         (None, 17, 17, 32)        0         \n",
            "_________________________________________________________________\n",
            "conv2d_87 (Conv2D)           (None, 15, 15, 64)        18496     \n",
            "_________________________________________________________________\n",
            "max_pooling2d_70 (MaxPooling (None, 7, 7, 64)          0         \n",
            "_________________________________________________________________\n",
            "dropout_70 (Dropout)         (None, 7, 7, 64)          0         \n",
            "_________________________________________________________________\n",
            "conv2d_88 (Conv2D)           (None, 5, 5, 128)         73856     \n",
            "_________________________________________________________________\n",
            "conv2d_89 (Conv2D)           (None, 3, 3, 128)         147584    \n",
            "_________________________________________________________________\n",
            "max_pooling2d_71 (MaxPooling (None, 1, 1, 128)         0         \n",
            "_________________________________________________________________\n",
            "dropout_71 (Dropout)         (None, 1, 1, 128)         0         \n",
            "_________________________________________________________________\n",
            "global_max_pooling2d_17 (Glo (None, 128)               0         \n",
            "_________________________________________________________________\n",
            "dense_29 (Dense)             (None, 32)                4128      \n",
            "_________________________________________________________________\n",
            "dense_30 (Dense)             (None, 1)                 33        \n",
            "=================================================================\n",
            "Total params: 249,185\n",
            "Trainable params: 249,185\n",
            "Non-trainable params: 0\n",
            "_________________________________________________________________\n"
          ],
          "name": "stdout"
        }
      ]
    },
    {
      "cell_type": "markdown",
      "metadata": {
        "id": "IpDHGNPh1KSV"
      },
      "source": [
        "# Train the Model"
      ]
    },
    {
      "cell_type": "code",
      "metadata": {
        "colab": {
          "base_uri": "https://localhost:8080/"
        },
        "id": "BJbwtdGeNO02",
        "outputId": "d75db1aa-3f01-4834-e631-5d20ad973ea0"
      },
      "source": [
        "history = model.fit(gen_flow, validation_data=(x_val, y_val),\r\n",
        "                    steps_per_epoch=len(x_train) / batch_size, epochs=epochs)\r\n"
      ],
      "execution_count": 350,
      "outputs": [
        {
          "output_type": "stream",
          "text": [
            "Epoch 1/150\n",
            "35/35 [==============================] - 2s 49ms/step - loss: 0.6927 - accuracy: 0.5363 - val_loss: 0.6812 - val_accuracy: 0.5109\n",
            "Epoch 2/150\n",
            "35/35 [==============================] - 2s 44ms/step - loss: 0.6840 - accuracy: 0.5661 - val_loss: 0.6277 - val_accuracy: 0.5701\n",
            "Epoch 3/150\n",
            "35/35 [==============================] - 2s 44ms/step - loss: 0.6254 - accuracy: 0.6310 - val_loss: 0.5931 - val_accuracy: 0.7040\n",
            "Epoch 4/150\n",
            "35/35 [==============================] - 2s 44ms/step - loss: 0.6028 - accuracy: 0.6379 - val_loss: 0.6336 - val_accuracy: 0.7009\n",
            "Epoch 5/150\n",
            "35/35 [==============================] - 2s 44ms/step - loss: 0.6162 - accuracy: 0.6149 - val_loss: 0.5565 - val_accuracy: 0.7040\n",
            "Epoch 6/150\n",
            "35/35 [==============================] - 2s 44ms/step - loss: 0.5859 - accuracy: 0.6577 - val_loss: 0.5472 - val_accuracy: 0.7259\n",
            "Epoch 7/150\n",
            "35/35 [==============================] - 2s 45ms/step - loss: 0.5677 - accuracy: 0.6935 - val_loss: 0.5526 - val_accuracy: 0.7321\n",
            "Epoch 8/150\n",
            "35/35 [==============================] - 2s 44ms/step - loss: 0.5600 - accuracy: 0.6993 - val_loss: 0.5513 - val_accuracy: 0.7414\n",
            "Epoch 9/150\n",
            "35/35 [==============================] - 2s 44ms/step - loss: 0.5464 - accuracy: 0.7061 - val_loss: 0.6116 - val_accuracy: 0.7383\n",
            "Epoch 10/150\n",
            "35/35 [==============================] - 2s 43ms/step - loss: 0.5784 - accuracy: 0.6893 - val_loss: 0.5371 - val_accuracy: 0.7414\n",
            "Epoch 11/150\n",
            "35/35 [==============================] - 2s 44ms/step - loss: 0.5424 - accuracy: 0.7212 - val_loss: 0.5185 - val_accuracy: 0.7570\n",
            "Epoch 12/150\n",
            "35/35 [==============================] - 2s 44ms/step - loss: 0.5353 - accuracy: 0.7321 - val_loss: 0.4930 - val_accuracy: 0.8100\n",
            "Epoch 13/150\n",
            "35/35 [==============================] - 3s 78ms/step - loss: 0.4990 - accuracy: 0.7658 - val_loss: 0.4907 - val_accuracy: 0.7788\n",
            "Epoch 14/150\n",
            "35/35 [==============================] - 2s 44ms/step - loss: 0.4823 - accuracy: 0.7637 - val_loss: 0.4728 - val_accuracy: 0.8037\n",
            "Epoch 15/150\n",
            "35/35 [==============================] - 2s 43ms/step - loss: 0.4636 - accuracy: 0.7824 - val_loss: 0.4701 - val_accuracy: 0.7944\n",
            "Epoch 16/150\n",
            "35/35 [==============================] - 2s 44ms/step - loss: 0.4682 - accuracy: 0.8037 - val_loss: 0.4493 - val_accuracy: 0.7882\n",
            "Epoch 17/150\n",
            "35/35 [==============================] - 2s 44ms/step - loss: 0.4424 - accuracy: 0.7984 - val_loss: 0.4392 - val_accuracy: 0.8006\n",
            "Epoch 18/150\n",
            "35/35 [==============================] - 2s 44ms/step - loss: 0.4702 - accuracy: 0.7883 - val_loss: 0.4152 - val_accuracy: 0.8006\n",
            "Epoch 19/150\n",
            "35/35 [==============================] - 2s 44ms/step - loss: 0.4346 - accuracy: 0.7866 - val_loss: 0.4447 - val_accuracy: 0.7975\n",
            "Epoch 20/150\n",
            "35/35 [==============================] - 2s 45ms/step - loss: 0.4433 - accuracy: 0.7698 - val_loss: 0.4091 - val_accuracy: 0.8100\n",
            "Epoch 21/150\n",
            "35/35 [==============================] - 2s 44ms/step - loss: 0.4624 - accuracy: 0.7715 - val_loss: 0.3977 - val_accuracy: 0.8100\n",
            "Epoch 22/150\n",
            "35/35 [==============================] - 2s 44ms/step - loss: 0.4232 - accuracy: 0.7915 - val_loss: 0.4415 - val_accuracy: 0.8131\n",
            "Epoch 23/150\n",
            "35/35 [==============================] - 2s 44ms/step - loss: 0.4778 - accuracy: 0.7656 - val_loss: 0.4637 - val_accuracy: 0.7695\n",
            "Epoch 24/150\n",
            "35/35 [==============================] - 2s 44ms/step - loss: 0.4013 - accuracy: 0.8008 - val_loss: 0.4077 - val_accuracy: 0.8037\n",
            "Epoch 25/150\n",
            "35/35 [==============================] - 2s 44ms/step - loss: 0.4157 - accuracy: 0.8079 - val_loss: 0.3973 - val_accuracy: 0.8131\n",
            "Epoch 26/150\n",
            "35/35 [==============================] - 2s 44ms/step - loss: 0.4028 - accuracy: 0.8076 - val_loss: 0.4183 - val_accuracy: 0.8255\n",
            "Epoch 27/150\n",
            "35/35 [==============================] - 2s 44ms/step - loss: 0.4159 - accuracy: 0.7878 - val_loss: 0.3969 - val_accuracy: 0.8162\n",
            "Epoch 28/150\n",
            "35/35 [==============================] - 2s 44ms/step - loss: 0.4196 - accuracy: 0.7954 - val_loss: 0.4187 - val_accuracy: 0.8069\n",
            "Epoch 29/150\n",
            "35/35 [==============================] - 2s 44ms/step - loss: 0.3922 - accuracy: 0.7981 - val_loss: 0.4372 - val_accuracy: 0.7726\n",
            "Epoch 30/150\n",
            "35/35 [==============================] - 2s 44ms/step - loss: 0.4391 - accuracy: 0.7698 - val_loss: 0.4049 - val_accuracy: 0.8069\n",
            "Epoch 31/150\n",
            "35/35 [==============================] - 2s 44ms/step - loss: 0.3684 - accuracy: 0.8075 - val_loss: 0.4099 - val_accuracy: 0.8255\n",
            "Epoch 32/150\n",
            "35/35 [==============================] - 2s 44ms/step - loss: 0.4221 - accuracy: 0.8030 - val_loss: 0.4122 - val_accuracy: 0.8318\n",
            "Epoch 33/150\n",
            "35/35 [==============================] - 2s 44ms/step - loss: 0.4233 - accuracy: 0.7987 - val_loss: 0.3757 - val_accuracy: 0.8287\n",
            "Epoch 34/150\n",
            "35/35 [==============================] - 2s 45ms/step - loss: 0.3963 - accuracy: 0.8173 - val_loss: 0.4773 - val_accuracy: 0.7726\n",
            "Epoch 35/150\n",
            "35/35 [==============================] - 2s 45ms/step - loss: 0.3667 - accuracy: 0.8283 - val_loss: 0.3860 - val_accuracy: 0.8318\n",
            "Epoch 36/150\n",
            "35/35 [==============================] - 2s 44ms/step - loss: 0.3620 - accuracy: 0.8451 - val_loss: 0.3971 - val_accuracy: 0.8224\n",
            "Epoch 37/150\n",
            "35/35 [==============================] - 2s 44ms/step - loss: 0.3820 - accuracy: 0.8334 - val_loss: 0.4111 - val_accuracy: 0.8162\n",
            "Epoch 38/150\n",
            "35/35 [==============================] - 2s 44ms/step - loss: 0.3731 - accuracy: 0.8242 - val_loss: 0.3916 - val_accuracy: 0.8069\n",
            "Epoch 39/150\n",
            "35/35 [==============================] - 2s 44ms/step - loss: 0.3794 - accuracy: 0.8145 - val_loss: 0.4020 - val_accuracy: 0.8131\n",
            "Epoch 40/150\n",
            "35/35 [==============================] - 2s 45ms/step - loss: 0.4071 - accuracy: 0.7990 - val_loss: 0.4387 - val_accuracy: 0.7632\n",
            "Epoch 41/150\n",
            "35/35 [==============================] - 2s 44ms/step - loss: 0.4293 - accuracy: 0.7721 - val_loss: 0.3768 - val_accuracy: 0.8442\n",
            "Epoch 42/150\n",
            "35/35 [==============================] - 2s 44ms/step - loss: 0.3619 - accuracy: 0.8468 - val_loss: 0.3913 - val_accuracy: 0.8287\n",
            "Epoch 43/150\n",
            "35/35 [==============================] - 2s 44ms/step - loss: 0.3244 - accuracy: 0.8516 - val_loss: 0.3939 - val_accuracy: 0.7975\n",
            "Epoch 44/150\n",
            "35/35 [==============================] - 2s 44ms/step - loss: 0.4282 - accuracy: 0.7761 - val_loss: 0.3546 - val_accuracy: 0.8318\n",
            "Epoch 45/150\n",
            "35/35 [==============================] - 2s 44ms/step - loss: 0.3965 - accuracy: 0.8108 - val_loss: 0.4273 - val_accuracy: 0.7944\n",
            "Epoch 46/150\n",
            "35/35 [==============================] - 2s 44ms/step - loss: 0.4018 - accuracy: 0.8020 - val_loss: 0.4114 - val_accuracy: 0.7913\n",
            "Epoch 47/150\n",
            "35/35 [==============================] - 2s 44ms/step - loss: 0.3692 - accuracy: 0.8068 - val_loss: 0.4685 - val_accuracy: 0.7726\n",
            "Epoch 48/150\n",
            "35/35 [==============================] - 2s 44ms/step - loss: 0.3940 - accuracy: 0.7985 - val_loss: 0.3779 - val_accuracy: 0.8069\n",
            "Epoch 49/150\n",
            "35/35 [==============================] - 2s 45ms/step - loss: 0.3373 - accuracy: 0.8390 - val_loss: 0.3740 - val_accuracy: 0.8442\n",
            "Epoch 50/150\n",
            "35/35 [==============================] - 2s 44ms/step - loss: 0.3996 - accuracy: 0.8153 - val_loss: 0.3926 - val_accuracy: 0.8224\n",
            "Epoch 51/150\n",
            "35/35 [==============================] - 2s 44ms/step - loss: 0.3869 - accuracy: 0.8405 - val_loss: 0.4101 - val_accuracy: 0.7882\n",
            "Epoch 52/150\n",
            "35/35 [==============================] - 2s 44ms/step - loss: 0.3844 - accuracy: 0.8187 - val_loss: 0.3659 - val_accuracy: 0.8224\n",
            "Epoch 53/150\n",
            "35/35 [==============================] - 2s 44ms/step - loss: 0.4123 - accuracy: 0.8219 - val_loss: 0.3718 - val_accuracy: 0.8193\n",
            "Epoch 54/150\n",
            "35/35 [==============================] - 2s 45ms/step - loss: 0.3838 - accuracy: 0.8227 - val_loss: 0.3723 - val_accuracy: 0.8287\n",
            "Epoch 55/150\n",
            "35/35 [==============================] - 2s 46ms/step - loss: 0.3918 - accuracy: 0.8243 - val_loss: 0.3769 - val_accuracy: 0.8131\n",
            "Epoch 56/150\n",
            "35/35 [==============================] - 2s 44ms/step - loss: 0.3909 - accuracy: 0.8190 - val_loss: 0.3581 - val_accuracy: 0.8411\n",
            "Epoch 57/150\n",
            "35/35 [==============================] - 2s 45ms/step - loss: 0.3887 - accuracy: 0.8086 - val_loss: 0.3529 - val_accuracy: 0.8131\n",
            "Epoch 58/150\n",
            "35/35 [==============================] - 2s 44ms/step - loss: 0.3753 - accuracy: 0.8367 - val_loss: 0.3974 - val_accuracy: 0.8069\n",
            "Epoch 59/150\n",
            "35/35 [==============================] - 2s 47ms/step - loss: 0.3513 - accuracy: 0.8284 - val_loss: 0.3762 - val_accuracy: 0.8193\n",
            "Epoch 60/150\n",
            "35/35 [==============================] - 2s 45ms/step - loss: 0.3700 - accuracy: 0.8513 - val_loss: 0.3808 - val_accuracy: 0.8037\n",
            "Epoch 61/150\n",
            "35/35 [==============================] - 2s 44ms/step - loss: 0.3406 - accuracy: 0.8505 - val_loss: 0.3900 - val_accuracy: 0.8162\n",
            "Epoch 62/150\n",
            "35/35 [==============================] - 2s 44ms/step - loss: 0.3562 - accuracy: 0.8431 - val_loss: 0.3686 - val_accuracy: 0.8287\n",
            "Epoch 63/150\n",
            "35/35 [==============================] - 2s 44ms/step - loss: 0.3499 - accuracy: 0.8338 - val_loss: 0.3604 - val_accuracy: 0.8193\n",
            "Epoch 64/150\n",
            "35/35 [==============================] - 2s 44ms/step - loss: 0.3414 - accuracy: 0.8333 - val_loss: 0.3714 - val_accuracy: 0.8131\n",
            "Epoch 65/150\n",
            "35/35 [==============================] - 2s 44ms/step - loss: 0.3469 - accuracy: 0.8422 - val_loss: 0.3972 - val_accuracy: 0.8006\n",
            "Epoch 66/150\n",
            "35/35 [==============================] - 2s 44ms/step - loss: 0.4193 - accuracy: 0.8035 - val_loss: 0.3524 - val_accuracy: 0.8442\n",
            "Epoch 67/150\n",
            "35/35 [==============================] - 2s 45ms/step - loss: 0.3461 - accuracy: 0.8416 - val_loss: 0.3686 - val_accuracy: 0.8411\n",
            "Epoch 68/150\n",
            "35/35 [==============================] - 2s 45ms/step - loss: 0.3279 - accuracy: 0.8497 - val_loss: 0.3684 - val_accuracy: 0.8162\n",
            "Epoch 69/150\n",
            "35/35 [==============================] - 3s 75ms/step - loss: 0.3204 - accuracy: 0.8552 - val_loss: 0.3712 - val_accuracy: 0.8255\n",
            "Epoch 70/150\n",
            "35/35 [==============================] - 2s 44ms/step - loss: 0.3319 - accuracy: 0.8438 - val_loss: 0.3684 - val_accuracy: 0.8349\n",
            "Epoch 71/150\n",
            "35/35 [==============================] - 2s 44ms/step - loss: 0.3457 - accuracy: 0.8379 - val_loss: 0.3566 - val_accuracy: 0.8598\n",
            "Epoch 72/150\n",
            "35/35 [==============================] - 2s 44ms/step - loss: 0.3650 - accuracy: 0.8210 - val_loss: 0.3634 - val_accuracy: 0.8442\n",
            "Epoch 73/150\n",
            "35/35 [==============================] - 2s 45ms/step - loss: 0.3538 - accuracy: 0.8303 - val_loss: 0.3672 - val_accuracy: 0.8349\n",
            "Epoch 74/150\n",
            "35/35 [==============================] - 2s 44ms/step - loss: 0.3561 - accuracy: 0.8412 - val_loss: 0.3513 - val_accuracy: 0.8442\n",
            "Epoch 75/150\n",
            "35/35 [==============================] - 2s 44ms/step - loss: 0.3234 - accuracy: 0.8628 - val_loss: 0.3687 - val_accuracy: 0.8162\n",
            "Epoch 76/150\n",
            "35/35 [==============================] - 2s 44ms/step - loss: 0.3453 - accuracy: 0.8274 - val_loss: 0.3864 - val_accuracy: 0.8224\n",
            "Epoch 77/150\n",
            "35/35 [==============================] - 2s 44ms/step - loss: 0.3376 - accuracy: 0.8251 - val_loss: 0.3588 - val_accuracy: 0.8411\n",
            "Epoch 78/150\n",
            "35/35 [==============================] - 2s 44ms/step - loss: 0.4074 - accuracy: 0.8178 - val_loss: 0.3561 - val_accuracy: 0.8536\n",
            "Epoch 79/150\n",
            "35/35 [==============================] - 2s 45ms/step - loss: 0.3605 - accuracy: 0.8394 - val_loss: 0.3747 - val_accuracy: 0.8380\n",
            "Epoch 80/150\n",
            "35/35 [==============================] - 2s 45ms/step - loss: 0.3430 - accuracy: 0.8424 - val_loss: 0.3704 - val_accuracy: 0.8162\n",
            "Epoch 81/150\n",
            "35/35 [==============================] - 2s 44ms/step - loss: 0.3556 - accuracy: 0.8524 - val_loss: 0.3948 - val_accuracy: 0.8006\n",
            "Epoch 82/150\n",
            "35/35 [==============================] - 2s 44ms/step - loss: 0.4019 - accuracy: 0.8233 - val_loss: 0.3909 - val_accuracy: 0.8069\n",
            "Epoch 83/150\n",
            "35/35 [==============================] - 2s 44ms/step - loss: 0.3671 - accuracy: 0.8075 - val_loss: 0.3959 - val_accuracy: 0.8162\n",
            "Epoch 84/150\n",
            "35/35 [==============================] - 2s 44ms/step - loss: 0.3373 - accuracy: 0.8627 - val_loss: 0.3903 - val_accuracy: 0.8224\n",
            "Epoch 85/150\n",
            "35/35 [==============================] - 2s 44ms/step - loss: 0.3481 - accuracy: 0.8358 - val_loss: 0.3550 - val_accuracy: 0.8442\n",
            "Epoch 86/150\n",
            "35/35 [==============================] - 2s 44ms/step - loss: 0.3624 - accuracy: 0.8459 - val_loss: 0.3483 - val_accuracy: 0.8318\n",
            "Epoch 87/150\n",
            "35/35 [==============================] - 2s 45ms/step - loss: 0.4115 - accuracy: 0.8005 - val_loss: 0.3551 - val_accuracy: 0.8474\n",
            "Epoch 88/150\n",
            "35/35 [==============================] - 2s 44ms/step - loss: 0.3395 - accuracy: 0.8510 - val_loss: 0.3365 - val_accuracy: 0.8567\n",
            "Epoch 89/150\n",
            "35/35 [==============================] - 2s 44ms/step - loss: 0.3650 - accuracy: 0.8403 - val_loss: 0.3501 - val_accuracy: 0.8442\n",
            "Epoch 90/150\n",
            "35/35 [==============================] - 2s 44ms/step - loss: 0.3045 - accuracy: 0.8679 - val_loss: 0.3649 - val_accuracy: 0.8411\n",
            "Epoch 91/150\n",
            "35/35 [==============================] - 2s 44ms/step - loss: 0.3494 - accuracy: 0.8269 - val_loss: 0.3899 - val_accuracy: 0.8255\n",
            "Epoch 92/150\n",
            "35/35 [==============================] - 2s 44ms/step - loss: 0.3279 - accuracy: 0.8400 - val_loss: 0.3711 - val_accuracy: 0.8411\n",
            "Epoch 93/150\n",
            "35/35 [==============================] - 2s 44ms/step - loss: 0.3382 - accuracy: 0.8401 - val_loss: 0.3503 - val_accuracy: 0.8505\n",
            "Epoch 94/150\n",
            "35/35 [==============================] - 2s 44ms/step - loss: 0.3563 - accuracy: 0.8414 - val_loss: 0.3848 - val_accuracy: 0.8006\n",
            "Epoch 95/150\n",
            "35/35 [==============================] - 2s 44ms/step - loss: 0.3397 - accuracy: 0.8563 - val_loss: 0.3578 - val_accuracy: 0.8255\n",
            "Epoch 96/150\n",
            "35/35 [==============================] - 2s 44ms/step - loss: 0.3096 - accuracy: 0.8605 - val_loss: 0.3780 - val_accuracy: 0.8287\n",
            "Epoch 97/150\n",
            "35/35 [==============================] - 2s 45ms/step - loss: 0.3356 - accuracy: 0.8309 - val_loss: 0.3472 - val_accuracy: 0.8224\n",
            "Epoch 98/150\n",
            "35/35 [==============================] - 2s 44ms/step - loss: 0.3600 - accuracy: 0.8162 - val_loss: 0.3719 - val_accuracy: 0.8162\n",
            "Epoch 99/150\n",
            "35/35 [==============================] - 2s 44ms/step - loss: 0.3197 - accuracy: 0.8731 - val_loss: 0.3468 - val_accuracy: 0.8442\n",
            "Epoch 100/150\n",
            "35/35 [==============================] - 2s 45ms/step - loss: 0.3368 - accuracy: 0.8437 - val_loss: 0.3786 - val_accuracy: 0.8006\n",
            "Epoch 101/150\n",
            "35/35 [==============================] - 2s 44ms/step - loss: 0.3684 - accuracy: 0.8400 - val_loss: 0.3355 - val_accuracy: 0.8318\n",
            "Epoch 102/150\n",
            "35/35 [==============================] - 2s 44ms/step - loss: 0.3438 - accuracy: 0.8279 - val_loss: 0.3999 - val_accuracy: 0.7850\n",
            "Epoch 103/150\n",
            "35/35 [==============================] - 2s 45ms/step - loss: 0.3075 - accuracy: 0.8739 - val_loss: 0.3538 - val_accuracy: 0.8193\n",
            "Epoch 104/150\n",
            "35/35 [==============================] - 2s 45ms/step - loss: 0.3228 - accuracy: 0.8512 - val_loss: 0.3461 - val_accuracy: 0.8255\n",
            "Epoch 105/150\n",
            "35/35 [==============================] - 2s 44ms/step - loss: 0.3284 - accuracy: 0.8452 - val_loss: 0.3987 - val_accuracy: 0.8224\n",
            "Epoch 106/150\n",
            "35/35 [==============================] - 2s 45ms/step - loss: 0.3870 - accuracy: 0.8199 - val_loss: 0.3564 - val_accuracy: 0.8255\n",
            "Epoch 107/150\n",
            "35/35 [==============================] - 2s 45ms/step - loss: 0.3098 - accuracy: 0.8697 - val_loss: 0.3607 - val_accuracy: 0.8193\n",
            "Epoch 108/150\n",
            "35/35 [==============================] - 2s 45ms/step - loss: 0.3336 - accuracy: 0.8586 - val_loss: 0.3604 - val_accuracy: 0.8349\n",
            "Epoch 109/150\n",
            "35/35 [==============================] - 2s 45ms/step - loss: 0.3242 - accuracy: 0.8551 - val_loss: 0.3885 - val_accuracy: 0.8100\n",
            "Epoch 110/150\n",
            "35/35 [==============================] - 2s 44ms/step - loss: 0.4238 - accuracy: 0.8076 - val_loss: 0.3989 - val_accuracy: 0.8131\n",
            "Epoch 111/150\n",
            "35/35 [==============================] - 2s 44ms/step - loss: 0.3312 - accuracy: 0.8450 - val_loss: 0.3508 - val_accuracy: 0.8411\n",
            "Epoch 112/150\n",
            "35/35 [==============================] - 2s 44ms/step - loss: 0.3288 - accuracy: 0.8418 - val_loss: 0.4412 - val_accuracy: 0.7944\n",
            "Epoch 113/150\n",
            "35/35 [==============================] - 2s 45ms/step - loss: 0.3813 - accuracy: 0.8301 - val_loss: 0.3392 - val_accuracy: 0.8442\n",
            "Epoch 114/150\n",
            "35/35 [==============================] - 2s 44ms/step - loss: 0.3243 - accuracy: 0.8529 - val_loss: 0.3634 - val_accuracy: 0.8536\n",
            "Epoch 115/150\n",
            "35/35 [==============================] - 2s 44ms/step - loss: 0.3273 - accuracy: 0.8503 - val_loss: 0.3441 - val_accuracy: 0.8598\n",
            "Epoch 116/150\n",
            "35/35 [==============================] - 2s 45ms/step - loss: 0.3135 - accuracy: 0.8511 - val_loss: 0.3626 - val_accuracy: 0.8255\n",
            "Epoch 117/150\n",
            "35/35 [==============================] - 2s 44ms/step - loss: 0.3318 - accuracy: 0.8437 - val_loss: 0.3706 - val_accuracy: 0.7882\n",
            "Epoch 118/150\n",
            "35/35 [==============================] - 2s 46ms/step - loss: 0.3632 - accuracy: 0.8198 - val_loss: 0.3221 - val_accuracy: 0.8536\n",
            "Epoch 119/150\n",
            "35/35 [==============================] - 2s 44ms/step - loss: 0.3398 - accuracy: 0.8392 - val_loss: 0.3228 - val_accuracy: 0.8442\n",
            "Epoch 120/150\n",
            "35/35 [==============================] - 3s 77ms/step - loss: 0.3334 - accuracy: 0.8270 - val_loss: 0.3374 - val_accuracy: 0.8598\n",
            "Epoch 121/150\n",
            "35/35 [==============================] - 2s 44ms/step - loss: 0.2822 - accuracy: 0.8647 - val_loss: 0.3464 - val_accuracy: 0.8162\n",
            "Epoch 122/150\n",
            "35/35 [==============================] - 2s 44ms/step - loss: 0.3698 - accuracy: 0.8324 - val_loss: 0.3658 - val_accuracy: 0.8318\n",
            "Epoch 123/150\n",
            "35/35 [==============================] - 2s 44ms/step - loss: 0.3386 - accuracy: 0.8613 - val_loss: 0.3382 - val_accuracy: 0.8224\n",
            "Epoch 124/150\n",
            "35/35 [==============================] - 2s 45ms/step - loss: 0.3173 - accuracy: 0.8388 - val_loss: 0.3498 - val_accuracy: 0.8287\n",
            "Epoch 125/150\n",
            "35/35 [==============================] - 2s 44ms/step - loss: 0.3016 - accuracy: 0.8551 - val_loss: 0.3365 - val_accuracy: 0.8224\n",
            "Epoch 126/150\n",
            "35/35 [==============================] - 2s 44ms/step - loss: 0.2997 - accuracy: 0.8503 - val_loss: 0.3429 - val_accuracy: 0.8162\n",
            "Epoch 127/150\n",
            "35/35 [==============================] - 2s 44ms/step - loss: 0.2926 - accuracy: 0.8479 - val_loss: 0.3844 - val_accuracy: 0.8069\n",
            "Epoch 128/150\n",
            "35/35 [==============================] - 2s 44ms/step - loss: 0.3419 - accuracy: 0.8600 - val_loss: 0.3356 - val_accuracy: 0.8349\n",
            "Epoch 129/150\n",
            "35/35 [==============================] - 2s 46ms/step - loss: 0.3279 - accuracy: 0.8452 - val_loss: 0.3420 - val_accuracy: 0.8505\n",
            "Epoch 130/150\n",
            "35/35 [==============================] - 2s 45ms/step - loss: 0.3256 - accuracy: 0.8500 - val_loss: 0.3511 - val_accuracy: 0.8162\n",
            "Epoch 131/150\n",
            "35/35 [==============================] - 2s 45ms/step - loss: 0.3250 - accuracy: 0.8398 - val_loss: 0.3438 - val_accuracy: 0.8255\n",
            "Epoch 132/150\n",
            "35/35 [==============================] - 2s 46ms/step - loss: 0.3170 - accuracy: 0.8440 - val_loss: 0.3817 - val_accuracy: 0.8193\n",
            "Epoch 133/150\n",
            "35/35 [==============================] - 2s 44ms/step - loss: 0.3180 - accuracy: 0.8503 - val_loss: 0.3390 - val_accuracy: 0.8255\n",
            "Epoch 134/150\n",
            "35/35 [==============================] - 2s 45ms/step - loss: 0.3216 - accuracy: 0.8474 - val_loss: 0.3325 - val_accuracy: 0.8474\n",
            "Epoch 135/150\n",
            "35/35 [==============================] - 2s 44ms/step - loss: 0.3293 - accuracy: 0.8391 - val_loss: 0.3425 - val_accuracy: 0.8287\n",
            "Epoch 136/150\n",
            "35/35 [==============================] - 2s 45ms/step - loss: 0.3122 - accuracy: 0.8496 - val_loss: 0.3351 - val_accuracy: 0.8598\n",
            "Epoch 137/150\n",
            "35/35 [==============================] - 2s 44ms/step - loss: 0.3082 - accuracy: 0.8673 - val_loss: 0.3963 - val_accuracy: 0.8287\n",
            "Epoch 138/150\n",
            "35/35 [==============================] - 2s 44ms/step - loss: 0.3052 - accuracy: 0.8610 - val_loss: 0.3434 - val_accuracy: 0.8131\n",
            "Epoch 139/150\n",
            "35/35 [==============================] - 2s 45ms/step - loss: 0.3109 - accuracy: 0.8550 - val_loss: 0.3356 - val_accuracy: 0.8318\n",
            "Epoch 140/150\n",
            "35/35 [==============================] - 2s 44ms/step - loss: 0.3253 - accuracy: 0.8430 - val_loss: 0.3572 - val_accuracy: 0.8442\n",
            "Epoch 141/150\n",
            "35/35 [==============================] - 2s 45ms/step - loss: 0.3171 - accuracy: 0.8498 - val_loss: 0.3232 - val_accuracy: 0.8567\n",
            "Epoch 142/150\n",
            "35/35 [==============================] - 2s 44ms/step - loss: 0.2981 - accuracy: 0.8606 - val_loss: 0.3688 - val_accuracy: 0.8442\n",
            "Epoch 143/150\n",
            "35/35 [==============================] - 2s 45ms/step - loss: 0.2944 - accuracy: 0.8701 - val_loss: 0.3510 - val_accuracy: 0.8349\n",
            "Epoch 144/150\n",
            "35/35 [==============================] - 2s 44ms/step - loss: 0.2940 - accuracy: 0.8715 - val_loss: 0.3629 - val_accuracy: 0.8100\n",
            "Epoch 145/150\n",
            "35/35 [==============================] - 2s 45ms/step - loss: 0.3241 - accuracy: 0.8534 - val_loss: 0.3537 - val_accuracy: 0.8692\n",
            "Epoch 146/150\n",
            "35/35 [==============================] - 2s 45ms/step - loss: 0.3478 - accuracy: 0.8310 - val_loss: 0.3711 - val_accuracy: 0.8287\n",
            "Epoch 147/150\n",
            "35/35 [==============================] - 2s 44ms/step - loss: 0.3595 - accuracy: 0.8447 - val_loss: 0.3464 - val_accuracy: 0.8536\n",
            "Epoch 148/150\n",
            "35/35 [==============================] - 2s 44ms/step - loss: 0.3114 - accuracy: 0.8657 - val_loss: 0.4141 - val_accuracy: 0.8069\n",
            "Epoch 149/150\n",
            "35/35 [==============================] - 2s 45ms/step - loss: 0.3808 - accuracy: 0.8348 - val_loss: 0.3264 - val_accuracy: 0.8505\n",
            "Epoch 150/150\n",
            "35/35 [==============================] - 2s 45ms/step - loss: 0.3400 - accuracy: 0.8422 - val_loss: 0.3248 - val_accuracy: 0.8536\n"
          ],
          "name": "stdout"
        }
      ]
    },
    {
      "cell_type": "code",
      "metadata": {
        "colab": {
          "base_uri": "https://localhost:8080/",
          "height": 549
        },
        "id": "32rKbdtmOT15",
        "outputId": "63f67a3f-7823-4af3-a1df-210f99a778df"
      },
      "source": [
        "def plot_graphs(history, string):\r\n",
        "  plt.plot(history.history[string])\r\n",
        "  plt.plot(history.history['val_'+string])\r\n",
        "  plt.xlabel(\"Epochs\")\r\n",
        "  plt.ylabel(string)\r\n",
        "  plt.legend([string, 'val_'+string])\r\n",
        "  plt.ylim([0,1])\r\n",
        "  plt.grid()\r\n",
        "  plt.show()\r\n",
        "\r\n",
        "plot_graphs(history, \"accuracy\")\r\n",
        "plot_graphs(history, \"loss\")"
      ],
      "execution_count": 351,
      "outputs": [
        {
          "output_type": "display_data",
          "data": {
            "image/png": "[encoded data removed]",
            "text/plain": [
              "<Figure size 432x288 with 1 Axes>"
            ]
          },
          "metadata": {
            "tags": [],
            "needs_background": "light"
          }
        },
        {
          "output_type": "display_data",
          "data": {
            "image/png": "[encoded data removed]",
            "text/plain": [
              "<Figure size 432x288 with 1 Axes>"
            ]
          },
          "metadata": {
            "tags": [],
            "needs_background": "light"
          }
        }
      ]
    },
    {
      "cell_type": "code",
      "metadata": {
        "id": "-bQcLoc0j20Z",
        "colab": {
          "base_uri": "https://localhost:8080/"
        },
        "outputId": "318095a7-9c59-4c55-91fb-96108363e351"
      },
      "source": [
        "results = model.evaluate(x_test, y_test)"
      ],
      "execution_count": 352,
      "outputs": [
        {
          "output_type": "stream",
          "text": [
            "6/6 [==============================] - 0s 3ms/step - loss: 0.3184 - accuracy: 0.8571\n"
          ],
          "name": "stdout"
        }
      ]
    },
    {
      "cell_type": "code",
      "metadata": {
        "colab": {
          "base_uri": "https://localhost:8080/"
        },
        "id": "XSvWiVANiU80",
        "outputId": "8575bac4-e3be-483d-d438-e3fe54bfb468"
      },
      "source": [
        "model.save(\"/concent/drive/MyDrive/kaggle/model_normalize.hd5\")"
      ],
      "execution_count": 353,
      "outputs": [
        {
          "output_type": "stream",
          "text": [
            "INFO:tensorflow:Assets written to: /concent/drive/MyDrive/kaggle/model_normalize.hd5/assets\n"
          ],
          "name": "stdout"
        }
      ]
    },
    {
      "cell_type": "markdown",
      "metadata": {
        "id": "PiYT-PnzmVJd"
      },
      "source": [
        "# Test with real world data"
      ]
    },
    {
      "cell_type": "code",
      "metadata": {
        "id": "AMgGDJFbi7uE"
      },
      "source": [
        ""
      ],
      "execution_count": null,
      "outputs": []
    }
  ]
}