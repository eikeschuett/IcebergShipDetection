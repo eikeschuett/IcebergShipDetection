{
  "nbformat": 4,
  "nbformat_minor": 0,
  "metadata": {
    "colab": {
      "name": "Ship-Iceberg-Classification.ipynb",
      "provenance": [],
      "collapsed_sections": [],
      "toc_visible": true,
      "include_colab_link": true
    },
    "kernelspec": {
      "name": "python3",
      "display_name": "Python 3"
    },
    "accelerator": "GPU"
  },
  "cells": [
    {
      "cell_type": "markdown",
      "metadata": {
        "id": "view-in-github",
        "colab_type": "text"
      },
      "source": [
        "<a href=\"https://colab.research.google.com/github/eikeschuett/IcebergShipDetection/blob/main/Ship_Iceberg_Classification.ipynb\" target=\"_parent\"><img src=\"https://colab.research.google.com/assets/colab-badge.svg\" alt=\"Open In Colab\"/></a>"
      ]
    },
    {
      "cell_type": "markdown",
      "metadata": {
        "id": "CB04L3ap90kB"
      },
      "source": [
        "# Overview\r\n",
        "\r\n"
      ]
    },
    {
      "cell_type": "markdown",
      "metadata": {
        "id": "YBiMoIuv-MeS"
      },
      "source": [
        "**Topic**: Iceberg and ship detection with satellite imagery\r\n",
        "\r\n",
        "**Goal**: This project is aimed at building an algorithm for the detcetion of ships and icebergs in Sentinel-1 SAR imagery. Desired output is a map, which shows the locations of icebergs, ships and unidentified objects.\r\n",
        "\r\n",
        "**Details**: The dataset used for training is obtained from a Kaggle challenge, [Statoil/C-CORE Iceberg Classifier](https://www.kaggle.com/c/statoil-iceberg-classifier-challenge). Each image has 75x75 pixels with two bands from HH and HV polarisations and contains a ship or an iceberg. This dataset will be used to train a CNN. After training the classification model, we will use Sentinel-1 SAR images to show the \"real world application\" of our model. The satellite images will be pre-processed with the Sentinel Application Platform (SNAP) Python API. We will then identify bright objects within each satellite image. A 75x75 subset of the radar image will be made for each object and fed into our classification model. Finally, the results will be plotted on a map.\r\n",
        "\r\n",
        "The program is uploaded on a public GitHub repository: [`eikeschuett/IcebergShipDetection`](https://github.com/eikeschuett/IcebergShipDetection)"
      ]
    },
    {
      "cell_type": "markdown",
      "metadata": {
        "id": "uZMTYjbf--yh"
      },
      "source": [
        "# Dataset\r\n",
        "This project used the satellite SAR imagery provided by Kaggle challenge, [Statoil/C-CORE Iceberg Classifier](https://www.kaggle.com/c/statoil-iceberg-classifier-challenge).\r\n",
        "The dataset information is saved in the json file containing the following fields (see Table 1):\r\n",
        "* id: the id of the image \r\n",
        "* band_1 & band_2: the flattened image data. Each band has 75x75 pixel values in the list. The values are float numbers with unit being dB with the physical meaning of backscatter coefficient, $\\sigma^0$. band_1 and band_2 represent for HH-polarisation and HV polarisation, respectively (see Figure 1 below for having an idea of how the image looks like).\r\n",
        "* inc_angle: the incidence angle (see Figure 2). This field has missing data mark as \"na\", in our project, we gave the \"na\" a default value of 30°.\r\n",
        "* is_iceberg: the target variable, set to 1 if it is an iceberg, and 0 if it is a ship. \r\n",
        "\r\n",
        "> **Table 1**: A glimpse of `train.json` file <br>\r\n",
        "\r\n",
        "| id |band_1 | band_2 | inc_angle | is_iceberg |\r\n",
        "| --------- | ---- | ---------------- | --------------- | ---------------- |\r\n",
        "|dfd5f913 |\t[-27.878360999999998, -27.15416, -28.668615, -... |\t[-27.154118, -29.537888, -31.0306, -32.190483,... |\t43.9239 |\t0 |\r\n",
        "|e25388fd |\t[-12.242375, -14.920304999999999, -14.920363, ... |\t[-31.506321, -27.984554, -26.645678, -23.76760... |\t38.1562 | 0 |\r\n",
        "|58b2aaa0 |\t[-24.603676, -24.603714, -24.871029, -23.15277... |\t[-24.870956, -24.092632, -20.653963, -19.41104... |\t45.2859 |\t1 |\r\n",
        "|4cfc3a18 |\t[-22.454607, -23.082819, -23.998013, -23.99805... |\t[-27.889421, -27.519794, -27.165262, -29.10350... |\t43.8306 |\t0 |\r\n",
        "|271f93f4 |\t[-26.006956, -23.164886, -23.164886, -26.89116... |\t[-27.206915, -30.259186, -30.259186, -23.16495... |\t35.6256 |\t0 |\r\n",
        "\r\n",
        "\r\n",
        "\r\n",
        "As the field is_iceberg only exists in `train.json` but not `test.json`, this project only used `train.json` and separated the dataset into training, validation and test datasets with the proportion of $7:2:1$.\r\n"
      ]
    },
    {
      "cell_type": "code",
      "metadata": {
        "colab": {
          "base_uri": "https://localhost:8080/",
          "height": 256
        },
        "id": "dliQt8BsVetG",
        "outputId": "b7a14d9a-5b2f-4033-9fa4-89cb0a490825"
      },
      "source": [
        "%%html\r\n",
        "<IMG SRC=\"https://raw.githubusercontent.com/eikeschuett/IcebergShipDetection/main/pic/image_iceberg.png\" border=\"0\"></a>\r\n",
        "<IMG SRC=\"https://raw.githubusercontent.com/eikeschuett/IcebergShipDetection/main/pic/image_ship.png\" border=\"0\"></a>\r\n"
      ],
      "execution_count": 4,
      "outputs": [
        {
          "output_type": "display_data",
          "data": {
            "text/html": [
              "<IMG SRC=\"https://raw.githubusercontent.com/eikeschuett/IcebergShipDetection/main/pic/image_iceberg.png\" border=\"0\"></a>\n",
              "<IMG SRC=\"https://raw.githubusercontent.com/eikeschuett/IcebergShipDetection/main/pic/image_ship.png\" border=\"0\"></a>"
            ],
            "text/plain": [
              "<IPython.core.display.HTML object>"
            ]
          },
          "metadata": {
            "tags": []
          }
        }
      ]
    },
    {
      "cell_type": "markdown",
      "metadata": {
        "id": "u8AQmax-VxSJ"
      },
      "source": [
        "> **Figure 1**: Examples of SAR images with iceberg and ship in Kaggle dataset."
      ]
    },
    {
      "cell_type": "code",
      "metadata": {
        "colab": {
          "base_uri": "https://localhost:8080/",
          "height": 220
        },
        "id": "DkNOK49qWNFE",
        "outputId": "99d20339-c86d-412c-e158-9e2a9fe83e83"
      },
      "source": [
        "%%html\r\n",
        "<IMG SRC=\"https://earth.esa.int/handbooks/asar/aux-files/ephimg-10418557.gif\" border=\"0\"></a>"
      ],
      "execution_count": null,
      "outputs": [
        {
          "output_type": "display_data",
          "data": {
            "text/html": [
              "<IMG SRC=\"https://earth.esa.int/handbooks/asar/aux-files/ephimg-10418557.gif\" border=\"0\"></a>"
            ],
            "text/plain": [
              "<IPython.core.display.HTML object>"
            ]
          },
          "metadata": {
            "tags": []
          }
        }
      ]
    },
    {
      "cell_type": "markdown",
      "metadata": {
        "id": "A8B3LXcXWs5X"
      },
      "source": [
        "> **Figure 2**: Illustration of incidence angle (source: [ESA earthnet](https://earth.esa.int/handbooks/asar/CNTR5-5.html))."
      ]
    },
    {
      "cell_type": "markdown",
      "metadata": {
        "id": "0IOOgCqBsIEc"
      },
      "source": [
        "# Method\r\n"
      ]
    },
    {
      "cell_type": "markdown",
      "metadata": {
        "id": "dVVU_d2DJRsg"
      },
      "source": [
        "## Normalization\r\n",
        "\r\n",
        "This study applied incidence angle normalization method [(Topouzelis et al., 2016)](https://www.degruyter.com/view/journals/geo/8/1/article-p450.xml?tab_body=abstract) to normalize the backscatter coefficient from band_1 (HH) and band_2 (HV) using:\r\n",
        "\r\n",
        "$\\sigma_{\\theta, norm}^0=\\dfrac{\\sigma_\\theta^0+(0.766\\theta-31.638)}{2}$\r\n",
        "\r\n",
        "where<br>\r\n",
        "> $\\theta$: incidence angle<br>\r\n",
        "> $\\sigma^0_\\theta$: backscatter coefficient at incidence angle $\\theta$<br>\r\n",
        "\r\n"
      ]
    },
    {
      "cell_type": "markdown",
      "metadata": {
        "id": "h4IJiknjcdQb"
      },
      "source": [
        "## Band 3 Generation\r\n",
        "\r\n",
        "This project test different combinations of HH and HV polarisations data for generating the 3rd bands. \r\n",
        "Addition (+), subtraction (-), multiplication (\\*) and division (/) were applied in the test stage.\r\n",
        "Addition calculation $HH + HV$ is also known as the **total backscatter**.\r\n",
        "\r\n",
        "According to [Heiselberg (2016)](https://www.mdpi.com/2072-4292/12/15/2353), the **cross polarisation ratio** $C = HV / (HH+HV)$ is a commonly used spatial feature in Ship-Iceberg Classification. \r\n",
        "Thus, the cross polarisation ratio was also applied in the test stage. \r\n",
        "Figure 3 shows loss and accuracy charts applying different generations of band 3.\r\n",
        "\r\n",
        "Check the program [CNN_test_different_3rd_bands_c.ipynb on CNN_Trail_and_Error branch](https://github.com/eikeschuett/IcebergShipDetection/blob/DNN_Trial_and_Error/CNN_test_different_3rd_bands_c.ipynb).\r\n",
        "\r\n",
        "\r\n"
      ]
    },
    {
      "cell_type": "code",
      "metadata": {
        "colab": {
          "base_uri": "https://localhost:8080/",
          "height": 567
        },
        "id": "hXR9DZu39lj4",
        "outputId": "9862ee44-6040-4dd8-d9c7-547df8c3701f"
      },
      "source": [
        "%%html\r\n",
        "<IMG SRC=\"https://raw.githubusercontent.com/eikeschuett/IcebergShipDetection/main/pic/bands.png\" border=\"0\"></a>\r\n"
      ],
      "execution_count": null,
      "outputs": [
        {
          "output_type": "display_data",
          "data": {
            "text/html": [
              "<IMG SRC=\"https://raw.githubusercontent.com/eikeschuett/IcebergShipDetection/main/pic/bands.png\" border=\"0\"></a>"
            ],
            "text/plain": [
              "<IPython.core.display.HTML object>"
            ]
          },
          "metadata": {
            "tags": []
          }
        }
      ]
    },
    {
      "cell_type": "markdown",
      "metadata": {
        "id": "8-KHc_N6FhMi"
      },
      "source": [
        "> **Figure 3**: Comparing the training results with different band 3."
      ]
    },
    {
      "cell_type": "markdown",
      "metadata": {
        "id": "4pShP8bwDL-X"
      },
      "source": [
        "Most promising combinations are total backscatter HH+HV and cross polarisation ratio HV/(HH+HV) with the validation accuracies 0.860 and 0.866, respectively."
      ]
    },
    {
      "cell_type": "markdown",
      "metadata": {
        "id": "tAoiz4384fN6"
      },
      "source": [
        "## Image Denoising\r\n",
        "Differrnt filters for initial image denoising have been tested in this projecet.\r\n",
        "Figure 4 shows the examples of how filters work on ship images and iceberg images.\r\n",
        "Figure 5 shows the loss and accuracy charts applying different filters.\r\n",
        "\r\n",
        "Check the program [CNN_test_different_speckle_filters on CNN_Trail_and_Error branch](https://github.com/eikeschuett/IcebergShipDetection/blob/DNN_Trial_and_Error/CNN_test_different_speckle_filters.ipynb)."
      ]
    },
    {
      "cell_type": "code",
      "metadata": {
        "colab": {
          "base_uri": "https://localhost:8080/",
          "height": 648
        },
        "id": "xwF_hg44-bOP",
        "outputId": "dcb35c7c-f388-4337-835d-c4df2ec10872"
      },
      "source": [
        "%%html\r\n",
        "<IMG SRC=\"https://raw.githubusercontent.com/eikeschuett/IcebergShipDetection/main/pic/filter_iceberg.png\" border=\"0\"></a>\r\n",
        "<IMG SRC=\"https://raw.githubusercontent.com/eikeschuett/IcebergShipDetection/main/pic/filter_ship.png\" border=\"0\"></a>"
      ],
      "execution_count": null,
      "outputs": [
        {
          "output_type": "display_data",
          "data": {
            "text/html": [
              "<IMG SRC=\"https://raw.githubusercontent.com/eikeschuett/IcebergShipDetection/main/pic/filter_iceberg.png\" border=\"0\"></a>\n",
              "<IMG SRC=\"https://raw.githubusercontent.com/eikeschuett/IcebergShipDetection/main/pic/filter_ship.png\" border=\"0\"></a>"
            ],
            "text/plain": [
              "<IPython.core.display.HTML object>"
            ]
          },
          "metadata": {
            "tags": []
          }
        }
      ]
    },
    {
      "cell_type": "markdown",
      "metadata": {
        "id": "I6PYM_LN70LD"
      },
      "source": [
        "> **Figure 4**: Examples of filterd SAR images."
      ]
    },
    {
      "cell_type": "code",
      "metadata": {
        "colab": {
          "base_uri": "https://localhost:8080/",
          "height": 625
        },
        "id": "QpES0TjP-vJS",
        "outputId": "f0789370-26fb-4a7c-a032-ca6f0b79e334"
      },
      "source": [
        "%%html\r\n",
        "<IMG SRC=\"https://raw.githubusercontent.com/eikeschuett/IcebergShipDetection/main/pic/filter.png\" border=\"0\"></a>"
      ],
      "execution_count": null,
      "outputs": [
        {
          "output_type": "display_data",
          "data": {
            "text/html": [
              "<IMG SRC=\"https://raw.githubusercontent.com/eikeschuett/IcebergShipDetection/main/pic/filter.png\" border=\"0\"></a>"
            ],
            "text/plain": [
              "<IPython.core.display.HTML object>"
            ]
          },
          "metadata": {
            "tags": []
          }
        }
      ]
    },
    {
      "cell_type": "markdown",
      "metadata": {
        "id": "hSThFSEE5YO_"
      },
      "source": [
        "> **Figure 5**: Comparing the training results with different filters: no filter, bilateral filter, Gaussian filter and Lee filter."
      ]
    },
    {
      "cell_type": "markdown",
      "metadata": {
        "id": "D_ZsiqUv5Pyf"
      },
      "source": [
        "There are not much differecne between the training results, but bilateral filter and Lee filter appear to denoise best. \r\n",
        "As bilateral filter is more time-consuming, this project applied **Lee filter**."
      ]
    },
    {
      "cell_type": "markdown",
      "metadata": {
        "id": "v20JFj1kGJe-"
      },
      "source": [
        "## Optimizer Decision\r\n",
        "This project has tested the loss function Binary cross entropy with different optimizers, RMSProp, Adam, SGD and SGD with nesterov momentum, on training our ship-iceberg classifier.\r\n",
        "Figure 6 shows the loss and accuracy charts applying different optimizers.\r\n",
        "\r\n",
        "Check the program [CNN_test_different_optimizers.ipynb on the CNN_Trail_and_Error branch](https://github.com/eikeschuett/IcebergShipDetection/blob/DNN_Trial_and_Error/CNN_test_different_speckle_filters.ipynb)."
      ]
    },
    {
      "cell_type": "code",
      "metadata": {
        "colab": {
          "base_uri": "https://localhost:8080/",
          "height": 625
        },
        "id": "Ta7ELmwN-6wM",
        "outputId": "18ad4fc3-490f-4b59-a29d-d82600b56e67"
      },
      "source": [
        "%%html\r\n",
        "<IMG SRC=\"https://raw.githubusercontent.com/eikeschuett/IcebergShipDetection/main/pic/optimizer.png\" border=\"0\"></a>"
      ],
      "execution_count": null,
      "outputs": [
        {
          "output_type": "display_data",
          "data": {
            "text/html": [
              "<IMG SRC=\"https://raw.githubusercontent.com/eikeschuett/IcebergShipDetection/main/pic/optimizer.png\" border=\"0\"></a>"
            ],
            "text/plain": [
              "<IPython.core.display.HTML object>"
            ]
          },
          "metadata": {
            "tags": []
          }
        }
      ]
    },
    {
      "cell_type": "markdown",
      "metadata": {
        "id": "oAYWfmXOJrjA"
      },
      "source": [
        "\r\n",
        "> **Figure 6**: Comparing the training results with different optimizers: Adam, SGD, SGD with nesterov momentum and RMSProp.\r\n",
        "\r\n",
        "\r\n"
      ]
    },
    {
      "cell_type": "markdown",
      "metadata": {
        "id": "XOEsL3-RKyRp"
      },
      "source": [
        "The curves of the loss of SGD+Nesterov and RMSprop is quite jaggy. \r\n",
        "Adam learns fast in the beginning but shows overfitting after approx. 250 to 300 epochs. \r\n",
        "SGD needs more epochs to get nice results, but its curves look the best after 500 epochs.\r\n",
        "Table 2 shows the test accuracies with different optimizers\r\n",
        "\r\n",
        "> **Table 2**: Test accuracies with different optimizers\r\n",
        "\r\n",
        "|               | Adam |  SGD | SGD+Nesterov | RMSprop |\r\n",
        "|---------------|------|------|--------------|---------|\r\n",
        "| Test Accuracy | 0.83 | 0.87 |     0.89     |   0.86  |\r\n",
        "\r\n",
        "Experiences with other models show that Adam is more stable than SGD. This project used **Adam** and paid attention to potential overfitting."
      ]
    },
    {
      "cell_type": "markdown",
      "metadata": {
        "id": "P7cD8n-v_dO_"
      },
      "source": [
        "# Outline"
      ]
    },
    {
      "cell_type": "markdown",
      "metadata": {
        "id": "j0G9SQkF_wmL"
      },
      "source": [
        "1. Download the Kaggle dataset to Google Drive with Kaggle API\r\n",
        "2. Build up the CNN architecture for training\r\n",
        "3. Train the model\r\n",
        "4. Test with real world data"
      ]
    },
    {
      "cell_type": "markdown",
      "metadata": {
        "id": "pzMSXZrJ-FxP"
      },
      "source": [
        "# Download the Kaggle dataset to Google Drive"
      ]
    },
    {
      "cell_type": "markdown",
      "metadata": {
        "id": "ujLLd0OSAgmQ"
      },
      "source": [
        "Following the steps: https://www.kaggle.com/general/74235"
      ]
    },
    {
      "cell_type": "code",
      "metadata": {
        "id": "E61WKpV0AleF"
      },
      "source": [
        "!pip install -q kaggle"
      ],
      "execution_count": null,
      "outputs": []
    },
    {
      "cell_type": "code",
      "metadata": {
        "id": "DIiXpRt7AqmF"
      },
      "source": [
        "from google.colab import drive\r\n",
        "drive.mount('/content/drive')"
      ],
      "execution_count": null,
      "outputs": []
    },
    {
      "cell_type": "code",
      "metadata": {
        "id": "xsfFhcEeArP3"
      },
      "source": [
        "%cd /content/drive/MyDrive/"
      ],
      "execution_count": null,
      "outputs": []
    },
    {
      "cell_type": "markdown",
      "metadata": {
        "id": "wcG9TqahAv2v"
      },
      "source": [
        "Go to your account in Kaggle, scroll to API section and click  on \"Create New API Token\". Then, the file `kaggle.json` will be downloaded into your local drive, upload it with `files.upload()`."
      ]
    },
    {
      "cell_type": "code",
      "metadata": {
        "id": "FFVwzFnqAs19"
      },
      "source": [
        "from google.colab import files\r\n",
        "files.upload()"
      ],
      "execution_count": null,
      "outputs": []
    },
    {
      "cell_type": "markdown",
      "metadata": {
        "id": "8AKDX1AzA1MS"
      },
      "source": [
        "Make directory named kaggle and copy `kaggle.json` file there."
      ]
    },
    {
      "cell_type": "code",
      "metadata": {
        "id": "uN5i3dioA06X"
      },
      "source": [
        "!mkdir -p kaggle\r\n",
        "!mv kaggle.json kaggle\r\n",
        "%cd kaggle/"
      ],
      "execution_count": null,
      "outputs": []
    },
    {
      "cell_type": "markdown",
      "metadata": {
        "id": "jP4Ea28oBBeJ"
      },
      "source": [
        "Download the data to the directory `/content/drive/MyDrive/kaggle/data`"
      ]
    },
    {
      "cell_type": "code",
      "metadata": {
        "id": "weNuBtKvAzAw"
      },
      "source": [
        "!mkdir -p data\r\n",
        "%cd data\r\n",
        "!kaggle competitions download -c carvana-image-masking-challenge"
      ],
      "execution_count": null,
      "outputs": []
    },
    {
      "cell_type": "markdown",
      "metadata": {
        "id": "GW8FHXaABlBF"
      },
      "source": [
        "Unzip the *.7z file with the build-in command."
      ]
    },
    {
      "cell_type": "code",
      "metadata": {
        "id": "pf1dBHd9BmLX"
      },
      "source": [
        "!7z e test.json.7z \r\n",
        "!7z e train.json.7z \r\n",
        "!7z e sample_submission.csv.7z "
      ],
      "execution_count": null,
      "outputs": []
    },
    {
      "cell_type": "markdown",
      "metadata": {
        "id": "_tv5TlsJBOsk"
      },
      "source": [
        "Folder Structure on Google Drive\r\n",
        "```\r\n",
        "MyDrive/\r\n",
        "    kaggle/\r\n",
        "        data/\r\n",
        "            train.json.7z\r\n",
        "            test.json.7z\r\n",
        "            sample_submission.csv.7z\r\n",
        "            train.json\r\n",
        "            test.json\r\n",
        "            sample_submission.csv\r\n",
        "```\r\n",
        "\r\n",
        "Note that `test.json` data doesn't contain the label `is_iceberg`, so this project only use `train.json` and split the data into training, validation and test data."
      ]
    },
    {
      "cell_type": "markdown",
      "metadata": {
        "id": "S3-idFr__Fc1"
      },
      "source": [
        "# Build up the CNN Architecture"
      ]
    },
    {
      "cell_type": "markdown",
      "metadata": {
        "id": "yJf9Ot-ECfpw"
      },
      "source": [
        "Import the libraries"
      ]
    },
    {
      "cell_type": "code",
      "metadata": {
        "id": "Wp_u7zwvt_jw"
      },
      "source": [
        "import numpy as np # linear algebra\r\n",
        "np.random.seed(666)\r\n",
        "import pandas as pd # data processing, CSV file I/O (e.g. pd.read_csv)\r\n",
        "from sklearn.model_selection import train_test_split\r\n",
        "from subprocess import check_output\r\n",
        "from matplotlib import pyplot\r\n",
        "from tensorflow.keras.preprocessing.image import ImageDataGenerator\r\n",
        "from tensorflow.keras.models import Sequential\r\n",
        "from tensorflow.keras.layers import Conv2D, MaxPooling2D, Dense, Dropout, Input, Flatten\r\n",
        "from tensorflow.keras.layers import GlobalMaxPooling2D\r\n",
        "from keras.layers.normalization import BatchNormalization\r\n",
        "from keras.layers.merge import Concatenate\r\n",
        "from tensorflow.keras.models import Model\r\n",
        "from tensorflow.keras.optimizers import Adam, SGD\r\n",
        "from tensorflow.keras.callbacks import ModelCheckpoint, Callback, EarlyStopping\r\n",
        "import matplotlib.pyplot as plt\r\n",
        "from scipy.ndimage.filters import uniform_filter\r\n",
        "from scipy.ndimage.measurements import variance"
      ],
      "execution_count": 5,
      "outputs": []
    },
    {
      "cell_type": "code",
      "metadata": {
        "colab": {
          "base_uri": "https://localhost:8080/"
        },
        "id": "7nYBzmT4uDBU",
        "outputId": "c65f41f7-47fb-4ca2-89c8-ef7bba3d793d"
      },
      "source": [
        "from google.colab import drive\r\n",
        "\r\n",
        "drive.mount('/content/drive')\r\n",
        "data = pd.read_json('/content/drive/MyDrive/kaggle/data/train.json')\r\n",
        "\r\n",
        "data.inc_angle = data.inc_angle.replace('na', np.nan)"
      ],
      "execution_count": 6,
      "outputs": [
        {
          "output_type": "stream",
          "text": [
            "Drive already mounted at /content/drive; to attempt to forcibly remount, call drive.mount(\"/content/drive\", force_remount=True).\n"
          ],
          "name": "stdout"
        }
      ]
    },
    {
      "cell_type": "code",
      "metadata": {
        "id": "-H2mmI2nN-ey"
      },
      "source": [
        "def normalize(sig_nought, inc_angle, default_inc = None):\r\n",
        "    \"\"\"\r\n",
        "    :type sig_nought: np.ndarray(np.float)\r\n",
        "    :type inc_angle: float\r\n",
        "    :rtype: np.ndarray(np.float)\r\n",
        "    \"\"\"\r\n",
        "    \r\n",
        "    if np.isnan(inc_angle):\r\n",
        "        if default_inc != None:\r\n",
        "            inc_angle = default_inc\r\n",
        "            sig_nought_n = (sig_nought + 0.766 * inc_angle - 31.638) / 2\r\n",
        "        else:\r\n",
        "            sig_nought_n = sig_nought\r\n",
        "    else:\r\n",
        "        sig_nought_n = (sig_nought + 0.766 * inc_angle - 31.638) / 2\r\n",
        "\r\n",
        "    return sig_nought_n\r\n"
      ],
      "execution_count": 8,
      "outputs": []
    },
    {
      "cell_type": "code",
      "metadata": {
        "id": "OzAKZG0RuZ2b"
      },
      "source": [
        "def lee_filter(img, size):\r\n",
        "    # From here: https://stackoverflow.com/questions/39785970/speckle-lee-filter-in-python\r\n",
        "    img_mean = uniform_filter(img, (size, size))\r\n",
        "    img_sqr_mean = uniform_filter(img**2, (size, size))\r\n",
        "    img_variance = img_sqr_mean - img_mean**2\r\n",
        "\r\n",
        "    overall_variance = variance(img)\r\n",
        "\r\n",
        "    img_weights = img_variance / (img_variance + overall_variance)\r\n",
        "    img_output = img_mean + img_weights * (img - img_mean)\r\n",
        "    return img_output"
      ],
      "execution_count": 9,
      "outputs": []
    },
    {
      "cell_type": "code",
      "metadata": {
        "id": "G6djpT9YezFs"
      },
      "source": [
        "def prepare_data(data):\r\n",
        "    x_angle = np.array(data[\"inc_angle\"])\r\n",
        "\r\n",
        "    # Get the labels (y-values)\r\n",
        "    labels = np.array(data[\"is_iceberg\"])\r\n",
        "    print(labels)\r\n",
        "    # Create empty list for the images\r\n",
        "    imgs = []\r\n",
        "    for i, row in data.iterrows():\r\n",
        "        # Reshape list to image\r\n",
        "        hh  = np.reshape(row[\"band_1\"], (75, 75))\r\n",
        "        hv  = np.reshape(row[\"band_2\"], (75, 75))\r\n",
        "\r\n",
        "        # normalize hh and hv using inc_angle (x_angle[i])\r\n",
        "        # with default inc_angle = 30  # if np.isnan(inc_angle)\r\n",
        "        hh = normalize(hh, row[\"inc_angle\"], 30)\r\n",
        "        hv = normalize(hv, row[\"inc_angle\"], 30)\r\n",
        "\r\n",
        "        # total backscatter = hh + hv\r\n",
        "        b3 = hh + hv\r\n",
        "        # cross polarisation ratio = hv / (hh+hv)\r\n",
        "        #c3 = hv / b3\r\n",
        "\r\n",
        "        # \r\n",
        "        hh = lee_filter(hh, 20)\r\n",
        "        hv = lee_filter(hv, 20)\r\n",
        "        b3 = lee_filter(b3, 20)      \r\n",
        "        #c3 = lee_filter(c3, 20) \r\n",
        "          \r\n",
        "        # Rescale images between 0 and 1 for faster convergence rate\r\n",
        "        hh = (hh - hh.min())/(hh.max()-hh.min())\r\n",
        "        hv = (hv - hv.min())/(hv.max()-hv.min())\r\n",
        "        b3 = (b3 - b3.min())/(b3.max()-b3.min())\r\n",
        "        \r\n",
        "        # Stack the bands and append them to imgs\r\n",
        "        #imgs.append(np.dstack((hh, hv, b3, c3)))\r\n",
        "        imgs.append(np.dstack((hh, hv, b3)))\r\n",
        "    \r\n",
        "    \r\n",
        "    # Split dataset into training (70%) and validation (30 %)                             \r\n",
        "    x_train, x_val, y_train, y_val = train_test_split(imgs, labels,\r\n",
        "                                                     test_size=0.3,\r\n",
        "                                                     random_state=0)\r\n",
        "    # Then split validation dataset into validation (20 %) and testing (10 %)\r\n",
        "    x_val, x_test, y_val, y_test = train_test_split(x_val, y_val,\r\n",
        "                                                     test_size=(1/3),\r\n",
        "                                                     random_state=0)                               \r\n",
        "    x_train = np.array(x_train)\r\n",
        "    x_test = np.array(x_test)\r\n",
        "    x_val = np.array(x_val)\r\n",
        "    \r\n",
        "    return x_train, x_val, x_test, y_train, y_val, y_test"
      ],
      "execution_count": 73,
      "outputs": []
    },
    {
      "cell_type": "code",
      "metadata": {
        "id": "uqww4ARyuabj"
      },
      "source": [
        "def prepare_data(data):\r\n",
        "    x_angle = np.array(data[\"inc_angle\"])\r\n",
        "\r\n",
        "    # Get the labels (y-values)\r\n",
        "    #labels = np.array(data[\"is_iceberg\"])\r\n",
        "\r\n",
        "    # Create empty list for the images\r\n",
        "    imgs = []\r\n",
        "    imgs_no_inc = []\r\n",
        "    labels = []\r\n",
        "    labels_no_inc = []\r\n",
        "    for i, row in data.iterrows():\r\n",
        "        \r\n",
        "        if not np.isnan(row[\"inc_angle\"]):\r\n",
        "            labels.append(row[\"is_iceberg\"])\r\n",
        "            # Reshape list to image\r\n",
        "            hh  = np.reshape(row[\"band_1\"], (75, 75))\r\n",
        "            hv  = np.reshape(row[\"band_2\"], (75, 75))\r\n",
        "\r\n",
        "            # normalize hh and hv using inc_angle (x_angle[i])\r\n",
        "            # with default inc_angle = 30  # if np.isnan(inc_angle)\r\n",
        "            hh = normalize(hh, row[\"inc_angle\"], 30)\r\n",
        "            hv = normalize(hv, row[\"inc_angle\"], 30)\r\n",
        "\r\n",
        "            # total backscatter = hh + hv\r\n",
        "            b3 = hh + hv\r\n",
        "            # cross polarisation ratio = hv / (hh+hv)\r\n",
        "            c3 = hv / b3\r\n",
        "\r\n",
        "            # \r\n",
        "            hh = lee_filter(hh, 20)\r\n",
        "            hv = lee_filter(hv, 20)\r\n",
        "            b3 = lee_filter(b3, 20)      \r\n",
        "            c3 = lee_filter(c3, 20) \r\n",
        "              \r\n",
        "            # Rescale images between 0 and 1 for faster convergence rate\r\n",
        "            #hh = (hh - hh.min())/(hh.max()-hh.min())\r\n",
        "            #hv = (hv - hv.min())/(hv.max()-hv.min())\r\n",
        "            #b3 = (b3 - b3.min())/(b3.max()-b3.min())\r\n",
        "            \r\n",
        "            # Stack the bands and append them to imgs\r\n",
        "            #imgs.append(np.dstack((hh, hv, b3, c3)))\r\n",
        "            imgs.append(np.dstack((hh, hv, b3)))\r\n",
        "            #imgs.append(np.dstack((hh, hv, c3)))\r\n",
        "        else:\r\n",
        "            labels_no_inc.append(row[\"is_iceberg\"])\r\n",
        "\r\n",
        "            # Reshape list to image\r\n",
        "            hh_no_inc  = np.reshape(row[\"band_1\"], (75, 75))\r\n",
        "            hv_no_inc  = np.reshape(row[\"band_2\"], (75, 75))\r\n",
        "\r\n",
        "            # total backscatter = hh + hv\r\n",
        "            b3_no_inc = hh_no_inc + hv_no_inc\r\n",
        "            # cross polarisation ratio = hv / (hh+hv)\r\n",
        "            c3_no_inc = hv_no_inc / b3_no_inc\r\n",
        "\r\n",
        "            # \r\n",
        "            hh_no_inc = lee_filter(hh_no_inc, 20)\r\n",
        "            hv_no_inc = lee_filter(hv_no_inc, 20)\r\n",
        "            b3_no_inc = lee_filter(b3_no_inc, 20)      \r\n",
        "            c3_no_inc = lee_filter(c3_no_inc, 20) \r\n",
        "              \r\n",
        "            # Rescale images between 0 and 1 for faster convergence rate\r\n",
        "            #hh_no_inc = (hh_no_inc - hh_no_inc.min())/(hh_no_inc.max()-hh_no_inc.min())\r\n",
        "            #hv_no_inc = (hv_no_inc - hv_no_inc.min())/(hv_no_inc.max()-hv_no_inc.min())\r\n",
        "            #b3_no_inc = (b3_no_inc - b3_no_inc.min())/(b3_no_inc.max()-b3_no_inc.min())\r\n",
        "            \r\n",
        "            # Stack the bands and append them to imgs\r\n",
        "            #imgs_no_inc.append(np.dstack((hh_no_inc, hv_no_inc, b3_no_inc, c3_no_inc)))\r\n",
        "            imgs_no_inc.append(np.dstack((hh_no_inc, hv_no_inc, b3_no_inc)))\r\n",
        "            #imgs.append(np.dstack((hh, hv, c3)))\r\n",
        "\r\n",
        "    labels = np.array(labels)\r\n",
        "    labels_no_inc = np.array(labels_no_inc)\r\n",
        "    \r\n",
        "    # Split dataset into training (70%) and validation (30 %)                             \r\n",
        "    x_train, x_val, y_train, y_val = train_test_split(imgs, labels,\r\n",
        "                                                     test_size=0.3,\r\n",
        "                                                     random_state=0)\r\n",
        "    # Then split validation dataset into validation (20 %) and testing (10 %)\r\n",
        "    x_val, x_test, y_val, y_test = train_test_split(x_val, y_val,\r\n",
        "                                                     test_size=(1/3),\r\n",
        "                                                     random_state=0)\r\n",
        "\r\n",
        "    x_train_no_inc, x_val_no_inc, y_train_no_inc, y_val_no_inc = train_test_split(imgs_no_inc, labels_no_inc,\r\n",
        "                                                     test_size=0.3,\r\n",
        "                                                     random_state=0)\r\n",
        "    # Then split validation dataset into validation (20 %) and testing (10 %)\r\n",
        "    x_val_no_inc, x_test_no_inc, y_val_no_inc, y_test_no_inc = train_test_split(x_val_no_inc, y_val_no_inc,\r\n",
        "                                                     test_size=(1/3),\r\n",
        "                                                     random_state=0)\r\n",
        "\r\n",
        "    x_train = np.array(x_train)\r\n",
        "    x_test = np.array(x_test)\r\n",
        "    x_val = np.array(x_val)\r\n",
        "    x_train_no_inc = np.array(x_train_no_inc)\r\n",
        "    x_test_no_inc = np.array(x_test_no_inc)\r\n",
        "    x_val_no_inc = np.array(x_val_no_inc)\r\n",
        "\r\n",
        "    x_train = np.vstack((x_train, x_train_no_inc))\r\n",
        "    x_test = np.vstack((x_test, x_test_no_inc))\r\n",
        "    x_val = np.vstack((x_val, x_val_no_inc))\r\n",
        "\r\n",
        "    y_train = np.append(y_train, y_train_no_inc)\r\n",
        "    y_test = np.append(y_test, y_test_no_inc)\r\n",
        "    y_val = np.append(y_val, y_val_no_inc)\r\n",
        "    \r\n",
        "    return x_train, x_val, x_test, y_train, y_val, y_test"
      ],
      "execution_count": 92,
      "outputs": []
    },
    {
      "cell_type": "code",
      "metadata": {
        "colab": {
          "base_uri": "https://localhost:8080/"
        },
        "id": "28CxgXc60t2u",
        "outputId": "bf17878b-08de-415c-ac1a-802442c5d8ce"
      },
      "source": [
        "x_train, x_val, x_test, y_train, y_val, y_test = prepare_data(data)\r\n",
        "print(\"Number of samples for training: %i (%.2f%%)\"%(len(x_train), round(len(x_train)/len(data)*100)))\r\n",
        "print(\"Number of samples for validation: %i (%.2f%%)\"%(len(x_val), round(len(x_val)/len(data)*100)))\r\n",
        "print(\"Number of samples for testing: %i (%.2f%%)\"%(len(x_test), round(len(x_test)/len(data)*100)))"
      ],
      "execution_count": 93,
      "outputs": [
        {
          "output_type": "stream",
          "text": [
            "Number of samples for training: 1122 (70.00%)\n",
            "Number of samples for validation: 320 (20.00%)\n",
            "Number of samples for testing: 162 (10.00%)\n"
          ],
          "name": "stdout"
        }
      ]
    },
    {
      "cell_type": "code",
      "metadata": {
        "id": "LCyj6yw9fRAJ"
      },
      "source": [
        "batch_size = 32\r\n",
        "gen = ImageDataGenerator(\r\n",
        "    rotation_range = 90,\r\n",
        "    width_shift_range = 0.2,\r\n",
        "    height_shift_range = 0.2,\r\n",
        "    shear_range = 0.2,\r\n",
        "    zoom_range = 0.2,\r\n",
        "    horizontal_flip = True,\r\n",
        "    fill_mode = 'nearest')\r\n",
        "\r\n",
        "gen_flow = gen.flow(x_train, y_train, batch_size = batch_size, seed = 666)\r\n"
      ],
      "execution_count": 94,
      "outputs": []
    },
    {
      "cell_type": "code",
      "metadata": {
        "id": "lVC3fO7Hw5Uv",
        "colab": {
          "base_uri": "https://localhost:8080/"
        },
        "outputId": "389368c9-05e1-49f8-d43e-906318be0a9b"
      },
      "source": [
        "def create_model(optimizer):\r\n",
        "    ac_fct      = \"relu\"\r\n",
        "    #momentum    = 0\r\n",
        "\r\n",
        "    input_img   = Input(shape=(75, 75, 3), name=\"X_img\")\r\n",
        "    #input_img   = Input(shape=(75, 75, 4), name=\"X_img\")\r\n",
        "    #input_angle = Input(shape=[1], name=\"angle\")\r\n",
        "\r\n",
        "    #cnn = BatchNormalization()(input_img)\r\n",
        "    cnn = Conv2D(16, kernel_size=(3,3), activation = \"relu\")(input_img)\r\n",
        "    #cnn = Conv2D(16, kernel_size=(3,3), activation = \"relu\")(cnn)\r\n",
        "    cnn = MaxPooling2D((2,2))(cnn)\r\n",
        "    cnn = Dropout(0.1) (cnn)\r\n",
        "\r\n",
        "    cnn = Conv2D(32, kernel_size=(3,3), activation = \"relu\")(cnn)\r\n",
        "    #cnn = Conv2D(32, kernel_size=(3,3), activation = \"relu\")(cnn)\r\n",
        "    cnn = MaxPooling2D((2,2))(cnn)\r\n",
        "    cnn = Dropout(0.1)(cnn)\r\n",
        "\r\n",
        "    cnn = Conv2D(64, kernel_size=(3,3), activation = \"relu\")(cnn)\r\n",
        "    #cnn = Conv2D(64, kernel_size=(3,3), activation = \"relu\") (cnn)\r\n",
        "    cnn = MaxPooling2D((2,2))(cnn)\r\n",
        "    cnn = Dropout(0.1)(cnn)  \r\n",
        "\r\n",
        "    cnn = Conv2D(128, kernel_size=(3,3), activation = \"relu\")(cnn)\r\n",
        "    cnn = Conv2D(128, kernel_size=(3,3), activation = \"relu\") (cnn)\r\n",
        "    cnn = MaxPooling2D((2,2))(cnn)\r\n",
        "    cnn = Dropout(0.1)(cnn)  \r\n",
        "    \r\n",
        "\r\n",
        "    cnn = GlobalMaxPooling2D()(cnn)\r\n",
        "\r\n",
        "    #angle = BatchNormalization(momentum=0)(input_angle)\r\n",
        "    #angle = Lambda(lambda x: (x - 25)/(45-25))(input_angle)\r\n",
        "    \r\n",
        "    #concat = (Concatenate()([cnn, angle]))\r\n",
        "\r\n",
        "    #dense = Dense(32, activation=\"relu\") (concat)\r\n",
        "    dense = Dense(32, activation=\"relu\")(cnn)\r\n",
        "    # dense = BatchNormalization() (dense)\r\n",
        "    # dense = Dropout(0.2)(dense)\r\n",
        "    \r\n",
        "    #dense = Dense(128, activation=\"relu\") (dense)\r\n",
        "    #dense = BatchNormalization() (dense)\r\n",
        "    #dense = Dropout(0.2)(dense)\r\n",
        "\r\n",
        "    #dense = Dense(128, activation=\"relu\") (dense)\r\n",
        "    #dense = BatchNormalization() (dense)\r\n",
        "    #dense = Dropout(0.2)(dense)\r\n",
        "\r\n",
        "    output = Dense(1, activation=\"sigmoid\")(dense)\r\n",
        "\r\n",
        "    #model = Model([input_img, input_angle], output)\r\n",
        "    model = Model(input_img, output)\r\n",
        "    #optimizer = Adam(lr=0.1, epsilon=1e-08, decay=0.0)\r\n",
        "    model.compile(loss=\"binary_crossentropy\", optimizer=optimizer, metrics=[\"accuracy\"])\r\n",
        "    return model\r\n",
        "\r\n",
        "epochs = 250\r\n",
        "# learning_rate = 0.1\r\n",
        "# decay_rate = learning_rate / epochs\r\n",
        "# momentum = 0.8\r\n",
        "# sgd = SGD(lr=learning_rate, momentum=momentum, decay=decay_rate, nesterov=False)\r\n",
        "\r\n",
        "# from keras.optimizers import Adadelta\r\n",
        "model = create_model(optimizer = Adam())\r\n",
        "model.summary()"
      ],
      "execution_count": 95,
      "outputs": [
        {
          "output_type": "stream",
          "text": [
            "Model: \"model_7\"\n",
            "_________________________________________________________________\n",
            "Layer (type)                 Output Shape              Param #   \n",
            "=================================================================\n",
            "X_img (InputLayer)           [(None, 75, 75, 3)]       0         \n",
            "_________________________________________________________________\n",
            "conv2d_35 (Conv2D)           (None, 73, 73, 16)        448       \n",
            "_________________________________________________________________\n",
            "max_pooling2d_28 (MaxPooling (None, 36, 36, 16)        0         \n",
            "_________________________________________________________________\n",
            "dropout_28 (Dropout)         (None, 36, 36, 16)        0         \n",
            "_________________________________________________________________\n",
            "conv2d_36 (Conv2D)           (None, 34, 34, 32)        4640      \n",
            "_________________________________________________________________\n",
            "max_pooling2d_29 (MaxPooling (None, 17, 17, 32)        0         \n",
            "_________________________________________________________________\n",
            "dropout_29 (Dropout)         (None, 17, 17, 32)        0         \n",
            "_________________________________________________________________\n",
            "conv2d_37 (Conv2D)           (None, 15, 15, 64)        18496     \n",
            "_________________________________________________________________\n",
            "max_pooling2d_30 (MaxPooling (None, 7, 7, 64)          0         \n",
            "_________________________________________________________________\n",
            "dropout_30 (Dropout)         (None, 7, 7, 64)          0         \n",
            "_________________________________________________________________\n",
            "conv2d_38 (Conv2D)           (None, 5, 5, 128)         73856     \n",
            "_________________________________________________________________\n",
            "conv2d_39 (Conv2D)           (None, 3, 3, 128)         147584    \n",
            "_________________________________________________________________\n",
            "max_pooling2d_31 (MaxPooling (None, 1, 1, 128)         0         \n",
            "_________________________________________________________________\n",
            "dropout_31 (Dropout)         (None, 1, 1, 128)         0         \n",
            "_________________________________________________________________\n",
            "global_max_pooling2d_7 (Glob (None, 128)               0         \n",
            "_________________________________________________________________\n",
            "dense_14 (Dense)             (None, 32)                4128      \n",
            "_________________________________________________________________\n",
            "dense_15 (Dense)             (None, 1)                 33        \n",
            "=================================================================\n",
            "Total params: 249,185\n",
            "Trainable params: 249,185\n",
            "Non-trainable params: 0\n",
            "_________________________________________________________________\n"
          ],
          "name": "stdout"
        }
      ]
    },
    {
      "cell_type": "markdown",
      "metadata": {
        "id": "IpDHGNPh1KSV"
      },
      "source": [
        "# Train the Model"
      ]
    },
    {
      "cell_type": "code",
      "metadata": {
        "id": "BJbwtdGeNO02",
        "colab": {
          "base_uri": "https://localhost:8080/"
        },
        "outputId": "24ed6c18-1498-46dc-a46b-ff63fb01df8a"
      },
      "source": [
        "history = model.fit(gen_flow, validation_data=(x_val, y_val),\r\n",
        "                    steps_per_epoch=len(x_train) / batch_size, epochs=epochs)\r\n"
      ],
      "execution_count": 96,
      "outputs": [
        {
          "output_type": "stream",
          "text": [
            "Epoch 1/250\n",
            "35/35 [==============================] - 2s 49ms/step - loss: 1.0064 - accuracy: 0.5364 - val_loss: 0.6927 - val_accuracy: 0.5219\n",
            "Epoch 2/250\n",
            "35/35 [==============================] - 2s 45ms/step - loss: 0.6825 - accuracy: 0.5232 - val_loss: 0.5841 - val_accuracy: 0.5437\n",
            "Epoch 3/250\n",
            "35/35 [==============================] - 2s 46ms/step - loss: 0.5978 - accuracy: 0.5853 - val_loss: 0.5432 - val_accuracy: 0.7063\n",
            "Epoch 4/250\n",
            "35/35 [==============================] - 2s 46ms/step - loss: 0.5779 - accuracy: 0.6447 - val_loss: 0.5504 - val_accuracy: 0.5750\n",
            "Epoch 5/250\n",
            "35/35 [==============================] - 2s 46ms/step - loss: 0.5759 - accuracy: 0.6400 - val_loss: 0.5309 - val_accuracy: 0.7094\n",
            "Epoch 6/250\n",
            "35/35 [==============================] - 2s 46ms/step - loss: 0.5687 - accuracy: 0.7058 - val_loss: 0.5273 - val_accuracy: 0.7063\n",
            "Epoch 7/250\n",
            "35/35 [==============================] - 2s 47ms/step - loss: 0.5558 - accuracy: 0.6906 - val_loss: 0.5432 - val_accuracy: 0.6031\n",
            "Epoch 8/250\n",
            "35/35 [==============================] - 2s 46ms/step - loss: 0.5736 - accuracy: 0.6453 - val_loss: 0.5163 - val_accuracy: 0.7219\n",
            "Epoch 9/250\n",
            "35/35 [==============================] - 2s 46ms/step - loss: 0.5347 - accuracy: 0.7355 - val_loss: 0.5106 - val_accuracy: 0.7312\n",
            "Epoch 10/250\n",
            "35/35 [==============================] - 2s 46ms/step - loss: 0.4525 - accuracy: 0.7883 - val_loss: 0.7558 - val_accuracy: 0.6281\n",
            "Epoch 11/250\n",
            "35/35 [==============================] - 2s 46ms/step - loss: 0.5263 - accuracy: 0.7407 - val_loss: 0.4864 - val_accuracy: 0.7563\n",
            "Epoch 12/250\n",
            "35/35 [==============================] - 2s 46ms/step - loss: 0.5122 - accuracy: 0.7523 - val_loss: 0.4470 - val_accuracy: 0.7781\n",
            "Epoch 13/250\n",
            "35/35 [==============================] - 2s 45ms/step - loss: 0.4651 - accuracy: 0.7642 - val_loss: 0.4573 - val_accuracy: 0.7625\n",
            "Epoch 14/250\n",
            "35/35 [==============================] - 2s 46ms/step - loss: 0.4623 - accuracy: 0.7830 - val_loss: 0.4550 - val_accuracy: 0.7594\n",
            "Epoch 15/250\n",
            "35/35 [==============================] - 2s 46ms/step - loss: 0.4884 - accuracy: 0.7445 - val_loss: 0.5331 - val_accuracy: 0.7031\n",
            "Epoch 16/250\n",
            "35/35 [==============================] - 2s 45ms/step - loss: 0.5326 - accuracy: 0.6778 - val_loss: 0.4511 - val_accuracy: 0.8000\n",
            "Epoch 17/250\n",
            "35/35 [==============================] - 2s 46ms/step - loss: 0.4530 - accuracy: 0.7830 - val_loss: 0.4804 - val_accuracy: 0.7750\n",
            "Epoch 18/250\n",
            "35/35 [==============================] - 2s 47ms/step - loss: 0.4571 - accuracy: 0.7799 - val_loss: 0.4605 - val_accuracy: 0.7812\n",
            "Epoch 19/250\n",
            "35/35 [==============================] - 2s 47ms/step - loss: 0.4471 - accuracy: 0.7879 - val_loss: 0.4539 - val_accuracy: 0.7688\n",
            "Epoch 20/250\n",
            "35/35 [==============================] - 2s 46ms/step - loss: 0.4447 - accuracy: 0.7887 - val_loss: 0.4183 - val_accuracy: 0.8062\n",
            "Epoch 21/250\n",
            "35/35 [==============================] - 2s 45ms/step - loss: 0.4150 - accuracy: 0.8108 - val_loss: 0.4348 - val_accuracy: 0.7750\n",
            "Epoch 22/250\n",
            "35/35 [==============================] - 2s 45ms/step - loss: 0.4583 - accuracy: 0.7587 - val_loss: 0.4341 - val_accuracy: 0.7969\n",
            "Epoch 23/250\n",
            "35/35 [==============================] - 2s 46ms/step - loss: 0.4151 - accuracy: 0.8066 - val_loss: 0.4308 - val_accuracy: 0.7719\n",
            "Epoch 24/250\n",
            "35/35 [==============================] - 2s 46ms/step - loss: 0.4698 - accuracy: 0.7610 - val_loss: 0.4622 - val_accuracy: 0.7688\n",
            "Epoch 25/250\n",
            "35/35 [==============================] - 2s 47ms/step - loss: 0.4959 - accuracy: 0.7456 - val_loss: 0.4668 - val_accuracy: 0.7719\n",
            "Epoch 26/250\n",
            "35/35 [==============================] - 2s 46ms/step - loss: 0.4440 - accuracy: 0.8025 - val_loss: 0.4298 - val_accuracy: 0.7844\n",
            "Epoch 27/250\n",
            "35/35 [==============================] - 2s 45ms/step - loss: 0.4312 - accuracy: 0.7879 - val_loss: 0.3946 - val_accuracy: 0.8375\n",
            "Epoch 28/250\n",
            "35/35 [==============================] - 2s 46ms/step - loss: 0.3774 - accuracy: 0.8403 - val_loss: 0.4093 - val_accuracy: 0.8031\n",
            "Epoch 29/250\n",
            "35/35 [==============================] - 2s 47ms/step - loss: 0.4379 - accuracy: 0.7918 - val_loss: 0.3592 - val_accuracy: 0.8313\n",
            "Epoch 30/250\n",
            "35/35 [==============================] - 2s 47ms/step - loss: 0.3700 - accuracy: 0.8466 - val_loss: 0.3595 - val_accuracy: 0.8438\n",
            "Epoch 31/250\n",
            "35/35 [==============================] - 2s 46ms/step - loss: 0.3534 - accuracy: 0.8341 - val_loss: 0.3708 - val_accuracy: 0.8250\n",
            "Epoch 32/250\n",
            "35/35 [==============================] - 2s 57ms/step - loss: 0.4172 - accuracy: 0.8130 - val_loss: 0.4907 - val_accuracy: 0.7344\n",
            "Epoch 33/250\n",
            "35/35 [==============================] - 2s 47ms/step - loss: 0.4199 - accuracy: 0.7980 - val_loss: 0.3981 - val_accuracy: 0.8156\n",
            "Epoch 34/250\n",
            "35/35 [==============================] - 2s 47ms/step - loss: 0.3792 - accuracy: 0.8397 - val_loss: 0.4019 - val_accuracy: 0.7937\n",
            "Epoch 35/250\n",
            "35/35 [==============================] - 2s 46ms/step - loss: 0.3792 - accuracy: 0.8353 - val_loss: 0.3962 - val_accuracy: 0.8375\n",
            "Epoch 36/250\n",
            "35/35 [==============================] - 2s 46ms/step - loss: 0.4083 - accuracy: 0.8441 - val_loss: 0.3534 - val_accuracy: 0.8250\n",
            "Epoch 37/250\n",
            "35/35 [==============================] - 2s 46ms/step - loss: 0.3813 - accuracy: 0.8130 - val_loss: 0.4697 - val_accuracy: 0.7781\n",
            "Epoch 38/250\n",
            "35/35 [==============================] - 2s 47ms/step - loss: 0.4252 - accuracy: 0.7942 - val_loss: 0.4005 - val_accuracy: 0.8094\n",
            "Epoch 39/250\n",
            "35/35 [==============================] - 2s 47ms/step - loss: 0.3604 - accuracy: 0.8397 - val_loss: 0.3970 - val_accuracy: 0.8219\n",
            "Epoch 40/250\n",
            "35/35 [==============================] - 2s 46ms/step - loss: 0.3944 - accuracy: 0.8278 - val_loss: 0.3583 - val_accuracy: 0.8406\n",
            "Epoch 41/250\n",
            "35/35 [==============================] - 2s 47ms/step - loss: 0.3583 - accuracy: 0.8363 - val_loss: 0.3242 - val_accuracy: 0.8562\n",
            "Epoch 42/250\n",
            "35/35 [==============================] - 2s 46ms/step - loss: 0.3518 - accuracy: 0.8398 - val_loss: 0.4107 - val_accuracy: 0.8000\n",
            "Epoch 43/250\n",
            "35/35 [==============================] - 2s 45ms/step - loss: 0.3694 - accuracy: 0.8403 - val_loss: 0.3502 - val_accuracy: 0.8500\n",
            "Epoch 44/250\n",
            "35/35 [==============================] - 2s 46ms/step - loss: 0.3593 - accuracy: 0.8203 - val_loss: 0.3314 - val_accuracy: 0.8562\n",
            "Epoch 45/250\n",
            "35/35 [==============================] - 2s 46ms/step - loss: 0.3693 - accuracy: 0.8393 - val_loss: 0.4060 - val_accuracy: 0.8281\n",
            "Epoch 46/250\n",
            "35/35 [==============================] - 2s 47ms/step - loss: 0.3902 - accuracy: 0.8159 - val_loss: 0.3734 - val_accuracy: 0.8062\n",
            "Epoch 47/250\n",
            "35/35 [==============================] - 2s 48ms/step - loss: 0.3565 - accuracy: 0.8347 - val_loss: 0.3292 - val_accuracy: 0.8344\n",
            "Epoch 48/250\n",
            "35/35 [==============================] - 2s 47ms/step - loss: 0.3494 - accuracy: 0.8493 - val_loss: 0.3233 - val_accuracy: 0.8438\n",
            "Epoch 49/250\n",
            "35/35 [==============================] - 2s 46ms/step - loss: 0.3475 - accuracy: 0.8494 - val_loss: 0.3165 - val_accuracy: 0.8687\n",
            "Epoch 50/250\n",
            "35/35 [==============================] - 2s 48ms/step - loss: 0.3085 - accuracy: 0.8623 - val_loss: 0.3256 - val_accuracy: 0.8531\n",
            "Epoch 51/250\n",
            "35/35 [==============================] - 2s 46ms/step - loss: 0.3333 - accuracy: 0.8513 - val_loss: 0.3818 - val_accuracy: 0.8281\n",
            "Epoch 52/250\n",
            "35/35 [==============================] - 2s 49ms/step - loss: 0.3428 - accuracy: 0.8405 - val_loss: 0.3908 - val_accuracy: 0.8000\n",
            "Epoch 53/250\n",
            "35/35 [==============================] - 2s 47ms/step - loss: 0.3688 - accuracy: 0.8240 - val_loss: 0.3228 - val_accuracy: 0.8625\n",
            "Epoch 54/250\n",
            "35/35 [==============================] - 2s 47ms/step - loss: 0.3609 - accuracy: 0.8377 - val_loss: 0.3480 - val_accuracy: 0.8438\n",
            "Epoch 55/250\n",
            "35/35 [==============================] - 2s 48ms/step - loss: 0.3476 - accuracy: 0.8495 - val_loss: 0.3126 - val_accuracy: 0.8656\n",
            "Epoch 56/250\n",
            "35/35 [==============================] - 2s 47ms/step - loss: 0.3269 - accuracy: 0.8535 - val_loss: 0.3315 - val_accuracy: 0.8500\n",
            "Epoch 57/250\n",
            "35/35 [==============================] - 2s 48ms/step - loss: 0.3327 - accuracy: 0.8330 - val_loss: 0.4064 - val_accuracy: 0.8062\n",
            "Epoch 58/250\n",
            "35/35 [==============================] - 2s 48ms/step - loss: 0.4124 - accuracy: 0.8104 - val_loss: 0.3806 - val_accuracy: 0.8188\n",
            "Epoch 59/250\n",
            "35/35 [==============================] - 2s 47ms/step - loss: 0.3804 - accuracy: 0.8263 - val_loss: 0.3483 - val_accuracy: 0.8375\n",
            "Epoch 60/250\n",
            "35/35 [==============================] - 2s 46ms/step - loss: 0.3351 - accuracy: 0.8452 - val_loss: 0.3306 - val_accuracy: 0.8344\n",
            "Epoch 61/250\n",
            "35/35 [==============================] - 2s 47ms/step - loss: 0.3550 - accuracy: 0.8075 - val_loss: 0.3245 - val_accuracy: 0.8531\n",
            "Epoch 62/250\n",
            "35/35 [==============================] - 2s 47ms/step - loss: 0.3388 - accuracy: 0.8581 - val_loss: 0.3460 - val_accuracy: 0.8469\n",
            "Epoch 63/250\n",
            "35/35 [==============================] - 2s 48ms/step - loss: 0.3926 - accuracy: 0.8065 - val_loss: 0.3591 - val_accuracy: 0.8250\n",
            "Epoch 64/250\n",
            "35/35 [==============================] - 2s 46ms/step - loss: 0.3440 - accuracy: 0.8358 - val_loss: 0.3215 - val_accuracy: 0.8531\n",
            "Epoch 65/250\n",
            "35/35 [==============================] - 2s 47ms/step - loss: 0.2959 - accuracy: 0.8684 - val_loss: 0.3229 - val_accuracy: 0.8469\n",
            "Epoch 66/250\n",
            "35/35 [==============================] - 2s 48ms/step - loss: 0.3686 - accuracy: 0.8252 - val_loss: 0.3287 - val_accuracy: 0.8562\n",
            "Epoch 67/250\n",
            "35/35 [==============================] - 2s 47ms/step - loss: 0.3275 - accuracy: 0.8595 - val_loss: 0.3103 - val_accuracy: 0.8687\n",
            "Epoch 68/250\n",
            "35/35 [==============================] - 2s 47ms/step - loss: 0.3511 - accuracy: 0.8279 - val_loss: 0.2955 - val_accuracy: 0.8656\n",
            "Epoch 69/250\n",
            "35/35 [==============================] - 2s 48ms/step - loss: 0.3742 - accuracy: 0.8318 - val_loss: 0.3362 - val_accuracy: 0.8438\n",
            "Epoch 70/250\n",
            "35/35 [==============================] - 2s 47ms/step - loss: 0.3712 - accuracy: 0.8203 - val_loss: 0.3158 - val_accuracy: 0.8656\n",
            "Epoch 71/250\n",
            "35/35 [==============================] - 2s 47ms/step - loss: 0.3328 - accuracy: 0.8446 - val_loss: 0.3049 - val_accuracy: 0.8750\n",
            "Epoch 72/250\n",
            "35/35 [==============================] - 2s 47ms/step - loss: 0.3580 - accuracy: 0.8537 - val_loss: 0.3171 - val_accuracy: 0.8813\n",
            "Epoch 73/250\n",
            "35/35 [==============================] - 2s 46ms/step - loss: 0.3342 - accuracy: 0.8385 - val_loss: 0.3264 - val_accuracy: 0.8719\n",
            "Epoch 74/250\n",
            "35/35 [==============================] - 2s 47ms/step - loss: 0.3323 - accuracy: 0.8447 - val_loss: 0.4174 - val_accuracy: 0.8156\n",
            "Epoch 75/250\n",
            "35/35 [==============================] - 2s 47ms/step - loss: 0.3180 - accuracy: 0.8603 - val_loss: 0.2919 - val_accuracy: 0.8781\n",
            "Epoch 76/250\n",
            "35/35 [==============================] - 2s 47ms/step - loss: 0.3402 - accuracy: 0.8494 - val_loss: 0.3117 - val_accuracy: 0.8687\n",
            "Epoch 77/250\n",
            "35/35 [==============================] - 2s 47ms/step - loss: 0.3276 - accuracy: 0.8413 - val_loss: 0.3337 - val_accuracy: 0.8438\n",
            "Epoch 78/250\n",
            "35/35 [==============================] - 2s 46ms/step - loss: 0.3740 - accuracy: 0.8135 - val_loss: 0.3411 - val_accuracy: 0.8625\n",
            "Epoch 79/250\n",
            "35/35 [==============================] - 2s 47ms/step - loss: 0.3812 - accuracy: 0.8208 - val_loss: 0.3712 - val_accuracy: 0.8125\n",
            "Epoch 80/250\n",
            "35/35 [==============================] - 2s 47ms/step - loss: 0.3392 - accuracy: 0.8417 - val_loss: 0.3369 - val_accuracy: 0.8562\n",
            "Epoch 81/250\n",
            "35/35 [==============================] - 2s 54ms/step - loss: 0.3153 - accuracy: 0.8571 - val_loss: 0.3371 - val_accuracy: 0.8625\n",
            "Epoch 82/250\n",
            "35/35 [==============================] - 2s 46ms/step - loss: 0.2962 - accuracy: 0.8595 - val_loss: 0.3559 - val_accuracy: 0.8531\n",
            "Epoch 83/250\n",
            "35/35 [==============================] - 2s 46ms/step - loss: 0.3158 - accuracy: 0.8545 - val_loss: 0.3326 - val_accuracy: 0.8656\n",
            "Epoch 84/250\n",
            "35/35 [==============================] - 2s 47ms/step - loss: 0.3459 - accuracy: 0.8522 - val_loss: 0.3030 - val_accuracy: 0.8781\n",
            "Epoch 85/250\n",
            "35/35 [==============================] - 2s 46ms/step - loss: 0.3206 - accuracy: 0.8381 - val_loss: 0.3202 - val_accuracy: 0.8562\n",
            "Epoch 86/250\n",
            "35/35 [==============================] - 2s 45ms/step - loss: 0.3372 - accuracy: 0.8359 - val_loss: 0.3423 - val_accuracy: 0.8500\n",
            "Epoch 87/250\n",
            "35/35 [==============================] - 2s 47ms/step - loss: 0.3185 - accuracy: 0.8580 - val_loss: 0.3379 - val_accuracy: 0.8438\n",
            "Epoch 88/250\n",
            "35/35 [==============================] - 2s 47ms/step - loss: 0.2959 - accuracy: 0.8725 - val_loss: 0.3045 - val_accuracy: 0.8594\n",
            "Epoch 89/250\n",
            "35/35 [==============================] - 2s 47ms/step - loss: 0.3257 - accuracy: 0.8612 - val_loss: 0.3460 - val_accuracy: 0.8500\n",
            "Epoch 90/250\n",
            "35/35 [==============================] - 2s 48ms/step - loss: 0.3689 - accuracy: 0.8346 - val_loss: 0.3208 - val_accuracy: 0.8469\n",
            "Epoch 91/250\n",
            "35/35 [==============================] - 2s 47ms/step - loss: 0.3587 - accuracy: 0.8373 - val_loss: 0.3012 - val_accuracy: 0.8750\n",
            "Epoch 92/250\n",
            "35/35 [==============================] - 2s 47ms/step - loss: 0.3121 - accuracy: 0.8601 - val_loss: 0.3358 - val_accuracy: 0.8687\n",
            "Epoch 93/250\n",
            "35/35 [==============================] - 2s 46ms/step - loss: 0.3658 - accuracy: 0.8275 - val_loss: 0.3950 - val_accuracy: 0.8281\n",
            "Epoch 94/250\n",
            "35/35 [==============================] - 2s 46ms/step - loss: 0.3573 - accuracy: 0.8371 - val_loss: 0.3237 - val_accuracy: 0.8562\n",
            "Epoch 95/250\n",
            "35/35 [==============================] - 2s 47ms/step - loss: 0.3327 - accuracy: 0.8350 - val_loss: 0.3131 - val_accuracy: 0.8719\n",
            "Epoch 96/250\n",
            "35/35 [==============================] - 2s 46ms/step - loss: 0.3386 - accuracy: 0.8258 - val_loss: 0.3270 - val_accuracy: 0.8594\n",
            "Epoch 97/250\n",
            "35/35 [==============================] - 2s 46ms/step - loss: 0.3129 - accuracy: 0.8544 - val_loss: 0.3193 - val_accuracy: 0.8594\n",
            "Epoch 98/250\n",
            "35/35 [==============================] - 2s 46ms/step - loss: 0.3456 - accuracy: 0.8474 - val_loss: 0.3188 - val_accuracy: 0.8562\n",
            "Epoch 99/250\n",
            "35/35 [==============================] - 2s 46ms/step - loss: 0.3180 - accuracy: 0.8461 - val_loss: 0.3696 - val_accuracy: 0.8156\n",
            "Epoch 100/250\n",
            "35/35 [==============================] - 2s 47ms/step - loss: 0.3270 - accuracy: 0.8384 - val_loss: 0.3698 - val_accuracy: 0.8344\n",
            "Epoch 101/250\n",
            "35/35 [==============================] - 2s 48ms/step - loss: 0.3418 - accuracy: 0.8217 - val_loss: 0.3339 - val_accuracy: 0.8500\n",
            "Epoch 102/250\n",
            "35/35 [==============================] - 2s 48ms/step - loss: 0.3204 - accuracy: 0.8502 - val_loss: 0.3489 - val_accuracy: 0.8469\n",
            "Epoch 103/250\n",
            "35/35 [==============================] - 2s 47ms/step - loss: 0.3433 - accuracy: 0.8430 - val_loss: 0.4158 - val_accuracy: 0.8375\n",
            "Epoch 104/250\n",
            "35/35 [==============================] - 2s 48ms/step - loss: 0.3591 - accuracy: 0.8352 - val_loss: 0.3716 - val_accuracy: 0.8313\n",
            "Epoch 105/250\n",
            "35/35 [==============================] - 2s 48ms/step - loss: 0.3210 - accuracy: 0.8489 - val_loss: 0.3671 - val_accuracy: 0.8469\n",
            "Epoch 106/250\n",
            "35/35 [==============================] - 2s 48ms/step - loss: 0.3086 - accuracy: 0.8574 - val_loss: 0.3379 - val_accuracy: 0.8531\n",
            "Epoch 107/250\n",
            "35/35 [==============================] - 2s 46ms/step - loss: 0.3353 - accuracy: 0.8332 - val_loss: 0.3636 - val_accuracy: 0.8313\n",
            "Epoch 108/250\n",
            "35/35 [==============================] - 2s 47ms/step - loss: 0.3401 - accuracy: 0.8389 - val_loss: 0.4009 - val_accuracy: 0.8125\n",
            "Epoch 109/250\n",
            "35/35 [==============================] - 2s 47ms/step - loss: 0.3145 - accuracy: 0.8532 - val_loss: 0.3081 - val_accuracy: 0.8594\n",
            "Epoch 110/250\n",
            "35/35 [==============================] - 2s 46ms/step - loss: 0.3167 - accuracy: 0.8609 - val_loss: 0.3161 - val_accuracy: 0.8656\n",
            "Epoch 111/250\n",
            "35/35 [==============================] - 2s 47ms/step - loss: 0.3151 - accuracy: 0.8578 - val_loss: 0.3339 - val_accuracy: 0.8687\n",
            "Epoch 112/250\n",
            "35/35 [==============================] - 2s 47ms/step - loss: 0.2980 - accuracy: 0.8605 - val_loss: 0.3226 - val_accuracy: 0.8531\n",
            "Epoch 113/250\n",
            "35/35 [==============================] - 2s 46ms/step - loss: 0.3079 - accuracy: 0.8602 - val_loss: 0.3316 - val_accuracy: 0.8406\n",
            "Epoch 114/250\n",
            "35/35 [==============================] - 2s 47ms/step - loss: 0.2994 - accuracy: 0.8626 - val_loss: 0.3149 - val_accuracy: 0.8594\n",
            "Epoch 115/250\n",
            "35/35 [==============================] - 2s 48ms/step - loss: 0.2960 - accuracy: 0.8637 - val_loss: 0.3225 - val_accuracy: 0.8531\n",
            "Epoch 116/250\n",
            "35/35 [==============================] - 2s 48ms/step - loss: 0.3113 - accuracy: 0.8487 - val_loss: 0.3566 - val_accuracy: 0.8281\n",
            "Epoch 117/250\n",
            "35/35 [==============================] - 2s 50ms/step - loss: 0.3255 - accuracy: 0.8330 - val_loss: 0.3219 - val_accuracy: 0.8500\n",
            "Epoch 118/250\n",
            "35/35 [==============================] - 2s 49ms/step - loss: 0.3255 - accuracy: 0.8439 - val_loss: 0.3658 - val_accuracy: 0.8125\n",
            "Epoch 119/250\n",
            "35/35 [==============================] - 2s 47ms/step - loss: 0.3489 - accuracy: 0.8359 - val_loss: 0.2957 - val_accuracy: 0.8719\n",
            "Epoch 120/250\n",
            "35/35 [==============================] - 2s 49ms/step - loss: 0.2893 - accuracy: 0.8671 - val_loss: 0.3275 - val_accuracy: 0.8656\n",
            "Epoch 121/250\n",
            "35/35 [==============================] - 2s 49ms/step - loss: 0.3672 - accuracy: 0.8356 - val_loss: 0.3558 - val_accuracy: 0.8219\n",
            "Epoch 122/250\n",
            "35/35 [==============================] - 2s 47ms/step - loss: 0.3441 - accuracy: 0.8287 - val_loss: 0.3469 - val_accuracy: 0.8344\n",
            "Epoch 123/250\n",
            "35/35 [==============================] - 2s 50ms/step - loss: 0.3560 - accuracy: 0.8259 - val_loss: 0.3468 - val_accuracy: 0.8250\n",
            "Epoch 124/250\n",
            "35/35 [==============================] - 2s 48ms/step - loss: 0.3672 - accuracy: 0.8194 - val_loss: 0.3175 - val_accuracy: 0.8531\n",
            "Epoch 125/250\n",
            "35/35 [==============================] - 2s 48ms/step - loss: 0.3023 - accuracy: 0.8585 - val_loss: 0.3378 - val_accuracy: 0.8469\n",
            "Epoch 126/250\n",
            "35/35 [==============================] - 2s 48ms/step - loss: 0.3335 - accuracy: 0.8445 - val_loss: 0.3051 - val_accuracy: 0.8656\n",
            "Epoch 127/250\n",
            "35/35 [==============================] - 2s 48ms/step - loss: 0.3567 - accuracy: 0.8330 - val_loss: 0.3600 - val_accuracy: 0.8438\n",
            "Epoch 128/250\n",
            "35/35 [==============================] - 2s 54ms/step - loss: 0.3038 - accuracy: 0.8672 - val_loss: 0.3263 - val_accuracy: 0.8656\n",
            "Epoch 129/250\n",
            "35/35 [==============================] - 2s 47ms/step - loss: 0.2919 - accuracy: 0.8575 - val_loss: 0.3644 - val_accuracy: 0.8469\n",
            "Epoch 130/250\n",
            "35/35 [==============================] - 2s 48ms/step - loss: 0.3428 - accuracy: 0.8446 - val_loss: 0.3183 - val_accuracy: 0.8594\n",
            "Epoch 131/250\n",
            "35/35 [==============================] - 2s 46ms/step - loss: 0.3013 - accuracy: 0.8521 - val_loss: 0.3482 - val_accuracy: 0.8438\n",
            "Epoch 132/250\n",
            "35/35 [==============================] - 2s 46ms/step - loss: 0.2754 - accuracy: 0.8954 - val_loss: 0.3324 - val_accuracy: 0.8531\n",
            "Epoch 133/250\n",
            "35/35 [==============================] - 2s 47ms/step - loss: 0.2806 - accuracy: 0.8724 - val_loss: 0.3245 - val_accuracy: 0.8469\n",
            "Epoch 134/250\n",
            "35/35 [==============================] - 2s 46ms/step - loss: 0.2769 - accuracy: 0.8703 - val_loss: 0.3276 - val_accuracy: 0.8438\n",
            "Epoch 135/250\n",
            "35/35 [==============================] - 2s 46ms/step - loss: 0.2973 - accuracy: 0.8563 - val_loss: 0.3461 - val_accuracy: 0.8375\n",
            "Epoch 136/250\n",
            "35/35 [==============================] - 2s 48ms/step - loss: 0.3170 - accuracy: 0.8601 - val_loss: 0.4012 - val_accuracy: 0.8344\n",
            "Epoch 137/250\n",
            "35/35 [==============================] - 2s 46ms/step - loss: 0.3371 - accuracy: 0.8525 - val_loss: 0.3356 - val_accuracy: 0.8344\n",
            "Epoch 138/250\n",
            "35/35 [==============================] - 2s 47ms/step - loss: 0.3339 - accuracy: 0.8575 - val_loss: 0.3451 - val_accuracy: 0.8281\n",
            "Epoch 139/250\n",
            "35/35 [==============================] - 2s 47ms/step - loss: 0.3024 - accuracy: 0.8536 - val_loss: 0.3011 - val_accuracy: 0.8781\n",
            "Epoch 140/250\n",
            "35/35 [==============================] - 2s 47ms/step - loss: 0.3599 - accuracy: 0.8308 - val_loss: 0.3144 - val_accuracy: 0.8469\n",
            "Epoch 141/250\n",
            "35/35 [==============================] - 2s 47ms/step - loss: 0.3095 - accuracy: 0.8522 - val_loss: 0.3091 - val_accuracy: 0.8594\n",
            "Epoch 142/250\n",
            "35/35 [==============================] - 2s 47ms/step - loss: 0.2965 - accuracy: 0.8688 - val_loss: 0.3380 - val_accuracy: 0.8438\n",
            "Epoch 143/250\n",
            "35/35 [==============================] - 2s 46ms/step - loss: 0.2877 - accuracy: 0.8802 - val_loss: 0.3512 - val_accuracy: 0.8438\n",
            "Epoch 144/250\n",
            "35/35 [==============================] - 2s 46ms/step - loss: 0.3101 - accuracy: 0.8606 - val_loss: 0.3394 - val_accuracy: 0.8469\n",
            "Epoch 145/250\n",
            "35/35 [==============================] - 2s 47ms/step - loss: 0.3100 - accuracy: 0.8658 - val_loss: 0.3152 - val_accuracy: 0.8531\n",
            "Epoch 146/250\n",
            "35/35 [==============================] - 2s 47ms/step - loss: 0.2712 - accuracy: 0.8753 - val_loss: 0.3204 - val_accuracy: 0.8406\n",
            "Epoch 147/250\n",
            "35/35 [==============================] - 2s 47ms/step - loss: 0.2932 - accuracy: 0.8765 - val_loss: 0.3062 - val_accuracy: 0.8594\n",
            "Epoch 148/250\n",
            "35/35 [==============================] - 2s 48ms/step - loss: 0.2951 - accuracy: 0.8646 - val_loss: 0.3158 - val_accuracy: 0.8438\n",
            "Epoch 149/250\n",
            "35/35 [==============================] - 2s 47ms/step - loss: 0.3452 - accuracy: 0.8318 - val_loss: 0.3058 - val_accuracy: 0.8500\n",
            "Epoch 150/250\n",
            "35/35 [==============================] - 2s 47ms/step - loss: 0.3049 - accuracy: 0.8533 - val_loss: 0.3237 - val_accuracy: 0.8500\n",
            "Epoch 151/250\n",
            "35/35 [==============================] - 2s 49ms/step - loss: 0.2971 - accuracy: 0.8602 - val_loss: 0.3050 - val_accuracy: 0.8656\n",
            "Epoch 152/250\n",
            "35/35 [==============================] - 2s 49ms/step - loss: 0.2858 - accuracy: 0.8675 - val_loss: 0.3354 - val_accuracy: 0.8625\n",
            "Epoch 153/250\n",
            "35/35 [==============================] - 2s 47ms/step - loss: 0.2928 - accuracy: 0.8774 - val_loss: 0.3630 - val_accuracy: 0.8188\n",
            "Epoch 154/250\n",
            "35/35 [==============================] - 2s 48ms/step - loss: 0.2964 - accuracy: 0.8646 - val_loss: 0.3126 - val_accuracy: 0.8625\n",
            "Epoch 155/250\n",
            "35/35 [==============================] - 2s 48ms/step - loss: 0.2806 - accuracy: 0.8722 - val_loss: 0.3131 - val_accuracy: 0.8656\n",
            "Epoch 156/250\n",
            "35/35 [==============================] - 2s 47ms/step - loss: 0.3026 - accuracy: 0.8682 - val_loss: 0.2921 - val_accuracy: 0.8781\n",
            "Epoch 157/250\n",
            "35/35 [==============================] - 2s 47ms/step - loss: 0.3290 - accuracy: 0.8577 - val_loss: 0.3281 - val_accuracy: 0.8531\n",
            "Epoch 158/250\n",
            "35/35 [==============================] - 2s 47ms/step - loss: 0.3212 - accuracy: 0.8406 - val_loss: 0.3047 - val_accuracy: 0.8719\n",
            "Epoch 159/250\n",
            "35/35 [==============================] - 2s 47ms/step - loss: 0.3104 - accuracy: 0.8584 - val_loss: 0.3065 - val_accuracy: 0.8562\n",
            "Epoch 160/250\n",
            "35/35 [==============================] - 2s 47ms/step - loss: 0.3009 - accuracy: 0.8647 - val_loss: 0.4461 - val_accuracy: 0.7437\n",
            "Epoch 161/250\n",
            "35/35 [==============================] - 2s 49ms/step - loss: 0.3787 - accuracy: 0.8180 - val_loss: 0.2953 - val_accuracy: 0.8750\n",
            "Epoch 162/250\n",
            "35/35 [==============================] - 2s 47ms/step - loss: 0.2846 - accuracy: 0.8761 - val_loss: 0.3176 - val_accuracy: 0.8750\n",
            "Epoch 163/250\n",
            "35/35 [==============================] - 2s 47ms/step - loss: 0.3018 - accuracy: 0.8694 - val_loss: 0.3362 - val_accuracy: 0.8562\n",
            "Epoch 164/250\n",
            "35/35 [==============================] - 2s 48ms/step - loss: 0.3105 - accuracy: 0.8539 - val_loss: 0.3460 - val_accuracy: 0.8313\n",
            "Epoch 165/250\n",
            "35/35 [==============================] - 2s 49ms/step - loss: 0.3104 - accuracy: 0.8724 - val_loss: 0.3597 - val_accuracy: 0.8281\n",
            "Epoch 166/250\n",
            "35/35 [==============================] - 2s 47ms/step - loss: 0.3240 - accuracy: 0.8446 - val_loss: 0.2967 - val_accuracy: 0.8781\n",
            "Epoch 167/250\n",
            "35/35 [==============================] - 2s 48ms/step - loss: 0.2769 - accuracy: 0.8704 - val_loss: 0.3148 - val_accuracy: 0.8625\n",
            "Epoch 168/250\n",
            "35/35 [==============================] - 2s 46ms/step - loss: 0.2926 - accuracy: 0.8649 - val_loss: 0.3143 - val_accuracy: 0.8531\n",
            "Epoch 169/250\n",
            "35/35 [==============================] - 2s 47ms/step - loss: 0.2988 - accuracy: 0.8703 - val_loss: 0.3050 - val_accuracy: 0.8687\n",
            "Epoch 170/250\n",
            "35/35 [==============================] - 2s 46ms/step - loss: 0.2974 - accuracy: 0.8718 - val_loss: 0.2974 - val_accuracy: 0.8781\n",
            "Epoch 171/250\n",
            "35/35 [==============================] - 2s 46ms/step - loss: 0.2970 - accuracy: 0.8605 - val_loss: 0.3202 - val_accuracy: 0.8531\n",
            "Epoch 172/250\n",
            "35/35 [==============================] - 2s 46ms/step - loss: 0.2753 - accuracy: 0.8809 - val_loss: 0.3033 - val_accuracy: 0.8656\n",
            "Epoch 173/250\n",
            "35/35 [==============================] - 2s 47ms/step - loss: 0.2805 - accuracy: 0.8856 - val_loss: 0.3160 - val_accuracy: 0.8562\n",
            "Epoch 174/250\n",
            "35/35 [==============================] - 2s 46ms/step - loss: 0.3137 - accuracy: 0.8592 - val_loss: 0.2801 - val_accuracy: 0.8750\n",
            "Epoch 175/250\n",
            "35/35 [==============================] - 2s 54ms/step - loss: 0.3361 - accuracy: 0.8310 - val_loss: 0.3181 - val_accuracy: 0.8531\n",
            "Epoch 176/250\n",
            "35/35 [==============================] - 2s 47ms/step - loss: 0.2810 - accuracy: 0.8668 - val_loss: 0.3343 - val_accuracy: 0.8531\n",
            "Epoch 177/250\n",
            "35/35 [==============================] - 2s 47ms/step - loss: 0.3213 - accuracy: 0.8549 - val_loss: 0.3185 - val_accuracy: 0.8500\n",
            "Epoch 178/250\n",
            "35/35 [==============================] - 2s 46ms/step - loss: 0.2781 - accuracy: 0.8756 - val_loss: 0.2902 - val_accuracy: 0.8781\n",
            "Epoch 179/250\n",
            "35/35 [==============================] - 2s 49ms/step - loss: 0.2728 - accuracy: 0.8753 - val_loss: 0.3325 - val_accuracy: 0.8406\n",
            "Epoch 180/250\n",
            "35/35 [==============================] - 2s 47ms/step - loss: 0.2875 - accuracy: 0.8565 - val_loss: 0.3102 - val_accuracy: 0.8656\n",
            "Epoch 181/250\n",
            "35/35 [==============================] - 2s 47ms/step - loss: 0.2900 - accuracy: 0.8654 - val_loss: 0.3170 - val_accuracy: 0.8687\n",
            "Epoch 182/250\n",
            "35/35 [==============================] - 2s 47ms/step - loss: 0.3372 - accuracy: 0.8428 - val_loss: 0.3172 - val_accuracy: 0.8562\n",
            "Epoch 183/250\n",
            "35/35 [==============================] - 2s 47ms/step - loss: 0.3001 - accuracy: 0.8575 - val_loss: 0.2983 - val_accuracy: 0.8750\n",
            "Epoch 184/250\n",
            "35/35 [==============================] - 2s 48ms/step - loss: 0.3484 - accuracy: 0.8326 - val_loss: 0.2860 - val_accuracy: 0.8625\n",
            "Epoch 185/250\n",
            "35/35 [==============================] - 2s 49ms/step - loss: 0.2915 - accuracy: 0.8686 - val_loss: 0.3059 - val_accuracy: 0.8656\n",
            "Epoch 186/250\n",
            "35/35 [==============================] - 2s 47ms/step - loss: 0.2655 - accuracy: 0.8734 - val_loss: 0.3158 - val_accuracy: 0.8469\n",
            "Epoch 187/250\n",
            "35/35 [==============================] - 2s 47ms/step - loss: 0.3376 - accuracy: 0.8351 - val_loss: 0.3149 - val_accuracy: 0.8531\n",
            "Epoch 188/250\n",
            "35/35 [==============================] - 2s 47ms/step - loss: 0.2847 - accuracy: 0.8641 - val_loss: 0.3063 - val_accuracy: 0.8469\n",
            "Epoch 189/250\n",
            "35/35 [==============================] - 2s 47ms/step - loss: 0.2862 - accuracy: 0.8746 - val_loss: 0.3018 - val_accuracy: 0.8469\n",
            "Epoch 190/250\n",
            "35/35 [==============================] - 2s 48ms/step - loss: 0.2667 - accuracy: 0.8776 - val_loss: 0.3067 - val_accuracy: 0.8594\n",
            "Epoch 191/250\n",
            "35/35 [==============================] - 2s 49ms/step - loss: 0.3254 - accuracy: 0.8256 - val_loss: 0.3150 - val_accuracy: 0.8813\n",
            "Epoch 192/250\n",
            "35/35 [==============================] - 2s 48ms/step - loss: 0.3093 - accuracy: 0.8639 - val_loss: 0.3315 - val_accuracy: 0.8438\n",
            "Epoch 193/250\n",
            "35/35 [==============================] - 2s 48ms/step - loss: 0.3105 - accuracy: 0.8489 - val_loss: 0.3187 - val_accuracy: 0.8500\n",
            "Epoch 194/250\n",
            "35/35 [==============================] - 2s 48ms/step - loss: 0.2969 - accuracy: 0.8579 - val_loss: 0.3261 - val_accuracy: 0.8531\n",
            "Epoch 195/250\n",
            "35/35 [==============================] - 2s 48ms/step - loss: 0.3340 - accuracy: 0.8443 - val_loss: 0.3157 - val_accuracy: 0.8719\n",
            "Epoch 196/250\n",
            "35/35 [==============================] - 2s 48ms/step - loss: 0.3020 - accuracy: 0.8636 - val_loss: 0.3014 - val_accuracy: 0.8656\n",
            "Epoch 197/250\n",
            "35/35 [==============================] - 2s 49ms/step - loss: 0.3087 - accuracy: 0.8566 - val_loss: 0.3126 - val_accuracy: 0.8625\n",
            "Epoch 198/250\n",
            "35/35 [==============================] - 2s 49ms/step - loss: 0.2661 - accuracy: 0.8840 - val_loss: 0.2938 - val_accuracy: 0.8687\n",
            "Epoch 199/250\n",
            "35/35 [==============================] - 2s 47ms/step - loss: 0.3296 - accuracy: 0.8603 - val_loss: 0.3109 - val_accuracy: 0.8687\n",
            "Epoch 200/250\n",
            "35/35 [==============================] - 2s 48ms/step - loss: 0.2853 - accuracy: 0.8774 - val_loss: 0.3105 - val_accuracy: 0.8656\n",
            "Epoch 201/250\n",
            "35/35 [==============================] - 2s 47ms/step - loss: 0.2548 - accuracy: 0.8925 - val_loss: 0.2896 - val_accuracy: 0.8656\n",
            "Epoch 202/250\n",
            "35/35 [==============================] - 2s 49ms/step - loss: 0.3342 - accuracy: 0.8426 - val_loss: 0.2975 - val_accuracy: 0.8625\n",
            "Epoch 203/250\n",
            "35/35 [==============================] - 2s 48ms/step - loss: 0.3261 - accuracy: 0.8388 - val_loss: 0.3115 - val_accuracy: 0.8625\n",
            "Epoch 204/250\n",
            "35/35 [==============================] - 2s 48ms/step - loss: 0.3045 - accuracy: 0.8613 - val_loss: 0.3206 - val_accuracy: 0.8656\n",
            "Epoch 205/250\n",
            "35/35 [==============================] - 2s 47ms/step - loss: 0.3217 - accuracy: 0.8513 - val_loss: 0.3185 - val_accuracy: 0.8469\n",
            "Epoch 206/250\n",
            "35/35 [==============================] - 2s 47ms/step - loss: 0.2733 - accuracy: 0.8641 - val_loss: 0.3118 - val_accuracy: 0.8594\n",
            "Epoch 207/250\n",
            "35/35 [==============================] - 2s 48ms/step - loss: 0.3027 - accuracy: 0.8672 - val_loss: 0.2955 - val_accuracy: 0.8625\n",
            "Epoch 208/250\n",
            "35/35 [==============================] - 2s 47ms/step - loss: 0.2843 - accuracy: 0.8705 - val_loss: 0.3107 - val_accuracy: 0.8531\n",
            "Epoch 209/250\n",
            "35/35 [==============================] - 2s 47ms/step - loss: 0.3086 - accuracy: 0.8638 - val_loss: 0.2725 - val_accuracy: 0.8844\n",
            "Epoch 210/250\n",
            "35/35 [==============================] - 2s 47ms/step - loss: 0.2935 - accuracy: 0.8712 - val_loss: 0.2812 - val_accuracy: 0.8594\n",
            "Epoch 211/250\n",
            "35/35 [==============================] - 2s 48ms/step - loss: 0.2618 - accuracy: 0.8743 - val_loss: 0.3087 - val_accuracy: 0.8594\n",
            "Epoch 212/250\n",
            "35/35 [==============================] - 2s 48ms/step - loss: 0.2777 - accuracy: 0.8766 - val_loss: 0.3172 - val_accuracy: 0.8344\n",
            "Epoch 213/250\n",
            "35/35 [==============================] - 2s 47ms/step - loss: 0.3221 - accuracy: 0.8509 - val_loss: 0.2858 - val_accuracy: 0.8844\n",
            "Epoch 214/250\n",
            "35/35 [==============================] - 2s 48ms/step - loss: 0.2606 - accuracy: 0.8808 - val_loss: 0.2872 - val_accuracy: 0.8750\n",
            "Epoch 215/250\n",
            "35/35 [==============================] - 2s 48ms/step - loss: 0.2884 - accuracy: 0.8679 - val_loss: 0.2895 - val_accuracy: 0.8813\n",
            "Epoch 216/250\n",
            "35/35 [==============================] - 2s 48ms/step - loss: 0.2733 - accuracy: 0.8834 - val_loss: 0.3140 - val_accuracy: 0.8687\n",
            "Epoch 217/250\n",
            "35/35 [==============================] - 2s 49ms/step - loss: 0.2883 - accuracy: 0.8763 - val_loss: 0.2885 - val_accuracy: 0.8719\n",
            "Epoch 218/250\n",
            "35/35 [==============================] - 2s 48ms/step - loss: 0.2638 - accuracy: 0.8806 - val_loss: 0.3057 - val_accuracy: 0.8562\n",
            "Epoch 219/250\n",
            "35/35 [==============================] - 2s 46ms/step - loss: 0.2691 - accuracy: 0.8781 - val_loss: 0.3252 - val_accuracy: 0.8656\n",
            "Epoch 220/250\n",
            "35/35 [==============================] - 2s 48ms/step - loss: 0.3286 - accuracy: 0.8416 - val_loss: 0.2902 - val_accuracy: 0.8719\n",
            "Epoch 221/250\n",
            "35/35 [==============================] - 2s 48ms/step - loss: 0.2848 - accuracy: 0.8805 - val_loss: 0.2821 - val_accuracy: 0.8875\n",
            "Epoch 222/250\n",
            "35/35 [==============================] - 2s 48ms/step - loss: 0.2803 - accuracy: 0.8771 - val_loss: 0.3132 - val_accuracy: 0.8687\n",
            "Epoch 223/250\n",
            "35/35 [==============================] - 2s 48ms/step - loss: 0.2641 - accuracy: 0.8745 - val_loss: 0.3243 - val_accuracy: 0.8469\n",
            "Epoch 224/250\n",
            "35/35 [==============================] - 2s 54ms/step - loss: 0.3049 - accuracy: 0.8470 - val_loss: 0.3036 - val_accuracy: 0.8719\n",
            "Epoch 225/250\n",
            "35/35 [==============================] - 2s 48ms/step - loss: 0.3080 - accuracy: 0.8544 - val_loss: 0.3374 - val_accuracy: 0.8406\n",
            "Epoch 226/250\n",
            "35/35 [==============================] - 2s 47ms/step - loss: 0.3057 - accuracy: 0.8589 - val_loss: 0.3025 - val_accuracy: 0.8562\n",
            "Epoch 227/250\n",
            "35/35 [==============================] - 2s 48ms/step - loss: 0.2775 - accuracy: 0.8815 - val_loss: 0.3124 - val_accuracy: 0.8469\n",
            "Epoch 228/250\n",
            "35/35 [==============================] - 2s 47ms/step - loss: 0.2987 - accuracy: 0.8593 - val_loss: 0.2872 - val_accuracy: 0.8781\n",
            "Epoch 229/250\n",
            "35/35 [==============================] - 2s 47ms/step - loss: 0.2812 - accuracy: 0.8707 - val_loss: 0.3003 - val_accuracy: 0.8719\n",
            "Epoch 230/250\n",
            "35/35 [==============================] - 2s 47ms/step - loss: 0.2748 - accuracy: 0.8668 - val_loss: 0.2953 - val_accuracy: 0.8719\n",
            "Epoch 231/250\n",
            "35/35 [==============================] - 2s 47ms/step - loss: 0.2736 - accuracy: 0.8750 - val_loss: 0.2942 - val_accuracy: 0.8750\n",
            "Epoch 232/250\n",
            "35/35 [==============================] - 2s 47ms/step - loss: 0.3142 - accuracy: 0.8455 - val_loss: 0.2946 - val_accuracy: 0.8625\n",
            "Epoch 233/250\n",
            "35/35 [==============================] - 2s 49ms/step - loss: 0.2929 - accuracy: 0.8668 - val_loss: 0.2993 - val_accuracy: 0.8594\n",
            "Epoch 234/250\n",
            "35/35 [==============================] - 2s 47ms/step - loss: 0.3285 - accuracy: 0.8503 - val_loss: 0.2911 - val_accuracy: 0.8594\n",
            "Epoch 235/250\n",
            "35/35 [==============================] - 2s 46ms/step - loss: 0.2823 - accuracy: 0.8731 - val_loss: 0.3475 - val_accuracy: 0.8344\n",
            "Epoch 236/250\n",
            "35/35 [==============================] - 2s 47ms/step - loss: 0.3151 - accuracy: 0.8477 - val_loss: 0.2831 - val_accuracy: 0.8625\n",
            "Epoch 237/250\n",
            "35/35 [==============================] - 2s 47ms/step - loss: 0.2980 - accuracy: 0.8530 - val_loss: 0.3020 - val_accuracy: 0.8531\n",
            "Epoch 238/250\n",
            "35/35 [==============================] - 2s 48ms/step - loss: 0.2805 - accuracy: 0.8674 - val_loss: 0.2812 - val_accuracy: 0.8781\n",
            "Epoch 239/250\n",
            "35/35 [==============================] - 2s 48ms/step - loss: 0.2999 - accuracy: 0.8549 - val_loss: 0.2940 - val_accuracy: 0.8562\n",
            "Epoch 240/250\n",
            "35/35 [==============================] - 2s 48ms/step - loss: 0.2967 - accuracy: 0.8511 - val_loss: 0.2984 - val_accuracy: 0.8781\n",
            "Epoch 241/250\n",
            "35/35 [==============================] - 2s 47ms/step - loss: 0.2848 - accuracy: 0.8707 - val_loss: 0.3048 - val_accuracy: 0.8531\n",
            "Epoch 242/250\n",
            "35/35 [==============================] - 2s 47ms/step - loss: 0.3086 - accuracy: 0.8556 - val_loss: 0.2817 - val_accuracy: 0.8656\n",
            "Epoch 243/250\n",
            "35/35 [==============================] - 2s 47ms/step - loss: 0.3114 - accuracy: 0.8552 - val_loss: 0.3100 - val_accuracy: 0.8562\n",
            "Epoch 244/250\n",
            "35/35 [==============================] - 2s 48ms/step - loss: 0.3046 - accuracy: 0.8465 - val_loss: 0.3147 - val_accuracy: 0.8562\n",
            "Epoch 245/250\n",
            "35/35 [==============================] - 2s 50ms/step - loss: 0.3148 - accuracy: 0.8699 - val_loss: 0.3106 - val_accuracy: 0.8687\n",
            "Epoch 246/250\n",
            "35/35 [==============================] - 2s 48ms/step - loss: 0.2843 - accuracy: 0.8726 - val_loss: 0.2930 - val_accuracy: 0.8750\n",
            "Epoch 247/250\n",
            "35/35 [==============================] - 2s 47ms/step - loss: 0.2822 - accuracy: 0.8655 - val_loss: 0.3093 - val_accuracy: 0.8781\n",
            "Epoch 248/250\n",
            "35/35 [==============================] - 2s 48ms/step - loss: 0.3239 - accuracy: 0.8442 - val_loss: 0.3369 - val_accuracy: 0.8469\n",
            "Epoch 249/250\n",
            "35/35 [==============================] - 2s 48ms/step - loss: 0.2919 - accuracy: 0.8549 - val_loss: 0.3269 - val_accuracy: 0.8562\n",
            "Epoch 250/250\n",
            "35/35 [==============================] - 2s 48ms/step - loss: 0.3161 - accuracy: 0.8639 - val_loss: 0.3087 - val_accuracy: 0.8562\n"
          ],
          "name": "stdout"
        }
      ]
    },
    {
      "cell_type": "code",
      "metadata": {
        "colab": {
          "base_uri": "https://localhost:8080/",
          "height": 549
        },
        "id": "32rKbdtmOT15",
        "outputId": "eebe0d3c-a752-4a41-e43d-8f5a2565bc31"
      },
      "source": [
        "def plot_graphs(history, string):\r\n",
        "  plt.plot(history.history[string])\r\n",
        "  plt.plot(history.history['val_'+string])\r\n",
        "  plt.xlabel(\"Epochs\")\r\n",
        "  plt.ylabel(string)\r\n",
        "  plt.legend([string, 'val_'+string], loc = 'best')\r\n",
        "  plt.ylim([0,1])\r\n",
        "  plt.grid()\r\n",
        "  plt.show()\r\n",
        "\r\n",
        "plot_graphs(history, \"accuracy\")\r\n",
        "plot_graphs(history, \"loss\")"
      ],
      "execution_count": 97,
      "outputs": [
        {
          "output_type": "display_data",
          "data": {
            "image/png": "[encoded data removed]",
            "text/plain": [
              "<Figure size 432x288 with 1 Axes>"
            ]
          },
          "metadata": {
            "tags": [],
            "needs_background": "light"
          }
        },
        {
          "output_type": "display_data",
          "data": {
            "image/png": "[encoded data removed]",
            "text/plain": [
              "<Figure size 432x288 with 1 Axes>"
            ]
          },
          "metadata": {
            "tags": [],
            "needs_background": "light"
          }
        }
      ]
    },
    {
      "cell_type": "code",
      "metadata": {
        "id": "-bQcLoc0j20Z",
        "colab": {
          "base_uri": "https://localhost:8080/"
        },
        "outputId": "0c9b5dae-bd76-42e8-fd58-c2432dff58ee"
      },
      "source": [
        "results = model.evaluate(x_test, y_test)"
      ],
      "execution_count": 98,
      "outputs": [
        {
          "output_type": "stream",
          "text": [
            "6/6 [==============================] - 0s 4ms/step - loss: 0.2826 - accuracy: 0.8642\n"
          ],
          "name": "stdout"
        }
      ]
    },
    {
      "cell_type": "code",
      "metadata": {
        "colab": {
          "base_uri": "https://localhost:8080/"
        },
        "id": "XSvWiVANiU80",
        "outputId": "8575bac4-e3be-483d-d438-e3fe54bfb468"
      },
      "source": [
        "model.save(\"/concent/drive/MyDrive/kaggle/model_normalize.hd5\")"
      ],
      "execution_count": null,
      "outputs": [
        {
          "output_type": "stream",
          "text": [
            "INFO:tensorflow:Assets written to: /concent/drive/MyDrive/kaggle/model_normalize.hd5/assets\n"
          ],
          "name": "stdout"
        }
      ]
    },
    {
      "cell_type": "markdown",
      "metadata": {
        "id": "PiYT-PnzmVJd"
      },
      "source": [
        "# Test with real world data"
      ]
    },
    {
      "cell_type": "markdown",
      "metadata": {
        "id": "nz-u8O4m7NA9"
      },
      "source": [
        "## Ship and Iceberg in the real world\r\n",
        "With our knowledge about sea ice and ship detection, this project tested with the real world data in Disko Bay (see Figure 7 for the geolocation), which is a hotspot for iceberg and ship on the westcoast of Greenland. "
      ]
    },
    {
      "cell_type": "code",
      "metadata": {
        "colab": {
          "base_uri": "https://localhost:8080/",
          "height": 501
        },
        "id": "UFV6mGHuNCaw",
        "outputId": "78c541c1-b884-4475-87d5-aab080c038c2"
      },
      "source": [
        "%%html\r\n",
        "<IMG SRC=\"https://raw.githubusercontent.com/eikeschuett/IcebergShipDetection/main/pic/Map_test_area_zoomout.jpg\"  height=\"480\" border=\"0\"></a>\r\n",
        "<IMG SRC=\"https://raw.githubusercontent.com/eikeschuett/IcebergShipDetection/main/pic/Map_test_area.jpg\" height=\"480\" border=\"0\"></a>"
      ],
      "execution_count": 102,
      "outputs": [
        {
          "output_type": "display_data",
          "data": {
            "text/html": [
              "<IMG SRC=\"https://raw.githubusercontent.com/eikeschuett/IcebergShipDetection/main/pic/Map_test_area_zoomout.jpg\"  height=\"480\" border=\"0\"></a>\n",
              "<IMG SRC=\"https://raw.githubusercontent.com/eikeschuett/IcebergShipDetection/main/pic/Map_test_area.jpg\" height=\"480\" border=\"0\"></a>"
            ],
            "text/plain": [
              "<IPython.core.display.HTML object>"
            ]
          },
          "metadata": {
            "tags": []
          }
        }
      ]
    },
    {
      "cell_type": "markdown",
      "metadata": {
        "id": "b_9HMyVkNEQP"
      },
      "source": [
        "> **Figure 7**: Location of Disko Bay"
      ]
    },
    {
      "cell_type": "markdown",
      "metadata": {
        "id": "hsXZfoBXOKF-"
      },
      "source": [
        "(The information of the Sentinel-1 GRD scene used in our test.)<br>\r\n",
        "...download from [Copernicus Open Access Hub](https://scihub.copernicus.eu/dhus/#/home)\r\n",
        "\r\n",
        "\r\n",
        "> **Table 4**: Information of the test scene ***(Please revise to the one you use)***\r\n",
        "\r\n",
        "| Information | Test scene |\r\n",
        "|--|--|\r\n",
        "| filename | S1A_IW_GRDH_1SDH_20210115T100027_20210115T100052_036147_043CF4_049C |\r\n",
        "| Pass Direction | Descending |\r\n",
        "| Product Type | GRD |\r\n",
        "| Polarisation | HH HV |\r\n",
        "| Absolute Oribt | 36147 |\r\n",
        "| Relative Orbit | 25 |\r\n",
        "| Sening Time | 2021-01-15T10:00 | \r\n",
        "\r\n"
      ]
    },
    {
      "cell_type": "code",
      "metadata": {
        "id": "lqeSqpX-PaFe"
      },
      "source": [
        "%%html\r\n",
        "<IMG SRC=\"url\" border=\"0\"></a>"
      ],
      "execution_count": null,
      "outputs": []
    },
    {
      "cell_type": "markdown",
      "metadata": {
        "id": "PX1m7cCBPchg"
      },
      "source": [
        "> **Figure 8**: The coverage of the test scene"
      ]
    },
    {
      "cell_type": "markdown",
      "metadata": {
        "id": "nlVX3vK2xMC2"
      },
      "source": [
        "## Preprocessing \r\n",
        "This project followed a standard generic workflow to preprocess  Sentinel-1 GRD data according to [Filipponi (2019)](https://www.mdpi.com/2504-3900/18/1/11) using [Sentinel Application Platform (SNAP)](https://step.esa.int/main/toolboxes/snap/) Python API.\r\n",
        "\r\n",
        "The preprocessing steps in this project contains:\r\n",
        "1. Apply Orbit file\r\n",
        "2. Calibration\r\n",
        "3. (Terrain Correction)\r\n",
        "4. Convert to dB\r\n",
        "\r\n",
        "The incidence angles of the images were saved as a GeoTIFF file during preprocessing step as well.\r\n",
        "\r\n",
        "Check the preprocessing program for more details: [preprocessing_s1_scene.py](https://github.com/eikeschuett/IcebergShipDetection/blob/main/preprocessing_s1_scene.py)\r\n",
        "\r\n"
      ]
    },
    {
      "cell_type": "markdown",
      "metadata": {
        "id": "zEiNitXC0dT2"
      },
      "source": [
        "## Object detection (need to copy)"
      ]
    },
    {
      "cell_type": "markdown",
      "metadata": {
        "id": "hCaLKolB0dDr"
      },
      "source": [
        "## Comparison with the ground truth data\r\n",
        "\r\n",
        "\r\n",
        "```\r\n",
        "S1B 2021-01-14T10:07:32-10:15:04\r\n",
        "OrbitAbsolute\t25149\r\n",
        "OrbitRelative\t98\r\n",
        "S1A_IW_GRDH_1SDH_20210115T100027_20210115T100052_036147_043CF4_049C\r\n",
        "\r\n",
        "Weather: Cloudy with some snow, -5° C to -9° C\r\n",
        "```\r\n",
        "\r\n",
        "> **Table 3** : Ground Truth data from [openseamap](https://map.openseamap.org/) in our test area ***--> is this website correct?***\r\n",
        "\r\n",
        "|       Ship Type      |   Latitude  |   Logitude  |\r\n",
        "|----------------------|-------------|-------------|\r\n",
        "| Other Type/Auxillary | N69°05.990' | W53°18.654' |\r\n",
        "|    Fishing Vessel    | N68°51.626' | W52°47.673' |\r\n",
        "| Other Type/Auxillary | N69°23.972' | W51°36.317' |\r\n",
        "|    Fishing Vessel    | N68°43.877' | W51°30.219' |\r\n",
        "|    Fishing Vessel    | N68°43.825' | W51°21.114' |\r\n",
        "|      Cargo Ship      | N76°28.180' | W54°08.052' |\r\n",
        "\r\n"
      ]
    },
    {
      "cell_type": "markdown",
      "metadata": {
        "id": "2FBcYF840jsb"
      },
      "source": [
        "## Plot the map "
      ]
    }
  ]
}