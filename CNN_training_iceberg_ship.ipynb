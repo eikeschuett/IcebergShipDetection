{
  "nbformat": 4,
  "nbformat_minor": 0,
  "metadata": {
    "colab": {
      "name": "CNN_training_iceberg_ship.ipynb",
      "provenance": [],
      "collapsed_sections": [],
      "authorship_tag": "ABX9TyOP0iXi4f3qaY9jaInGCtJ5",
      "include_colab_link": true
    },
    "kernelspec": {
      "name": "python3",
      "display_name": "Python 3"
    },
    "accelerator": "GPU"
  },
  "cells": [
    {
      "cell_type": "markdown",
      "metadata": {
        "id": "view-in-github",
        "colab_type": "text"
      },
      "source": [
        "<a href=\"https://colab.research.google.com/github/eikeschuett/IcebergShipDetection/blob/main/CNN_training_iceberg_ship.ipynb\" target=\"_parent\"><img src=\"https://colab.research.google.com/assets/colab-badge.svg\" alt=\"Open In Colab\"/></a>"
      ]
    },
    {
      "cell_type": "markdown",
      "metadata": {
        "id": "tnaWcRuC14S6"
      },
      "source": [
        "First, import all required libraries"
      ]
    },
    {
      "cell_type": "code",
      "metadata": {
        "id": "BHuUTDLf131I"
      },
      "source": [
        "# Libraries to access files from my drive\r\n",
        "from google.colab import drive\r\n",
        "import pandas as pd\r\n",
        "import numpy as np\r\n",
        "import matplotlib.pyplot as plt\r\n",
        "from sklearn.model_selection import train_test_split\r\n",
        "from scipy.ndimage.filters import uniform_filter\r\n",
        "from scipy.ndimage.measurements import variance\r\n",
        "from keras_preprocessing.image import ImageDataGenerator\r\n",
        "import tensorflow as tf\r\n",
        "from keras.optimizers import Adam"
      ],
      "execution_count": 12,
      "outputs": []
    },
    {
      "cell_type": "markdown",
      "metadata": {
        "id": "eZP_Fdjv03kj"
      },
      "source": [
        "Mount drive and import data."
      ]
    },
    {
      "cell_type": "code",
      "metadata": {
        "colab": {
          "base_uri": "https://localhost:8080/"
        },
        "id": "Nc8sq_K8z429",
        "outputId": "435aa499-8cf7-40d1-b425-4cd493606814"
      },
      "source": [
        "drive.mount('/content/drive')\r\n",
        "data = pd.read_json('/content/drive/MyDrive/Iceberg_Ship_Classification/train.json')\r\n",
        "print(data.columns)"
      ],
      "execution_count": 2,
      "outputs": [
        {
          "output_type": "stream",
          "text": [
            "Mounted at /content/drive\n",
            "Index(['id', 'band_1', 'band_2', 'inc_angle', 'is_iceberg'], dtype='object')\n"
          ],
          "name": "stdout"
        }
      ]
    },
    {
      "cell_type": "markdown",
      "metadata": {
        "id": "txEjAEhng-TC"
      },
      "source": [
        "Define a function for the lee filter, which we will use to denoise the radar images."
      ]
    },
    {
      "cell_type": "code",
      "metadata": {
        "id": "fIlcZ6R4hDjg"
      },
      "source": [
        "def lee_filter(img, size):\r\n",
        "    # From here: https://stackoverflow.com/questions/39785970/speckle-lee-filter-in-python\r\n",
        "    img_mean = uniform_filter(img, (size, size))\r\n",
        "    img_sqr_mean = uniform_filter(img**2, (size, size))\r\n",
        "    img_variance = img_sqr_mean - img_mean**2\r\n",
        "\r\n",
        "    overall_variance = variance(img)\r\n",
        "\r\n",
        "    img_weights = img_variance / (img_variance + overall_variance)\r\n",
        "    img_output = img_mean + img_weights * (img - img_mean)\r\n",
        "    return img_output"
      ],
      "execution_count": 9,
      "outputs": []
    },
    {
      "cell_type": "markdown",
      "metadata": {
        "id": "nnQr0MCS2ZDF"
      },
      "source": [
        "Define a function which prepares the data. The function reshapes each image into the correct 75x75 pixels format and creates a third band with the total backscater (HH+HV). It also rescales the pixel values between 0 and 1 and stacks the three bands in a single image. The dataset is then split into separate parts for for training (70 %), validation (20 %) and testing (10%)."
      ]
    },
    {
      "cell_type": "code",
      "metadata": {
        "id": "nhSbhZtj2Yk2"
      },
      "source": [
        "def prepare_data(data):\r\n",
        "  # data[\"inc_angle\"] = data[\"inc_angle\"].replace([\"na\"], np.nan)\r\n",
        "\r\n",
        "  # Get the labels (y-values)\r\n",
        "  labels = np.array(data[\"is_iceberg\"])\r\n",
        "\r\n",
        "  # Create empty list for the images\r\n",
        "  imgs = []\r\n",
        "  for i, row in data.iterrows():\r\n",
        "      # Reshape list to image\r\n",
        "      hh  = np.reshape(row[\"band_1\"], (75, 75))\r\n",
        "      hv  = np.reshape(row[\"band_2\"], (75, 75))\r\n",
        "      b3  = hh + hv\r\n",
        "\r\n",
        "      hh = lee_filter(hh, 20)\r\n",
        "      hv = lee_filter(hv, 20)\r\n",
        "      b3 = lee_filter(b3, 20)      \r\n",
        "        \r\n",
        "      # Rescale images between 0 and 1 for faster convergence rate\r\n",
        "      hh = (hh - hh.min())/(hh.max()-hh.min())\r\n",
        "      hv = (hv - hv.min())/(hv.max()-hv.min())\r\n",
        "      b3 = (b3 - b3.min())/(b3.max()-b3.min())      \r\n",
        "\r\n",
        "      # Stack the bands and append them to imgs\r\n",
        "      imgs.append(np.dstack((hh, hv, b3)))\r\n",
        "      \r\n",
        "  # Split dataset into training (70%)  and validation (30 %)\r\n",
        "  x_train, x_val, y_train, y_val = train_test_split(imgs, \r\n",
        "                                                    labels, \r\n",
        "                                                    test_size=0.3, \r\n",
        "                                                    random_state=0)\r\n",
        "  # Then split validation dataset into validation (20 %) and testing (10 %)\r\n",
        "  x_val, x_test, y_val, y_test = train_test_split(x_val,\r\n",
        "                                                  y_val,\r\n",
        "                                                  test_size=(1/3),\r\n",
        "                                                  random_state=0)\r\n",
        "\r\n",
        "  x_train = np.array(x_train)\r\n",
        "  x_test = np.array(x_test)\r\n",
        "  x_val = np.array(x_val)\r\n",
        "  return x_train, x_val, x_test, y_train, y_val, y_test"
      ],
      "execution_count": 10,
      "outputs": []
    },
    {
      "cell_type": "markdown",
      "metadata": {
        "id": "3K8fog6g2m73"
      },
      "source": [
        "Next, define a function to set up DataGenerators."
      ]
    },
    {
      "cell_type": "code",
      "metadata": {
        "id": "I-QIDC5wxTFu"
      },
      "source": [
        "def DataGenerators(x_train, x_val, y_train, y_val):\r\n",
        "  training_datagen = ImageDataGenerator(\r\n",
        "      rotation_range = 90,\r\n",
        "      width_shift_range = 0.2,\r\n",
        "      height_shift_range = 0.2,\r\n",
        "      shear_range = 0.2,\r\n",
        "      zoom_range = 0.2,\r\n",
        "      horizontal_flip = True,\r\n",
        "      fill_mode = 'nearest')\r\n",
        "\r\n",
        "  train_generator = training_datagen.flow(x_train, y_train)#,\r\n",
        "                                      #batch_size=64)#, \r\n",
        "                                      #subset = \"training\")\r\n",
        "\r\n",
        "  val_datagen = ImageDataGenerator()\r\n",
        "\r\n",
        "  val_generator = val_datagen.flow(x_val, y_val)#,\r\n",
        "                                      #batch_size=16)#, \r\n",
        "                                      #subset = \"training\")\r\n",
        "  \r\n",
        "  return train_generator, val_generator"
      ],
      "execution_count": 4,
      "outputs": []
    },
    {
      "cell_type": "markdown",
      "metadata": {
        "id": "wdTsktXg2ttf"
      },
      "source": [
        "Set up and compile model"
      ]
    },
    {
      "cell_type": "code",
      "metadata": {
        "id": "ZAkGF1jT2sb_"
      },
      "source": [
        "def create_model():\r\n",
        "  model = tf.keras.models.Sequential([\r\n",
        "      # Note the input shape is the desired size of the image 75x75 with 3 bytes color\r\n",
        "      # This is the first convolution\r\n",
        "      tf.keras.layers.Conv2D(64, (3,3), activation='relu', input_shape=(75, 75, 3)),\r\n",
        "      tf.keras.layers.MaxPooling2D(2, 2),\r\n",
        "      tf.keras.layers.Dropout(0.2),\r\n",
        "      # The second convolution\r\n",
        "      tf.keras.layers.Conv2D(128, (3,3), activation='relu'),\r\n",
        "      tf.keras.layers.MaxPooling2D(2,2),\r\n",
        "      tf.keras.layers.Dropout(0.1),\r\n",
        "      # The third convolution\r\n",
        "      tf.keras.layers.Conv2D(128, (3,3), activation='relu'),\r\n",
        "      tf.keras.layers.MaxPooling2D(2,2),\r\n",
        "      tf.keras.layers.Dropout(0.1),\r\n",
        "      # The fourth convolution\r\n",
        "      tf.keras.layers.Conv2D(64, (3,3), activation='relu'),\r\n",
        "      tf.keras.layers.MaxPooling2D(2,2),\r\n",
        "      tf.keras.layers.Dropout(0.2),\r\n",
        "      # Flatten the results to feed into a DNN\r\n",
        "      tf.keras.layers.Flatten(),\r\n",
        "      # 512 neuron hidden layer\r\n",
        "      tf.keras.layers.Dense(512, activation='relu'),\r\n",
        "      tf.keras.layers.BatchNormalization(renorm=True),\r\n",
        "      tf.keras.layers.Dropout(0.2),\r\n",
        "      tf.keras.layers.Dense(256, activation='relu'),\r\n",
        "      tf.keras.layers.Dropout(0.2),\r\n",
        "      tf.keras.layers.Dense(128, activation='relu'),\r\n",
        "      # Only 1 output neuron. It will contain a value from 0-1 where 0 means ship and 1 means iceberg\r\n",
        "      tf.keras.layers.Dense(1, activation='sigmoid')\r\n",
        "  ])\r\n",
        "  return model"
      ],
      "execution_count": 5,
      "outputs": []
    },
    {
      "cell_type": "markdown",
      "metadata": {
        "id": "1SWdkdRfepF2"
      },
      "source": [
        "Functions to compile and train the model"
      ]
    },
    {
      "cell_type": "code",
      "metadata": {
        "id": "TJFgMnQTepiO"
      },
      "source": [
        "def compile_model(model, loss_function, optimizer):\r\n",
        "  model.compile(loss=loss_function,\r\n",
        "                optimizer=optimizer,\r\n",
        "                metrics=['accuracy'])\r\n",
        "  return model\r\n",
        "\r\n",
        "def train_model(model, train_generator, val_generator):\r\n",
        "  history = model.fit(\r\n",
        "        train_generator,\r\n",
        "        #steps_per_epoch=10,  \r\n",
        "        epochs=200,\r\n",
        "        verbose=1,\r\n",
        "        validation_data = val_generator)#,\r\n",
        "        #validation_steps=10)\r\n",
        "  return model, history  "
      ],
      "execution_count": 7,
      "outputs": []
    },
    {
      "cell_type": "markdown",
      "metadata": {
        "id": "o2bzphHl2sNI"
      },
      "source": [
        "# Train model"
      ]
    },
    {
      "cell_type": "markdown",
      "metadata": {
        "id": "2nJdBFdeezCm"
      },
      "source": [
        "Now prepare the data and split it into training, validation and test subsets."
      ]
    },
    {
      "cell_type": "code",
      "metadata": {
        "id": "yKz7RLTieywM",
        "outputId": "2b3a73ba-9c1c-490d-fb26-bbb1531e6c79",
        "colab": {
          "base_uri": "https://localhost:8080/"
        }
      },
      "source": [
        "x_train, x_val, x_test, y_train, y_val, y_test = prepare_data(data)\r\n",
        "print(\"Number of samples for training: \" + str(len(x_train)) + \" (\" + str(round(len(x_train)/len(data), 4)*100) + \" %)\")\r\n",
        "print(\"Number of samples for validation: \" + str(len(x_val)) + \" (\" + str(round(len(x_val)/len(data), 4)*100) + \" %)\")\r\n",
        "print(\"Number of samples for testing: \" + str(len(x_test)) + \" (\" + str(round(len(x_test)/len(data), 4)*100) + \" %)\")"
      ],
      "execution_count": 25,
      "outputs": [
        {
          "output_type": "stream",
          "text": [
            "Number of samples for training: 1122 (69.95 %)\n",
            "Number of samples for validation: 321 (20.01 %)\n",
            "Number of samples for testing: 161 (10.040000000000001 %)\n"
          ],
          "name": "stdout"
        }
      ]
    },
    {
      "cell_type": "markdown",
      "metadata": {
        "id": "4EvpTMrveyfN"
      },
      "source": [
        "Now train the model."
      ]
    },
    {
      "cell_type": "code",
      "metadata": {
        "colab": {
          "base_uri": "https://localhost:8080/"
        },
        "id": "9hDOnss920IX",
        "outputId": "c442ab53-fab0-4ac7-b9eb-8465ac5e9c60"
      },
      "source": [
        "# Binary crossentropy + Adam\r\n",
        "loss_function = 'binary_crossentropy'\r\n",
        "optimizer = Adam(lr=0.001, decay=0.0)\r\n",
        "\r\n",
        "train_generator, val_generator = DataGenerators(x_train, x_val, y_train, y_val)\r\n",
        "model = create_model()\r\n",
        "print(model.summary())\r\n",
        "\r\n",
        "model = compile_model(model, loss_function, optimizer)\r\n",
        "model, history = train_model(model, train_generator, val_generator)\r\n"
      ],
      "execution_count": 26,
      "outputs": [
        {
          "output_type": "stream",
          "text": [
            "Model: \"sequential\"\n",
            "_________________________________________________________________\n",
            "Layer (type)                 Output Shape              Param #   \n",
            "=================================================================\n",
            "conv2d (Conv2D)              (None, 73, 73, 64)        1792      \n",
            "_________________________________________________________________\n",
            "max_pooling2d (MaxPooling2D) (None, 36, 36, 64)        0         \n",
            "_________________________________________________________________\n",
            "dropout (Dropout)            (None, 36, 36, 64)        0         \n",
            "_________________________________________________________________\n",
            "conv2d_1 (Conv2D)            (None, 34, 34, 128)       73856     \n",
            "_________________________________________________________________\n",
            "max_pooling2d_1 (MaxPooling2 (None, 17, 17, 128)       0         \n",
            "_________________________________________________________________\n",
            "dropout_1 (Dropout)          (None, 17, 17, 128)       0         \n",
            "_________________________________________________________________\n",
            "conv2d_2 (Conv2D)            (None, 15, 15, 128)       147584    \n",
            "_________________________________________________________________\n",
            "max_pooling2d_2 (MaxPooling2 (None, 7, 7, 128)         0         \n",
            "_________________________________________________________________\n",
            "dropout_2 (Dropout)          (None, 7, 7, 128)         0         \n",
            "_________________________________________________________________\n",
            "conv2d_3 (Conv2D)            (None, 5, 5, 64)          73792     \n",
            "_________________________________________________________________\n",
            "max_pooling2d_3 (MaxPooling2 (None, 2, 2, 64)          0         \n",
            "_________________________________________________________________\n",
            "dropout_3 (Dropout)          (None, 2, 2, 64)          0         \n",
            "_________________________________________________________________\n",
            "flatten (Flatten)            (None, 256)               0         \n",
            "_________________________________________________________________\n",
            "dense (Dense)                (None, 512)               131584    \n",
            "_________________________________________________________________\n",
            "batch_normalization (BatchNo (None, 512)               3584      \n",
            "_________________________________________________________________\n",
            "dropout_4 (Dropout)          (None, 512)               0         \n",
            "_________________________________________________________________\n",
            "dense_1 (Dense)              (None, 256)               131328    \n",
            "_________________________________________________________________\n",
            "dropout_5 (Dropout)          (None, 256)               0         \n",
            "_________________________________________________________________\n",
            "dense_2 (Dense)              (None, 128)               32896     \n",
            "_________________________________________________________________\n",
            "dense_3 (Dense)              (None, 1)                 129       \n",
            "=================================================================\n",
            "Total params: 596,545\n",
            "Trainable params: 593,985\n",
            "Non-trainable params: 2,560\n",
            "_________________________________________________________________\n",
            "None\n",
            "Epoch 1/200\n",
            "36/36 [==============================] - 10s 73ms/step - loss: 0.7267 - accuracy: 0.5175 - val_loss: 0.8152 - val_accuracy: 0.4891\n",
            "Epoch 2/200\n",
            "36/36 [==============================] - 2s 53ms/step - loss: 0.7579 - accuracy: 0.5030 - val_loss: 0.7269 - val_accuracy: 0.5109\n",
            "Epoch 3/200\n",
            "36/36 [==============================] - 2s 54ms/step - loss: 0.7455 - accuracy: 0.5235 - val_loss: 0.6704 - val_accuracy: 0.6012\n",
            "Epoch 4/200\n",
            "36/36 [==============================] - 2s 53ms/step - loss: 0.7122 - accuracy: 0.5624 - val_loss: 0.8506 - val_accuracy: 0.4891\n",
            "Epoch 5/200\n",
            "36/36 [==============================] - 2s 52ms/step - loss: 0.6844 - accuracy: 0.6025 - val_loss: 0.6964 - val_accuracy: 0.5109\n",
            "Epoch 6/200\n",
            "36/36 [==============================] - 2s 55ms/step - loss: 0.6917 - accuracy: 0.5978 - val_loss: 0.6082 - val_accuracy: 0.6636\n",
            "Epoch 7/200\n",
            "36/36 [==============================] - 2s 53ms/step - loss: 0.6663 - accuracy: 0.6144 - val_loss: 0.5637 - val_accuracy: 0.6854\n",
            "Epoch 8/200\n",
            "36/36 [==============================] - 2s 52ms/step - loss: 0.6884 - accuracy: 0.5746 - val_loss: 0.6287 - val_accuracy: 0.5265\n",
            "Epoch 9/200\n",
            "36/36 [==============================] - 2s 53ms/step - loss: 0.6390 - accuracy: 0.6100 - val_loss: 0.6170 - val_accuracy: 0.5701\n",
            "Epoch 10/200\n",
            "36/36 [==============================] - 2s 52ms/step - loss: 0.6309 - accuracy: 0.6016 - val_loss: 0.6388 - val_accuracy: 0.5701\n",
            "Epoch 11/200\n",
            "36/36 [==============================] - 2s 52ms/step - loss: 0.6278 - accuracy: 0.6252 - val_loss: 0.5671 - val_accuracy: 0.7103\n",
            "Epoch 12/200\n",
            "36/36 [==============================] - 2s 52ms/step - loss: 0.6209 - accuracy: 0.6620 - val_loss: 0.5542 - val_accuracy: 0.7009\n",
            "Epoch 13/200\n",
            "36/36 [==============================] - 2s 52ms/step - loss: 0.5656 - accuracy: 0.6887 - val_loss: 0.5253 - val_accuracy: 0.7227\n",
            "Epoch 14/200\n",
            "36/36 [==============================] - 2s 53ms/step - loss: 0.5908 - accuracy: 0.6773 - val_loss: 0.5755 - val_accuracy: 0.7414\n",
            "Epoch 15/200\n",
            "36/36 [==============================] - 2s 52ms/step - loss: 0.5740 - accuracy: 0.6864 - val_loss: 0.5371 - val_accuracy: 0.7103\n",
            "Epoch 16/200\n",
            "36/36 [==============================] - 2s 54ms/step - loss: 0.5720 - accuracy: 0.6897 - val_loss: 0.5623 - val_accuracy: 0.7508\n",
            "Epoch 17/200\n",
            "36/36 [==============================] - 2s 57ms/step - loss: 0.5718 - accuracy: 0.6786 - val_loss: 0.4426 - val_accuracy: 0.7757\n",
            "Epoch 18/200\n",
            "36/36 [==============================] - 2s 56ms/step - loss: 0.4760 - accuracy: 0.7551 - val_loss: 0.5389 - val_accuracy: 0.7134\n",
            "Epoch 19/200\n",
            "36/36 [==============================] - 2s 57ms/step - loss: 0.5470 - accuracy: 0.6799 - val_loss: 0.4361 - val_accuracy: 0.7975\n",
            "Epoch 20/200\n",
            "36/36 [==============================] - 2s 63ms/step - loss: 0.4694 - accuracy: 0.7634 - val_loss: 0.4855 - val_accuracy: 0.7508\n",
            "Epoch 21/200\n",
            "36/36 [==============================] - 2s 58ms/step - loss: 0.4768 - accuracy: 0.7865 - val_loss: 0.4138 - val_accuracy: 0.8037\n",
            "Epoch 22/200\n",
            "36/36 [==============================] - 2s 54ms/step - loss: 0.4383 - accuracy: 0.7938 - val_loss: 0.5366 - val_accuracy: 0.7196\n",
            "Epoch 23/200\n",
            "36/36 [==============================] - 2s 53ms/step - loss: 0.4944 - accuracy: 0.7290 - val_loss: 0.4938 - val_accuracy: 0.7632\n",
            "Epoch 24/200\n",
            "36/36 [==============================] - 2s 57ms/step - loss: 0.4362 - accuracy: 0.8150 - val_loss: 0.4290 - val_accuracy: 0.8006\n",
            "Epoch 25/200\n",
            "36/36 [==============================] - 2s 57ms/step - loss: 0.4336 - accuracy: 0.8040 - val_loss: 0.4140 - val_accuracy: 0.8037\n",
            "Epoch 26/200\n",
            "36/36 [==============================] - 2s 51ms/step - loss: 0.4522 - accuracy: 0.7723 - val_loss: 0.4136 - val_accuracy: 0.7975\n",
            "Epoch 27/200\n",
            "36/36 [==============================] - 2s 53ms/step - loss: 0.3983 - accuracy: 0.8051 - val_loss: 0.4020 - val_accuracy: 0.7944\n",
            "Epoch 28/200\n",
            "36/36 [==============================] - 2s 58ms/step - loss: 0.3761 - accuracy: 0.8228 - val_loss: 0.4279 - val_accuracy: 0.7944\n",
            "Epoch 29/200\n",
            "36/36 [==============================] - 2s 56ms/step - loss: 0.3840 - accuracy: 0.8185 - val_loss: 0.4513 - val_accuracy: 0.8131\n",
            "Epoch 30/200\n",
            "36/36 [==============================] - 2s 53ms/step - loss: 0.4423 - accuracy: 0.7843 - val_loss: 0.4195 - val_accuracy: 0.7882\n",
            "Epoch 31/200\n",
            "36/36 [==============================] - 2s 58ms/step - loss: 0.4414 - accuracy: 0.7931 - val_loss: 0.4125 - val_accuracy: 0.7757\n",
            "Epoch 32/200\n",
            "36/36 [==============================] - 2s 55ms/step - loss: 0.4145 - accuracy: 0.8015 - val_loss: 0.4026 - val_accuracy: 0.8037\n",
            "Epoch 33/200\n",
            "36/36 [==============================] - 2s 53ms/step - loss: 0.4662 - accuracy: 0.7687 - val_loss: 0.5138 - val_accuracy: 0.7539\n",
            "Epoch 34/200\n",
            "36/36 [==============================] - 2s 55ms/step - loss: 0.4052 - accuracy: 0.8094 - val_loss: 0.4395 - val_accuracy: 0.7632\n",
            "Epoch 35/200\n",
            "36/36 [==============================] - 2s 53ms/step - loss: 0.4100 - accuracy: 0.7839 - val_loss: 0.4556 - val_accuracy: 0.7819\n",
            "Epoch 36/200\n",
            "36/36 [==============================] - 2s 57ms/step - loss: 0.3965 - accuracy: 0.8178 - val_loss: 0.4619 - val_accuracy: 0.7975\n",
            "Epoch 37/200\n",
            "36/36 [==============================] - 2s 56ms/step - loss: 0.3531 - accuracy: 0.8429 - val_loss: 0.4082 - val_accuracy: 0.8037\n",
            "Epoch 38/200\n",
            "36/36 [==============================] - 2s 55ms/step - loss: 0.3791 - accuracy: 0.8257 - val_loss: 0.4060 - val_accuracy: 0.8069\n",
            "Epoch 39/200\n",
            "36/36 [==============================] - 2s 55ms/step - loss: 0.4402 - accuracy: 0.7888 - val_loss: 0.4180 - val_accuracy: 0.7850\n",
            "Epoch 40/200\n",
            "36/36 [==============================] - 2s 54ms/step - loss: 0.3762 - accuracy: 0.8065 - val_loss: 0.4171 - val_accuracy: 0.8100\n",
            "Epoch 41/200\n",
            "36/36 [==============================] - 2s 53ms/step - loss: 0.4316 - accuracy: 0.8061 - val_loss: 0.3769 - val_accuracy: 0.8131\n",
            "Epoch 42/200\n",
            "36/36 [==============================] - 2s 52ms/step - loss: 0.3490 - accuracy: 0.8399 - val_loss: 0.3966 - val_accuracy: 0.7975\n",
            "Epoch 43/200\n",
            "36/36 [==============================] - 2s 52ms/step - loss: 0.3663 - accuracy: 0.8228 - val_loss: 0.3923 - val_accuracy: 0.8006\n",
            "Epoch 44/200\n",
            "36/36 [==============================] - 2s 52ms/step - loss: 0.3498 - accuracy: 0.8120 - val_loss: 0.4214 - val_accuracy: 0.8069\n",
            "Epoch 45/200\n",
            "36/36 [==============================] - 2s 59ms/step - loss: 0.4050 - accuracy: 0.7945 - val_loss: 0.3862 - val_accuracy: 0.8224\n",
            "Epoch 46/200\n",
            "36/36 [==============================] - 2s 52ms/step - loss: 0.3498 - accuracy: 0.8254 - val_loss: 0.4091 - val_accuracy: 0.8069\n",
            "Epoch 47/200\n",
            "36/36 [==============================] - 2s 54ms/step - loss: 0.3738 - accuracy: 0.7999 - val_loss: 0.3963 - val_accuracy: 0.8380\n",
            "Epoch 48/200\n",
            "36/36 [==============================] - 2s 58ms/step - loss: 0.3606 - accuracy: 0.8296 - val_loss: 0.3974 - val_accuracy: 0.8100\n",
            "Epoch 49/200\n",
            "36/36 [==============================] - 2s 56ms/step - loss: 0.3719 - accuracy: 0.8278 - val_loss: 0.4189 - val_accuracy: 0.8100\n",
            "Epoch 50/200\n",
            "36/36 [==============================] - 2s 53ms/step - loss: 0.3922 - accuracy: 0.8342 - val_loss: 0.4124 - val_accuracy: 0.7975\n",
            "Epoch 51/200\n",
            "36/36 [==============================] - 2s 54ms/step - loss: 0.3642 - accuracy: 0.8392 - val_loss: 0.3783 - val_accuracy: 0.8287\n",
            "Epoch 52/200\n",
            "36/36 [==============================] - 2s 53ms/step - loss: 0.3682 - accuracy: 0.8362 - val_loss: 0.4049 - val_accuracy: 0.8193\n",
            "Epoch 53/200\n",
            "36/36 [==============================] - 2s 52ms/step - loss: 0.3515 - accuracy: 0.8269 - val_loss: 0.4159 - val_accuracy: 0.8006\n",
            "Epoch 54/200\n",
            "36/36 [==============================] - 2s 52ms/step - loss: 0.3741 - accuracy: 0.8204 - val_loss: 0.3778 - val_accuracy: 0.8193\n",
            "Epoch 55/200\n",
            "36/36 [==============================] - 2s 53ms/step - loss: 0.3714 - accuracy: 0.8117 - val_loss: 0.3892 - val_accuracy: 0.8037\n",
            "Epoch 56/200\n",
            "36/36 [==============================] - 2s 53ms/step - loss: 0.3304 - accuracy: 0.8413 - val_loss: 0.3869 - val_accuracy: 0.8193\n",
            "Epoch 57/200\n",
            "36/36 [==============================] - 2s 54ms/step - loss: 0.3879 - accuracy: 0.8188 - val_loss: 0.3937 - val_accuracy: 0.8100\n",
            "Epoch 58/200\n",
            "36/36 [==============================] - 2s 53ms/step - loss: 0.3444 - accuracy: 0.8435 - val_loss: 0.3826 - val_accuracy: 0.8349\n",
            "Epoch 59/200\n",
            "36/36 [==============================] - 2s 53ms/step - loss: 0.3311 - accuracy: 0.8430 - val_loss: 0.4357 - val_accuracy: 0.7850\n",
            "Epoch 60/200\n",
            "36/36 [==============================] - 2s 53ms/step - loss: 0.3406 - accuracy: 0.8331 - val_loss: 0.3959 - val_accuracy: 0.7944\n",
            "Epoch 61/200\n",
            "36/36 [==============================] - 2s 53ms/step - loss: 0.3898 - accuracy: 0.7976 - val_loss: 0.4008 - val_accuracy: 0.8037\n",
            "Epoch 62/200\n",
            "36/36 [==============================] - 2s 56ms/step - loss: 0.3268 - accuracy: 0.8387 - val_loss: 0.4913 - val_accuracy: 0.7601\n",
            "Epoch 63/200\n",
            "36/36 [==============================] - 2s 55ms/step - loss: 0.3470 - accuracy: 0.8402 - val_loss: 0.3946 - val_accuracy: 0.8069\n",
            "Epoch 64/200\n",
            "36/36 [==============================] - 2s 54ms/step - loss: 0.3450 - accuracy: 0.8464 - val_loss: 0.3874 - val_accuracy: 0.8162\n",
            "Epoch 65/200\n",
            "36/36 [==============================] - 2s 54ms/step - loss: 0.3784 - accuracy: 0.8269 - val_loss: 0.3836 - val_accuracy: 0.8349\n",
            "Epoch 66/200\n",
            "36/36 [==============================] - 2s 53ms/step - loss: 0.3803 - accuracy: 0.8260 - val_loss: 0.3814 - val_accuracy: 0.8224\n",
            "Epoch 67/200\n",
            "36/36 [==============================] - 2s 53ms/step - loss: 0.3735 - accuracy: 0.8102 - val_loss: 0.4017 - val_accuracy: 0.8069\n",
            "Epoch 68/200\n",
            "36/36 [==============================] - 2s 52ms/step - loss: 0.3498 - accuracy: 0.8449 - val_loss: 0.4178 - val_accuracy: 0.7944\n",
            "Epoch 69/200\n",
            "36/36 [==============================] - 2s 52ms/step - loss: 0.3357 - accuracy: 0.8291 - val_loss: 0.4387 - val_accuracy: 0.7850\n",
            "Epoch 70/200\n",
            "36/36 [==============================] - 2s 51ms/step - loss: 0.3559 - accuracy: 0.8394 - val_loss: 0.3789 - val_accuracy: 0.8131\n",
            "Epoch 71/200\n",
            "36/36 [==============================] - 2s 58ms/step - loss: 0.3385 - accuracy: 0.8400 - val_loss: 0.3734 - val_accuracy: 0.8100\n",
            "Epoch 72/200\n",
            "36/36 [==============================] - 2s 52ms/step - loss: 0.3428 - accuracy: 0.8501 - val_loss: 0.3639 - val_accuracy: 0.8318\n",
            "Epoch 73/200\n",
            "36/36 [==============================] - 2s 51ms/step - loss: 0.3299 - accuracy: 0.8456 - val_loss: 0.4043 - val_accuracy: 0.7944\n",
            "Epoch 74/200\n",
            "36/36 [==============================] - 2s 53ms/step - loss: 0.3502 - accuracy: 0.8354 - val_loss: 0.3819 - val_accuracy: 0.8100\n",
            "Epoch 75/200\n",
            "36/36 [==============================] - 2s 52ms/step - loss: 0.3319 - accuracy: 0.8439 - val_loss: 0.3723 - val_accuracy: 0.8162\n",
            "Epoch 76/200\n",
            "36/36 [==============================] - 2s 53ms/step - loss: 0.3850 - accuracy: 0.8144 - val_loss: 0.3939 - val_accuracy: 0.8131\n",
            "Epoch 77/200\n",
            "36/36 [==============================] - 2s 53ms/step - loss: 0.3385 - accuracy: 0.8361 - val_loss: 0.4041 - val_accuracy: 0.8131\n",
            "Epoch 78/200\n",
            "36/36 [==============================] - 2s 53ms/step - loss: 0.3800 - accuracy: 0.8176 - val_loss: 0.3655 - val_accuracy: 0.8100\n",
            "Epoch 79/200\n",
            "36/36 [==============================] - 2s 57ms/step - loss: 0.3662 - accuracy: 0.8137 - val_loss: 0.3703 - val_accuracy: 0.8255\n",
            "Epoch 80/200\n",
            "36/36 [==============================] - 2s 52ms/step - loss: 0.3442 - accuracy: 0.8263 - val_loss: 0.4548 - val_accuracy: 0.8069\n",
            "Epoch 81/200\n",
            "36/36 [==============================] - 2s 52ms/step - loss: 0.3341 - accuracy: 0.8329 - val_loss: 0.3872 - val_accuracy: 0.8224\n",
            "Epoch 82/200\n",
            "36/36 [==============================] - 2s 54ms/step - loss: 0.3696 - accuracy: 0.8160 - val_loss: 0.3916 - val_accuracy: 0.8100\n",
            "Epoch 83/200\n",
            "36/36 [==============================] - 2s 53ms/step - loss: 0.3295 - accuracy: 0.8365 - val_loss: 0.3586 - val_accuracy: 0.8318\n",
            "Epoch 84/200\n",
            "36/36 [==============================] - 2s 53ms/step - loss: 0.3631 - accuracy: 0.8213 - val_loss: 0.3806 - val_accuracy: 0.8318\n",
            "Epoch 85/200\n",
            "36/36 [==============================] - 2s 53ms/step - loss: 0.3478 - accuracy: 0.8395 - val_loss: 0.3768 - val_accuracy: 0.8069\n",
            "Epoch 86/200\n",
            "36/36 [==============================] - 2s 52ms/step - loss: 0.3452 - accuracy: 0.8416 - val_loss: 0.4216 - val_accuracy: 0.8037\n",
            "Epoch 87/200\n",
            "36/36 [==============================] - 2s 51ms/step - loss: 0.3226 - accuracy: 0.8382 - val_loss: 0.3926 - val_accuracy: 0.7882\n",
            "Epoch 88/200\n",
            "36/36 [==============================] - 2s 52ms/step - loss: 0.3398 - accuracy: 0.8410 - val_loss: 0.3515 - val_accuracy: 0.8318\n",
            "Epoch 89/200\n",
            "36/36 [==============================] - 2s 53ms/step - loss: 0.3278 - accuracy: 0.8439 - val_loss: 0.3548 - val_accuracy: 0.8131\n",
            "Epoch 90/200\n",
            "36/36 [==============================] - 2s 52ms/step - loss: 0.3456 - accuracy: 0.8169 - val_loss: 0.3845 - val_accuracy: 0.8037\n",
            "Epoch 91/200\n",
            "36/36 [==============================] - 2s 51ms/step - loss: 0.3850 - accuracy: 0.8249 - val_loss: 0.4345 - val_accuracy: 0.7944\n",
            "Epoch 92/200\n",
            "36/36 [==============================] - 2s 52ms/step - loss: 0.3453 - accuracy: 0.8370 - val_loss: 0.3845 - val_accuracy: 0.8100\n",
            "Epoch 93/200\n",
            "36/36 [==============================] - 2s 52ms/step - loss: 0.3017 - accuracy: 0.8414 - val_loss: 0.4080 - val_accuracy: 0.8100\n",
            "Epoch 94/200\n",
            "36/36 [==============================] - 2s 52ms/step - loss: 0.3440 - accuracy: 0.8248 - val_loss: 0.4086 - val_accuracy: 0.8162\n",
            "Epoch 95/200\n",
            "36/36 [==============================] - 2s 53ms/step - loss: 0.3370 - accuracy: 0.8403 - val_loss: 0.4260 - val_accuracy: 0.8162\n",
            "Epoch 96/200\n",
            "36/36 [==============================] - 2s 59ms/step - loss: 0.3251 - accuracy: 0.8476 - val_loss: 0.4226 - val_accuracy: 0.7819\n",
            "Epoch 97/200\n",
            "36/36 [==============================] - 2s 51ms/step - loss: 0.3712 - accuracy: 0.8187 - val_loss: 0.3679 - val_accuracy: 0.8193\n",
            "Epoch 98/200\n",
            "36/36 [==============================] - 2s 52ms/step - loss: 0.3485 - accuracy: 0.8375 - val_loss: 0.4143 - val_accuracy: 0.8037\n",
            "Epoch 99/200\n",
            "36/36 [==============================] - 2s 53ms/step - loss: 0.3571 - accuracy: 0.8179 - val_loss: 0.4207 - val_accuracy: 0.7913\n",
            "Epoch 100/200\n",
            "36/36 [==============================] - 2s 52ms/step - loss: 0.3812 - accuracy: 0.8000 - val_loss: 0.4066 - val_accuracy: 0.8069\n",
            "Epoch 101/200\n",
            "36/36 [==============================] - 2s 53ms/step - loss: 0.3500 - accuracy: 0.8446 - val_loss: 0.3550 - val_accuracy: 0.8287\n",
            "Epoch 102/200\n",
            "36/36 [==============================] - 2s 51ms/step - loss: 0.3405 - accuracy: 0.8431 - val_loss: 0.3658 - val_accuracy: 0.8162\n",
            "Epoch 103/200\n",
            "36/36 [==============================] - 2s 52ms/step - loss: 0.3144 - accuracy: 0.8460 - val_loss: 0.3665 - val_accuracy: 0.8255\n",
            "Epoch 104/200\n",
            "36/36 [==============================] - 2s 51ms/step - loss: 0.3243 - accuracy: 0.8608 - val_loss: 0.3479 - val_accuracy: 0.8349\n",
            "Epoch 105/200\n",
            "36/36 [==============================] - 2s 51ms/step - loss: 0.3511 - accuracy: 0.8308 - val_loss: 0.3461 - val_accuracy: 0.8224\n",
            "Epoch 106/200\n",
            "36/36 [==============================] - 2s 52ms/step - loss: 0.3147 - accuracy: 0.8565 - val_loss: 0.3893 - val_accuracy: 0.8224\n",
            "Epoch 107/200\n",
            "36/36 [==============================] - 2s 51ms/step - loss: 0.3717 - accuracy: 0.8305 - val_loss: 0.4083 - val_accuracy: 0.8193\n",
            "Epoch 108/200\n",
            "36/36 [==============================] - 2s 53ms/step - loss: 0.3541 - accuracy: 0.8208 - val_loss: 0.3838 - val_accuracy: 0.8131\n",
            "Epoch 109/200\n",
            "36/36 [==============================] - 2s 52ms/step - loss: 0.3815 - accuracy: 0.8046 - val_loss: 0.3699 - val_accuracy: 0.8255\n",
            "Epoch 110/200\n",
            "36/36 [==============================] - 2s 52ms/step - loss: 0.3448 - accuracy: 0.8334 - val_loss: 0.3846 - val_accuracy: 0.8006\n",
            "Epoch 111/200\n",
            "36/36 [==============================] - 2s 53ms/step - loss: 0.3695 - accuracy: 0.8158 - val_loss: 0.3519 - val_accuracy: 0.8131\n",
            "Epoch 112/200\n",
            "36/36 [==============================] - 2s 55ms/step - loss: 0.3377 - accuracy: 0.8091 - val_loss: 0.4353 - val_accuracy: 0.8037\n",
            "Epoch 113/200\n",
            "36/36 [==============================] - 2s 53ms/step - loss: 0.3245 - accuracy: 0.8587 - val_loss: 0.4159 - val_accuracy: 0.8131\n",
            "Epoch 114/200\n",
            "36/36 [==============================] - 2s 53ms/step - loss: 0.3486 - accuracy: 0.8431 - val_loss: 0.3555 - val_accuracy: 0.8131\n",
            "Epoch 115/200\n",
            "36/36 [==============================] - 2s 51ms/step - loss: 0.3746 - accuracy: 0.8248 - val_loss: 0.3628 - val_accuracy: 0.8224\n",
            "Epoch 116/200\n",
            "36/36 [==============================] - 2s 53ms/step - loss: 0.3598 - accuracy: 0.8258 - val_loss: 0.3522 - val_accuracy: 0.8287\n",
            "Epoch 117/200\n",
            "36/36 [==============================] - 2s 52ms/step - loss: 0.3207 - accuracy: 0.8404 - val_loss: 0.3635 - val_accuracy: 0.8411\n",
            "Epoch 118/200\n",
            "36/36 [==============================] - 2s 52ms/step - loss: 0.3361 - accuracy: 0.8349 - val_loss: 0.3685 - val_accuracy: 0.8349\n",
            "Epoch 119/200\n",
            "36/36 [==============================] - 2s 53ms/step - loss: 0.3312 - accuracy: 0.8408 - val_loss: 0.3495 - val_accuracy: 0.8318\n",
            "Epoch 120/200\n",
            "36/36 [==============================] - 2s 54ms/step - loss: 0.3173 - accuracy: 0.8569 - val_loss: 0.3587 - val_accuracy: 0.8162\n",
            "Epoch 121/200\n",
            "36/36 [==============================] - 2s 59ms/step - loss: 0.3217 - accuracy: 0.8534 - val_loss: 0.3949 - val_accuracy: 0.8131\n",
            "Epoch 122/200\n",
            "36/36 [==============================] - 2s 54ms/step - loss: 0.3298 - accuracy: 0.8488 - val_loss: 0.3670 - val_accuracy: 0.8131\n",
            "Epoch 123/200\n",
            "36/36 [==============================] - 2s 52ms/step - loss: 0.3389 - accuracy: 0.8479 - val_loss: 0.4128 - val_accuracy: 0.8193\n",
            "Epoch 124/200\n",
            "36/36 [==============================] - 2s 52ms/step - loss: 0.3646 - accuracy: 0.8199 - val_loss: 0.3768 - val_accuracy: 0.8069\n",
            "Epoch 125/200\n",
            "36/36 [==============================] - 2s 52ms/step - loss: 0.3303 - accuracy: 0.8428 - val_loss: 0.4018 - val_accuracy: 0.8224\n",
            "Epoch 126/200\n",
            "36/36 [==============================] - 2s 51ms/step - loss: 0.3466 - accuracy: 0.8375 - val_loss: 0.3634 - val_accuracy: 0.8380\n",
            "Epoch 127/200\n",
            "36/36 [==============================] - 2s 53ms/step - loss: 0.3562 - accuracy: 0.8291 - val_loss: 0.3433 - val_accuracy: 0.8411\n",
            "Epoch 128/200\n",
            "36/36 [==============================] - 2s 53ms/step - loss: 0.3417 - accuracy: 0.8453 - val_loss: 0.3575 - val_accuracy: 0.7944\n",
            "Epoch 129/200\n",
            "36/36 [==============================] - 2s 53ms/step - loss: 0.4123 - accuracy: 0.8033 - val_loss: 0.3515 - val_accuracy: 0.8411\n",
            "Epoch 130/200\n",
            "36/36 [==============================] - 2s 52ms/step - loss: 0.3481 - accuracy: 0.8381 - val_loss: 0.3823 - val_accuracy: 0.8224\n",
            "Epoch 131/200\n",
            "36/36 [==============================] - 2s 52ms/step - loss: 0.3596 - accuracy: 0.8283 - val_loss: 0.3786 - val_accuracy: 0.8318\n",
            "Epoch 132/200\n",
            "36/36 [==============================] - 2s 52ms/step - loss: 0.3044 - accuracy: 0.8464 - val_loss: 0.3725 - val_accuracy: 0.8069\n",
            "Epoch 133/200\n",
            "36/36 [==============================] - 2s 52ms/step - loss: 0.3135 - accuracy: 0.8581 - val_loss: 0.3465 - val_accuracy: 0.8318\n",
            "Epoch 134/200\n",
            "36/36 [==============================] - 2s 52ms/step - loss: 0.3089 - accuracy: 0.8624 - val_loss: 0.3457 - val_accuracy: 0.8474\n",
            "Epoch 135/200\n",
            "36/36 [==============================] - 2s 51ms/step - loss: 0.3173 - accuracy: 0.8601 - val_loss: 0.3690 - val_accuracy: 0.8318\n",
            "Epoch 136/200\n",
            "36/36 [==============================] - 2s 52ms/step - loss: 0.3075 - accuracy: 0.8521 - val_loss: 0.3497 - val_accuracy: 0.8536\n",
            "Epoch 137/200\n",
            "36/36 [==============================] - 2s 53ms/step - loss: 0.3102 - accuracy: 0.8552 - val_loss: 0.3350 - val_accuracy: 0.8567\n",
            "Epoch 138/200\n",
            "36/36 [==============================] - 2s 52ms/step - loss: 0.3497 - accuracy: 0.8381 - val_loss: 0.3707 - val_accuracy: 0.8474\n",
            "Epoch 139/200\n",
            "36/36 [==============================] - 2s 53ms/step - loss: 0.3510 - accuracy: 0.8435 - val_loss: 0.3854 - val_accuracy: 0.8162\n",
            "Epoch 140/200\n",
            "36/36 [==============================] - 2s 52ms/step - loss: 0.3191 - accuracy: 0.8590 - val_loss: 0.3696 - val_accuracy: 0.8037\n",
            "Epoch 141/200\n",
            "36/36 [==============================] - 2s 51ms/step - loss: 0.3258 - accuracy: 0.8372 - val_loss: 0.4259 - val_accuracy: 0.8193\n",
            "Epoch 142/200\n",
            "36/36 [==============================] - 2s 51ms/step - loss: 0.3292 - accuracy: 0.8556 - val_loss: 0.3606 - val_accuracy: 0.8411\n",
            "Epoch 143/200\n",
            "36/36 [==============================] - 2s 52ms/step - loss: 0.2827 - accuracy: 0.8727 - val_loss: 0.3685 - val_accuracy: 0.8318\n",
            "Epoch 144/200\n",
            "36/36 [==============================] - 2s 53ms/step - loss: 0.3309 - accuracy: 0.8562 - val_loss: 0.3617 - val_accuracy: 0.8318\n",
            "Epoch 145/200\n",
            "36/36 [==============================] - 2s 53ms/step - loss: 0.3068 - accuracy: 0.8726 - val_loss: 0.3444 - val_accuracy: 0.8629\n",
            "Epoch 146/200\n",
            "36/36 [==============================] - 2s 53ms/step - loss: 0.2980 - accuracy: 0.8616 - val_loss: 0.3450 - val_accuracy: 0.8442\n",
            "Epoch 147/200\n",
            "36/36 [==============================] - 2s 55ms/step - loss: 0.3429 - accuracy: 0.8451 - val_loss: 0.3718 - val_accuracy: 0.8069\n",
            "Epoch 148/200\n",
            "36/36 [==============================] - 2s 62ms/step - loss: 0.3194 - accuracy: 0.8480 - val_loss: 0.3492 - val_accuracy: 0.8411\n",
            "Epoch 149/200\n",
            "36/36 [==============================] - 2s 54ms/step - loss: 0.3047 - accuracy: 0.8691 - val_loss: 0.3451 - val_accuracy: 0.8536\n",
            "Epoch 150/200\n",
            "36/36 [==============================] - 2s 52ms/step - loss: 0.3186 - accuracy: 0.8496 - val_loss: 0.3664 - val_accuracy: 0.8411\n",
            "Epoch 151/200\n",
            "36/36 [==============================] - 2s 51ms/step - loss: 0.3635 - accuracy: 0.8273 - val_loss: 0.3722 - val_accuracy: 0.8224\n",
            "Epoch 152/200\n",
            "36/36 [==============================] - 2s 54ms/step - loss: 0.2826 - accuracy: 0.8738 - val_loss: 0.3439 - val_accuracy: 0.8474\n",
            "Epoch 153/200\n",
            "36/36 [==============================] - 2s 53ms/step - loss: 0.2897 - accuracy: 0.8628 - val_loss: 0.3335 - val_accuracy: 0.8536\n",
            "Epoch 154/200\n",
            "36/36 [==============================] - 2s 53ms/step - loss: 0.3286 - accuracy: 0.8407 - val_loss: 0.3722 - val_accuracy: 0.8131\n",
            "Epoch 155/200\n",
            "36/36 [==============================] - 2s 54ms/step - loss: 0.3279 - accuracy: 0.8533 - val_loss: 0.4770 - val_accuracy: 0.7882\n",
            "Epoch 156/200\n",
            "36/36 [==============================] - 2s 52ms/step - loss: 0.3981 - accuracy: 0.8182 - val_loss: 0.3507 - val_accuracy: 0.8349\n",
            "Epoch 157/200\n",
            "36/36 [==============================] - 2s 53ms/step - loss: 0.3198 - accuracy: 0.8644 - val_loss: 0.3497 - val_accuracy: 0.8505\n",
            "Epoch 158/200\n",
            "36/36 [==============================] - 2s 52ms/step - loss: 0.3260 - accuracy: 0.8406 - val_loss: 0.3466 - val_accuracy: 0.8162\n",
            "Epoch 159/200\n",
            "36/36 [==============================] - 2s 53ms/step - loss: 0.3290 - accuracy: 0.8552 - val_loss: 0.3301 - val_accuracy: 0.8255\n",
            "Epoch 160/200\n",
            "36/36 [==============================] - 2s 52ms/step - loss: 0.3651 - accuracy: 0.8405 - val_loss: 0.4236 - val_accuracy: 0.7975\n",
            "Epoch 161/200\n",
            "36/36 [==============================] - 2s 54ms/step - loss: 0.3385 - accuracy: 0.8339 - val_loss: 0.3454 - val_accuracy: 0.8474\n",
            "Epoch 162/200\n",
            "36/36 [==============================] - 2s 54ms/step - loss: 0.3296 - accuracy: 0.8261 - val_loss: 0.3384 - val_accuracy: 0.8380\n",
            "Epoch 163/200\n",
            "36/36 [==============================] - 2s 54ms/step - loss: 0.3074 - accuracy: 0.8473 - val_loss: 0.3548 - val_accuracy: 0.8380\n",
            "Epoch 164/200\n",
            "36/36 [==============================] - 2s 54ms/step - loss: 0.3203 - accuracy: 0.8398 - val_loss: 0.3627 - val_accuracy: 0.8100\n",
            "Epoch 165/200\n",
            "36/36 [==============================] - 2s 52ms/step - loss: 0.3243 - accuracy: 0.8456 - val_loss: 0.3853 - val_accuracy: 0.8255\n",
            "Epoch 166/200\n",
            "36/36 [==============================] - 2s 52ms/step - loss: 0.3168 - accuracy: 0.8495 - val_loss: 0.3380 - val_accuracy: 0.8411\n",
            "Epoch 167/200\n",
            "36/36 [==============================] - 2s 52ms/step - loss: 0.3687 - accuracy: 0.8364 - val_loss: 0.3199 - val_accuracy: 0.8629\n",
            "Epoch 168/200\n",
            "36/36 [==============================] - 2s 52ms/step - loss: 0.3717 - accuracy: 0.8433 - val_loss: 0.3843 - val_accuracy: 0.8287\n",
            "Epoch 169/200\n",
            "36/36 [==============================] - 2s 51ms/step - loss: 0.3191 - accuracy: 0.8589 - val_loss: 0.3383 - val_accuracy: 0.8660\n",
            "Epoch 170/200\n",
            "36/36 [==============================] - 2s 59ms/step - loss: 0.3686 - accuracy: 0.8256 - val_loss: 0.4174 - val_accuracy: 0.8193\n",
            "Epoch 171/200\n",
            "36/36 [==============================] - 2s 52ms/step - loss: 0.3618 - accuracy: 0.8359 - val_loss: 0.3225 - val_accuracy: 0.8598\n",
            "Epoch 172/200\n",
            "36/36 [==============================] - 2s 51ms/step - loss: 0.3141 - accuracy: 0.8481 - val_loss: 0.3504 - val_accuracy: 0.8380\n",
            "Epoch 173/200\n",
            "36/36 [==============================] - 2s 52ms/step - loss: 0.3322 - accuracy: 0.8388 - val_loss: 0.3288 - val_accuracy: 0.8536\n",
            "Epoch 174/200\n",
            "36/36 [==============================] - 2s 51ms/step - loss: 0.3160 - accuracy: 0.8482 - val_loss: 0.3680 - val_accuracy: 0.8411\n",
            "Epoch 175/200\n",
            "36/36 [==============================] - 2s 53ms/step - loss: 0.2771 - accuracy: 0.8716 - val_loss: 0.3315 - val_accuracy: 0.8411\n",
            "Epoch 176/200\n",
            "36/36 [==============================] - 2s 52ms/step - loss: 0.3067 - accuracy: 0.8604 - val_loss: 0.3279 - val_accuracy: 0.8349\n",
            "Epoch 177/200\n",
            "36/36 [==============================] - 2s 52ms/step - loss: 0.2792 - accuracy: 0.8793 - val_loss: 0.3354 - val_accuracy: 0.8349\n",
            "Epoch 178/200\n",
            "36/36 [==============================] - 2s 54ms/step - loss: 0.3306 - accuracy: 0.8242 - val_loss: 0.3499 - val_accuracy: 0.8536\n",
            "Epoch 179/200\n",
            "36/36 [==============================] - 2s 52ms/step - loss: 0.3392 - accuracy: 0.8518 - val_loss: 0.3534 - val_accuracy: 0.8442\n",
            "Epoch 180/200\n",
            "36/36 [==============================] - 2s 54ms/step - loss: 0.3050 - accuracy: 0.8814 - val_loss: 0.3319 - val_accuracy: 0.8442\n",
            "Epoch 181/200\n",
            "36/36 [==============================] - 2s 53ms/step - loss: 0.3500 - accuracy: 0.8384 - val_loss: 0.3399 - val_accuracy: 0.8380\n",
            "Epoch 182/200\n",
            "36/36 [==============================] - 2s 54ms/step - loss: 0.3272 - accuracy: 0.8451 - val_loss: 0.3541 - val_accuracy: 0.8380\n",
            "Epoch 183/200\n",
            "36/36 [==============================] - 2s 52ms/step - loss: 0.3194 - accuracy: 0.8471 - val_loss: 0.3463 - val_accuracy: 0.8505\n",
            "Epoch 184/200\n",
            "36/36 [==============================] - 2s 52ms/step - loss: 0.3185 - accuracy: 0.8590 - val_loss: 0.3453 - val_accuracy: 0.8411\n",
            "Epoch 185/200\n",
            "36/36 [==============================] - 2s 52ms/step - loss: 0.3096 - accuracy: 0.8629 - val_loss: 0.3440 - val_accuracy: 0.8349\n",
            "Epoch 186/200\n",
            "36/36 [==============================] - 2s 52ms/step - loss: 0.3132 - accuracy: 0.8581 - val_loss: 0.3488 - val_accuracy: 0.8411\n",
            "Epoch 187/200\n",
            "36/36 [==============================] - 2s 53ms/step - loss: 0.2929 - accuracy: 0.8597 - val_loss: 0.3140 - val_accuracy: 0.8660\n",
            "Epoch 188/200\n",
            "36/36 [==============================] - 2s 53ms/step - loss: 0.2844 - accuracy: 0.8577 - val_loss: 0.3530 - val_accuracy: 0.8318\n",
            "Epoch 189/200\n",
            "36/36 [==============================] - 2s 53ms/step - loss: 0.3162 - accuracy: 0.8498 - val_loss: 0.3626 - val_accuracy: 0.8505\n",
            "Epoch 190/200\n",
            "36/36 [==============================] - 2s 53ms/step - loss: 0.2954 - accuracy: 0.8526 - val_loss: 0.3552 - val_accuracy: 0.8442\n",
            "Epoch 191/200\n",
            "36/36 [==============================] - 2s 52ms/step - loss: 0.3145 - accuracy: 0.8477 - val_loss: 0.3307 - val_accuracy: 0.8629\n",
            "Epoch 192/200\n",
            "36/36 [==============================] - 2s 60ms/step - loss: 0.3474 - accuracy: 0.8356 - val_loss: 0.3626 - val_accuracy: 0.8536\n",
            "Epoch 193/200\n",
            "36/36 [==============================] - 2s 52ms/step - loss: 0.3044 - accuracy: 0.8533 - val_loss: 0.3476 - val_accuracy: 0.8442\n",
            "Epoch 194/200\n",
            "36/36 [==============================] - 2s 52ms/step - loss: 0.3214 - accuracy: 0.8498 - val_loss: 0.3678 - val_accuracy: 0.8411\n",
            "Epoch 195/200\n",
            "36/36 [==============================] - 2s 53ms/step - loss: 0.2839 - accuracy: 0.8740 - val_loss: 0.3353 - val_accuracy: 0.8567\n",
            "Epoch 196/200\n",
            "36/36 [==============================] - 2s 52ms/step - loss: 0.3095 - accuracy: 0.8516 - val_loss: 0.3883 - val_accuracy: 0.8287\n",
            "Epoch 197/200\n",
            "36/36 [==============================] - 2s 54ms/step - loss: 0.3237 - accuracy: 0.8598 - val_loss: 0.3337 - val_accuracy: 0.8411\n",
            "Epoch 198/200\n",
            "36/36 [==============================] - 2s 53ms/step - loss: 0.2801 - accuracy: 0.8693 - val_loss: 0.3339 - val_accuracy: 0.8411\n",
            "Epoch 199/200\n",
            "36/36 [==============================] - 2s 53ms/step - loss: 0.3299 - accuracy: 0.8524 - val_loss: 0.3838 - val_accuracy: 0.8255\n",
            "Epoch 200/200\n",
            "36/36 [==============================] - 2s 53ms/step - loss: 0.3363 - accuracy: 0.8498 - val_loss: 0.3392 - val_accuracy: 0.8442\n"
          ],
          "name": "stdout"
        }
      ]
    },
    {
      "cell_type": "markdown",
      "metadata": {
        "id": "wzTkw-YcgLy0"
      },
      "source": [
        "Now evaluate the results with our test data."
      ]
    },
    {
      "cell_type": "code",
      "metadata": {
        "id": "kk9ruJ5fgJ9Q",
        "outputId": "2f13c11c-57ca-424c-9fde-38907178c1c9",
        "colab": {
          "base_uri": "https://localhost:8080/"
        }
      },
      "source": [
        "results = model.evaluate(x_test, y_test)\r\n",
        "print(\"Model test loss, test acc:\", results)"
      ],
      "execution_count": 27,
      "outputs": [
        {
          "output_type": "stream",
          "text": [
            "6/6 [==============================] - 0s 6ms/step - loss: 0.3485 - accuracy: 0.8199\n",
            "Model test loss, test acc: [0.34851324558258057, 0.8198757767677307]\n"
          ],
          "name": "stdout"
        }
      ]
    },
    {
      "cell_type": "code",
      "metadata": {
        "colab": {
          "base_uri": "https://localhost:8080/",
          "height": 549
        },
        "id": "Uum6EzEX5uDi",
        "outputId": "629f7f2f-8aa9-4441-b06d-4ca32d41cf4e"
      },
      "source": [
        "def plot_graphs(history, string):\r\n",
        "  plt.plot(history.history[string])\r\n",
        "  plt.plot(history.history['val_'+string])\r\n",
        "  plt.xlabel(\"Epochs\")\r\n",
        "  plt.ylabel(string)\r\n",
        "  plt.legend([string, 'val_'+string])\r\n",
        "  plt.ylim([0,1])\r\n",
        "  plt.grid()\r\n",
        "  plt.show()\r\n",
        "  \r\n",
        "plot_graphs(history, \"accuracy\")\r\n",
        "plot_graphs(history, \"loss\")"
      ],
      "execution_count": 28,
      "outputs": [
        {
          "output_type": "display_data",
          "data": {
            "image/png": "[encoded data removed]",
            "text/plain": [
              "<Figure size 432x288 with 1 Axes>"
            ]
          },
          "metadata": {
            "tags": [],
            "needs_background": "light"
          }
        },
        {
          "output_type": "display_data",
          "data": {
            "image/png": "[encoded data removed]",
            "text/plain": [
              "<Figure size 432x288 with 1 Axes>"
            ]
          },
          "metadata": {
            "tags": [],
            "needs_background": "light"
          }
        }
      ]
    }
  ]
}