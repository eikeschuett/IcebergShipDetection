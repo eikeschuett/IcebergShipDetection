{
  "nbformat": 4,
  "nbformat_minor": 0,
  "metadata": {
    "colab": {
      "name": "CNN_training_iceberg_ship.ipynb",
      "provenance": [],
      "collapsed_sections": [],
      "authorship_tag": "ABX9TyNGhDP4ba0Uif0rMfaT9bvh",
      "include_colab_link": true
    },
    "kernelspec": {
      "name": "python3",
      "display_name": "Python 3"
    },
    "accelerator": "GPU"
  },
  "cells": [
    {
      "cell_type": "markdown",
      "metadata": {
        "id": "view-in-github",
        "colab_type": "text"
      },
      "source": [
        "<a href=\"https://colab.research.google.com/github/eikeschuett/IcebergShipDetection/blob/DNN_Trial_and_Error/CNN_%2Binc_angle_training_iceberg_ship.ipynb\" target=\"_parent\"><img src=\"https://colab.research.google.com/assets/colab-badge.svg\" alt=\"Open In Colab\"/></a>"
      ]
    },
    {
      "cell_type": "markdown",
      "metadata": {
        "id": "tnaWcRuC14S6"
      },
      "source": [
        "First, import all required libraries"
      ]
    },
    {
      "cell_type": "code",
      "metadata": {
        "id": "BHuUTDLf131I"
      },
      "source": [
        "# Libraries to access files from my drive\r\n",
        "import pandas as pd\r\n",
        "from pydrive.auth import GoogleAuth\r\n",
        "from pydrive.drive import GoogleDrive\r\n",
        "from google.colab import auth\r\n",
        "from oauth2client.client import GoogleCredentials\r\n",
        "\r\n",
        "import pandas as pd\r\n",
        "import numpy as np\r\n",
        "import matplotlib.pyplot as plt\r\n",
        "from sklearn.model_selection import train_test_split\r\n",
        "from keras_preprocessing.image import ImageDataGenerator\r\n",
        "import tensorflow as tf\r\n",
        "from keras.optimizers import Adam"
      ],
      "execution_count": 3,
      "outputs": []
    },
    {
      "cell_type": "markdown",
      "metadata": {
        "id": "eZP_Fdjv03kj"
      },
      "source": [
        "Then, import data from Google Drive. Code adapted from [here](https://www.roelpeters.be/how-to-uploading-files-in-google-colab/)."
      ]
    },
    {
      "cell_type": "code",
      "metadata": {
        "colab": {
          "base_uri": "https://localhost:8080/"
        },
        "id": "Nc8sq_K8z429",
        "outputId": "6bdf4d7a-424d-47a0-8e2d-e1d0105d5e31"
      },
      "source": [
        "# Authenticate with Google\r\n",
        "auth.authenticate_user()\r\n",
        "gauth = GoogleAuth()\r\n",
        "gauth.credentials = GoogleCredentials.get_application_default()\r\n",
        "drive = GoogleDrive(gauth)\r\n",
        "\r\n",
        "def read_json_from_drive(file_id, file_name):\r\n",
        "    dl = drive.CreateFile({'id': file_id})\r\n",
        "    dl.GetContentFile(file_name)\r\n",
        "    return pd.read_json(file_name)\r\n",
        "\r\n",
        "df_train = read_json_from_drive('1WlrJpjbaMXEB5SrrlweDhXngBOJZHtyo', 'train.json')\r\n",
        "print(df_train.head())"
      ],
      "execution_count": 26,
      "outputs": [
        {
          "output_type": "stream",
          "text": [
            "         id  ... is_iceberg\n",
            "0  dfd5f913  ...          0\n",
            "1  e25388fd  ...          0\n",
            "2  58b2aaa0  ...          1\n",
            "3  4cfc3a18  ...          0\n",
            "4  271f93f4  ...          0\n",
            "\n",
            "[5 rows x 5 columns]\n"
          ],
          "name": "stdout"
        }
      ]
    },
    {
      "cell_type": "markdown",
      "metadata": {
        "id": "nnQr0MCS2ZDF"
      },
      "source": [
        "Prepare the data"
      ]
    },
    {
      "cell_type": "code",
      "metadata": {
        "id": "nhSbhZtj2Yk2"
      },
      "source": [
        "df_train[\"inc_angle\"] = df_train[\"inc_angle\"].replace([\"na\"], 0)\r\n",
        "inc_angle = df_train[\"inc_angle\"]\r\n",
        "inc_angle = (inc_angle - 0)/ (90 - 0)\r\n",
        "inc_angel = np.array(inc_angle)\r\n",
        "\r\n",
        "# Get the labels (y-values)\r\n",
        "labels = np.array(df_train[\"is_iceberg\"])\r\n",
        "\r\n",
        "# Create empty list for the images\r\n",
        "imgs = []\r\n",
        "for i, row in df_train.iterrows():\r\n",
        "    # Reshape list to image\r\n",
        "    hh  = np.reshape(row[\"band_1\"], (75, 75))\r\n",
        "    hv  = np.reshape(row[\"band_2\"], (75, 75))\r\n",
        "    b3  = hh + hv\r\n",
        "    \r\n",
        "    # Rescale images between 0 and 1 for faster convergence rate\r\n",
        "    hh = (hh - hh.min())/(hh.max()-hh.min())\r\n",
        "    hv = (hv - hv.min())/(hv.max()-hv.min())\r\n",
        "    b3 = (b3 - b3.min())/(b3.max()-b3.min())\r\n",
        "\r\n",
        "    # Stack the bands and append them to imgs\r\n",
        "    imgs.append(np.dstack((hh, hv, b3)))\r\n",
        "\r\n",
        "# Split dataset into training and test data\r\n",
        "x_train, x_test, y_train, y_test = train_test_split(imgs, labels, test_size=0.25, random_state=0)\r\n",
        "x_train = np.array(x_train)\r\n",
        "x_test = np.array(x_test)"
      ],
      "execution_count": 27,
      "outputs": []
    },
    {
      "cell_type": "code",
      "metadata": {
        "id": "dnGjCs2I3URB"
      },
      "source": [
        "x_train, x_test, inc_train, inc_test, y_train, y_test = train_test_split(imgs, inc_angle, labels, test_size=0.25, random_state=0)\r\n",
        "x_train = np.array(x_train)\r\n",
        "x_test = np.array(x_test)\r\n",
        "inc_train = np.array(inc_train)\r\n"
      ],
      "execution_count": 29,
      "outputs": []
    },
    {
      "cell_type": "markdown",
      "metadata": {
        "id": "3K8fog6g2m73"
      },
      "source": [
        "Set up DataGenerators"
      ]
    },
    {
      "cell_type": "code",
      "metadata": {
        "id": "I-QIDC5wxTFu"
      },
      "source": [
        "training_datagen = ImageDataGenerator(\r\n",
        "    rotation_range = 90,\r\n",
        "    width_shift_range = 0.2,\r\n",
        "    height_shift_range = 0.2,\r\n",
        "    shear_range = 0.2,\r\n",
        "    zoom_range = 0.2,\r\n",
        "    horizontal_flip = True,\r\n",
        "    fill_mode = 'nearest')#,\r\n",
        "    #validation_split = 0.2)\r\n",
        "\r\n",
        "train_generator = training_datagen.flow([x_train, inc_train], y_train)#,\r\n",
        "                                     #batch_size=64)#, \r\n",
        "                                     #subset = \"training\")\r\n",
        "\r\n",
        "training_datagen = ImageDataGenerator(\r\n",
        "    rotation_range = 90,\r\n",
        "    width_shift_range = 0.2,\r\n",
        "    height_shift_range = 0.2,\r\n",
        "    shear_range = 0.2,\r\n",
        "    zoom_range = 0.2,\r\n",
        "    horizontal_flip = True,\r\n",
        "    fill_mode = 'nearest')#,\r\n",
        "    #validation_split = 0.2)\r\n",
        "\r\n",
        "\r\n",
        "\r\n",
        "val_datagen = ImageDataGenerator()\r\n",
        "\r\n",
        "val_generator = val_datagen.flow([x_test, inc_test], y_test)#,\r\n",
        "                                     #batch_size=16)#, \r\n",
        "                                     #subset = \"training\")\r\n",
        "\r\n",
        "\r\n"
      ],
      "execution_count": 30,
      "outputs": []
    },
    {
      "cell_type": "markdown",
      "metadata": {
        "id": "wdTsktXg2ttf"
      },
      "source": [
        "Set up and compile model"
      ]
    },
    {
      "cell_type": "code",
      "metadata": {
        "id": "aivDsEJZjyOk",
        "outputId": "54da46f8-4096-433b-f741-b439e0d14ffe",
        "colab": {
          "base_uri": "https://localhost:8080/"
        }
      },
      "source": [
        "import tensorflow as tf\r\n",
        "\r\n",
        "# Image\r\n",
        "input_1   = tf.keras.layers.Input(shape=(75, 75, 3))\r\n",
        "conv2d_1  = tf.keras.layers.Conv2D(32, (3,3), activation='relu')(input_1)\r\n",
        "#conv2d_2  = tf.keras.layers.Conv2D(64, (3,3), activation='relu', padding='same')(conv2d_1)\r\n",
        "#conv2d_3  = tf.keras.layers.Conv2D(64, (3,3), activation='relu', padding='same')(conv2d_2)\r\n",
        "maxpoo_1  = tf.keras.layers.MaxPooling2D(2,2)(conv2d_1)\r\n",
        "drop_1    = tf.keras.layers.Dropout(0.1)(maxpoo_1)\r\n",
        "\r\n",
        "conv2d_4  = tf.keras.layers.Conv2D(64, (3,3), activation='relu')(drop_1)\r\n",
        "#conv2d_5  = tf.keras.layers.Conv2D(128, (3,3), activation='relu', padding='same')(conv2d_4)\r\n",
        "#conv2d_6  = tf.keras.layers.Conv2D(128, (3,3), activation='relu', padding='same')(conv2d_5)\r\n",
        "maxpoo_2  = tf.keras.layers.MaxPooling2D(2,2)(conv2d_4)\r\n",
        "drop_2    = tf.keras.layers.Dropout(0.1)(maxpoo_2)\r\n",
        "\r\n",
        "conv2d_7  = tf.keras.layers.Conv2D(128, (3,3), activation='relu')(drop_2)\r\n",
        "#conv2d_8  = tf.keras.layers.Conv2D(128, (3,3), activation='relu', padding='same')(conv2d_7)\r\n",
        "#conv2d_9  = tf.keras.layers.Conv2D(128, (3,3), activation='relu', padding='same')(conv2d_8)\r\n",
        "maxpoo_3  = tf.keras.layers.MaxPooling2D(2,2)(conv2d_7)\r\n",
        "drop_3    = tf.keras.layers.Dropout(0.1)(maxpoo_3)\r\n",
        "\r\n",
        "conv2d_8  = tf.keras.layers.Conv2D(128, (3,3), activation='relu')(drop_3)\r\n",
        "maxpoo_4  = tf.keras.layers.MaxPooling2D(2,2)(conv2d_8)\r\n",
        "drop_4    = tf.keras.layers.Dropout(0.1)(maxpoo_4)\r\n",
        "\r\n",
        "flatten   = tf.keras.layers.Flatten()(drop_4)\r\n",
        "\r\n",
        "# Layer for inclination angle\r\n",
        "input_inc = tf.keras.layers.Input(shape=(1,))\r\n",
        "dense_inc = tf.keras.layers.Dense(256, activation='relu')(input_inc)\r\n",
        "\r\n",
        "# Concatenate\r\n",
        "concat = tf.keras.layers.Concatenate()([flatten, dense_inc])\r\n",
        "dense_1 = tf.keras.layers.Dense(512, activation='relu')(concat)\r\n",
        "dense_2 = tf.keras.layers.Dense(256, activation='relu')(dense_1)\r\n",
        "dense_3 = tf.keras.layers.Dense(128, activation='relu')(dense_2)\r\n",
        "\r\n",
        "# output layer\r\n",
        "output = tf.keras.layers.Dense(1, activation='softmax')(dense_3)\r\n",
        "\r\n",
        "model = tf.keras.Model(inputs=[input_1, input_inc], outputs=[output])\r\n",
        "\r\n",
        "print(model.summary())\r\n",
        "\r\n",
        "model.compile(loss='binary_crossentropy',\r\n",
        "              optimizer=Adam(lr=0.001, decay=0.0),\r\n",
        "              metrics=['accuracy'])\r\n",
        "print('Done')"
      ],
      "execution_count": 35,
      "outputs": [
        {
          "output_type": "stream",
          "text": [
            "Model: \"model_6\"\n",
            "__________________________________________________________________________________________________\n",
            "Layer (type)                    Output Shape         Param #     Connected to                     \n",
            "==================================================================================================\n",
            "input_13 (InputLayer)           [(None, 75, 75, 3)]  0                                            \n",
            "__________________________________________________________________________________________________\n",
            "conv2d_34 (Conv2D)              (None, 73, 73, 32)   896         input_13[0][0]                   \n",
            "__________________________________________________________________________________________________\n",
            "max_pooling2d_22 (MaxPooling2D) (None, 36, 36, 32)   0           conv2d_34[0][0]                  \n",
            "__________________________________________________________________________________________________\n",
            "dropout_22 (Dropout)            (None, 36, 36, 32)   0           max_pooling2d_22[0][0]           \n",
            "__________________________________________________________________________________________________\n",
            "conv2d_35 (Conv2D)              (None, 34, 34, 64)   18496       dropout_22[0][0]                 \n",
            "__________________________________________________________________________________________________\n",
            "max_pooling2d_23 (MaxPooling2D) (None, 17, 17, 64)   0           conv2d_35[0][0]                  \n",
            "__________________________________________________________________________________________________\n",
            "dropout_23 (Dropout)            (None, 17, 17, 64)   0           max_pooling2d_23[0][0]           \n",
            "__________________________________________________________________________________________________\n",
            "conv2d_36 (Conv2D)              (None, 15, 15, 128)  73856       dropout_23[0][0]                 \n",
            "__________________________________________________________________________________________________\n",
            "max_pooling2d_24 (MaxPooling2D) (None, 7, 7, 128)    0           conv2d_36[0][0]                  \n",
            "__________________________________________________________________________________________________\n",
            "dropout_24 (Dropout)            (None, 7, 7, 128)    0           max_pooling2d_24[0][0]           \n",
            "__________________________________________________________________________________________________\n",
            "conv2d_37 (Conv2D)              (None, 5, 5, 128)    147584      dropout_24[0][0]                 \n",
            "__________________________________________________________________________________________________\n",
            "max_pooling2d_25 (MaxPooling2D) (None, 2, 2, 128)    0           conv2d_37[0][0]                  \n",
            "__________________________________________________________________________________________________\n",
            "dropout_25 (Dropout)            (None, 2, 2, 128)    0           max_pooling2d_25[0][0]           \n",
            "__________________________________________________________________________________________________\n",
            "input_14 (InputLayer)           [(None, 1)]          0                                            \n",
            "__________________________________________________________________________________________________\n",
            "flatten_6 (Flatten)             (None, 512)          0           dropout_25[0][0]                 \n",
            "__________________________________________________________________________________________________\n",
            "dense_24 (Dense)                (None, 256)          512         input_14[0][0]                   \n",
            "__________________________________________________________________________________________________\n",
            "concatenate_6 (Concatenate)     (None, 768)          0           flatten_6[0][0]                  \n",
            "                                                                 dense_24[0][0]                   \n",
            "__________________________________________________________________________________________________\n",
            "dense_25 (Dense)                (None, 512)          393728      concatenate_6[0][0]              \n",
            "__________________________________________________________________________________________________\n",
            "dense_26 (Dense)                (None, 256)          131328      dense_25[0][0]                   \n",
            "__________________________________________________________________________________________________\n",
            "dense_27 (Dense)                (None, 128)          32896       dense_26[0][0]                   \n",
            "__________________________________________________________________________________________________\n",
            "dense_28 (Dense)                (None, 1)            129         dense_27[0][0]                   \n",
            "==================================================================================================\n",
            "Total params: 799,425\n",
            "Trainable params: 799,425\n",
            "Non-trainable params: 0\n",
            "__________________________________________________________________________________________________\n",
            "None\n",
            "Done\n"
          ],
          "name": "stdout"
        }
      ]
    },
    {
      "cell_type": "markdown",
      "metadata": {
        "id": "o2bzphHl2sNI"
      },
      "source": [
        "Train model"
      ]
    },
    {
      "cell_type": "code",
      "metadata": {
        "colab": {
          "base_uri": "https://localhost:8080/"
        },
        "id": "9hDOnss920IX",
        "outputId": "76d3ec94-facc-428c-94dc-96cadfd37b09"
      },
      "source": [
        "history = model.fit(\r\n",
        "      train_generator,\r\n",
        "      #steps_per_epoch=10,  \r\n",
        "      epochs=100,\r\n",
        "      verbose=1,\r\n",
        "      validation_data = val_generator)#,\r\n",
        "      #validation_steps=10)"
      ],
      "execution_count": 36,
      "outputs": [
        {
          "output_type": "stream",
          "text": [
            "Epoch 1/100\n",
            "38/38 [==============================] - 3s 53ms/step - loss: 0.6927 - accuracy: 0.4604 - val_loss: 0.6789 - val_accuracy: 0.5012\n",
            "Epoch 2/100\n",
            "38/38 [==============================] - 2s 48ms/step - loss: 0.6626 - accuracy: 0.4629 - val_loss: 0.6438 - val_accuracy: 0.5012\n",
            "Epoch 3/100\n",
            "38/38 [==============================] - 2s 49ms/step - loss: 0.6102 - accuracy: 0.4280 - val_loss: 0.5789 - val_accuracy: 0.5012\n",
            "Epoch 4/100\n",
            "38/38 [==============================] - 2s 49ms/step - loss: 0.5626 - accuracy: 0.4594 - val_loss: 0.5086 - val_accuracy: 0.5012\n",
            "Epoch 5/100\n",
            "38/38 [==============================] - 2s 49ms/step - loss: 0.5317 - accuracy: 0.4636 - val_loss: 0.5024 - val_accuracy: 0.5012\n",
            "Epoch 6/100\n",
            "38/38 [==============================] - 2s 56ms/step - loss: 0.5067 - accuracy: 0.4362 - val_loss: 0.5459 - val_accuracy: 0.5012\n",
            "Epoch 7/100\n",
            "38/38 [==============================] - 2s 48ms/step - loss: 0.5614 - accuracy: 0.4450 - val_loss: 0.4982 - val_accuracy: 0.5012\n",
            "Epoch 8/100\n",
            "38/38 [==============================] - 2s 49ms/step - loss: 0.4840 - accuracy: 0.4599 - val_loss: 0.4867 - val_accuracy: 0.5012\n",
            "Epoch 9/100\n",
            "38/38 [==============================] - 2s 49ms/step - loss: 0.5005 - accuracy: 0.4686 - val_loss: 0.4682 - val_accuracy: 0.5012\n",
            "Epoch 10/100\n",
            "38/38 [==============================] - 2s 48ms/step - loss: 0.4949 - accuracy: 0.4759 - val_loss: 0.4780 - val_accuracy: 0.5012\n",
            "Epoch 11/100\n",
            "38/38 [==============================] - 2s 49ms/step - loss: 0.4928 - accuracy: 0.4649 - val_loss: 0.4578 - val_accuracy: 0.5012\n",
            "Epoch 12/100\n",
            "38/38 [==============================] - 2s 49ms/step - loss: 0.5130 - accuracy: 0.4757 - val_loss: 0.4441 - val_accuracy: 0.5012\n",
            "Epoch 13/100\n",
            "38/38 [==============================] - 2s 49ms/step - loss: 0.4566 - accuracy: 0.4334 - val_loss: 0.4506 - val_accuracy: 0.5012\n",
            "Epoch 14/100\n",
            "38/38 [==============================] - 2s 48ms/step - loss: 0.4543 - accuracy: 0.4583 - val_loss: 0.4971 - val_accuracy: 0.5012\n",
            "Epoch 15/100\n",
            "38/38 [==============================] - 2s 48ms/step - loss: 0.4498 - accuracy: 0.4488 - val_loss: 0.4070 - val_accuracy: 0.5012\n",
            "Epoch 16/100\n",
            "38/38 [==============================] - 2s 49ms/step - loss: 0.4760 - accuracy: 0.4747 - val_loss: 0.4129 - val_accuracy: 0.5012\n",
            "Epoch 17/100\n",
            "38/38 [==============================] - 2s 48ms/step - loss: 0.4257 - accuracy: 0.4647 - val_loss: 0.3903 - val_accuracy: 0.5012\n",
            "Epoch 18/100\n",
            "38/38 [==============================] - 2s 48ms/step - loss: 0.4238 - accuracy: 0.4585 - val_loss: 0.3874 - val_accuracy: 0.5012\n",
            "Epoch 19/100\n",
            "38/38 [==============================] - 2s 48ms/step - loss: 0.3965 - accuracy: 0.4654 - val_loss: 0.4012 - val_accuracy: 0.5012\n",
            "Epoch 20/100\n",
            "38/38 [==============================] - 2s 48ms/step - loss: 0.4187 - accuracy: 0.4531 - val_loss: 0.4078 - val_accuracy: 0.5012\n",
            "Epoch 21/100\n",
            "38/38 [==============================] - 2s 48ms/step - loss: 0.4416 - accuracy: 0.4549 - val_loss: 0.3790 - val_accuracy: 0.5012\n",
            "Epoch 22/100\n",
            "38/38 [==============================] - 2s 48ms/step - loss: 0.4295 - accuracy: 0.4700 - val_loss: 0.3952 - val_accuracy: 0.5012\n",
            "Epoch 23/100\n",
            "38/38 [==============================] - 2s 48ms/step - loss: 0.4067 - accuracy: 0.4409 - val_loss: 0.3613 - val_accuracy: 0.5012\n",
            "Epoch 24/100\n",
            "38/38 [==============================] - 2s 49ms/step - loss: 0.3931 - accuracy: 0.4747 - val_loss: 0.3978 - val_accuracy: 0.5012\n",
            "Epoch 25/100\n",
            "38/38 [==============================] - 2s 48ms/step - loss: 0.3617 - accuracy: 0.4430 - val_loss: 0.4353 - val_accuracy: 0.5012\n",
            "Epoch 26/100\n",
            "38/38 [==============================] - 2s 49ms/step - loss: 0.3532 - accuracy: 0.4590 - val_loss: 0.3804 - val_accuracy: 0.5012\n",
            "Epoch 27/100\n",
            "38/38 [==============================] - 2s 49ms/step - loss: 0.3615 - accuracy: 0.4643 - val_loss: 0.4152 - val_accuracy: 0.5012\n",
            "Epoch 28/100\n",
            "38/38 [==============================] - 2s 48ms/step - loss: 0.3692 - accuracy: 0.4471 - val_loss: 0.4631 - val_accuracy: 0.5012\n",
            "Epoch 29/100\n",
            "38/38 [==============================] - 2s 49ms/step - loss: 0.4172 - accuracy: 0.4699 - val_loss: 0.3710 - val_accuracy: 0.5012\n",
            "Epoch 30/100\n",
            "38/38 [==============================] - 2s 48ms/step - loss: 0.3465 - accuracy: 0.4741 - val_loss: 0.3418 - val_accuracy: 0.5012\n",
            "Epoch 31/100\n",
            "38/38 [==============================] - 2s 48ms/step - loss: 0.3581 - accuracy: 0.4508 - val_loss: 0.4722 - val_accuracy: 0.5012\n",
            "Epoch 32/100\n",
            "38/38 [==============================] - 2s 48ms/step - loss: 0.3881 - accuracy: 0.4685 - val_loss: 0.3979 - val_accuracy: 0.5012\n",
            "Epoch 33/100\n",
            "38/38 [==============================] - 2s 50ms/step - loss: 0.3678 - accuracy: 0.4337 - val_loss: 0.3426 - val_accuracy: 0.5012\n",
            "Epoch 34/100\n",
            "38/38 [==============================] - 2s 49ms/step - loss: 0.3502 - accuracy: 0.4451 - val_loss: 0.3627 - val_accuracy: 0.5012\n",
            "Epoch 35/100\n",
            "38/38 [==============================] - 2s 49ms/step - loss: 0.3629 - accuracy: 0.4575 - val_loss: 0.3670 - val_accuracy: 0.5012\n",
            "Epoch 36/100\n",
            "38/38 [==============================] - 2s 49ms/step - loss: 0.3509 - accuracy: 0.4500 - val_loss: 0.3827 - val_accuracy: 0.5012\n",
            "Epoch 37/100\n",
            "38/38 [==============================] - 2s 48ms/step - loss: 0.3793 - accuracy: 0.4459 - val_loss: 0.3740 - val_accuracy: 0.5012\n",
            "Epoch 38/100\n",
            "38/38 [==============================] - 2s 49ms/step - loss: 0.3580 - accuracy: 0.4619 - val_loss: 0.3597 - val_accuracy: 0.5012\n",
            "Epoch 39/100\n",
            "38/38 [==============================] - 2s 49ms/step - loss: 0.3181 - accuracy: 0.4659 - val_loss: 0.4096 - val_accuracy: 0.5012\n",
            "Epoch 40/100\n",
            "38/38 [==============================] - 2s 49ms/step - loss: 0.3775 - accuracy: 0.4523 - val_loss: 0.3556 - val_accuracy: 0.5012\n",
            "Epoch 41/100\n",
            "38/38 [==============================] - 2s 48ms/step - loss: 0.3621 - accuracy: 0.4801 - val_loss: 0.4086 - val_accuracy: 0.5012\n",
            "Epoch 42/100\n",
            "38/38 [==============================] - 2s 49ms/step - loss: 0.3396 - accuracy: 0.4608 - val_loss: 0.3624 - val_accuracy: 0.5012\n",
            "Epoch 43/100\n",
            "38/38 [==============================] - 2s 50ms/step - loss: 0.3108 - accuracy: 0.4511 - val_loss: 0.3876 - val_accuracy: 0.5012\n",
            "Epoch 44/100\n",
            "38/38 [==============================] - 2s 49ms/step - loss: 0.3316 - accuracy: 0.4596 - val_loss: 0.3568 - val_accuracy: 0.5012\n",
            "Epoch 45/100\n",
            "38/38 [==============================] - 2s 50ms/step - loss: 0.2938 - accuracy: 0.4460 - val_loss: 0.4155 - val_accuracy: 0.5012\n",
            "Epoch 46/100\n",
            "38/38 [==============================] - 2s 49ms/step - loss: 0.3124 - accuracy: 0.4663 - val_loss: 0.3354 - val_accuracy: 0.5012\n",
            "Epoch 47/100\n",
            "38/38 [==============================] - 2s 49ms/step - loss: 0.3488 - accuracy: 0.4669 - val_loss: 0.3646 - val_accuracy: 0.5012\n",
            "Epoch 48/100\n",
            "38/38 [==============================] - 2s 50ms/step - loss: 0.3302 - accuracy: 0.4522 - val_loss: 0.3320 - val_accuracy: 0.5012\n",
            "Epoch 49/100\n",
            "38/38 [==============================] - 2s 51ms/step - loss: 0.3188 - accuracy: 0.4650 - val_loss: 0.3420 - val_accuracy: 0.5012\n",
            "Epoch 50/100\n",
            "38/38 [==============================] - 2s 48ms/step - loss: 0.3357 - accuracy: 0.4710 - val_loss: 0.3401 - val_accuracy: 0.5012\n",
            "Epoch 51/100\n",
            "38/38 [==============================] - 2s 55ms/step - loss: 0.3451 - accuracy: 0.4711 - val_loss: 0.3375 - val_accuracy: 0.5012\n",
            "Epoch 52/100\n",
            "38/38 [==============================] - 2s 49ms/step - loss: 0.2989 - accuracy: 0.4345 - val_loss: 0.3267 - val_accuracy: 0.5012\n",
            "Epoch 53/100\n",
            "38/38 [==============================] - 2s 49ms/step - loss: 0.2926 - accuracy: 0.4540 - val_loss: 0.4551 - val_accuracy: 0.5012\n",
            "Epoch 54/100\n",
            "38/38 [==============================] - 2s 50ms/step - loss: 0.3448 - accuracy: 0.4507 - val_loss: 0.4374 - val_accuracy: 0.5012\n",
            "Epoch 55/100\n",
            "38/38 [==============================] - 2s 50ms/step - loss: 0.3250 - accuracy: 0.4589 - val_loss: 0.4052 - val_accuracy: 0.5012\n",
            "Epoch 56/100\n",
            "38/38 [==============================] - 2s 50ms/step - loss: 0.3228 - accuracy: 0.4502 - val_loss: 0.4788 - val_accuracy: 0.5012\n",
            "Epoch 57/100\n",
            "38/38 [==============================] - 2s 51ms/step - loss: 0.3115 - accuracy: 0.4588 - val_loss: 0.3703 - val_accuracy: 0.5012\n",
            "Epoch 58/100\n",
            "38/38 [==============================] - 2s 49ms/step - loss: 0.3127 - accuracy: 0.4753 - val_loss: 0.3362 - val_accuracy: 0.5012\n",
            "Epoch 59/100\n",
            "38/38 [==============================] - 2s 49ms/step - loss: 0.3210 - accuracy: 0.4685 - val_loss: 0.3839 - val_accuracy: 0.5012\n",
            "Epoch 60/100\n",
            "38/38 [==============================] - 2s 50ms/step - loss: 0.3309 - accuracy: 0.4339 - val_loss: 0.3950 - val_accuracy: 0.5012\n",
            "Epoch 61/100\n",
            "38/38 [==============================] - 2s 50ms/step - loss: 0.3333 - accuracy: 0.4396 - val_loss: 0.3365 - val_accuracy: 0.5012\n",
            "Epoch 62/100\n",
            "38/38 [==============================] - 2s 49ms/step - loss: 0.3086 - accuracy: 0.4494 - val_loss: 0.4443 - val_accuracy: 0.5012\n",
            "Epoch 63/100\n",
            "38/38 [==============================] - 2s 49ms/step - loss: 0.3231 - accuracy: 0.4510 - val_loss: 0.3865 - val_accuracy: 0.5012\n",
            "Epoch 64/100\n",
            "38/38 [==============================] - 2s 48ms/step - loss: 0.3197 - accuracy: 0.4402 - val_loss: 0.4582 - val_accuracy: 0.5012\n",
            "Epoch 65/100\n",
            "38/38 [==============================] - 2s 49ms/step - loss: 0.3463 - accuracy: 0.4459 - val_loss: 0.3754 - val_accuracy: 0.5012\n",
            "Epoch 66/100\n",
            "38/38 [==============================] - 2s 48ms/step - loss: 0.3271 - accuracy: 0.4627 - val_loss: 0.4158 - val_accuracy: 0.5012\n",
            "Epoch 67/100\n",
            "38/38 [==============================] - 2s 50ms/step - loss: 0.3301 - accuracy: 0.4401 - val_loss: 0.3361 - val_accuracy: 0.5012\n",
            "Epoch 68/100\n",
            "38/38 [==============================] - 2s 49ms/step - loss: 0.3281 - accuracy: 0.4639 - val_loss: 0.3304 - val_accuracy: 0.5012\n",
            "Epoch 69/100\n",
            "38/38 [==============================] - 2s 49ms/step - loss: 0.3366 - accuracy: 0.4698 - val_loss: 0.3578 - val_accuracy: 0.5012\n",
            "Epoch 70/100\n",
            "38/38 [==============================] - 2s 48ms/step - loss: 0.2800 - accuracy: 0.4567 - val_loss: 0.3955 - val_accuracy: 0.5012\n",
            "Epoch 71/100\n",
            "38/38 [==============================] - 2s 49ms/step - loss: 0.3210 - accuracy: 0.4523 - val_loss: 0.3852 - val_accuracy: 0.5012\n",
            "Epoch 72/100\n",
            "38/38 [==============================] - 2s 49ms/step - loss: 0.3169 - accuracy: 0.4658 - val_loss: 0.3563 - val_accuracy: 0.5012\n",
            "Epoch 73/100\n",
            "38/38 [==============================] - 2s 49ms/step - loss: 0.3133 - accuracy: 0.4639 - val_loss: 0.5116 - val_accuracy: 0.5012\n",
            "Epoch 74/100\n",
            "38/38 [==============================] - 2s 49ms/step - loss: 0.3350 - accuracy: 0.4780 - val_loss: 0.4368 - val_accuracy: 0.5012\n",
            "Epoch 75/100\n",
            "38/38 [==============================] - 2s 48ms/step - loss: 0.2886 - accuracy: 0.4744 - val_loss: 0.3356 - val_accuracy: 0.5012\n",
            "Epoch 76/100\n",
            "38/38 [==============================] - 2s 50ms/step - loss: 0.3048 - accuracy: 0.4671 - val_loss: 0.3606 - val_accuracy: 0.5012\n",
            "Epoch 77/100\n",
            "38/38 [==============================] - 2s 48ms/step - loss: 0.2766 - accuracy: 0.4290 - val_loss: 0.3518 - val_accuracy: 0.5012\n",
            "Epoch 78/100\n",
            "38/38 [==============================] - 2s 48ms/step - loss: 0.2924 - accuracy: 0.4429 - val_loss: 0.3277 - val_accuracy: 0.5012\n",
            "Epoch 79/100\n",
            "38/38 [==============================] - 2s 49ms/step - loss: 0.3063 - accuracy: 0.4535 - val_loss: 0.3948 - val_accuracy: 0.5012\n",
            "Epoch 80/100\n",
            "38/38 [==============================] - 2s 48ms/step - loss: 0.3351 - accuracy: 0.4508 - val_loss: 0.3558 - val_accuracy: 0.5012\n",
            "Epoch 81/100\n",
            "38/38 [==============================] - 2s 48ms/step - loss: 0.3108 - accuracy: 0.4627 - val_loss: 0.3349 - val_accuracy: 0.5012\n",
            "Epoch 82/100\n",
            "38/38 [==============================] - 2s 50ms/step - loss: 0.3814 - accuracy: 0.4649 - val_loss: 0.3254 - val_accuracy: 0.5012\n",
            "Epoch 83/100\n",
            "38/38 [==============================] - 2s 48ms/step - loss: 0.3302 - accuracy: 0.4829 - val_loss: 0.3207 - val_accuracy: 0.5012\n",
            "Epoch 84/100\n",
            "38/38 [==============================] - 2s 49ms/step - loss: 0.3208 - accuracy: 0.4475 - val_loss: 0.3638 - val_accuracy: 0.5012\n",
            "Epoch 85/100\n",
            "38/38 [==============================] - 2s 49ms/step - loss: 0.3026 - accuracy: 0.4590 - val_loss: 0.3443 - val_accuracy: 0.5012\n",
            "Epoch 86/100\n",
            "38/38 [==============================] - 2s 50ms/step - loss: 0.3058 - accuracy: 0.4507 - val_loss: 0.3147 - val_accuracy: 0.5012\n",
            "Epoch 87/100\n",
            "38/38 [==============================] - 2s 50ms/step - loss: 0.3415 - accuracy: 0.4577 - val_loss: 0.3228 - val_accuracy: 0.5012\n",
            "Epoch 88/100\n",
            "38/38 [==============================] - 2s 50ms/step - loss: 0.3262 - accuracy: 0.4712 - val_loss: 0.3117 - val_accuracy: 0.5012\n",
            "Epoch 89/100\n",
            "38/38 [==============================] - 2s 49ms/step - loss: 0.2844 - accuracy: 0.4561 - val_loss: 0.4096 - val_accuracy: 0.5012\n",
            "Epoch 90/100\n",
            "38/38 [==============================] - 2s 50ms/step - loss: 0.3299 - accuracy: 0.4539 - val_loss: 0.3180 - val_accuracy: 0.5012\n",
            "Epoch 91/100\n",
            "38/38 [==============================] - 2s 49ms/step - loss: 0.3025 - accuracy: 0.4342 - val_loss: 0.3215 - val_accuracy: 0.5012\n",
            "Epoch 92/100\n",
            "38/38 [==============================] - 2s 49ms/step - loss: 0.2935 - accuracy: 0.4562 - val_loss: 0.3476 - val_accuracy: 0.5012\n",
            "Epoch 93/100\n",
            "38/38 [==============================] - 2s 49ms/step - loss: 0.3243 - accuracy: 0.4706 - val_loss: 0.3152 - val_accuracy: 0.5012\n",
            "Epoch 94/100\n",
            "38/38 [==============================] - 2s 49ms/step - loss: 0.2997 - accuracy: 0.4464 - val_loss: 0.3596 - val_accuracy: 0.5012\n",
            "Epoch 95/100\n",
            "38/38 [==============================] - 2s 55ms/step - loss: 0.3202 - accuracy: 0.4702 - val_loss: 0.3800 - val_accuracy: 0.5012\n",
            "Epoch 96/100\n",
            "38/38 [==============================] - 2s 49ms/step - loss: 0.3262 - accuracy: 0.4590 - val_loss: 0.3242 - val_accuracy: 0.5012\n",
            "Epoch 97/100\n",
            "38/38 [==============================] - 2s 49ms/step - loss: 0.3328 - accuracy: 0.4514 - val_loss: 0.3729 - val_accuracy: 0.5012\n",
            "Epoch 98/100\n",
            "38/38 [==============================] - 2s 49ms/step - loss: 0.3158 - accuracy: 0.4468 - val_loss: 0.3385 - val_accuracy: 0.5012\n",
            "Epoch 99/100\n",
            "38/38 [==============================] - 2s 50ms/step - loss: 0.3223 - accuracy: 0.4528 - val_loss: 0.3664 - val_accuracy: 0.5012\n",
            "Epoch 100/100\n",
            "38/38 [==============================] - 2s 48ms/step - loss: 0.3415 - accuracy: 0.4677 - val_loss: 0.3487 - val_accuracy: 0.5012\n"
          ],
          "name": "stdout"
        }
      ]
    },
    {
      "cell_type": "code",
      "metadata": {
        "colab": {
          "base_uri": "https://localhost:8080/",
          "height": 549
        },
        "id": "Uum6EzEX5uDi",
        "outputId": "5418b9d8-2fe9-4d84-ea28-1422af6b29de"
      },
      "source": [
        "def plot_graphs(history, string):\r\n",
        "  plt.plot(history.history[string])\r\n",
        "  plt.plot(history.history['val_'+string])\r\n",
        "  plt.xlabel(\"Epochs\")\r\n",
        "  plt.ylabel(string)\r\n",
        "  plt.legend([string, 'val_'+string])\r\n",
        "  plt.ylim([0,1])\r\n",
        "  plt.grid()\r\n",
        "  plt.show()\r\n",
        "  \r\n",
        "plot_graphs(history, \"accuracy\")\r\n",
        "plot_graphs(history, \"loss\")"
      ],
      "execution_count": 37,
      "outputs": [
        {
          "output_type": "display_data",
          "data": {
            "image/png": "[encoded data removed]",
            "text/plain": [
              "<Figure size 432x288 with 1 Axes>"
            ]
          },
          "metadata": {
            "tags": [],
            "needs_background": "light"
          }
        },
        {
          "output_type": "display_data",
          "data": {
            "image/png": "[encoded data removed]",
            "text/plain": [
              "<Figure size 432x288 with 1 Axes>"
            ]
          },
          "metadata": {
            "tags": [],
            "needs_background": "light"
          }
        }
      ]
    }
  ]
}