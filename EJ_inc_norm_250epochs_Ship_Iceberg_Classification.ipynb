{
  "nbformat": 4,
  "nbformat_minor": 0,
  "metadata": {
    "colab": {
      "name": "Ship-Iceberg-Classification.ipynb",
      "provenance": [],
      "collapsed_sections": [],
      "toc_visible": true,
      "include_colab_link": true
    },
    "kernelspec": {
      "name": "python3",
      "display_name": "Python 3"
    },
    "accelerator": "GPU"
  },
  "cells": [
    {
      "cell_type": "markdown",
      "metadata": {
        "id": "view-in-github",
        "colab_type": "text"
      },
      "source": [
        "<a href=\"https://colab.research.google.com/github/eikeschuett/IcebergShipDetection/blob/DNN_Trial_and_Error/EJ_inc_norm_250epochs_Ship_Iceberg_Classification.ipynb\" target=\"_parent\"><img src=\"https://colab.research.google.com/assets/colab-badge.svg\" alt=\"Open In Colab\"/></a>"
      ]
    },
    {
      "cell_type": "markdown",
      "metadata": {
        "id": "CB04L3ap90kB"
      },
      "source": [
        "# Overview\r\n",
        "\r\n"
      ]
    },
    {
      "cell_type": "markdown",
      "metadata": {
        "id": "YBiMoIuv-MeS"
      },
      "source": [
        "**Topic**: Iceberg and ship detection with satellite imagery\r\n",
        "\r\n",
        "**Goal**: This project is aimed at building an algorithm for the detcetion of ships and icebergs in Sentinel-1 SAR imagery. Desired output is a map, which shows the locations of icebergs, ships and unidentified objects.\r\n",
        "\r\n",
        "**Details**: The dataset used for training is obtained from a Kaggle challenge, [Statoil/C-CORE Iceberg Classifier](https://www.kaggle.com/c/statoil-iceberg-classifier-challenge). Each image has 75x75 pixels with two bands from HH and HV polarisations and contains a ship or an iceberg. This dataset will be used to train a CNN. After training the classification model, we will use Sentinel-1 SAR images to show the \"real world application\" of our model. The satellite images will be pre-processed with the Sentinel Application Platform (SNAP) Python API. We will then identify bright objects within each satellite image. A 75x75 subset of the radar image will be made for each object and fed into our classification model. Finally, the results will be plotted on a map."
      ]
    },
    {
      "cell_type": "markdown",
      "metadata": {
        "id": "uZMTYjbf--yh"
      },
      "source": [
        "# Dataset\r\n",
        "This project used the satellite SAR imagery provided by Kaggle challeng , [Statoil/C-CORE Iceberg Classifier](https://www.kaggle.com/c/statoil-iceberg-classifier-challenge).\r\n",
        "The dataset information is saved in the json file containing the following fields (see Table 1):\r\n",
        "* id: the id of the image \r\n",
        "* band_1 & band_2: the flattened image data. Each band has 75x75 pixel values in the list. The values are float numbers with unit being dB with the physical meaning of backscatter coefficient, $\\sigma^0$. band_1 and band_2 represent for HH-polarisation and HV polarisation, respectively (see Figure 1 below for having an idea of how the image looks like).\r\n",
        "* inc_angle: the incidence angle (see Figure 2). This field has missing data mark as \"na\", in our project, we gave the \"na\" a default value of 30°.\r\n",
        "* is_iceberg: the target variable, set to 1 if it is an iceberg, and 0 if it is a ship. \r\n",
        "\r\n",
        "> **Table 1**: A glimpse of `train.json` file <br>\r\n",
        "\r\n",
        "| id |band_1 | band_2 | inc_angle | is_iceberg |\r\n",
        "| --------- | ---- | ---------------- | --------------- | ---------------- |\r\n",
        "|dfd5f913 |\t[-27.878360999999998, -27.15416, -28.668615, -... |\t[-27.154118, -29.537888, -31.0306, -32.190483,... |\t43.9239 |\t0 |\r\n",
        "|e25388fd |\t[-12.242375, -14.920304999999999, -14.920363, ... |\t[-31.506321, -27.984554, -26.645678, -23.76760... |\t38.1562 | 0 |\r\n",
        "|58b2aaa0 |\t[-24.603676, -24.603714, -24.871029, -23.15277... |\t[-24.870956, -24.092632, -20.653963, -19.41104... |\t45.2859 |\t1 |\r\n",
        "|4cfc3a18 |\t[-22.454607, -23.082819, -23.998013, -23.99805... |\t[-27.889421, -27.519794, -27.165262, -29.10350... |\t43.8306 |\t0 |\r\n",
        "|271f93f4 |\t[-26.006956, -23.164886, -23.164886, -26.89116... |\t[-27.206915, -30.259186, -30.259186, -23.16495... |\t35.6256 |\t0 |\r\n",
        "\r\n",
        "\r\n",
        "\r\n",
        "As the field is_iceberg only exists in `train.json` but not `test.json`, this project only used `train.json` and separated the dataset into training, validation and test datasets with the proportion of $7:2:1$.\r\n"
      ]
    },
    {
      "cell_type": "code",
      "metadata": {
        "colab": {
          "base_uri": "https://localhost:8080/",
          "height": 305
        },
        "id": "dliQt8BsVetG",
        "outputId": "b9c53893-b0ba-4292-b26d-5809d5f72bb5"
      },
      "source": [
        "%%html\r\n",
        "<iframe src=\"https://drive.google.com/file/d/1P3Fw8GYdbHHk16IKPeiocJtAOvYDRYy2/preview\" width=\"640\" height=\"280\" border=\"0\"></iframe>"
      ],
      "execution_count": 23,
      "outputs": [
        {
          "output_type": "display_data",
          "data": {
            "text/html": [
              "<iframe src=\"https://drive.google.com/file/d/1P3Fw8GYdbHHk16IKPeiocJtAOvYDRYy2/preview\" width=\"640\" height=\"280\" border=\"0\"></iframe>"
            ],
            "text/plain": [
              "<IPython.core.display.HTML object>"
            ]
          },
          "metadata": {
            "tags": []
          }
        }
      ]
    },
    {
      "cell_type": "markdown",
      "metadata": {
        "id": "u8AQmax-VxSJ"
      },
      "source": [
        "> **Figure 1**: Example for SAR image with HH and HV polarisations."
      ]
    },
    {
      "cell_type": "code",
      "metadata": {
        "colab": {
          "base_uri": "https://localhost:8080/",
          "height": 220
        },
        "id": "DkNOK49qWNFE",
        "outputId": "ee36748b-d4af-494d-fe66-370f589b1acb"
      },
      "source": [
        "%%html\r\n",
        "<IMG SRC=\"https://earth.esa.int/handbooks/asar/aux-files/ephimg-10418557.gif\" border=\"0\"></a>"
      ],
      "execution_count": 24,
      "outputs": [
        {
          "output_type": "display_data",
          "data": {
            "text/html": [
              "<IMG SRC=\"https://earth.esa.int/handbooks/asar/aux-files/ephimg-10418557.gif\" border=\"0\"></a>"
            ],
            "text/plain": [
              "<IPython.core.display.HTML object>"
            ]
          },
          "metadata": {
            "tags": []
          }
        }
      ]
    },
    {
      "cell_type": "markdown",
      "metadata": {
        "id": "A8B3LXcXWs5X"
      },
      "source": [
        "> **Figure 2**: Illustration of incidence angle (source: [ESA earthnet](https://earth.esa.int/handbooks/asar/CNTR5-5.html))."
      ]
    },
    {
      "cell_type": "markdown",
      "metadata": {
        "id": "0IOOgCqBsIEc"
      },
      "source": [
        "# Method\r\n"
      ]
    },
    {
      "cell_type": "markdown",
      "metadata": {
        "id": "dVVU_d2DJRsg"
      },
      "source": [
        "## Normalization\r\n",
        "\r\n",
        "This study applied incidence angle normalization method [(Topouzelis et al., 2016)](https://www.degruyter.com/view/journals/geo/8/1/article-p450.xml?tab_body=abstract) to normalize the backscatter coefficient from band_1 (HH) and band_2 (HV) using:\r\n",
        "\r\n",
        "$\\sigma_{\\theta, norm}^0=\\dfrac{\\sigma_\\theta^0+(0.766\\theta-31.638)}{2}$\r\n",
        "\r\n",
        "where<br>\r\n",
        "> $\\theta$: incidence angle<br>\r\n",
        "> $\\sigma^0_\\theta$: backscatter coefficient at incidence angle $\\theta$<br>\r\n",
        "\r\n"
      ]
    },
    {
      "cell_type": "markdown",
      "metadata": {
        "id": "h4IJiknjcdQb"
      },
      "source": [
        "## Total Backscatter\r\n",
        "The total backscatter was then calculated by  $H = HH + HV$.<br>\r\n",
        "It was then used as band_3 in this project."
      ]
    },
    {
      "cell_type": "markdown",
      "metadata": {
        "id": "P7cD8n-v_dO_"
      },
      "source": [
        "# Outline"
      ]
    },
    {
      "cell_type": "markdown",
      "metadata": {
        "id": "j0G9SQkF_wmL"
      },
      "source": [
        "1. Download the Kaggle dataset to Google Drive with Kaggle API\r\n",
        "2. Build up the CNN architecture for training\r\n",
        "3. Train the model\r\n",
        "4. Test with real world data"
      ]
    },
    {
      "cell_type": "markdown",
      "metadata": {
        "id": "pzMSXZrJ-FxP"
      },
      "source": [
        "# Download the Kaggle dataset to Google Drive"
      ]
    },
    {
      "cell_type": "markdown",
      "metadata": {
        "id": "ujLLd0OSAgmQ"
      },
      "source": [
        "Following the steps: https://www.kaggle.com/general/74235"
      ]
    },
    {
      "cell_type": "code",
      "metadata": {
        "id": "E61WKpV0AleF"
      },
      "source": [
        "#!pip install -q kaggle"
      ],
      "execution_count": 25,
      "outputs": []
    },
    {
      "cell_type": "code",
      "metadata": {
        "id": "DIiXpRt7AqmF"
      },
      "source": [
        "#from google.colab import drive\r\n",
        "#drive.mount('/content/drive')"
      ],
      "execution_count": 26,
      "outputs": []
    },
    {
      "cell_type": "code",
      "metadata": {
        "id": "xsfFhcEeArP3"
      },
      "source": [
        "#%cd /content/drive/MyDrive/"
      ],
      "execution_count": 27,
      "outputs": []
    },
    {
      "cell_type": "markdown",
      "metadata": {
        "id": "wcG9TqahAv2v"
      },
      "source": [
        "Go to your account in Kaggle, scroll to API section and click  on \"Create New API Token\". Then, the file `kaggle.json` will be downloaded into your local drive, upload it with `files.upload()`."
      ]
    },
    {
      "cell_type": "code",
      "metadata": {
        "id": "FFVwzFnqAs19"
      },
      "source": [
        "#from google.colab import files\r\n",
        "#files.upload()"
      ],
      "execution_count": 28,
      "outputs": []
    },
    {
      "cell_type": "markdown",
      "metadata": {
        "id": "8AKDX1AzA1MS"
      },
      "source": [
        "Make directory named kaggle and copy `kaggle.json` file there."
      ]
    },
    {
      "cell_type": "code",
      "metadata": {
        "id": "uN5i3dioA06X"
      },
      "source": [
        "#!mkdir -p kaggle\r\n",
        "#!mv kaggle.json kaggle\r\n",
        "#%cd kaggle/"
      ],
      "execution_count": 29,
      "outputs": []
    },
    {
      "cell_type": "markdown",
      "metadata": {
        "id": "jP4Ea28oBBeJ"
      },
      "source": [
        "Download the data to the directory `/content/drive/MyDrive/kaggle/data`"
      ]
    },
    {
      "cell_type": "code",
      "metadata": {
        "id": "weNuBtKvAzAw"
      },
      "source": [
        "#!mkdir -p data\r\n",
        "#%cd data\r\n",
        "#!kaggle competitions download -c carvana-image-masking-challenge"
      ],
      "execution_count": 30,
      "outputs": []
    },
    {
      "cell_type": "markdown",
      "metadata": {
        "id": "GW8FHXaABlBF"
      },
      "source": [
        "Unzip the *.7z file with the build-in command."
      ]
    },
    {
      "cell_type": "code",
      "metadata": {
        "id": "pf1dBHd9BmLX"
      },
      "source": [
        "#!7z e test.json.7z \r\n",
        "#!7z e train.json.7z \r\n",
        "#!7z e sample_submission.csv.7z "
      ],
      "execution_count": 31,
      "outputs": []
    },
    {
      "cell_type": "markdown",
      "metadata": {
        "id": "_tv5TlsJBOsk"
      },
      "source": [
        "Folder Structure on Google Drive\r\n",
        "```\r\n",
        "MyDrive/\r\n",
        "    kaggle/\r\n",
        "        data/\r\n",
        "            train.json.7z\r\n",
        "            test.json.7z\r\n",
        "            sample_submission.csv.7z\r\n",
        "            train.json\r\n",
        "            test.json\r\n",
        "            sample_submission.csv\r\n",
        "```\r\n",
        "\r\n",
        "Note that `test.json` data doesn't contain the label `is_iceberg`, so this project only use `train.json` and split the data into training, validation and test data."
      ]
    },
    {
      "cell_type": "markdown",
      "metadata": {
        "id": "S3-idFr__Fc1"
      },
      "source": [
        "# Build up the CNN Architecture"
      ]
    },
    {
      "cell_type": "markdown",
      "metadata": {
        "id": "yJf9Ot-ECfpw"
      },
      "source": [
        "Import the libraries"
      ]
    },
    {
      "cell_type": "code",
      "metadata": {
        "id": "Wp_u7zwvt_jw"
      },
      "source": [
        "import numpy as np # linear algebra\r\n",
        "np.random.seed(666)\r\n",
        "import pandas as pd # data processing, CSV file I/O (e.g. pd.read_csv)\r\n",
        "from sklearn.model_selection import train_test_split\r\n",
        "from subprocess import check_output\r\n",
        "from matplotlib import pyplot\r\n",
        "from tensorflow.keras.preprocessing.image import ImageDataGenerator\r\n",
        "from tensorflow.keras.models import Sequential\r\n",
        "from tensorflow.keras.layers import Conv2D, MaxPooling2D, Dense, Dropout, Input, Flatten\r\n",
        "from tensorflow.keras.layers import GlobalMaxPooling2D\r\n",
        "from keras.layers.normalization import BatchNormalization\r\n",
        "from keras.layers.merge import Concatenate\r\n",
        "from tensorflow.keras.models import Model\r\n",
        "from tensorflow.keras.optimizers import Adam, SGD\r\n",
        "from tensorflow.keras.callbacks import ModelCheckpoint, Callback, EarlyStopping\r\n",
        "import matplotlib.pyplot as plt\r\n",
        "from scipy.ndimage.filters import uniform_filter\r\n",
        "from scipy.ndimage.measurements import variance"
      ],
      "execution_count": 32,
      "outputs": []
    },
    {
      "cell_type": "code",
      "metadata": {
        "colab": {
          "base_uri": "https://localhost:8080/"
        },
        "id": "7nYBzmT4uDBU",
        "outputId": "a2694914-c9de-4bc2-aebf-d55c518b6f34"
      },
      "source": [
        "from google.colab import drive\r\n",
        "\r\n",
        "drive.mount('/content/drive')\r\n",
        "data = pd.read_json('/content/drive/MyDrive/Iceberg_Ship_Classification/train.json')\r\n",
        "\r\n",
        "print(len(data))\r\n",
        "\r\n",
        "data.inc_angle = data.inc_angle.replace('na', np.nan)\r\n",
        "data = data.dropna(axis=0, how='any')\r\n",
        "print(len(data))\r\n"
      ],
      "execution_count": 33,
      "outputs": [
        {
          "output_type": "stream",
          "text": [
            "Drive already mounted at /content/drive; to attempt to forcibly remount, call drive.mount(\"/content/drive\", force_remount=True).\n",
            "1604\n",
            "1471\n"
          ],
          "name": "stdout"
        }
      ]
    },
    {
      "cell_type": "code",
      "metadata": {
        "id": "Z8dsJe-5tMev"
      },
      "source": [
        "import matplotlib as mpl\r\n",
        "from mpl_toolkits.axes_grid1 import make_axes_locatable\r\n",
        "def plot_img1(sig_nought, vmin, vmax):\r\n",
        "    \"\"\"\r\n",
        "    :type sig_nought: np.ndarray(np.float)\r\n",
        "    \"\"\"\r\n",
        "    plt.imshow(sig_nought, cmap = plt.cm.Greys, \r\n",
        "                    norm = mpl.colors.Normalize(vmin=vmin, vmax=vmax))\r\n",
        "\r\n",
        "    cbar = plt.colorbar()\r\n",
        "    cbar.set_label('[dB]')\r\n",
        "    plt.show()\r\n",
        "\r\n",
        "def plot_img2(sig_nought, sig_nought_n):\r\n",
        "    \"\"\"\r\n",
        "    :type sig_nought: np.ndarray(np.float)\r\n",
        "    :type sig_nought_n: np.ndarray(np.float)\r\n",
        "    \"\"\"\r\n",
        "    vmax=np.ceil(max(np.max(sig_nought),np.max(sig_nought_n)))\r\n",
        "    vmin=np.floor(min(np.min(sig_nought),np.min(sig_nought_n)))\r\n",
        "\r\n",
        "    fig, axes = plt.subplots(nrows=1, ncols=2)\r\n",
        "    im = axes[0].imshow(sig_nought, cmap = plt.cm.Greys, \r\n",
        "                   norm = mpl.colors.Normalize(vmin=vmin, vmax=vmax))\r\n",
        "    axes[1].imshow(sig_nought_n, cmap = plt.cm.Greys, \r\n",
        "                   norm = mpl.colors.Normalize(vmin=vmin, vmax=vmax))\r\n",
        "    \r\n",
        "    fig.subplots_adjust(right=0.8)\r\n",
        "    cbar_ax = fig.add_axes([0.85, 0.25, 0.05, 0.5])\r\n",
        "    cbar = fig.colorbar(im, cax=cbar_ax)\r\n",
        "    cbar.set_label('[dB]')\r\n",
        "    plt.show()\r\n"
      ],
      "execution_count": 34,
      "outputs": []
    },
    {
      "cell_type": "code",
      "metadata": {
        "id": "OzAKZG0RuZ2b"
      },
      "source": [
        "def lee_filter(img, size):\r\n",
        "    # From here: https://stackoverflow.com/questions/39785970/speckle-lee-filter-in-python\r\n",
        "    img_mean = uniform_filter(img, (size, size))\r\n",
        "    img_sqr_mean = uniform_filter(img**2, (size, size))\r\n",
        "    img_variance = img_sqr_mean - img_mean**2\r\n",
        "\r\n",
        "    overall_variance = variance(img)\r\n",
        "\r\n",
        "    img_weights = img_variance / (img_variance + overall_variance)\r\n",
        "    img_output = img_mean + img_weights * (img - img_mean)\r\n",
        "    return img_output"
      ],
      "execution_count": 35,
      "outputs": []
    },
    {
      "cell_type": "code",
      "metadata": {
        "id": "-H2mmI2nN-ey"
      },
      "source": [
        "def normalize(sig_nought, inc_angle, default_inc = None):\r\n",
        "    \"\"\"\r\n",
        "    :type sig_nought: np.ndarray(np.float)\r\n",
        "    :type inc_angle: float\r\n",
        "    :rtype: np.ndarray(np.float)\r\n",
        "    \"\"\"\r\n",
        "    \r\n",
        "    if np.isnan(inc_angle):\r\n",
        "        if default_inc != None:\r\n",
        "            inc_angle = default_inc\r\n",
        "            sig_nought_n = (sig_nought + 0.766 * inc_angle - 31.638) / 2\r\n",
        "        else:\r\n",
        "            sig_nought_n = sig_nought\r\n",
        "    else:\r\n",
        "        sig_nought_n = (sig_nought + 0.766 * inc_angle - 31.638) / 2\r\n",
        "\r\n",
        "    return sig_nought_n\r\n"
      ],
      "execution_count": 36,
      "outputs": []
    },
    {
      "cell_type": "code",
      "metadata": {
        "id": "uqww4ARyuabj"
      },
      "source": [
        "def prepare_data(data):\r\n",
        "    x_angle = np.array(data[\"inc_angle\"])\r\n",
        "\r\n",
        "    # Get the labels (y-values)\r\n",
        "    labels = np.array(data[\"is_iceberg\"])\r\n",
        "\r\n",
        "    # Create empty list for the images\r\n",
        "    imgs = []\r\n",
        "    cpr = []\r\n",
        "    for i, row in data.iterrows():\r\n",
        "        # Reshape list to image\r\n",
        "        hh  = np.reshape(row[\"band_1\"], (75, 75))\r\n",
        "        hv  = np.reshape(row[\"band_2\"], (75, 75))\r\n",
        "\r\n",
        "        # normalize hh and hv using inc_angle (x_angle[i])\r\n",
        "        # with default inc_angle = 30  # if np.isnan(inc_angle)\r\n",
        "        hh = normalize(hh, row[\"inc_angle\"], 30)\r\n",
        "        hv = normalize(hv, row[\"inc_angle\"], 30)\r\n",
        "\r\n",
        "        # total backscatter = hh + hv\r\n",
        "        b3 = hh + hv\r\n",
        "        # cross polarisation ratio = hv / (hh+hv)\r\n",
        "        #c3 = hv / b3\r\n",
        "\r\n",
        "        # \r\n",
        "        hh = lee_filter(hh, 20)\r\n",
        "        hv = lee_filter(hv, 20)\r\n",
        "        b3 = lee_filter(b3, 20)      \r\n",
        "        #c3 = lee_filter(c3, 20) \r\n",
        "          \r\n",
        "        # Rescale images between 0 and 1 for faster convergence rate\r\n",
        "        hh = (hh - hh.min())/(hh.max()-hh.min())\r\n",
        "        hv = (hv - hv.min())/(hv.max()-hv.min())\r\n",
        "        b3 = (b3 - b3.min())/(b3.max()-b3.min())\r\n",
        "        \r\n",
        "        # Stack the bands and append them to imgs\r\n",
        "        #imgs.append(np.dstack((hh, hv, b3, c3)))\r\n",
        "        imgs.append(np.dstack((hh, hv, b3)))\r\n",
        "    \r\n",
        "    \r\n",
        "    # Split dataset into training (70%) and validation (30 %)                             \r\n",
        "    x_train, x_val, y_train, y_val = train_test_split(imgs, labels,\r\n",
        "                                                     test_size=0.3,\r\n",
        "                                                     random_state=0)\r\n",
        "    # Then split validation dataset into validation (20 %) and testing (10 %)\r\n",
        "    x_val, x_test, y_val, y_test = train_test_split(x_val, y_val,\r\n",
        "                                                     test_size=(1/3),\r\n",
        "                                                     random_state=0)                               \r\n",
        "    x_train = np.array(x_train)\r\n",
        "    x_test = np.array(x_test)\r\n",
        "    x_val = np.array(x_val)\r\n",
        "    \r\n",
        "    return x_train, x_val, x_test, y_train, y_val, y_test"
      ],
      "execution_count": 37,
      "outputs": []
    },
    {
      "cell_type": "code",
      "metadata": {
        "colab": {
          "base_uri": "https://localhost:8080/"
        },
        "id": "28CxgXc60t2u",
        "outputId": "0617c039-e934-465d-8092-5d2b448435a7"
      },
      "source": [
        "x_train, x_val, x_test, y_train, y_val, y_test = prepare_data(data)\r\n",
        "\r\n",
        "print(\"Number of samples for training: %i (%.2f%%)\"%(len(x_train), round(len(x_train)/len(data)*100)))\r\n",
        "print(\"Number of samples for validation: %i (%.2f%%)\"%(len(x_val), round(len(x_val)/len(data)*100)))\r\n",
        "print(\"Number of samples for testing: %i (%.2f%%)\"%(len(x_test), round(len(x_test)/len(data)*100)))"
      ],
      "execution_count": 38,
      "outputs": [
        {
          "output_type": "stream",
          "text": [
            "Number of samples for training: 1029 (70.00%)\n",
            "Number of samples for validation: 294 (20.00%)\n",
            "Number of samples for testing: 148 (10.00%)\n"
          ],
          "name": "stdout"
        }
      ]
    },
    {
      "cell_type": "code",
      "metadata": {
        "id": "LCyj6yw9fRAJ"
      },
      "source": [
        "batch_size = 32\r\n",
        "gen = ImageDataGenerator(\r\n",
        "    rotation_range = 90,\r\n",
        "    width_shift_range = 0.2,\r\n",
        "    height_shift_range = 0.2,\r\n",
        "    shear_range = 0.2,\r\n",
        "    zoom_range = 0.2,\r\n",
        "    horizontal_flip = True,\r\n",
        "    fill_mode = 'nearest')\r\n",
        "\r\n",
        "gen_flow = gen.flow(x_train, y_train, batch_size = batch_size, seed = 666)\r\n"
      ],
      "execution_count": 39,
      "outputs": []
    },
    {
      "cell_type": "code",
      "metadata": {
        "id": "lVC3fO7Hw5Uv",
        "colab": {
          "base_uri": "https://localhost:8080/"
        },
        "outputId": "ffadbfb2-f327-4d10-efd0-c560ef0e28e3"
      },
      "source": [
        "def create_model(optimizer):\r\n",
        "    ac_fct      = \"relu\"\r\n",
        "    #momentum    = 0\r\n",
        "\r\n",
        "    input_img   = Input(shape=(75, 75, 3), name=\"X_img\")\r\n",
        "    #input_img   = Input(shape=(75, 75, 4), name=\"X_img\")\r\n",
        "    #input_angle = Input(shape=[1], name=\"angle\")\r\n",
        "\r\n",
        "    #cnn = BatchNormalization()(input_img)\r\n",
        "    cnn = Conv2D(16, kernel_size=(3,3), activation = \"relu\")(input_img)\r\n",
        "    #cnn = Conv2D(16, kernel_size=(3,3), activation = \"relu\")(cnn)\r\n",
        "    cnn = MaxPooling2D((2,2))(cnn)\r\n",
        "    cnn = Dropout(0.1) (cnn)\r\n",
        "\r\n",
        "    cnn = Conv2D(32, kernel_size=(3,3), activation = \"relu\")(cnn)\r\n",
        "    #cnn = Conv2D(32, kernel_size=(3,3), activation = \"relu\")(cnn)\r\n",
        "    cnn = MaxPooling2D((2,2))(cnn)\r\n",
        "    cnn = Dropout(0.1)(cnn)\r\n",
        "\r\n",
        "    cnn = Conv2D(64, kernel_size=(3,3), activation = \"relu\")(cnn)\r\n",
        "    #cnn = Conv2D(64, kernel_size=(3,3), activation = \"relu\") (cnn)\r\n",
        "    cnn = MaxPooling2D((2,2))(cnn)\r\n",
        "    cnn = Dropout(0.1)(cnn)  \r\n",
        "\r\n",
        "    cnn = Conv2D(128, kernel_size=(3,3), activation = \"relu\")(cnn)\r\n",
        "    cnn = Conv2D(128, kernel_size=(3,3), activation = \"relu\") (cnn)\r\n",
        "    cnn = MaxPooling2D((2,2))(cnn)\r\n",
        "    cnn = Dropout(0.1)(cnn)  \r\n",
        "    \r\n",
        "\r\n",
        "    cnn = GlobalMaxPooling2D()(cnn)\r\n",
        "\r\n",
        "    #angle = BatchNormalization(momentum=0)(input_angle)\r\n",
        "    #angle = Lambda(lambda x: (x - 25)/(45-25))(input_angle)\r\n",
        "    \r\n",
        "    #concat = (Concatenate()([cnn, angle]))\r\n",
        "\r\n",
        "    #dense = Dense(32, activation=\"relu\") (concat)\r\n",
        "    dense = Dense(32, activation=\"relu\")(cnn)\r\n",
        "    # dense = BatchNormalization() (dense)\r\n",
        "    # dense = Dropout(0.2)(dense)\r\n",
        "    \r\n",
        "    #dense = Dense(128, activation=\"relu\") (dense)\r\n",
        "    #dense = BatchNormalization() (dense)\r\n",
        "    #dense = Dropout(0.2)(dense)\r\n",
        "\r\n",
        "    #dense = Dense(128, activation=\"relu\") (dense)\r\n",
        "    #dense = BatchNormalization() (dense)\r\n",
        "    #dense = Dropout(0.2)(dense)\r\n",
        "\r\n",
        "    output = Dense(1, activation=\"sigmoid\")(dense)\r\n",
        "\r\n",
        "    #model = Model([input_img, input_angle], output)\r\n",
        "    model = Model(input_img, output)\r\n",
        "    #optimizer = Adam(lr=0.1, epsilon=1e-08, decay=0.0)\r\n",
        "    model.compile(loss=\"binary_crossentropy\", optimizer=optimizer, metrics=[\"accuracy\"])\r\n",
        "    return model\r\n",
        "\r\n",
        "epochs = 250\r\n",
        "# learning_rate = 0.1\r\n",
        "# decay_rate = learning_rate / epochs\r\n",
        "# momentum = 0.8\r\n",
        "# sgd = SGD(lr=learning_rate, momentum=momentum, decay=decay_rate, nesterov=False)\r\n",
        "\r\n",
        "# from keras.optimizers import Adadelta\r\n",
        "model = create_model(optimizer = Adam())\r\n",
        "model.summary()"
      ],
      "execution_count": 40,
      "outputs": [
        {
          "output_type": "stream",
          "text": [
            "Model: \"model_1\"\n",
            "_________________________________________________________________\n",
            "Layer (type)                 Output Shape              Param #   \n",
            "=================================================================\n",
            "X_img (InputLayer)           [(None, 75, 75, 3)]       0         \n",
            "_________________________________________________________________\n",
            "conv2d_5 (Conv2D)            (None, 73, 73, 16)        448       \n",
            "_________________________________________________________________\n",
            "max_pooling2d_4 (MaxPooling2 (None, 36, 36, 16)        0         \n",
            "_________________________________________________________________\n",
            "dropout_4 (Dropout)          (None, 36, 36, 16)        0         \n",
            "_________________________________________________________________\n",
            "conv2d_6 (Conv2D)            (None, 34, 34, 32)        4640      \n",
            "_________________________________________________________________\n",
            "max_pooling2d_5 (MaxPooling2 (None, 17, 17, 32)        0         \n",
            "_________________________________________________________________\n",
            "dropout_5 (Dropout)          (None, 17, 17, 32)        0         \n",
            "_________________________________________________________________\n",
            "conv2d_7 (Conv2D)            (None, 15, 15, 64)        18496     \n",
            "_________________________________________________________________\n",
            "max_pooling2d_6 (MaxPooling2 (None, 7, 7, 64)          0         \n",
            "_________________________________________________________________\n",
            "dropout_6 (Dropout)          (None, 7, 7, 64)          0         \n",
            "_________________________________________________________________\n",
            "conv2d_8 (Conv2D)            (None, 5, 5, 128)         73856     \n",
            "_________________________________________________________________\n",
            "conv2d_9 (Conv2D)            (None, 3, 3, 128)         147584    \n",
            "_________________________________________________________________\n",
            "max_pooling2d_7 (MaxPooling2 (None, 1, 1, 128)         0         \n",
            "_________________________________________________________________\n",
            "dropout_7 (Dropout)          (None, 1, 1, 128)         0         \n",
            "_________________________________________________________________\n",
            "global_max_pooling2d_1 (Glob (None, 128)               0         \n",
            "_________________________________________________________________\n",
            "dense_2 (Dense)              (None, 32)                4128      \n",
            "_________________________________________________________________\n",
            "dense_3 (Dense)              (None, 1)                 33        \n",
            "=================================================================\n",
            "Total params: 249,185\n",
            "Trainable params: 249,185\n",
            "Non-trainable params: 0\n",
            "_________________________________________________________________\n"
          ],
          "name": "stdout"
        }
      ]
    },
    {
      "cell_type": "markdown",
      "metadata": {
        "id": "IpDHGNPh1KSV"
      },
      "source": [
        "# Train the Model"
      ]
    },
    {
      "cell_type": "code",
      "metadata": {
        "id": "BJbwtdGeNO02",
        "outputId": "1b76427c-5bc2-47a5-ccf7-ab82abdf65c5",
        "colab": {
          "base_uri": "https://localhost:8080/"
        }
      },
      "source": [
        "history = model.fit(gen_flow, validation_data=(x_val, y_val),\r\n",
        "                    steps_per_epoch=len(x_train) / batch_size, epochs=epochs)\r\n"
      ],
      "execution_count": 41,
      "outputs": [
        {
          "output_type": "stream",
          "text": [
            "Epoch 1/250\n",
            "32/32 [==============================] - 2s 50ms/step - loss: 0.6941 - accuracy: 0.5041 - val_loss: 0.6878 - val_accuracy: 0.5136\n",
            "Epoch 2/250\n",
            "32/32 [==============================] - 1s 45ms/step - loss: 0.6830 - accuracy: 0.5558 - val_loss: 0.6550 - val_accuracy: 0.6429\n",
            "Epoch 3/250\n",
            "32/32 [==============================] - 1s 47ms/step - loss: 0.6196 - accuracy: 0.6860 - val_loss: 0.6470 - val_accuracy: 0.5952\n",
            "Epoch 4/250\n",
            "32/32 [==============================] - 1s 46ms/step - loss: 0.5935 - accuracy: 0.6965 - val_loss: 0.5886 - val_accuracy: 0.7177\n",
            "Epoch 5/250\n",
            "32/32 [==============================] - 1s 47ms/step - loss: 0.5937 - accuracy: 0.6932 - val_loss: 0.5689 - val_accuracy: 0.6905\n",
            "Epoch 6/250\n",
            "32/32 [==============================] - 1s 46ms/step - loss: 0.5792 - accuracy: 0.6949 - val_loss: 0.5270 - val_accuracy: 0.7211\n",
            "Epoch 7/250\n",
            "32/32 [==============================] - 1s 45ms/step - loss: 0.5281 - accuracy: 0.7590 - val_loss: 0.5848 - val_accuracy: 0.6701\n",
            "Epoch 8/250\n",
            "32/32 [==============================] - 1s 45ms/step - loss: 0.5387 - accuracy: 0.7206 - val_loss: 0.4810 - val_accuracy: 0.7381\n",
            "Epoch 9/250\n",
            "32/32 [==============================] - 1s 46ms/step - loss: 0.5289 - accuracy: 0.7512 - val_loss: 0.5240 - val_accuracy: 0.7245\n",
            "Epoch 10/250\n",
            "32/32 [==============================] - 1s 46ms/step - loss: 0.5044 - accuracy: 0.7711 - val_loss: 0.4230 - val_accuracy: 0.7993\n",
            "Epoch 11/250\n",
            "32/32 [==============================] - 1s 46ms/step - loss: 0.4569 - accuracy: 0.7931 - val_loss: 0.4586 - val_accuracy: 0.7755\n",
            "Epoch 12/250\n",
            "32/32 [==============================] - 1s 45ms/step - loss: 0.4371 - accuracy: 0.8032 - val_loss: 0.4363 - val_accuracy: 0.7993\n",
            "Epoch 13/250\n",
            "32/32 [==============================] - 2s 47ms/step - loss: 0.4580 - accuracy: 0.7842 - val_loss: 0.3752 - val_accuracy: 0.8435\n",
            "Epoch 14/250\n",
            "32/32 [==============================] - 1s 46ms/step - loss: 0.4456 - accuracy: 0.8056 - val_loss: 0.4234 - val_accuracy: 0.7891\n",
            "Epoch 15/250\n",
            "32/32 [==============================] - 1s 46ms/step - loss: 0.4632 - accuracy: 0.7934 - val_loss: 0.4303 - val_accuracy: 0.7993\n",
            "Epoch 16/250\n",
            "32/32 [==============================] - 1s 46ms/step - loss: 0.4858 - accuracy: 0.7414 - val_loss: 0.3641 - val_accuracy: 0.8469\n",
            "Epoch 17/250\n",
            "32/32 [==============================] - 2s 47ms/step - loss: 0.4358 - accuracy: 0.7971 - val_loss: 0.4710 - val_accuracy: 0.7823\n",
            "Epoch 18/250\n",
            "32/32 [==============================] - 1s 46ms/step - loss: 0.4300 - accuracy: 0.8032 - val_loss: 0.3815 - val_accuracy: 0.8469\n",
            "Epoch 19/250\n",
            "32/32 [==============================] - 2s 46ms/step - loss: 0.3840 - accuracy: 0.8288 - val_loss: 0.3516 - val_accuracy: 0.8469\n",
            "Epoch 20/250\n",
            "32/32 [==============================] - 1s 45ms/step - loss: 0.4399 - accuracy: 0.7834 - val_loss: 0.3745 - val_accuracy: 0.8503\n",
            "Epoch 21/250\n",
            "32/32 [==============================] - 1s 46ms/step - loss: 0.4247 - accuracy: 0.7905 - val_loss: 0.3862 - val_accuracy: 0.8333\n",
            "Epoch 22/250\n",
            "32/32 [==============================] - 1s 46ms/step - loss: 0.4076 - accuracy: 0.8162 - val_loss: 0.3933 - val_accuracy: 0.8027\n",
            "Epoch 23/250\n",
            "32/32 [==============================] - 1s 46ms/step - loss: 0.4735 - accuracy: 0.7670 - val_loss: 0.3688 - val_accuracy: 0.8503\n",
            "Epoch 24/250\n",
            "32/32 [==============================] - 1s 46ms/step - loss: 0.3949 - accuracy: 0.8060 - val_loss: 0.3793 - val_accuracy: 0.8231\n",
            "Epoch 25/250\n",
            "32/32 [==============================] - 1s 46ms/step - loss: 0.4333 - accuracy: 0.7726 - val_loss: 0.3302 - val_accuracy: 0.8537\n",
            "Epoch 26/250\n",
            "32/32 [==============================] - 1s 46ms/step - loss: 0.3915 - accuracy: 0.8110 - val_loss: 0.5264 - val_accuracy: 0.7721\n",
            "Epoch 27/250\n",
            "32/32 [==============================] - 2s 47ms/step - loss: 0.4394 - accuracy: 0.8026 - val_loss: 0.4034 - val_accuracy: 0.8231\n",
            "Epoch 28/250\n",
            "32/32 [==============================] - 1s 46ms/step - loss: 0.3982 - accuracy: 0.8043 - val_loss: 0.3565 - val_accuracy: 0.8197\n",
            "Epoch 29/250\n",
            "32/32 [==============================] - 1s 46ms/step - loss: 0.4256 - accuracy: 0.8075 - val_loss: 0.3244 - val_accuracy: 0.8605\n",
            "Epoch 30/250\n",
            "32/32 [==============================] - 1s 46ms/step - loss: 0.3842 - accuracy: 0.8274 - val_loss: 0.3438 - val_accuracy: 0.8503\n",
            "Epoch 31/250\n",
            "32/32 [==============================] - 2s 56ms/step - loss: 0.3594 - accuracy: 0.8408 - val_loss: 0.3165 - val_accuracy: 0.8571\n",
            "Epoch 32/250\n",
            "32/32 [==============================] - 1s 46ms/step - loss: 0.3844 - accuracy: 0.7903 - val_loss: 0.3256 - val_accuracy: 0.8605\n",
            "Epoch 33/250\n",
            "32/32 [==============================] - 2s 48ms/step - loss: 0.3907 - accuracy: 0.7985 - val_loss: 0.3821 - val_accuracy: 0.8367\n",
            "Epoch 34/250\n",
            "32/32 [==============================] - 2s 47ms/step - loss: 0.3733 - accuracy: 0.8139 - val_loss: 0.3519 - val_accuracy: 0.8503\n",
            "Epoch 35/250\n",
            "32/32 [==============================] - 2s 47ms/step - loss: 0.4536 - accuracy: 0.7657 - val_loss: 0.3645 - val_accuracy: 0.8265\n",
            "Epoch 36/250\n",
            "32/32 [==============================] - 1s 46ms/step - loss: 0.3748 - accuracy: 0.8194 - val_loss: 0.3515 - val_accuracy: 0.8435\n",
            "Epoch 37/250\n",
            "32/32 [==============================] - 1s 46ms/step - loss: 0.3957 - accuracy: 0.8225 - val_loss: 0.3682 - val_accuracy: 0.8401\n",
            "Epoch 38/250\n",
            "32/32 [==============================] - 2s 47ms/step - loss: 0.3667 - accuracy: 0.8357 - val_loss: 0.3335 - val_accuracy: 0.8537\n",
            "Epoch 39/250\n",
            "32/32 [==============================] - 2s 47ms/step - loss: 0.3812 - accuracy: 0.8129 - val_loss: 0.3284 - val_accuracy: 0.8673\n",
            "Epoch 40/250\n",
            "32/32 [==============================] - 1s 47ms/step - loss: 0.3962 - accuracy: 0.7970 - val_loss: 0.3573 - val_accuracy: 0.8639\n",
            "Epoch 41/250\n",
            "32/32 [==============================] - 1s 46ms/step - loss: 0.3876 - accuracy: 0.8018 - val_loss: 0.3395 - val_accuracy: 0.8571\n",
            "Epoch 42/250\n",
            "32/32 [==============================] - 1s 46ms/step - loss: 0.3668 - accuracy: 0.8269 - val_loss: 0.3740 - val_accuracy: 0.8299\n",
            "Epoch 43/250\n",
            "32/32 [==============================] - 1s 46ms/step - loss: 0.3551 - accuracy: 0.8217 - val_loss: 0.3216 - val_accuracy: 0.8571\n",
            "Epoch 44/250\n",
            "32/32 [==============================] - 2s 47ms/step - loss: 0.3605 - accuracy: 0.8379 - val_loss: 0.3140 - val_accuracy: 0.8571\n",
            "Epoch 45/250\n",
            "32/32 [==============================] - 2s 47ms/step - loss: 0.3428 - accuracy: 0.8302 - val_loss: 0.3037 - val_accuracy: 0.8707\n",
            "Epoch 46/250\n",
            "32/32 [==============================] - 1s 46ms/step - loss: 0.3802 - accuracy: 0.8260 - val_loss: 0.4250 - val_accuracy: 0.8163\n",
            "Epoch 47/250\n",
            "32/32 [==============================] - 1s 46ms/step - loss: 0.4147 - accuracy: 0.8263 - val_loss: 0.3181 - val_accuracy: 0.8639\n",
            "Epoch 48/250\n",
            "32/32 [==============================] - 1s 46ms/step - loss: 0.3882 - accuracy: 0.8282 - val_loss: 0.3224 - val_accuracy: 0.8605\n",
            "Epoch 49/250\n",
            "32/32 [==============================] - 1s 46ms/step - loss: 0.3472 - accuracy: 0.8169 - val_loss: 0.3563 - val_accuracy: 0.8333\n",
            "Epoch 50/250\n",
            "32/32 [==============================] - 1s 46ms/step - loss: 0.3758 - accuracy: 0.8079 - val_loss: 0.3186 - val_accuracy: 0.8673\n",
            "Epoch 51/250\n",
            "32/32 [==============================] - 2s 47ms/step - loss: 0.3523 - accuracy: 0.8370 - val_loss: 0.3242 - val_accuracy: 0.8571\n",
            "Epoch 52/250\n",
            "32/32 [==============================] - 2s 46ms/step - loss: 0.3595 - accuracy: 0.8238 - val_loss: 0.3195 - val_accuracy: 0.8673\n",
            "Epoch 53/250\n",
            "32/32 [==============================] - 1s 46ms/step - loss: 0.3407 - accuracy: 0.8434 - val_loss: 0.3714 - val_accuracy: 0.8333\n",
            "Epoch 54/250\n",
            "32/32 [==============================] - 1s 46ms/step - loss: 0.3904 - accuracy: 0.8192 - val_loss: 0.3167 - val_accuracy: 0.8707\n",
            "Epoch 55/250\n",
            "32/32 [==============================] - 1s 46ms/step - loss: 0.4130 - accuracy: 0.8245 - val_loss: 0.3891 - val_accuracy: 0.8231\n",
            "Epoch 56/250\n",
            "32/32 [==============================] - 1s 46ms/step - loss: 0.3653 - accuracy: 0.8329 - val_loss: 0.3150 - val_accuracy: 0.8673\n",
            "Epoch 57/250\n",
            "32/32 [==============================] - 2s 47ms/step - loss: 0.3576 - accuracy: 0.8338 - val_loss: 0.3113 - val_accuracy: 0.8605\n",
            "Epoch 58/250\n",
            "32/32 [==============================] - 1s 46ms/step - loss: 0.3399 - accuracy: 0.8420 - val_loss: 0.3337 - val_accuracy: 0.8537\n",
            "Epoch 59/250\n",
            "32/32 [==============================] - 2s 46ms/step - loss: 0.3693 - accuracy: 0.8305 - val_loss: 0.3710 - val_accuracy: 0.8401\n",
            "Epoch 60/250\n",
            "32/32 [==============================] - 1s 46ms/step - loss: 0.3618 - accuracy: 0.8387 - val_loss: 0.3342 - val_accuracy: 0.8503\n",
            "Epoch 61/250\n",
            "32/32 [==============================] - 1s 46ms/step - loss: 0.3635 - accuracy: 0.8285 - val_loss: 0.4258 - val_accuracy: 0.8129\n",
            "Epoch 62/250\n",
            "32/32 [==============================] - 2s 46ms/step - loss: 0.3326 - accuracy: 0.8317 - val_loss: 0.3051 - val_accuracy: 0.8571\n",
            "Epoch 63/250\n",
            "32/32 [==============================] - 1s 46ms/step - loss: 0.4011 - accuracy: 0.8164 - val_loss: 0.3250 - val_accuracy: 0.8469\n",
            "Epoch 64/250\n",
            "32/32 [==============================] - 1s 45ms/step - loss: 0.3779 - accuracy: 0.8119 - val_loss: 0.3080 - val_accuracy: 0.8571\n",
            "Epoch 65/250\n",
            "32/32 [==============================] - 1s 46ms/step - loss: 0.3499 - accuracy: 0.8410 - val_loss: 0.3099 - val_accuracy: 0.8673\n",
            "Epoch 66/250\n",
            "32/32 [==============================] - 1s 46ms/step - loss: 0.3512 - accuracy: 0.8511 - val_loss: 0.3193 - val_accuracy: 0.8537\n",
            "Epoch 67/250\n",
            "32/32 [==============================] - 1s 45ms/step - loss: 0.3666 - accuracy: 0.8153 - val_loss: 0.3161 - val_accuracy: 0.8707\n",
            "Epoch 68/250\n",
            "32/32 [==============================] - 1s 46ms/step - loss: 0.3699 - accuracy: 0.8105 - val_loss: 0.3511 - val_accuracy: 0.8469\n",
            "Epoch 69/250\n",
            "32/32 [==============================] - 1s 46ms/step - loss: 0.3259 - accuracy: 0.8533 - val_loss: 0.3560 - val_accuracy: 0.8401\n",
            "Epoch 70/250\n",
            "32/32 [==============================] - 1s 46ms/step - loss: 0.3792 - accuracy: 0.8195 - val_loss: 0.3400 - val_accuracy: 0.8333\n",
            "Epoch 71/250\n",
            "32/32 [==============================] - 1s 46ms/step - loss: 0.4546 - accuracy: 0.7924 - val_loss: 0.3646 - val_accuracy: 0.8367\n",
            "Epoch 72/250\n",
            "32/32 [==============================] - 2s 48ms/step - loss: 0.3858 - accuracy: 0.8274 - val_loss: 0.3158 - val_accuracy: 0.8435\n",
            "Epoch 73/250\n",
            "32/32 [==============================] - 1s 46ms/step - loss: 0.3386 - accuracy: 0.8431 - val_loss: 0.3589 - val_accuracy: 0.8333\n",
            "Epoch 74/250\n",
            "32/32 [==============================] - 1s 46ms/step - loss: 0.4161 - accuracy: 0.8207 - val_loss: 0.3090 - val_accuracy: 0.8605\n",
            "Epoch 75/250\n",
            "32/32 [==============================] - 2s 47ms/step - loss: 0.3620 - accuracy: 0.8303 - val_loss: 0.3304 - val_accuracy: 0.8367\n",
            "Epoch 76/250\n",
            "32/32 [==============================] - 2s 47ms/step - loss: 0.3795 - accuracy: 0.7947 - val_loss: 0.3570 - val_accuracy: 0.8367\n",
            "Epoch 77/250\n",
            "32/32 [==============================] - 2s 54ms/step - loss: 0.3627 - accuracy: 0.8193 - val_loss: 0.3802 - val_accuracy: 0.8197\n",
            "Epoch 78/250\n",
            "32/32 [==============================] - 1s 46ms/step - loss: 0.3726 - accuracy: 0.8287 - val_loss: 0.3059 - val_accuracy: 0.8469\n",
            "Epoch 79/250\n",
            "32/32 [==============================] - 2s 46ms/step - loss: 0.3478 - accuracy: 0.8207 - val_loss: 0.3133 - val_accuracy: 0.8571\n",
            "Epoch 80/250\n",
            "32/32 [==============================] - 1s 46ms/step - loss: 0.3484 - accuracy: 0.8197 - val_loss: 0.3316 - val_accuracy: 0.8537\n",
            "Epoch 81/250\n",
            "32/32 [==============================] - 2s 48ms/step - loss: 0.3500 - accuracy: 0.8471 - val_loss: 0.3463 - val_accuracy: 0.8469\n",
            "Epoch 82/250\n",
            "32/32 [==============================] - 2s 47ms/step - loss: 0.3679 - accuracy: 0.8210 - val_loss: 0.3336 - val_accuracy: 0.8503\n",
            "Epoch 83/250\n",
            "32/32 [==============================] - 2s 47ms/step - loss: 0.3553 - accuracy: 0.8284 - val_loss: 0.3392 - val_accuracy: 0.8401\n",
            "Epoch 84/250\n",
            "32/32 [==============================] - 1s 46ms/step - loss: 0.3206 - accuracy: 0.8374 - val_loss: 0.3139 - val_accuracy: 0.8503\n",
            "Epoch 85/250\n",
            "32/32 [==============================] - 2s 47ms/step - loss: 0.3742 - accuracy: 0.8294 - val_loss: 0.3182 - val_accuracy: 0.8639\n",
            "Epoch 86/250\n",
            "32/32 [==============================] - 2s 47ms/step - loss: 0.3443 - accuracy: 0.8364 - val_loss: 0.3472 - val_accuracy: 0.8367\n",
            "Epoch 87/250\n",
            "32/32 [==============================] - 2s 47ms/step - loss: 0.3886 - accuracy: 0.8096 - val_loss: 0.3367 - val_accuracy: 0.8435\n",
            "Epoch 88/250\n",
            "32/32 [==============================] - 1s 46ms/step - loss: 0.3301 - accuracy: 0.8422 - val_loss: 0.3323 - val_accuracy: 0.8776\n",
            "Epoch 89/250\n",
            "32/32 [==============================] - 2s 47ms/step - loss: 0.3637 - accuracy: 0.8248 - val_loss: 0.3684 - val_accuracy: 0.8163\n",
            "Epoch 90/250\n",
            "32/32 [==============================] - 1s 46ms/step - loss: 0.3759 - accuracy: 0.8088 - val_loss: 0.3076 - val_accuracy: 0.8878\n",
            "Epoch 91/250\n",
            "32/32 [==============================] - 2s 47ms/step - loss: 0.3667 - accuracy: 0.8076 - val_loss: 0.3661 - val_accuracy: 0.8333\n",
            "Epoch 92/250\n",
            "32/32 [==============================] - 2s 47ms/step - loss: 0.3570 - accuracy: 0.8354 - val_loss: 0.3348 - val_accuracy: 0.8537\n",
            "Epoch 93/250\n",
            "32/32 [==============================] - 2s 48ms/step - loss: 0.3621 - accuracy: 0.8080 - val_loss: 0.3747 - val_accuracy: 0.8095\n",
            "Epoch 94/250\n",
            "32/32 [==============================] - 1s 46ms/step - loss: 0.3794 - accuracy: 0.8191 - val_loss: 0.3441 - val_accuracy: 0.8537\n",
            "Epoch 95/250\n",
            "32/32 [==============================] - 2s 47ms/step - loss: 0.3879 - accuracy: 0.8099 - val_loss: 0.3953 - val_accuracy: 0.8197\n",
            "Epoch 96/250\n",
            "32/32 [==============================] - 2s 47ms/step - loss: 0.3666 - accuracy: 0.8070 - val_loss: 0.3011 - val_accuracy: 0.8673\n",
            "Epoch 97/250\n",
            "32/32 [==============================] - 1s 46ms/step - loss: 0.3480 - accuracy: 0.8474 - val_loss: 0.3357 - val_accuracy: 0.8333\n",
            "Epoch 98/250\n",
            "32/32 [==============================] - 1s 46ms/step - loss: 0.3325 - accuracy: 0.8497 - val_loss: 0.3026 - val_accuracy: 0.8673\n",
            "Epoch 99/250\n",
            "32/32 [==============================] - 2s 47ms/step - loss: 0.3291 - accuracy: 0.8338 - val_loss: 0.3645 - val_accuracy: 0.8095\n",
            "Epoch 100/250\n",
            "32/32 [==============================] - 1s 46ms/step - loss: 0.3497 - accuracy: 0.8221 - val_loss: 0.3069 - val_accuracy: 0.8707\n",
            "Epoch 101/250\n",
            "32/32 [==============================] - 2s 47ms/step - loss: 0.3626 - accuracy: 0.8315 - val_loss: 0.3175 - val_accuracy: 0.8639\n",
            "Epoch 102/250\n",
            "32/32 [==============================] - 1s 46ms/step - loss: 0.3314 - accuracy: 0.8433 - val_loss: 0.2853 - val_accuracy: 0.8844\n",
            "Epoch 103/250\n",
            "32/32 [==============================] - 1s 47ms/step - loss: 0.3241 - accuracy: 0.8511 - val_loss: 0.3136 - val_accuracy: 0.8673\n",
            "Epoch 104/250\n",
            "32/32 [==============================] - 1s 46ms/step - loss: 0.3328 - accuracy: 0.8483 - val_loss: 0.3192 - val_accuracy: 0.8673\n",
            "Epoch 105/250\n",
            "32/32 [==============================] - 1s 48ms/step - loss: 0.3161 - accuracy: 0.8476 - val_loss: 0.3413 - val_accuracy: 0.8435\n",
            "Epoch 106/250\n",
            "32/32 [==============================] - 1s 46ms/step - loss: 0.3335 - accuracy: 0.8498 - val_loss: 0.3127 - val_accuracy: 0.8741\n",
            "Epoch 107/250\n",
            "32/32 [==============================] - 1s 46ms/step - loss: 0.3186 - accuracy: 0.8580 - val_loss: 0.3295 - val_accuracy: 0.8401\n",
            "Epoch 108/250\n",
            "32/32 [==============================] - 1s 46ms/step - loss: 0.3740 - accuracy: 0.8094 - val_loss: 0.3242 - val_accuracy: 0.8469\n",
            "Epoch 109/250\n",
            "32/32 [==============================] - 2s 47ms/step - loss: 0.3353 - accuracy: 0.8460 - val_loss: 0.3192 - val_accuracy: 0.8673\n",
            "Epoch 110/250\n",
            "32/32 [==============================] - 2s 47ms/step - loss: 0.3618 - accuracy: 0.8460 - val_loss: 0.3292 - val_accuracy: 0.8401\n",
            "Epoch 111/250\n",
            "32/32 [==============================] - 2s 47ms/step - loss: 0.3290 - accuracy: 0.8475 - val_loss: 0.3097 - val_accuracy: 0.8844\n",
            "Epoch 112/250\n",
            "32/32 [==============================] - 2s 47ms/step - loss: 0.3330 - accuracy: 0.8504 - val_loss: 0.3065 - val_accuracy: 0.8673\n",
            "Epoch 113/250\n",
            "32/32 [==============================] - 2s 47ms/step - loss: 0.3467 - accuracy: 0.8402 - val_loss: 0.2898 - val_accuracy: 0.8912\n",
            "Epoch 114/250\n",
            "32/32 [==============================] - 2s 49ms/step - loss: 0.3846 - accuracy: 0.8065 - val_loss: 0.3150 - val_accuracy: 0.8537\n",
            "Epoch 115/250\n",
            "32/32 [==============================] - 2s 47ms/step - loss: 0.3587 - accuracy: 0.8378 - val_loss: 0.3254 - val_accuracy: 0.8673\n",
            "Epoch 116/250\n",
            "32/32 [==============================] - 2s 48ms/step - loss: 0.3082 - accuracy: 0.8512 - val_loss: 0.4276 - val_accuracy: 0.8129\n",
            "Epoch 117/250\n",
            "32/32 [==============================] - 1s 46ms/step - loss: 0.3513 - accuracy: 0.8479 - val_loss: 0.3194 - val_accuracy: 0.8605\n",
            "Epoch 118/250\n",
            "32/32 [==============================] - 2s 47ms/step - loss: 0.3316 - accuracy: 0.8473 - val_loss: 0.3078 - val_accuracy: 0.8741\n",
            "Epoch 119/250\n",
            "32/32 [==============================] - 2s 47ms/step - loss: 0.3058 - accuracy: 0.8603 - val_loss: 0.3111 - val_accuracy: 0.8741\n",
            "Epoch 120/250\n",
            "32/32 [==============================] - 1s 46ms/step - loss: 0.3387 - accuracy: 0.8469 - val_loss: 0.3247 - val_accuracy: 0.8469\n",
            "Epoch 121/250\n",
            "32/32 [==============================] - 1s 46ms/step - loss: 0.3280 - accuracy: 0.8524 - val_loss: 0.4654 - val_accuracy: 0.7891\n",
            "Epoch 122/250\n",
            "32/32 [==============================] - 1s 46ms/step - loss: 0.3678 - accuracy: 0.8288 - val_loss: 0.3098 - val_accuracy: 0.8776\n",
            "Epoch 123/250\n",
            "32/32 [==============================] - 2s 54ms/step - loss: 0.3225 - accuracy: 0.8438 - val_loss: 0.3360 - val_accuracy: 0.8673\n",
            "Epoch 124/250\n",
            "32/32 [==============================] - 1s 46ms/step - loss: 0.3382 - accuracy: 0.8302 - val_loss: 0.3002 - val_accuracy: 0.8878\n",
            "Epoch 125/250\n",
            "32/32 [==============================] - 2s 47ms/step - loss: 0.3328 - accuracy: 0.8451 - val_loss: 0.3000 - val_accuracy: 0.8639\n",
            "Epoch 126/250\n",
            "32/32 [==============================] - 2s 46ms/step - loss: 0.3185 - accuracy: 0.8449 - val_loss: 0.3024 - val_accuracy: 0.8707\n",
            "Epoch 127/250\n",
            "32/32 [==============================] - 1s 46ms/step - loss: 0.3169 - accuracy: 0.8592 - val_loss: 0.3056 - val_accuracy: 0.8571\n",
            "Epoch 128/250\n",
            "32/32 [==============================] - 2s 48ms/step - loss: 0.3581 - accuracy: 0.8230 - val_loss: 0.3116 - val_accuracy: 0.8673\n",
            "Epoch 129/250\n",
            "32/32 [==============================] - 2s 48ms/step - loss: 0.3184 - accuracy: 0.8439 - val_loss: 0.3566 - val_accuracy: 0.8367\n",
            "Epoch 130/250\n",
            "32/32 [==============================] - 2s 47ms/step - loss: 0.3549 - accuracy: 0.8288 - val_loss: 0.3339 - val_accuracy: 0.8401\n",
            "Epoch 131/250\n",
            "32/32 [==============================] - 2s 47ms/step - loss: 0.3338 - accuracy: 0.8444 - val_loss: 0.2934 - val_accuracy: 0.8810\n",
            "Epoch 132/250\n",
            "32/32 [==============================] - 2s 47ms/step - loss: 0.3727 - accuracy: 0.8463 - val_loss: 0.3183 - val_accuracy: 0.8571\n",
            "Epoch 133/250\n",
            "32/32 [==============================] - 1s 46ms/step - loss: 0.3163 - accuracy: 0.8461 - val_loss: 0.2962 - val_accuracy: 0.8810\n",
            "Epoch 134/250\n",
            "32/32 [==============================] - 2s 47ms/step - loss: 0.3208 - accuracy: 0.8497 - val_loss: 0.3473 - val_accuracy: 0.8537\n",
            "Epoch 135/250\n",
            "32/32 [==============================] - 2s 48ms/step - loss: 0.3256 - accuracy: 0.8447 - val_loss: 0.3044 - val_accuracy: 0.8537\n",
            "Epoch 136/250\n",
            "32/32 [==============================] - 2s 48ms/step - loss: 0.3243 - accuracy: 0.8607 - val_loss: 0.3075 - val_accuracy: 0.8537\n",
            "Epoch 137/250\n",
            "32/32 [==============================] - 2s 48ms/step - loss: 0.3079 - accuracy: 0.8557 - val_loss: 0.3496 - val_accuracy: 0.8367\n",
            "Epoch 138/250\n",
            "32/32 [==============================] - 2s 48ms/step - loss: 0.2837 - accuracy: 0.8679 - val_loss: 0.3300 - val_accuracy: 0.8605\n",
            "Epoch 139/250\n",
            "32/32 [==============================] - 2s 47ms/step - loss: 0.3213 - accuracy: 0.8446 - val_loss: 0.2941 - val_accuracy: 0.8844\n",
            "Epoch 140/250\n",
            "32/32 [==============================] - 2s 47ms/step - loss: 0.3301 - accuracy: 0.8541 - val_loss: 0.3102 - val_accuracy: 0.8810\n",
            "Epoch 141/250\n",
            "32/32 [==============================] - 2s 46ms/step - loss: 0.3236 - accuracy: 0.8705 - val_loss: 0.2978 - val_accuracy: 0.8912\n",
            "Epoch 142/250\n",
            "32/32 [==============================] - 1s 46ms/step - loss: 0.3526 - accuracy: 0.8439 - val_loss: 0.3143 - val_accuracy: 0.8707\n",
            "Epoch 143/250\n",
            "32/32 [==============================] - 1s 46ms/step - loss: 0.3071 - accuracy: 0.8510 - val_loss: 0.2996 - val_accuracy: 0.8571\n",
            "Epoch 144/250\n",
            "32/32 [==============================] - 1s 46ms/step - loss: 0.3724 - accuracy: 0.8219 - val_loss: 0.3061 - val_accuracy: 0.8673\n",
            "Epoch 145/250\n",
            "32/32 [==============================] - 1s 45ms/step - loss: 0.3115 - accuracy: 0.8740 - val_loss: 0.3515 - val_accuracy: 0.8299\n",
            "Epoch 146/250\n",
            "32/32 [==============================] - 1s 46ms/step - loss: 0.3220 - accuracy: 0.8480 - val_loss: 0.3099 - val_accuracy: 0.8639\n",
            "Epoch 147/250\n",
            "32/32 [==============================] - 1s 45ms/step - loss: 0.3185 - accuracy: 0.8524 - val_loss: 0.3118 - val_accuracy: 0.8639\n",
            "Epoch 148/250\n",
            "32/32 [==============================] - 1s 46ms/step - loss: 0.3261 - accuracy: 0.8424 - val_loss: 0.3339 - val_accuracy: 0.8741\n",
            "Epoch 149/250\n",
            "32/32 [==============================] - 1s 45ms/step - loss: 0.3176 - accuracy: 0.8390 - val_loss: 0.2907 - val_accuracy: 0.8878\n",
            "Epoch 150/250\n",
            "32/32 [==============================] - 1s 46ms/step - loss: 0.3274 - accuracy: 0.8546 - val_loss: 0.3139 - val_accuracy: 0.8605\n",
            "Epoch 151/250\n",
            "32/32 [==============================] - 1s 46ms/step - loss: 0.3048 - accuracy: 0.8658 - val_loss: 0.3201 - val_accuracy: 0.8673\n",
            "Epoch 152/250\n",
            "32/32 [==============================] - 1s 45ms/step - loss: 0.3465 - accuracy: 0.8378 - val_loss: 0.3000 - val_accuracy: 0.8810\n",
            "Epoch 153/250\n",
            "32/32 [==============================] - 1s 45ms/step - loss: 0.3039 - accuracy: 0.8569 - val_loss: 0.3204 - val_accuracy: 0.8537\n",
            "Epoch 154/250\n",
            "32/32 [==============================] - 1s 46ms/step - loss: 0.3391 - accuracy: 0.8455 - val_loss: 0.2942 - val_accuracy: 0.8844\n",
            "Epoch 155/250\n",
            "32/32 [==============================] - 1s 46ms/step - loss: 0.3422 - accuracy: 0.8193 - val_loss: 0.2859 - val_accuracy: 0.8605\n",
            "Epoch 156/250\n",
            "32/32 [==============================] - 2s 47ms/step - loss: 0.3178 - accuracy: 0.8519 - val_loss: 0.2902 - val_accuracy: 0.8707\n",
            "Epoch 157/250\n",
            "32/32 [==============================] - 1s 46ms/step - loss: 0.3260 - accuracy: 0.8522 - val_loss: 0.3066 - val_accuracy: 0.8673\n",
            "Epoch 158/250\n",
            "32/32 [==============================] - 1s 45ms/step - loss: 0.3119 - accuracy: 0.8552 - val_loss: 0.2937 - val_accuracy: 0.8878\n",
            "Epoch 159/250\n",
            "32/32 [==============================] - 1s 45ms/step - loss: 0.3397 - accuracy: 0.8410 - val_loss: 0.3317 - val_accuracy: 0.8537\n",
            "Epoch 160/250\n",
            "32/32 [==============================] - 1s 46ms/step - loss: 0.2945 - accuracy: 0.8775 - val_loss: 0.3019 - val_accuracy: 0.8639\n",
            "Epoch 161/250\n",
            "32/32 [==============================] - 1s 46ms/step - loss: 0.3109 - accuracy: 0.8489 - val_loss: 0.3032 - val_accuracy: 0.8776\n",
            "Epoch 162/250\n",
            "32/32 [==============================] - 1s 45ms/step - loss: 0.3102 - accuracy: 0.8665 - val_loss: 0.2718 - val_accuracy: 0.8844\n",
            "Epoch 163/250\n",
            "32/32 [==============================] - 1s 46ms/step - loss: 0.2735 - accuracy: 0.8715 - val_loss: 0.3640 - val_accuracy: 0.8367\n",
            "Epoch 164/250\n",
            "32/32 [==============================] - 1s 46ms/step - loss: 0.3203 - accuracy: 0.8553 - val_loss: 0.2933 - val_accuracy: 0.8673\n",
            "Epoch 165/250\n",
            "32/32 [==============================] - 1s 46ms/step - loss: 0.3156 - accuracy: 0.8557 - val_loss: 0.4028 - val_accuracy: 0.8265\n",
            "Epoch 166/250\n",
            "32/32 [==============================] - 1s 46ms/step - loss: 0.3425 - accuracy: 0.8531 - val_loss: 0.2942 - val_accuracy: 0.8810\n",
            "Epoch 167/250\n",
            "32/32 [==============================] - 1s 45ms/step - loss: 0.3236 - accuracy: 0.8528 - val_loss: 0.2996 - val_accuracy: 0.8673\n",
            "Epoch 168/250\n",
            "32/32 [==============================] - 1s 46ms/step - loss: 0.3052 - accuracy: 0.8436 - val_loss: 0.3111 - val_accuracy: 0.8639\n",
            "Epoch 169/250\n",
            "32/32 [==============================] - 2s 54ms/step - loss: 0.3119 - accuracy: 0.8539 - val_loss: 0.2883 - val_accuracy: 0.8639\n",
            "Epoch 170/250\n",
            "32/32 [==============================] - 1s 46ms/step - loss: 0.2868 - accuracy: 0.8775 - val_loss: 0.3163 - val_accuracy: 0.8503\n",
            "Epoch 171/250\n",
            "32/32 [==============================] - 1s 46ms/step - loss: 0.3006 - accuracy: 0.8636 - val_loss: 0.3004 - val_accuracy: 0.8707\n",
            "Epoch 172/250\n",
            "32/32 [==============================] - 1s 46ms/step - loss: 0.3238 - accuracy: 0.8394 - val_loss: 0.3138 - val_accuracy: 0.8571\n",
            "Epoch 173/250\n",
            "32/32 [==============================] - 2s 50ms/step - loss: 0.2974 - accuracy: 0.8552 - val_loss: 0.2763 - val_accuracy: 0.8844\n",
            "Epoch 174/250\n",
            "32/32 [==============================] - 2s 47ms/step - loss: 0.3049 - accuracy: 0.8588 - val_loss: 0.2920 - val_accuracy: 0.8810\n",
            "Epoch 175/250\n",
            "32/32 [==============================] - 2s 47ms/step - loss: 0.3036 - accuracy: 0.8629 - val_loss: 0.3561 - val_accuracy: 0.8401\n",
            "Epoch 176/250\n",
            "32/32 [==============================] - 2s 47ms/step - loss: 0.3080 - accuracy: 0.8635 - val_loss: 0.3068 - val_accuracy: 0.8639\n",
            "Epoch 177/250\n",
            "32/32 [==============================] - 2s 47ms/step - loss: 0.2934 - accuracy: 0.8734 - val_loss: 0.3956 - val_accuracy: 0.8197\n",
            "Epoch 178/250\n",
            "32/32 [==============================] - 1s 46ms/step - loss: 0.3380 - accuracy: 0.8579 - val_loss: 0.3351 - val_accuracy: 0.8571\n",
            "Epoch 179/250\n",
            "32/32 [==============================] - 2s 47ms/step - loss: 0.3378 - accuracy: 0.8352 - val_loss: 0.3913 - val_accuracy: 0.8333\n",
            "Epoch 180/250\n",
            "32/32 [==============================] - 2s 46ms/step - loss: 0.3154 - accuracy: 0.8634 - val_loss: 0.2940 - val_accuracy: 0.8810\n",
            "Epoch 181/250\n",
            "32/32 [==============================] - 2s 47ms/step - loss: 0.2894 - accuracy: 0.8567 - val_loss: 0.2999 - val_accuracy: 0.8673\n",
            "Epoch 182/250\n",
            "32/32 [==============================] - 1s 45ms/step - loss: 0.3160 - accuracy: 0.8571 - val_loss: 0.2884 - val_accuracy: 0.8844\n",
            "Epoch 183/250\n",
            "32/32 [==============================] - 1s 46ms/step - loss: 0.3230 - accuracy: 0.8439 - val_loss: 0.3375 - val_accuracy: 0.8537\n",
            "Epoch 184/250\n",
            "32/32 [==============================] - 1s 46ms/step - loss: 0.3341 - accuracy: 0.8387 - val_loss: 0.3126 - val_accuracy: 0.8605\n",
            "Epoch 185/250\n",
            "32/32 [==============================] - 1s 45ms/step - loss: 0.2900 - accuracy: 0.8712 - val_loss: 0.3549 - val_accuracy: 0.8333\n",
            "Epoch 186/250\n",
            "32/32 [==============================] - 1s 45ms/step - loss: 0.2860 - accuracy: 0.8782 - val_loss: 0.3011 - val_accuracy: 0.8639\n",
            "Epoch 187/250\n",
            "32/32 [==============================] - 1s 46ms/step - loss: 0.3265 - accuracy: 0.8492 - val_loss: 0.3177 - val_accuracy: 0.8776\n",
            "Epoch 188/250\n",
            "32/32 [==============================] - 1s 46ms/step - loss: 0.3212 - accuracy: 0.8399 - val_loss: 0.2991 - val_accuracy: 0.8605\n",
            "Epoch 189/250\n",
            "32/32 [==============================] - 2s 46ms/step - loss: 0.2984 - accuracy: 0.8553 - val_loss: 0.2856 - val_accuracy: 0.8707\n",
            "Epoch 190/250\n",
            "32/32 [==============================] - 2s 47ms/step - loss: 0.2846 - accuracy: 0.8596 - val_loss: 0.3085 - val_accuracy: 0.8469\n",
            "Epoch 191/250\n",
            "32/32 [==============================] - 2s 47ms/step - loss: 0.2916 - accuracy: 0.8624 - val_loss: 0.2809 - val_accuracy: 0.8810\n",
            "Epoch 192/250\n",
            "32/32 [==============================] - 1s 46ms/step - loss: 0.3056 - accuracy: 0.8589 - val_loss: 0.3318 - val_accuracy: 0.8605\n",
            "Epoch 193/250\n",
            "32/32 [==============================] - 2s 47ms/step - loss: 0.3417 - accuracy: 0.8309 - val_loss: 0.2806 - val_accuracy: 0.8741\n",
            "Epoch 194/250\n",
            "32/32 [==============================] - 2s 47ms/step - loss: 0.3030 - accuracy: 0.8663 - val_loss: 0.4524 - val_accuracy: 0.7755\n",
            "Epoch 195/250\n",
            "32/32 [==============================] - 1s 46ms/step - loss: 0.3446 - accuracy: 0.8254 - val_loss: 0.2971 - val_accuracy: 0.8741\n",
            "Epoch 196/250\n",
            "32/32 [==============================] - 1s 45ms/step - loss: 0.3483 - accuracy: 0.8166 - val_loss: 0.3017 - val_accuracy: 0.8503\n",
            "Epoch 197/250\n",
            "32/32 [==============================] - 2s 47ms/step - loss: 0.3155 - accuracy: 0.8637 - val_loss: 0.2818 - val_accuracy: 0.8810\n",
            "Epoch 198/250\n",
            "32/32 [==============================] - 2s 46ms/step - loss: 0.3029 - accuracy: 0.8787 - val_loss: 0.2854 - val_accuracy: 0.8776\n",
            "Epoch 199/250\n",
            "32/32 [==============================] - 1s 46ms/step - loss: 0.3001 - accuracy: 0.8652 - val_loss: 0.3324 - val_accuracy: 0.8537\n",
            "Epoch 200/250\n",
            "32/32 [==============================] - 1s 46ms/step - loss: 0.3138 - accuracy: 0.8510 - val_loss: 0.3183 - val_accuracy: 0.8401\n",
            "Epoch 201/250\n",
            "32/32 [==============================] - 2s 46ms/step - loss: 0.2992 - accuracy: 0.8601 - val_loss: 0.3071 - val_accuracy: 0.8741\n",
            "Epoch 202/250\n",
            "32/32 [==============================] - 1s 46ms/step - loss: 0.3022 - accuracy: 0.8725 - val_loss: 0.3079 - val_accuracy: 0.8810\n",
            "Epoch 203/250\n",
            "32/32 [==============================] - 1s 46ms/step - loss: 0.3251 - accuracy: 0.8491 - val_loss: 0.3379 - val_accuracy: 0.8435\n",
            "Epoch 204/250\n",
            "32/32 [==============================] - 1s 46ms/step - loss: 0.3271 - accuracy: 0.8391 - val_loss: 0.3150 - val_accuracy: 0.8605\n",
            "Epoch 205/250\n",
            "32/32 [==============================] - 1s 45ms/step - loss: 0.3137 - accuracy: 0.8397 - val_loss: 0.3387 - val_accuracy: 0.8367\n",
            "Epoch 206/250\n",
            "32/32 [==============================] - 1s 46ms/step - loss: 0.3137 - accuracy: 0.8530 - val_loss: 0.2715 - val_accuracy: 0.8912\n",
            "Epoch 207/250\n",
            "32/32 [==============================] - 1s 46ms/step - loss: 0.2927 - accuracy: 0.8641 - val_loss: 0.3252 - val_accuracy: 0.8537\n",
            "Epoch 208/250\n",
            "32/32 [==============================] - 2s 47ms/step - loss: 0.2925 - accuracy: 0.8566 - val_loss: 0.3349 - val_accuracy: 0.8639\n",
            "Epoch 209/250\n",
            "32/32 [==============================] - 1s 46ms/step - loss: 0.2822 - accuracy: 0.8647 - val_loss: 0.3831 - val_accuracy: 0.8469\n",
            "Epoch 210/250\n",
            "32/32 [==============================] - 2s 47ms/step - loss: 0.3201 - accuracy: 0.8649 - val_loss: 0.2655 - val_accuracy: 0.8810\n",
            "Epoch 211/250\n",
            "32/32 [==============================] - 1s 46ms/step - loss: 0.3116 - accuracy: 0.8610 - val_loss: 0.3155 - val_accuracy: 0.8639\n",
            "Epoch 212/250\n",
            "32/32 [==============================] - 1s 46ms/step - loss: 0.3401 - accuracy: 0.8450 - val_loss: 0.2798 - val_accuracy: 0.8776\n",
            "Epoch 213/250\n",
            "32/32 [==============================] - 1s 46ms/step - loss: 0.2822 - accuracy: 0.8708 - val_loss: 0.3182 - val_accuracy: 0.8435\n",
            "Epoch 214/250\n",
            "32/32 [==============================] - 1s 46ms/step - loss: 0.2783 - accuracy: 0.8567 - val_loss: 0.2749 - val_accuracy: 0.8946\n",
            "Epoch 215/250\n",
            "32/32 [==============================] - 2s 54ms/step - loss: 0.2932 - accuracy: 0.8760 - val_loss: 0.2921 - val_accuracy: 0.8605\n",
            "Epoch 216/250\n",
            "32/32 [==============================] - 1s 46ms/step - loss: 0.2897 - accuracy: 0.8738 - val_loss: 0.3128 - val_accuracy: 0.8707\n",
            "Epoch 217/250\n",
            "32/32 [==============================] - 2s 47ms/step - loss: 0.2650 - accuracy: 0.8807 - val_loss: 0.2958 - val_accuracy: 0.8707\n",
            "Epoch 218/250\n",
            "32/32 [==============================] - 1s 46ms/step - loss: 0.2861 - accuracy: 0.8600 - val_loss: 0.3113 - val_accuracy: 0.8605\n",
            "Epoch 219/250\n",
            "32/32 [==============================] - 1s 46ms/step - loss: 0.3062 - accuracy: 0.8624 - val_loss: 0.3522 - val_accuracy: 0.8367\n",
            "Epoch 220/250\n",
            "32/32 [==============================] - 1s 46ms/step - loss: 0.3320 - accuracy: 0.8439 - val_loss: 0.3207 - val_accuracy: 0.8401\n",
            "Epoch 221/250\n",
            "32/32 [==============================] - 1s 46ms/step - loss: 0.2817 - accuracy: 0.8616 - val_loss: 0.2889 - val_accuracy: 0.8741\n",
            "Epoch 222/250\n",
            "32/32 [==============================] - 1s 45ms/step - loss: 0.3057 - accuracy: 0.8608 - val_loss: 0.2757 - val_accuracy: 0.8878\n",
            "Epoch 223/250\n",
            "32/32 [==============================] - 1s 46ms/step - loss: 0.3212 - accuracy: 0.8576 - val_loss: 0.2878 - val_accuracy: 0.8673\n",
            "Epoch 224/250\n",
            "32/32 [==============================] - 1s 46ms/step - loss: 0.3385 - accuracy: 0.8477 - val_loss: 0.2808 - val_accuracy: 0.8673\n",
            "Epoch 225/250\n",
            "32/32 [==============================] - 1s 46ms/step - loss: 0.2887 - accuracy: 0.8642 - val_loss: 0.3003 - val_accuracy: 0.8503\n",
            "Epoch 226/250\n",
            "32/32 [==============================] - 1s 45ms/step - loss: 0.3358 - accuracy: 0.8449 - val_loss: 0.2920 - val_accuracy: 0.8912\n",
            "Epoch 227/250\n",
            "32/32 [==============================] - 1s 45ms/step - loss: 0.3308 - accuracy: 0.8383 - val_loss: 0.2953 - val_accuracy: 0.8912\n",
            "Epoch 228/250\n",
            "32/32 [==============================] - 1s 47ms/step - loss: 0.2735 - accuracy: 0.8824 - val_loss: 0.3147 - val_accuracy: 0.8537\n",
            "Epoch 229/250\n",
            "32/32 [==============================] - 1s 46ms/step - loss: 0.2902 - accuracy: 0.8608 - val_loss: 0.3629 - val_accuracy: 0.8435\n",
            "Epoch 230/250\n",
            "32/32 [==============================] - 1s 46ms/step - loss: 0.3150 - accuracy: 0.8571 - val_loss: 0.2768 - val_accuracy: 0.8810\n",
            "Epoch 231/250\n",
            "32/32 [==============================] - 1s 46ms/step - loss: 0.2974 - accuracy: 0.8599 - val_loss: 0.3589 - val_accuracy: 0.8333\n",
            "Epoch 232/250\n",
            "32/32 [==============================] - 1s 46ms/step - loss: 0.2663 - accuracy: 0.8810 - val_loss: 0.2696 - val_accuracy: 0.8946\n",
            "Epoch 233/250\n",
            "32/32 [==============================] - 1s 46ms/step - loss: 0.3211 - accuracy: 0.8567 - val_loss: 0.3057 - val_accuracy: 0.8776\n",
            "Epoch 234/250\n",
            "32/32 [==============================] - 2s 46ms/step - loss: 0.3012 - accuracy: 0.8553 - val_loss: 0.2849 - val_accuracy: 0.8741\n",
            "Epoch 235/250\n",
            "32/32 [==============================] - 1s 46ms/step - loss: 0.2750 - accuracy: 0.8756 - val_loss: 0.3153 - val_accuracy: 0.8776\n",
            "Epoch 236/250\n",
            "32/32 [==============================] - 2s 47ms/step - loss: 0.2796 - accuracy: 0.8694 - val_loss: 0.2661 - val_accuracy: 0.8878\n",
            "Epoch 237/250\n",
            "32/32 [==============================] - 1s 46ms/step - loss: 0.3038 - accuracy: 0.8620 - val_loss: 0.3387 - val_accuracy: 0.8605\n",
            "Epoch 238/250\n",
            "32/32 [==============================] - 2s 47ms/step - loss: 0.2944 - accuracy: 0.8592 - val_loss: 0.3208 - val_accuracy: 0.8741\n",
            "Epoch 239/250\n",
            "32/32 [==============================] - 2s 47ms/step - loss: 0.2905 - accuracy: 0.8862 - val_loss: 0.3427 - val_accuracy: 0.8571\n",
            "Epoch 240/250\n",
            "32/32 [==============================] - 1s 46ms/step - loss: 0.2792 - accuracy: 0.8650 - val_loss: 0.3846 - val_accuracy: 0.8435\n",
            "Epoch 241/250\n",
            "32/32 [==============================] - 2s 46ms/step - loss: 0.2760 - accuracy: 0.8778 - val_loss: 0.2977 - val_accuracy: 0.8707\n",
            "Epoch 242/250\n",
            "32/32 [==============================] - 2s 47ms/step - loss: 0.2989 - accuracy: 0.8585 - val_loss: 0.2821 - val_accuracy: 0.8878\n",
            "Epoch 243/250\n",
            "32/32 [==============================] - 2s 47ms/step - loss: 0.2990 - accuracy: 0.8581 - val_loss: 0.2953 - val_accuracy: 0.8741\n",
            "Epoch 244/250\n",
            "32/32 [==============================] - 2s 47ms/step - loss: 0.2856 - accuracy: 0.8816 - val_loss: 0.2777 - val_accuracy: 0.8946\n",
            "Epoch 245/250\n",
            "32/32 [==============================] - 2s 46ms/step - loss: 0.2950 - accuracy: 0.8637 - val_loss: 0.3162 - val_accuracy: 0.8605\n",
            "Epoch 246/250\n",
            "32/32 [==============================] - 2s 47ms/step - loss: 0.3293 - accuracy: 0.8584 - val_loss: 0.3126 - val_accuracy: 0.8741\n",
            "Epoch 247/250\n",
            "32/32 [==============================] - 1s 46ms/step - loss: 0.2901 - accuracy: 0.8524 - val_loss: 0.3515 - val_accuracy: 0.8435\n",
            "Epoch 248/250\n",
            "32/32 [==============================] - 2s 47ms/step - loss: 0.2835 - accuracy: 0.8720 - val_loss: 0.3197 - val_accuracy: 0.8673\n",
            "Epoch 249/250\n",
            "32/32 [==============================] - 1s 46ms/step - loss: 0.3022 - accuracy: 0.8654 - val_loss: 0.2797 - val_accuracy: 0.8878\n",
            "Epoch 250/250\n",
            "32/32 [==============================] - 1s 46ms/step - loss: 0.2919 - accuracy: 0.8693 - val_loss: 0.4947 - val_accuracy: 0.7653\n"
          ],
          "name": "stdout"
        }
      ]
    },
    {
      "cell_type": "code",
      "metadata": {
        "colab": {
          "base_uri": "https://localhost:8080/",
          "height": 549
        },
        "id": "32rKbdtmOT15",
        "outputId": "0bc959a9-cd1c-4058-b3e5-9e4e5426ac10"
      },
      "source": [
        "def plot_graphs(history, string):\r\n",
        "  plt.plot(history.history[string])\r\n",
        "  plt.plot(history.history['val_'+string])\r\n",
        "  plt.xlabel(\"Epochs\")\r\n",
        "  plt.ylabel(string)\r\n",
        "  plt.legend([string, 'val_'+string])\r\n",
        "  plt.ylim([0,1])\r\n",
        "  plt.grid()\r\n",
        "  plt.show()\r\n",
        "\r\n",
        "plot_graphs(history, \"accuracy\")\r\n",
        "plot_graphs(history, \"loss\")"
      ],
      "execution_count": 42,
      "outputs": [
        {
          "output_type": "display_data",
          "data": {
            "image/png": "[encoded data removed]",
            "text/plain": [
              "<Figure size 432x288 with 1 Axes>"
            ]
          },
          "metadata": {
            "tags": [],
            "needs_background": "light"
          }
        },
        {
          "output_type": "display_data",
          "data": {
            "image/png": "[encoded data removed]",
            "text/plain": [
              "<Figure size 432x288 with 1 Axes>"
            ]
          },
          "metadata": {
            "tags": [],
            "needs_background": "light"
          }
        }
      ]
    },
    {
      "cell_type": "code",
      "metadata": {
        "id": "-bQcLoc0j20Z",
        "colab": {
          "base_uri": "https://localhost:8080/"
        },
        "outputId": "950437f5-3055-4dd6-922d-a7b686ffe4a2"
      },
      "source": [
        "results = model.evaluate(x_test, y_test)"
      ],
      "execution_count": 43,
      "outputs": [
        {
          "output_type": "stream",
          "text": [
            "5/5 [==============================] - 0s 4ms/step - loss: 0.3845 - accuracy: 0.8243\n"
          ],
          "name": "stdout"
        }
      ]
    },
    {
      "cell_type": "code",
      "metadata": {
        "colab": {
          "base_uri": "https://localhost:8080/"
        },
        "id": "XSvWiVANiU80",
        "outputId": "2db83d71-6ed7-4d95-dc1e-2d0f803ea9d6"
      },
      "source": [
        "model.save(\"/concent/drive/MyDrive/kaggle/model_normalize.hd5\")"
      ],
      "execution_count": 44,
      "outputs": [
        {
          "output_type": "stream",
          "text": [
            "INFO:tensorflow:Assets written to: /concent/drive/MyDrive/kaggle/model_normalize.hd5/assets\n"
          ],
          "name": "stdout"
        }
      ]
    },
    {
      "cell_type": "markdown",
      "metadata": {
        "id": "PiYT-PnzmVJd"
      },
      "source": [
        "# Test with real world data"
      ]
    },
    {
      "cell_type": "code",
      "metadata": {
        "id": "AMgGDJFbi7uE"
      },
      "source": [
        ""
      ],
      "execution_count": 44,
      "outputs": []
    }
  ]
}